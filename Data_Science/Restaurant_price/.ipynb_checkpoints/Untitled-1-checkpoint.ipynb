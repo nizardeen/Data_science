{
 "cells": [
  {
   "cell_type": "code",
   "execution_count": 145,
   "metadata": {},
   "outputs": [],
   "source": [
    "%matplotlib inline\n",
    "import pandas as pd\n",
    "import numpy as np\n",
    "from sklearn.model_selection import train_test_split\n",
    "from sklearn.linear_model import LinearRegression\n",
    "from sklearn.metrics import mean_squared_error\n",
    "from sklearn.linear_model import Ridge\n",
    "from sklearn.linear_model import Lasso\n",
    "from sklearn.linear_model import ElasticNet\n",
    "import warnings\n",
    "warnings.filterwarnings(\"ignore\")\n",
    "from collections import Counter"
   ]
  },
  {
   "cell_type": "code",
   "execution_count": 146,
   "metadata": {},
   "outputs": [],
   "source": [
    "train = pd.read_excel('Data_Train.xlsx')\n",
    "test = pd.read_excel('Data_Test.xlsx')\n"
   ]
  },
  {
   "cell_type": "code",
   "execution_count": 147,
   "metadata": {},
   "outputs": [
    {
     "name": "stdout",
     "output_type": "stream",
     "text": [
      "<class 'pandas.core.frame.DataFrame'>\n",
      "RangeIndex: 12690 entries, 0 to 12689\n",
      "Data columns (total 9 columns):\n",
      "TITLE            12690 non-null object\n",
      "RESTAURANT_ID    12690 non-null int64\n",
      "CUISINES         12690 non-null object\n",
      "TIME             12690 non-null object\n",
      "CITY             12578 non-null object\n",
      "LOCALITY         12592 non-null object\n",
      "RATING           12688 non-null object\n",
      "VOTES            11486 non-null object\n",
      "COST             12690 non-null int64\n",
      "dtypes: int64(2), object(7)\n",
      "memory usage: 892.4+ KB\n"
     ]
    }
   ],
   "source": [
    "train.info()"
   ]
  },
  {
   "cell_type": "code",
   "execution_count": 148,
   "metadata": {},
   "outputs": [
    {
     "name": "stdout",
     "output_type": "stream",
     "text": [
      "<class 'pandas.core.frame.DataFrame'>\n",
      "RangeIndex: 4231 entries, 0 to 4230\n",
      "Data columns (total 8 columns):\n",
      "TITLE            4231 non-null object\n",
      "RESTAURANT_ID    4231 non-null int64\n",
      "CUISINES         4231 non-null object\n",
      "TIME             4231 non-null object\n",
      "CITY             4196 non-null object\n",
      "LOCALITY         4201 non-null object\n",
      "RATING           4229 non-null object\n",
      "VOTES            3829 non-null object\n",
      "dtypes: int64(1), object(7)\n",
      "memory usage: 264.6+ KB\n"
     ]
    }
   ],
   "source": [
    "test.info()"
   ]
  },
  {
   "cell_type": "code",
   "execution_count": null,
   "metadata": {},
   "outputs": [],
   "source": []
  },
  {
   "cell_type": "code",
   "execution_count": null,
   "metadata": {},
   "outputs": [],
   "source": []
  },
  {
   "cell_type": "code",
   "execution_count": null,
   "metadata": {},
   "outputs": [],
   "source": []
  },
  {
   "cell_type": "code",
   "execution_count": null,
   "metadata": {},
   "outputs": [],
   "source": []
  },
  {
   "cell_type": "code",
   "execution_count": 149,
   "metadata": {},
   "outputs": [
    {
     "data": {
      "text/html": [
       "<div>\n",
       "<style scoped>\n",
       "    .dataframe tbody tr th:only-of-type {\n",
       "        vertical-align: middle;\n",
       "    }\n",
       "\n",
       "    .dataframe tbody tr th {\n",
       "        vertical-align: top;\n",
       "    }\n",
       "\n",
       "    .dataframe thead th {\n",
       "        text-align: right;\n",
       "    }\n",
       "</style>\n",
       "<table border=\"1\" class=\"dataframe\">\n",
       "  <thead>\n",
       "    <tr style=\"text-align: right;\">\n",
       "      <th></th>\n",
       "      <th>TITLE</th>\n",
       "      <th>RESTAURANT_ID</th>\n",
       "      <th>CUISINES</th>\n",
       "      <th>TIME</th>\n",
       "      <th>CITY</th>\n",
       "      <th>LOCALITY</th>\n",
       "      <th>RATING</th>\n",
       "      <th>VOTES</th>\n",
       "    </tr>\n",
       "  </thead>\n",
       "  <tbody>\n",
       "    <tr>\n",
       "      <th>0</th>\n",
       "      <td>CASUAL DINING</td>\n",
       "      <td>4085</td>\n",
       "      <td>North Indian, Chinese, Mughlai, Kebab</td>\n",
       "      <td>12noon – 12midnight (Mon-Sun)</td>\n",
       "      <td>Noida</td>\n",
       "      <td>Sector 18</td>\n",
       "      <td>4.3</td>\n",
       "      <td>564 votes</td>\n",
       "    </tr>\n",
       "    <tr>\n",
       "      <th>1</th>\n",
       "      <td>QUICK BITES</td>\n",
       "      <td>12680</td>\n",
       "      <td>South Indian, Fast Food, Pizza, North Indian</td>\n",
       "      <td>7am – 12:30AM (Mon-Sun)</td>\n",
       "      <td>Mumbai</td>\n",
       "      <td>Grant Road</td>\n",
       "      <td>4.2</td>\n",
       "      <td>61 votes</td>\n",
       "    </tr>\n",
       "    <tr>\n",
       "      <th>2</th>\n",
       "      <td>CASUAL DINING</td>\n",
       "      <td>1411</td>\n",
       "      <td>North Indian, Seafood, Biryani, Chinese</td>\n",
       "      <td>11am – 11:30pm (Mon-Sun)</td>\n",
       "      <td>Mumbai</td>\n",
       "      <td>Marine Lines</td>\n",
       "      <td>3.8</td>\n",
       "      <td>350 votes</td>\n",
       "    </tr>\n",
       "    <tr>\n",
       "      <th>3</th>\n",
       "      <td>None</td>\n",
       "      <td>204</td>\n",
       "      <td>Biryani</td>\n",
       "      <td>9am – 10pm (Mon, Wed, Thu, Fri, Sat, Sun), 10:...</td>\n",
       "      <td>Faridabad</td>\n",
       "      <td>NIT</td>\n",
       "      <td>3.8</td>\n",
       "      <td>1445 votes</td>\n",
       "    </tr>\n",
       "    <tr>\n",
       "      <th>4</th>\n",
       "      <td>QUICK BITES</td>\n",
       "      <td>13453</td>\n",
       "      <td>South Indian, Kerala</td>\n",
       "      <td>11am – 10pm (Mon-Sun)</td>\n",
       "      <td>Kochi</td>\n",
       "      <td>Kaloor</td>\n",
       "      <td>3.6</td>\n",
       "      <td>23 votes</td>\n",
       "    </tr>\n",
       "  </tbody>\n",
       "</table>\n",
       "</div>"
      ],
      "text/plain": [
       "           TITLE  RESTAURANT_ID                                      CUISINES  \\\n",
       "0  CASUAL DINING           4085         North Indian, Chinese, Mughlai, Kebab   \n",
       "1    QUICK BITES          12680  South Indian, Fast Food, Pizza, North Indian   \n",
       "2  CASUAL DINING           1411       North Indian, Seafood, Biryani, Chinese   \n",
       "3           None            204                                       Biryani   \n",
       "4    QUICK BITES          13453                          South Indian, Kerala   \n",
       "\n",
       "                                                TIME       CITY      LOCALITY  \\\n",
       "0                      12noon – 12midnight (Mon-Sun)      Noida     Sector 18   \n",
       "1                            7am – 12:30AM (Mon-Sun)     Mumbai    Grant Road   \n",
       "2                           11am – 11:30pm (Mon-Sun)     Mumbai  Marine Lines   \n",
       "3  9am – 10pm (Mon, Wed, Thu, Fri, Sat, Sun), 10:...  Faridabad           NIT   \n",
       "4                              11am – 10pm (Mon-Sun)      Kochi        Kaloor   \n",
       "\n",
       "  RATING       VOTES  \n",
       "0    4.3   564 votes  \n",
       "1    4.2    61 votes  \n",
       "2    3.8   350 votes  \n",
       "3    3.8  1445 votes  \n",
       "4    3.6    23 votes  "
      ]
     },
     "execution_count": 149,
     "metadata": {},
     "output_type": "execute_result"
    }
   ],
   "source": [
    "test.head()"
   ]
  },
  {
   "cell_type": "code",
   "execution_count": null,
   "metadata": {},
   "outputs": [],
   "source": []
  },
  {
   "cell_type": "code",
   "execution_count": null,
   "metadata": {},
   "outputs": [],
   "source": []
  },
  {
   "cell_type": "code",
   "execution_count": 150,
   "metadata": {},
   "outputs": [],
   "source": [
    "df = pd.concat([train,test],sort=False)"
   ]
  },
  {
   "cell_type": "code",
   "execution_count": 151,
   "metadata": {},
   "outputs": [
    {
     "data": {
      "text/plain": [
       "(16921, 9)"
      ]
     },
     "execution_count": 151,
     "metadata": {},
     "output_type": "execute_result"
    }
   ],
   "source": [
    "df.shape"
   ]
  },
  {
   "cell_type": "code",
   "execution_count": 152,
   "metadata": {},
   "outputs": [
    {
     "data": {
      "text/plain": [
       "TITLE               0\n",
       "RESTAURANT_ID       0\n",
       "CUISINES            0\n",
       "TIME                0\n",
       "CITY              147\n",
       "LOCALITY          128\n",
       "RATING              4\n",
       "VOTES            1606\n",
       "COST             4231\n",
       "dtype: int64"
      ]
     },
     "execution_count": 152,
     "metadata": {},
     "output_type": "execute_result"
    }
   ],
   "source": [
    "df.isna().sum()"
   ]
  },
  {
   "cell_type": "code",
   "execution_count": null,
   "metadata": {},
   "outputs": [],
   "source": []
  },
  {
   "cell_type": "code",
   "execution_count": 153,
   "metadata": {},
   "outputs": [
    {
     "data": {
      "text/html": [
       "<div>\n",
       "<style scoped>\n",
       "    .dataframe tbody tr th:only-of-type {\n",
       "        vertical-align: middle;\n",
       "    }\n",
       "\n",
       "    .dataframe tbody tr th {\n",
       "        vertical-align: top;\n",
       "    }\n",
       "\n",
       "    .dataframe thead th {\n",
       "        text-align: right;\n",
       "    }\n",
       "</style>\n",
       "<table border=\"1\" class=\"dataframe\">\n",
       "  <thead>\n",
       "    <tr style=\"text-align: right;\">\n",
       "      <th></th>\n",
       "      <th>TITLE</th>\n",
       "      <th>RESTAURANT_ID</th>\n",
       "      <th>CUISINES</th>\n",
       "      <th>TIME</th>\n",
       "      <th>CITY</th>\n",
       "      <th>LOCALITY</th>\n",
       "      <th>RATING</th>\n",
       "      <th>VOTES</th>\n",
       "      <th>COST</th>\n",
       "    </tr>\n",
       "  </thead>\n",
       "  <tbody>\n",
       "    <tr>\n",
       "      <th>0</th>\n",
       "      <td>CASUAL DINING</td>\n",
       "      <td>9438</td>\n",
       "      <td>Malwani, Goan, North Indian</td>\n",
       "      <td>11am – 4pm, 7:30pm – 11:30pm (Mon-Sun)</td>\n",
       "      <td>Thane</td>\n",
       "      <td>Dombivali East</td>\n",
       "      <td>3.6</td>\n",
       "      <td>49 votes</td>\n",
       "      <td>1200.0</td>\n",
       "    </tr>\n",
       "    <tr>\n",
       "      <th>1</th>\n",
       "      <td>CASUAL DINING,BAR</td>\n",
       "      <td>13198</td>\n",
       "      <td>Asian, Modern Indian, Japanese</td>\n",
       "      <td>6pm – 11pm (Mon-Sun)</td>\n",
       "      <td>Chennai</td>\n",
       "      <td>Ramapuram</td>\n",
       "      <td>4.2</td>\n",
       "      <td>30 votes</td>\n",
       "      <td>1500.0</td>\n",
       "    </tr>\n",
       "    <tr>\n",
       "      <th>2</th>\n",
       "      <td>CASUAL DINING</td>\n",
       "      <td>10915</td>\n",
       "      <td>North Indian, Chinese, Biryani, Hyderabadi</td>\n",
       "      <td>11am – 3:30pm, 7pm – 11pm (Mon-Sun)</td>\n",
       "      <td>Chennai</td>\n",
       "      <td>Saligramam</td>\n",
       "      <td>3.8</td>\n",
       "      <td>221 votes</td>\n",
       "      <td>800.0</td>\n",
       "    </tr>\n",
       "    <tr>\n",
       "      <th>3</th>\n",
       "      <td>QUICK BITES</td>\n",
       "      <td>6346</td>\n",
       "      <td>Tibetan, Chinese</td>\n",
       "      <td>11:30am – 1am (Mon-Sun)</td>\n",
       "      <td>Mumbai</td>\n",
       "      <td>Bandra West</td>\n",
       "      <td>4.1</td>\n",
       "      <td>24 votes</td>\n",
       "      <td>800.0</td>\n",
       "    </tr>\n",
       "    <tr>\n",
       "      <th>4</th>\n",
       "      <td>DESSERT PARLOR</td>\n",
       "      <td>15387</td>\n",
       "      <td>Desserts</td>\n",
       "      <td>11am – 1am (Mon-Sun)</td>\n",
       "      <td>Mumbai</td>\n",
       "      <td>Lower Parel</td>\n",
       "      <td>3.8</td>\n",
       "      <td>165 votes</td>\n",
       "      <td>300.0</td>\n",
       "    </tr>\n",
       "  </tbody>\n",
       "</table>\n",
       "</div>"
      ],
      "text/plain": [
       "               TITLE  RESTAURANT_ID  \\\n",
       "0      CASUAL DINING           9438   \n",
       "1  CASUAL DINING,BAR          13198   \n",
       "2      CASUAL DINING          10915   \n",
       "3        QUICK BITES           6346   \n",
       "4     DESSERT PARLOR          15387   \n",
       "\n",
       "                                     CUISINES  \\\n",
       "0                 Malwani, Goan, North Indian   \n",
       "1              Asian, Modern Indian, Japanese   \n",
       "2  North Indian, Chinese, Biryani, Hyderabadi   \n",
       "3                            Tibetan, Chinese   \n",
       "4                                    Desserts   \n",
       "\n",
       "                                     TIME     CITY        LOCALITY RATING  \\\n",
       "0  11am – 4pm, 7:30pm – 11:30pm (Mon-Sun)    Thane  Dombivali East    3.6   \n",
       "1                    6pm – 11pm (Mon-Sun)  Chennai       Ramapuram    4.2   \n",
       "2     11am – 3:30pm, 7pm – 11pm (Mon-Sun)  Chennai      Saligramam    3.8   \n",
       "3                 11:30am – 1am (Mon-Sun)   Mumbai     Bandra West    4.1   \n",
       "4                    11am – 1am (Mon-Sun)   Mumbai     Lower Parel    3.8   \n",
       "\n",
       "       VOTES    COST  \n",
       "0   49 votes  1200.0  \n",
       "1   30 votes  1500.0  \n",
       "2  221 votes   800.0  \n",
       "3   24 votes   800.0  \n",
       "4  165 votes   300.0  "
      ]
     },
     "execution_count": 153,
     "metadata": {},
     "output_type": "execute_result"
    }
   ],
   "source": [
    "df.head()"
   ]
  },
  {
   "cell_type": "code",
   "execution_count": null,
   "metadata": {},
   "outputs": [],
   "source": []
  },
  {
   "cell_type": "code",
   "execution_count": 154,
   "metadata": {},
   "outputs": [],
   "source": [
    "df.columns = map(str.lower,df.columns)"
   ]
  },
  {
   "cell_type": "code",
   "execution_count": null,
   "metadata": {},
   "outputs": [],
   "source": []
  },
  {
   "cell_type": "code",
   "execution_count": 155,
   "metadata": {},
   "outputs": [],
   "source": [
    "df['city'] = df['city'].replace(df[df['city'].str.contains('bang',na=False)][\"city\"].unique(),'Bangalore')\n",
    "df['city'] = df['city'].replace(df[df['city'].str.contains('Bang',na=False)][\"city\"].unique(),'Bangalore')\n",
    "df['city'] = df['city'].replace(df[df['city'].str.contains('Ker',na=False)][\"city\"].unique(),'kerala')\n",
    "df['city'] = df['city'].replace(df[df['city'].str.contains('JP Nagar',na=False)][\"city\"].unique(),'Bangalore')\n",
    "df['city'] = df['city'].replace(df[df['city'].str.contains('Mum',na=False)][\"city\"].unique(),'Mumbai')\n",
    "df['city'] = df['city'].replace(df[df['city'].str.contains('Bandra',na=False)][\"city\"].unique(),'Mumbai')\n",
    "df['city'] = df['city'].replace(df[df['city'].str.contains('Andheri',na=False)][\"city\"].unique(),'Mumbai')\n",
    "df['city'] = df['city'].replace(df[df['city'].str.contains('Maharashtra',na=False)][\"city\"].unique(),'Mumbai')\n",
    "df['city'] = df['city'].replace(df[df['city'].str.contains('Chen',na=False)][\"city\"].unique(),'Chennai')\n",
    "df['city'] = df['city'].replace(df[df['city'].str.contains('chen',na=False)][\"city\"].unique(),'Chennai')\n",
    "df['city'] = df['city'].replace(df[df['city'].str.contains('Tamil',na=False)][\"city\"].unique(),'Chennai')\n",
    "df['city'] = df['city'].replace(df[df['city'].str.contains('Anna Salai',na=False)][\"city\"].unique(),'Chennai')\n",
    "df['city'] = df['city'].replace(df[df['city'].str.contains('Tambaram',na=False)][\"city\"].unique(),'Chennai')\n",
    "df['city'] = df['city'].replace(df[df['city'].str.contains('Tela',na=False)][\"city\"].unique(),'Telangana')\n",
    "df['city'] = df['city'].replace(df[df['city'].str.contains('Delhi',na=False)][\"city\"].unique(),'Delhi')\n",
    "df['city'] = df['city'].replace(df[df['city'].str.contains('Karnataka',na=False)][\"city\"].unique(),'Bangalore')\n",
    "df['city'] = df['city'].replace(df[df['city'].str.contains('Bengalore',na=False)][\"city\"].unique(),'Bangalore')\n",
    "df['city'] = df['city'].replace(df[df['city'].str.contains('Bengalore',na=False)][\"city\"].unique(),'Bangalore')\n",
    "df['city'] = df['city'].replace(df[df['city'].str.contains('Bengaluru',na=False)][\"city\"].unique(),'Bangalore')\n",
    "df['city'] = df['city'].replace(df[df['city'].str.contains('Marathahalli',na=False)][\"city\"].unique(),'Bangalore')\n",
    "df['city'] = df['city'].replace(df[df['city'].str.contains('Kochi',na=False)][\"city\"].unique(),'Kochi')\n",
    "df['city'] = df['city'].replace(df[df['city'].str.contains('Hyder',na=False)][\"city\"].unique(),'Hyderabad')"
   ]
  },
  {
   "cell_type": "code",
   "execution_count": 156,
   "metadata": {},
   "outputs": [],
   "source": [
    "df_d = df"
   ]
  },
  {
   "cell_type": "code",
   "execution_count": 157,
   "metadata": {},
   "outputs": [
    {
     "data": {
      "text/plain": [
       "(16921, 9)"
      ]
     },
     "execution_count": 157,
     "metadata": {},
     "output_type": "execute_result"
    }
   ],
   "source": [
    "df_d.shape"
   ]
  },
  {
   "cell_type": "code",
   "execution_count": 158,
   "metadata": {},
   "outputs": [
    {
     "data": {
      "text/html": [
       "<div>\n",
       "<style scoped>\n",
       "    .dataframe tbody tr th:only-of-type {\n",
       "        vertical-align: middle;\n",
       "    }\n",
       "\n",
       "    .dataframe tbody tr th {\n",
       "        vertical-align: top;\n",
       "    }\n",
       "\n",
       "    .dataframe thead th {\n",
       "        text-align: right;\n",
       "    }\n",
       "</style>\n",
       "<table border=\"1\" class=\"dataframe\">\n",
       "  <thead>\n",
       "    <tr style=\"text-align: right;\">\n",
       "      <th></th>\n",
       "      <th>title</th>\n",
       "      <th>restaurant_id</th>\n",
       "      <th>cuisines</th>\n",
       "      <th>time</th>\n",
       "      <th>city</th>\n",
       "      <th>locality</th>\n",
       "      <th>rating</th>\n",
       "      <th>votes</th>\n",
       "      <th>cost</th>\n",
       "    </tr>\n",
       "  </thead>\n",
       "  <tbody>\n",
       "    <tr>\n",
       "      <th>0</th>\n",
       "      <td>CASUAL DINING</td>\n",
       "      <td>9438</td>\n",
       "      <td>Malwani, Goan, North Indian</td>\n",
       "      <td>11am – 4pm, 7:30pm – 11:30pm (Mon-Sun)</td>\n",
       "      <td>Thane</td>\n",
       "      <td>Dombivali East</td>\n",
       "      <td>3.6</td>\n",
       "      <td>49 votes</td>\n",
       "      <td>1200.0</td>\n",
       "    </tr>\n",
       "    <tr>\n",
       "      <th>1</th>\n",
       "      <td>CASUAL DINING,BAR</td>\n",
       "      <td>13198</td>\n",
       "      <td>Asian, Modern Indian, Japanese</td>\n",
       "      <td>6pm – 11pm (Mon-Sun)</td>\n",
       "      <td>Chennai</td>\n",
       "      <td>Ramapuram</td>\n",
       "      <td>4.2</td>\n",
       "      <td>30 votes</td>\n",
       "      <td>1500.0</td>\n",
       "    </tr>\n",
       "    <tr>\n",
       "      <th>2</th>\n",
       "      <td>CASUAL DINING</td>\n",
       "      <td>10915</td>\n",
       "      <td>North Indian, Chinese, Biryani, Hyderabadi</td>\n",
       "      <td>11am – 3:30pm, 7pm – 11pm (Mon-Sun)</td>\n",
       "      <td>Chennai</td>\n",
       "      <td>Saligramam</td>\n",
       "      <td>3.8</td>\n",
       "      <td>221 votes</td>\n",
       "      <td>800.0</td>\n",
       "    </tr>\n",
       "    <tr>\n",
       "      <th>3</th>\n",
       "      <td>QUICK BITES</td>\n",
       "      <td>6346</td>\n",
       "      <td>Tibetan, Chinese</td>\n",
       "      <td>11:30am – 1am (Mon-Sun)</td>\n",
       "      <td>Mumbai</td>\n",
       "      <td>Bandra West</td>\n",
       "      <td>4.1</td>\n",
       "      <td>24 votes</td>\n",
       "      <td>800.0</td>\n",
       "    </tr>\n",
       "    <tr>\n",
       "      <th>4</th>\n",
       "      <td>DESSERT PARLOR</td>\n",
       "      <td>15387</td>\n",
       "      <td>Desserts</td>\n",
       "      <td>11am – 1am (Mon-Sun)</td>\n",
       "      <td>Mumbai</td>\n",
       "      <td>Lower Parel</td>\n",
       "      <td>3.8</td>\n",
       "      <td>165 votes</td>\n",
       "      <td>300.0</td>\n",
       "    </tr>\n",
       "  </tbody>\n",
       "</table>\n",
       "</div>"
      ],
      "text/plain": [
       "               title  restaurant_id  \\\n",
       "0      CASUAL DINING           9438   \n",
       "1  CASUAL DINING,BAR          13198   \n",
       "2      CASUAL DINING          10915   \n",
       "3        QUICK BITES           6346   \n",
       "4     DESSERT PARLOR          15387   \n",
       "\n",
       "                                     cuisines  \\\n",
       "0                 Malwani, Goan, North Indian   \n",
       "1              Asian, Modern Indian, Japanese   \n",
       "2  North Indian, Chinese, Biryani, Hyderabadi   \n",
       "3                            Tibetan, Chinese   \n",
       "4                                    Desserts   \n",
       "\n",
       "                                     time     city        locality rating  \\\n",
       "0  11am – 4pm, 7:30pm – 11:30pm (Mon-Sun)    Thane  Dombivali East    3.6   \n",
       "1                    6pm – 11pm (Mon-Sun)  Chennai       Ramapuram    4.2   \n",
       "2     11am – 3:30pm, 7pm – 11pm (Mon-Sun)  Chennai      Saligramam    3.8   \n",
       "3                 11:30am – 1am (Mon-Sun)   Mumbai     Bandra West    4.1   \n",
       "4                    11am – 1am (Mon-Sun)   Mumbai     Lower Parel    3.8   \n",
       "\n",
       "       votes    cost  \n",
       "0   49 votes  1200.0  \n",
       "1   30 votes  1500.0  \n",
       "2  221 votes   800.0  \n",
       "3   24 votes   800.0  \n",
       "4  165 votes   300.0  "
      ]
     },
     "execution_count": 158,
     "metadata": {},
     "output_type": "execute_result"
    }
   ],
   "source": [
    "df_d.head()"
   ]
  },
  {
   "cell_type": "code",
   "execution_count": 159,
   "metadata": {},
   "outputs": [
    {
     "data": {
      "text/plain": [
       "title               0\n",
       "restaurant_id       0\n",
       "cuisines            0\n",
       "time                0\n",
       "city              147\n",
       "locality          128\n",
       "rating              4\n",
       "votes            1606\n",
       "cost             4231\n",
       "dtype: int64"
      ]
     },
     "execution_count": 159,
     "metadata": {},
     "output_type": "execute_result"
    }
   ],
   "source": [
    "df_d.isna().sum()"
   ]
  },
  {
   "cell_type": "code",
   "execution_count": null,
   "metadata": {},
   "outputs": [],
   "source": []
  },
  {
   "cell_type": "code",
   "execution_count": 160,
   "metadata": {},
   "outputs": [],
   "source": [
    "df_d.columns = map(str.lower,df_d.columns)"
   ]
  },
  {
   "cell_type": "code",
   "execution_count": null,
   "metadata": {},
   "outputs": [],
   "source": []
  },
  {
   "cell_type": "code",
   "execution_count": null,
   "metadata": {},
   "outputs": [],
   "source": []
  },
  {
   "cell_type": "code",
   "execution_count": 161,
   "metadata": {},
   "outputs": [
    {
     "data": {
      "text/plain": [
       "array(['Dombivali East', 'Ramapuram', 'Saligramam', ...,\n",
       "       'Off Carter Road', 'SRM Back Gate', 'Perry Cross Road'],\n",
       "      dtype=object)"
      ]
     },
     "execution_count": 161,
     "metadata": {},
     "output_type": "execute_result"
    }
   ],
   "source": [
    "df_d['locality'].unique()"
   ]
  },
  {
   "cell_type": "code",
   "execution_count": 162,
   "metadata": {},
   "outputs": [],
   "source": [
    "df_d.dropna(subset=['city','locality'],how='all',inplace=True)"
   ]
  },
  {
   "cell_type": "code",
   "execution_count": null,
   "metadata": {},
   "outputs": [],
   "source": []
  },
  {
   "cell_type": "code",
   "execution_count": 163,
   "metadata": {},
   "outputs": [
    {
     "data": {
      "text/plain": [
       "title               0\n",
       "restaurant_id       0\n",
       "cuisines            0\n",
       "time                0\n",
       "city               20\n",
       "locality            1\n",
       "rating              4\n",
       "votes            1584\n",
       "cost             4201\n",
       "dtype: int64"
      ]
     },
     "execution_count": 163,
     "metadata": {},
     "output_type": "execute_result"
    }
   ],
   "source": [
    "df_d.isna().sum()"
   ]
  },
  {
   "cell_type": "code",
   "execution_count": 164,
   "metadata": {},
   "outputs": [
    {
     "data": {
      "text/html": [
       "<div>\n",
       "<style scoped>\n",
       "    .dataframe tbody tr th:only-of-type {\n",
       "        vertical-align: middle;\n",
       "    }\n",
       "\n",
       "    .dataframe tbody tr th {\n",
       "        vertical-align: top;\n",
       "    }\n",
       "\n",
       "    .dataframe thead th {\n",
       "        text-align: right;\n",
       "    }\n",
       "</style>\n",
       "<table border=\"1\" class=\"dataframe\">\n",
       "  <thead>\n",
       "    <tr style=\"text-align: right;\">\n",
       "      <th></th>\n",
       "      <th>title</th>\n",
       "      <th>restaurant_id</th>\n",
       "      <th>cuisines</th>\n",
       "      <th>time</th>\n",
       "      <th>city</th>\n",
       "      <th>locality</th>\n",
       "      <th>rating</th>\n",
       "      <th>votes</th>\n",
       "      <th>cost</th>\n",
       "    </tr>\n",
       "  </thead>\n",
       "  <tbody>\n",
       "    <tr>\n",
       "      <th>12181</th>\n",
       "      <td>None</td>\n",
       "      <td>3861</td>\n",
       "      <td>Asian</td>\n",
       "      <td>11am – 11pm (Mon, Tue, Thu, Sun), 11am – 3pm...</td>\n",
       "      <td>Bangalore</td>\n",
       "      <td>NaN</td>\n",
       "      <td>NEW</td>\n",
       "      <td>NaN</td>\n",
       "      <td>300.0</td>\n",
       "    </tr>\n",
       "  </tbody>\n",
       "</table>\n",
       "</div>"
      ],
      "text/plain": [
       "      title  restaurant_id cuisines  \\\n",
       "12181  None           3861    Asian   \n",
       "\n",
       "                                                  time       city locality  \\\n",
       "12181  11am – 11pm (Mon, Tue, Thu, Sun), 11am – 3pm...  Bangalore      NaN   \n",
       "\n",
       "      rating votes   cost  \n",
       "12181    NEW   NaN  300.0  "
      ]
     },
     "execution_count": 164,
     "metadata": {},
     "output_type": "execute_result"
    }
   ],
   "source": [
    "df_d[df_d.locality.isna()]"
   ]
  },
  {
   "cell_type": "code",
   "execution_count": 165,
   "metadata": {},
   "outputs": [
    {
     "data": {
      "text/plain": [
       "array(['Thane', 'Chennai', 'Mumbai', 'Bangalore', 'Gurgaon', 'Hyderabad',\n",
       "       'Kochi', 'Thane West', 'Delhi', 'Malad East', '682036', 'Noida',\n",
       "       'Secunderabad', 'India', 'Madhuranagar', nan, 'Faridabad',\n",
       "       'Chembur.', 'opp gurudwara Shakurpur', 'Telangana', 'Ghaziabad',\n",
       "       'kerala', 'Edappally', 'Kadavanthra', 'Ernakulam Circle kochi',\n",
       "       'Near Reliance Fresh', 'Kilpauk', 'Kothaguda', 'Goregaon West',\n",
       "       'Kakkanad', 'Outer Ring Road', 'Mulund East',\n",
       "       'Secunderabad main road near signal NMREC COLLEGE', 'Gachibowli',\n",
       "       'Semmancheri', 'Powai (Next to Powai Plaza)', 'Dombivali East',\n",
       "       'Kandivali', 'Dewan Rama Road', 'Gurugram', 'Sector 51 Noida',\n",
       "       'Kaloor', 'Besant Nagar', 'Adjacent To Commercial Street',\n",
       "       'Dwarka', '682035.', 'Kalyan West', 'Avadi', 'Kondapur',\n",
       "       'Mehdipatnam', 'Gandipet', 'Velachery', 'Pallavaram',\n",
       "       'Vijaya Nagar', 'BTM Layout',\n",
       "       'Metro Pillar No 21. Mettuguda main road near railway degree college.',\n",
       "       'Madhapur', 'Ernakulam', 'Sarjapur', 'Rohini', 'Karol Bagh',\n",
       "       'Perungudi', 'Thykoodam', 'Greater Noida', 'Khairatabad',\n",
       "       'chullickal', 'Grant Road West', 'Hitech City', 'West Maredpally',\n",
       "       'Nedumbassery', 'MG Road', 'Naya Nagar Mira Road', 'Pitampura',\n",
       "       'Lower Parel', 'HBR Layout', 'Rajiv gandhi Nagar', 'Medavakkam',\n",
       "       'Sathya Nagar', 'Behind Ramalayam Temple', 'Palarivattom',\n",
       "       'Brigade Road', 'Virar West', 'B-1 Stage', 'Aluva',\n",
       "       'IOB Bank Kamala Nagar', 'HSR Layout', 'Marine Drive',\n",
       "       'DLF Galleria', 'Nallathambi Main Road', 'Citypark', 'Bhayandar',\n",
       "       'Aluva Circle', 'Thammenahalli Village', 'SG Palya', 'Attapur.',\n",
       "       'Near Shangrilla Bus Stop', 'Khar (west)', 'Road 3', 'Kukatpally',\n",
       "       'Faridabd', 'Dilsukhnagar', 'Near Munrshwara Temple',\n",
       "       'Off Brigade Road', 'khar west', 'Potheri', 'OMR Karapakkam',\n",
       "       'Mahim', 'Lingampally', 'Powai', 'Vasai West.', 'Thane (W)',\n",
       "       'Secunderabad ECIL', 'navi mumbai', 'ward X11', 'kochi',\n",
       "       'Perumbavoor', 'Mira raod east', 'Pokhran Road 2', 'Uttar Pradesh',\n",
       "       'Naharpar', 'Hosur Road', 'Near Bharat Petroleum.', 'Sriram nagar',\n",
       "       'Vyttila', 'Banjara Hills', 'MALAPALLIPURAM P .O THRISSUR',\n",
       "       'Panampilly Nagar', 'hyderabad', 'Borivali East.', 'ECIL',\n",
       "       'Jubilee Hills',\n",
       "       'Amrit kaur market opposite new delhi railway station paharganj',\n",
       "       'Telengana', 'Rajanpada', 'Mahabalipuram',\n",
       "       'Secunderabad. WE HAVE NO BRANCHES.', 'Gurgoan', 'Elamakkara',\n",
       "       'Sector 1', 'Kolathur', '3rd Street', 'Borivali West',\n",
       "       'Rodeo Drive Sector 49', 'Pallimukku', 'Sector 51', 'Champapet',\n",
       "       'Andavar Nagar', 'opp mukteshwar ashram powai', 'Nungambakkam',\n",
       "       'BK Guda', 'Kukatapally', 'Near Sector 110 Noida', 'Navallur',\n",
       "       'Beside Excellency Gardens', 'Begumpet',\n",
       "       'Maharaja Hotel Beside Gardania Bar', 'Ashok Vihar Phase 1',\n",
       "       'Trivandrum', 'Narayanguda', 'Thevera', 'Palm Beach Road',\n",
       "       'East Coast Road (ECR)', 'Ramapuram', 'Nandanam', 'Saket',\n",
       "       'MG Road Ernakulam', 'Indiranagar', 'Thiruvanmiyur', 'Ambattur',\n",
       "       'Anna Nagar West', 'Old Railway Road', 'Kalyan',\n",
       "       'Near Ramlila Ground', 'Serilingampally', 'Himayath Nagar',\n",
       "       'Nallala Street', 'Wagle Estate', '1st Stage', 'First Street',\n",
       "       '6 & 7 - 4/64 Subhash Nagar', '1st Tavarekere', 'Perambur',\n",
       "       'Vaishali Ghaziabad', 'Thanisandra', 'Block F', 'Sector 7 Dwarka',\n",
       "       'Opposite Barathi Gas Company', 'Vadapalani', 'Kondapur.',\n",
       "       'Badlapur West.', 'Kalamassery', 'Palavakkam', 'TCS Synergy park',\n",
       "       'BTM 1st Stage', 'Mahadevpura', 'NEW BEL ROAD 560054',\n",
       "       'Veliaveetil house Vivekananda Nagar Elamakkara', 'Sholinganallur',\n",
       "       'Lower Parel West', 'Tripunithura', 'Mogappair', 'Ashok Nagar',\n",
       "       'Haridwar Apartments', 'Indirapuram', 'Manikonda', 'GST Road',\n",
       "       'Lahari Apartments', 'Ramanthapur', 'Mulund west',\n",
       "       'Gurgaon Haryana India', '10th avenue', 'Uppal', 'Nizampet',\n",
       "       'Ulsoo', 'PVR plaza cinema building Connaught Place',\n",
       "       'Gurgaon Haryana', 'Chromepet', 'Janakpuri', 'Secunderabad.',\n",
       "       'Vadapalani.', 'aluva circle', 'Vasai west', 'Mig Housing Society',\n",
       "       'Haryana', 'Borivali West.', 'Golf Course Road',\n",
       "       'Near Jyothinivas College', 'Anna Nagar East', 'Masab Tank',\n",
       "       'Panathur Main Road',\n",
       "       'opposite to western side of ITPL Service gate', 'Kalkaji',\n",
       "       'APR Chambers', 'Gandhinagar Rd', 'Whitefield', '682024',\n",
       "       'Girgaum', 'Kurla (W)', 'Thane West Thane West', 'Marad',\n",
       "       'Near Sector 34', 'Nallagandla', 'Vandalur', 'Mulund West',\n",
       "       'Secunderbad', 'MM Nagar', 'Chittethukkara', 'BTM', 'Dombivli',\n",
       "       'Sahakara Nagar', 'Tavarekere Main Road', 'Community Centre',\n",
       "       'Delh.', 'Sector-6 Noida 201301', 'Kaaraikudi Complex',\n",
       "       'Thiruvanmiyur (Opp Eurokids LB Road)', 'Tolichowki', 'Alwarpet',\n",
       "       'Suraram', 'Forum Sujana Mall Opposite to Malaysian township',\n",
       "       'Old Hafeezpet', 'Yousufguda', 'Chepauk', 'Chowpatty',\n",
       "       'Church Street', 'RA Puram', 'Habsiguda', 'Kandivali West',\n",
       "       'Noida Extention', 'Shihab Thangal Road', 'Miumbai',\n",
       "       'Vanasthalipuram', 'KK Road', 'Opposite Ellora Building'],\n",
       "      dtype=object)"
      ]
     },
     "execution_count": 165,
     "metadata": {},
     "output_type": "execute_result"
    }
   ],
   "source": [
    "df_d.city.unique()"
   ]
  },
  {
   "cell_type": "code",
   "execution_count": 166,
   "metadata": {},
   "outputs": [],
   "source": [
    "df1=df_d.query(\" city  not in ('Secunderabad','Ghaziabad','Telangana','Chennai','Bangalore','Noida','Mumbai','Kochi','Hyderabad','Delhi','Gurgaon','Faridabad','Ernakulam')\")#.drop#[\"CITY\"]"
   ]
  },
  {
   "cell_type": "code",
   "execution_count": 167,
   "metadata": {},
   "outputs": [
    {
     "data": {
      "text/html": [
       "<div>\n",
       "<style scoped>\n",
       "    .dataframe tbody tr th:only-of-type {\n",
       "        vertical-align: middle;\n",
       "    }\n",
       "\n",
       "    .dataframe tbody tr th {\n",
       "        vertical-align: top;\n",
       "    }\n",
       "\n",
       "    .dataframe thead th {\n",
       "        text-align: right;\n",
       "    }\n",
       "</style>\n",
       "<table border=\"1\" class=\"dataframe\">\n",
       "  <thead>\n",
       "    <tr style=\"text-align: right;\">\n",
       "      <th></th>\n",
       "      <th>title</th>\n",
       "      <th>restaurant_id</th>\n",
       "      <th>cuisines</th>\n",
       "      <th>time</th>\n",
       "      <th>city</th>\n",
       "      <th>locality</th>\n",
       "      <th>rating</th>\n",
       "      <th>votes</th>\n",
       "      <th>cost</th>\n",
       "    </tr>\n",
       "  </thead>\n",
       "  <tbody>\n",
       "    <tr>\n",
       "      <th>0</th>\n",
       "      <td>CASUAL DINING</td>\n",
       "      <td>9438</td>\n",
       "      <td>Malwani, Goan, North Indian</td>\n",
       "      <td>11am – 4pm, 7:30pm – 11:30pm (Mon-Sun)</td>\n",
       "      <td>Thane</td>\n",
       "      <td>Dombivali East</td>\n",
       "      <td>3.6</td>\n",
       "      <td>49 votes</td>\n",
       "      <td>1200.0</td>\n",
       "    </tr>\n",
       "    <tr>\n",
       "      <th>14</th>\n",
       "      <td>QUICK BITES</td>\n",
       "      <td>15024</td>\n",
       "      <td>Maharashtrian</td>\n",
       "      <td>Closed (Mon),11am – 11pm (Tue-Sun)</td>\n",
       "      <td>Thane West</td>\n",
       "      <td>Majiwada</td>\n",
       "      <td>4.0</td>\n",
       "      <td>160 votes</td>\n",
       "      <td>300.0</td>\n",
       "    </tr>\n",
       "    <tr>\n",
       "      <th>47</th>\n",
       "      <td>CASUAL DINING,BAR</td>\n",
       "      <td>2003</td>\n",
       "      <td>Continental, North Indian, Chinese, Healthy Food</td>\n",
       "      <td>12noon – 1am (Mon-Sun)</td>\n",
       "      <td>Malad East</td>\n",
       "      <td>Film City Road</td>\n",
       "      <td>3.9</td>\n",
       "      <td>985 votes</td>\n",
       "      <td>1400.0</td>\n",
       "    </tr>\n",
       "    <tr>\n",
       "      <th>58</th>\n",
       "      <td>CASUAL DINING</td>\n",
       "      <td>4963</td>\n",
       "      <td>Kerala</td>\n",
       "      <td>12noon – 3:30pm, 7pm – 10pm (Mon-Sun)</td>\n",
       "      <td>682036</td>\n",
       "      <td>Kerala</td>\n",
       "      <td>4.0</td>\n",
       "      <td>145 votes</td>\n",
       "      <td>400.0</td>\n",
       "    </tr>\n",
       "    <tr>\n",
       "      <th>135</th>\n",
       "      <td>QUICK BITES</td>\n",
       "      <td>10311</td>\n",
       "      <td>Chinese</td>\n",
       "      <td>11am – 11pm (Mon-Sun)</td>\n",
       "      <td>India</td>\n",
       "      <td>Telangana 500084</td>\n",
       "      <td>3.5</td>\n",
       "      <td>92 votes</td>\n",
       "      <td>250.0</td>\n",
       "    </tr>\n",
       "    <tr>\n",
       "      <th>...</th>\n",
       "      <td>...</td>\n",
       "      <td>...</td>\n",
       "      <td>...</td>\n",
       "      <td>...</td>\n",
       "      <td>...</td>\n",
       "      <td>...</td>\n",
       "      <td>...</td>\n",
       "      <td>...</td>\n",
       "      <td>...</td>\n",
       "    </tr>\n",
       "    <tr>\n",
       "      <th>4122</th>\n",
       "      <td>CASUAL DINING</td>\n",
       "      <td>10685</td>\n",
       "      <td>North Indian, South Indian, Chinese, Continent...</td>\n",
       "      <td>11am – 11:30pm (Mon-Sun)</td>\n",
       "      <td>Thane</td>\n",
       "      <td>Dombivali East</td>\n",
       "      <td>3.4</td>\n",
       "      <td>16 votes</td>\n",
       "      <td>NaN</td>\n",
       "    </tr>\n",
       "    <tr>\n",
       "      <th>4139</th>\n",
       "      <td>CASUAL DINING</td>\n",
       "      <td>9237</td>\n",
       "      <td>North Indian, Chinese</td>\n",
       "      <td>5pm – 1am (Mon-Sun)</td>\n",
       "      <td>Thane</td>\n",
       "      <td>Thane west</td>\n",
       "      <td>4.1</td>\n",
       "      <td>504 votes</td>\n",
       "      <td>NaN</td>\n",
       "    </tr>\n",
       "    <tr>\n",
       "      <th>4167</th>\n",
       "      <td>QUICK BITES</td>\n",
       "      <td>12015</td>\n",
       "      <td>Lebanese</td>\n",
       "      <td>4pm – 11pm (Mon-Sun)</td>\n",
       "      <td>NaN</td>\n",
       "      <td>Chennai</td>\n",
       "      <td>3.7</td>\n",
       "      <td>124 votes</td>\n",
       "      <td>NaN</td>\n",
       "    </tr>\n",
       "    <tr>\n",
       "      <th>4177</th>\n",
       "      <td>DESSERT PARLOR</td>\n",
       "      <td>5425</td>\n",
       "      <td>Desserts</td>\n",
       "      <td>10:30am – 12:30AM (Mon-Sun)</td>\n",
       "      <td>Opposite Ellora Building</td>\n",
       "      <td>Off Carter Road</td>\n",
       "      <td>4.2</td>\n",
       "      <td>1236 votes</td>\n",
       "      <td>NaN</td>\n",
       "    </tr>\n",
       "    <tr>\n",
       "      <th>4196</th>\n",
       "      <td>QUICK BITES</td>\n",
       "      <td>3791</td>\n",
       "      <td>Street Food, Fast Food</td>\n",
       "      <td>8am – 10pm (Mon-Sun)</td>\n",
       "      <td>Potheri</td>\n",
       "      <td>SRM Back Gate</td>\n",
       "      <td>3.7</td>\n",
       "      <td>259 votes</td>\n",
       "      <td>NaN</td>\n",
       "    </tr>\n",
       "  </tbody>\n",
       "</table>\n",
       "<p>690 rows × 9 columns</p>\n",
       "</div>"
      ],
      "text/plain": [
       "                  title  restaurant_id  \\\n",
       "0         CASUAL DINING           9438   \n",
       "14          QUICK BITES          15024   \n",
       "47    CASUAL DINING,BAR           2003   \n",
       "58        CASUAL DINING           4963   \n",
       "135         QUICK BITES          10311   \n",
       "...                 ...            ...   \n",
       "4122      CASUAL DINING          10685   \n",
       "4139      CASUAL DINING           9237   \n",
       "4167        QUICK BITES          12015   \n",
       "4177     DESSERT PARLOR           5425   \n",
       "4196        QUICK BITES           3791   \n",
       "\n",
       "                                               cuisines  \\\n",
       "0                           Malwani, Goan, North Indian   \n",
       "14                                        Maharashtrian   \n",
       "47     Continental, North Indian, Chinese, Healthy Food   \n",
       "58                                               Kerala   \n",
       "135                                             Chinese   \n",
       "...                                                 ...   \n",
       "4122  North Indian, South Indian, Chinese, Continent...   \n",
       "4139                              North Indian, Chinese   \n",
       "4167                                           Lebanese   \n",
       "4177                                           Desserts   \n",
       "4196                             Street Food, Fast Food   \n",
       "\n",
       "                                        time                      city  \\\n",
       "0     11am – 4pm, 7:30pm – 11:30pm (Mon-Sun)                     Thane   \n",
       "14        Closed (Mon),11am – 11pm (Tue-Sun)                Thane West   \n",
       "47                    12noon – 1am (Mon-Sun)                Malad East   \n",
       "58     12noon – 3:30pm, 7pm – 10pm (Mon-Sun)                    682036   \n",
       "135                    11am – 11pm (Mon-Sun)                     India   \n",
       "...                                      ...                       ...   \n",
       "4122                11am – 11:30pm (Mon-Sun)                     Thane   \n",
       "4139                     5pm – 1am (Mon-Sun)                     Thane   \n",
       "4167                    4pm – 11pm (Mon-Sun)                       NaN   \n",
       "4177             10:30am – 12:30AM (Mon-Sun)  Opposite Ellora Building   \n",
       "4196                    8am – 10pm (Mon-Sun)                   Potheri   \n",
       "\n",
       "              locality rating       votes    cost  \n",
       "0       Dombivali East    3.6    49 votes  1200.0  \n",
       "14            Majiwada    4.0   160 votes   300.0  \n",
       "47      Film City Road    3.9   985 votes  1400.0  \n",
       "58              Kerala    4.0   145 votes   400.0  \n",
       "135   Telangana 500084    3.5    92 votes   250.0  \n",
       "...                ...    ...         ...     ...  \n",
       "4122    Dombivali East    3.4    16 votes     NaN  \n",
       "4139        Thane west    4.1   504 votes     NaN  \n",
       "4167           Chennai    3.7   124 votes     NaN  \n",
       "4177   Off Carter Road    4.2  1236 votes     NaN  \n",
       "4196     SRM Back Gate    3.7   259 votes     NaN  \n",
       "\n",
       "[690 rows x 9 columns]"
      ]
     },
     "execution_count": 167,
     "metadata": {},
     "output_type": "execute_result"
    }
   ],
   "source": [
    "df1"
   ]
  },
  {
   "cell_type": "code",
   "execution_count": null,
   "metadata": {},
   "outputs": [],
   "source": []
  },
  {
   "cell_type": "code",
   "execution_count": null,
   "metadata": {},
   "outputs": [],
   "source": []
  },
  {
   "cell_type": "code",
   "execution_count": 168,
   "metadata": {},
   "outputs": [],
   "source": [
    "df_d = df_d[~df_d.index.isin(df1.index)]\n",
    "# df_d.city.unique()"
   ]
  },
  {
   "cell_type": "code",
   "execution_count": 169,
   "metadata": {},
   "outputs": [
    {
     "data": {
      "text/plain": [
       "array(['Chennai', 'Mumbai', 'Bangalore', 'Gurgaon', 'Hyderabad', 'Kochi',\n",
       "       'Delhi', 'Noida', 'Secunderabad', 'Faridabad', 'Telangana',\n",
       "       'Ghaziabad', 'Ernakulam'], dtype=object)"
      ]
     },
     "execution_count": 169,
     "metadata": {},
     "output_type": "execute_result"
    }
   ],
   "source": [
    "df_d.city.unique()"
   ]
  },
  {
   "cell_type": "code",
   "execution_count": 170,
   "metadata": {},
   "outputs": [
    {
     "data": {
      "text/plain": [
       "(15793, 9)"
      ]
     },
     "execution_count": 170,
     "metadata": {},
     "output_type": "execute_result"
    }
   ],
   "source": [
    "df_d.shape"
   ]
  },
  {
   "cell_type": "code",
   "execution_count": null,
   "metadata": {},
   "outputs": [],
   "source": []
  },
  {
   "cell_type": "code",
   "execution_count": null,
   "metadata": {},
   "outputs": [],
   "source": []
  },
  {
   "cell_type": "code",
   "execution_count": null,
   "metadata": {},
   "outputs": [],
   "source": []
  },
  {
   "cell_type": "code",
   "execution_count": null,
   "metadata": {},
   "outputs": [],
   "source": []
  },
  {
   "cell_type": "code",
   "execution_count": null,
   "metadata": {},
   "outputs": [],
   "source": []
  },
  {
   "cell_type": "code",
   "execution_count": null,
   "metadata": {},
   "outputs": [],
   "source": []
  },
  {
   "cell_type": "code",
   "execution_count": 171,
   "metadata": {},
   "outputs": [],
   "source": [
    "city_value = df_d[df_d['locality'].isnull()].city.str.split(\" \", expand = True)[0] #Here i tried of splitting the city data to place the [0] position string into the locality part"
   ]
  },
  {
   "cell_type": "code",
   "execution_count": 172,
   "metadata": {},
   "outputs": [
    {
     "data": {
      "text/plain": [
       "12181    Bangalore\n",
       "Name: 0, dtype: object"
      ]
     },
     "execution_count": 172,
     "metadata": {},
     "output_type": "execute_result"
    }
   ],
   "source": [
    "city_value"
   ]
  },
  {
   "cell_type": "code",
   "execution_count": null,
   "metadata": {},
   "outputs": [],
   "source": []
  },
  {
   "cell_type": "code",
   "execution_count": 173,
   "metadata": {},
   "outputs": [],
   "source": [
    "df_d['locality'].fillna('Kadubesanahalli',inplace=True)"
   ]
  },
  {
   "cell_type": "code",
   "execution_count": 174,
   "metadata": {},
   "outputs": [
    {
     "data": {
      "text/plain": [
       "title               0\n",
       "restaurant_id       0\n",
       "cuisines            0\n",
       "time                0\n",
       "city                0\n",
       "locality            0\n",
       "rating              4\n",
       "votes            1475\n",
       "cost             3883\n",
       "dtype: int64"
      ]
     },
     "execution_count": 174,
     "metadata": {},
     "output_type": "execute_result"
    }
   ],
   "source": [
    "df_d.isna().sum()"
   ]
  },
  {
   "cell_type": "code",
   "execution_count": 175,
   "metadata": {},
   "outputs": [
    {
     "data": {
      "text/html": [
       "<div>\n",
       "<style scoped>\n",
       "    .dataframe tbody tr th:only-of-type {\n",
       "        vertical-align: middle;\n",
       "    }\n",
       "\n",
       "    .dataframe tbody tr th {\n",
       "        vertical-align: top;\n",
       "    }\n",
       "\n",
       "    .dataframe thead th {\n",
       "        text-align: right;\n",
       "    }\n",
       "</style>\n",
       "<table border=\"1\" class=\"dataframe\">\n",
       "  <thead>\n",
       "    <tr style=\"text-align: right;\">\n",
       "      <th></th>\n",
       "      <th>title</th>\n",
       "      <th>restaurant_id</th>\n",
       "      <th>cuisines</th>\n",
       "      <th>time</th>\n",
       "      <th>city</th>\n",
       "      <th>locality</th>\n",
       "      <th>rating</th>\n",
       "      <th>votes</th>\n",
       "      <th>cost</th>\n",
       "    </tr>\n",
       "  </thead>\n",
       "  <tbody>\n",
       "  </tbody>\n",
       "</table>\n",
       "</div>"
      ],
      "text/plain": [
       "Empty DataFrame\n",
       "Columns: [title, restaurant_id, cuisines, time, city, locality, rating, votes, cost]\n",
       "Index: []"
      ]
     },
     "execution_count": 175,
     "metadata": {},
     "output_type": "execute_result"
    }
   ],
   "source": [
    "df_d[df_d['city'].isna()] # .locality.unique()"
   ]
  },
  {
   "cell_type": "code",
   "execution_count": 176,
   "metadata": {},
   "outputs": [
    {
     "data": {
      "text/plain": [
       "title               0\n",
       "restaurant_id       0\n",
       "cuisines            0\n",
       "time                0\n",
       "city                0\n",
       "locality            0\n",
       "rating              4\n",
       "votes            1475\n",
       "cost             3883\n",
       "dtype: int64"
      ]
     },
     "execution_count": 176,
     "metadata": {},
     "output_type": "execute_result"
    }
   ],
   "source": [
    "df_d.isna().sum()"
   ]
  },
  {
   "cell_type": "code",
   "execution_count": null,
   "metadata": {},
   "outputs": [],
   "source": []
  },
  {
   "cell_type": "code",
   "execution_count": 177,
   "metadata": {},
   "outputs": [
    {
     "data": {
      "text/plain": [
       "(15793, 9)"
      ]
     },
     "execution_count": 177,
     "metadata": {},
     "output_type": "execute_result"
    }
   ],
   "source": [
    "df_d.shape"
   ]
  },
  {
   "cell_type": "code",
   "execution_count": 178,
   "metadata": {},
   "outputs": [
    {
     "data": {
      "text/html": [
       "<div>\n",
       "<style scoped>\n",
       "    .dataframe tbody tr th:only-of-type {\n",
       "        vertical-align: middle;\n",
       "    }\n",
       "\n",
       "    .dataframe tbody tr th {\n",
       "        vertical-align: top;\n",
       "    }\n",
       "\n",
       "    .dataframe thead th {\n",
       "        text-align: right;\n",
       "    }\n",
       "</style>\n",
       "<table border=\"1\" class=\"dataframe\">\n",
       "  <thead>\n",
       "    <tr style=\"text-align: right;\">\n",
       "      <th></th>\n",
       "      <th>title</th>\n",
       "      <th>restaurant_id</th>\n",
       "      <th>cuisines</th>\n",
       "      <th>time</th>\n",
       "      <th>city</th>\n",
       "      <th>locality</th>\n",
       "      <th>rating</th>\n",
       "      <th>votes</th>\n",
       "      <th>cost</th>\n",
       "    </tr>\n",
       "  </thead>\n",
       "  <tbody>\n",
       "    <tr>\n",
       "      <th>1</th>\n",
       "      <td>CASUAL DINING,BAR</td>\n",
       "      <td>13198</td>\n",
       "      <td>Asian, Modern Indian, Japanese</td>\n",
       "      <td>6pm – 11pm (Mon-Sun)</td>\n",
       "      <td>Chennai</td>\n",
       "      <td>Ramapuram</td>\n",
       "      <td>4.2</td>\n",
       "      <td>30 votes</td>\n",
       "      <td>1500.0</td>\n",
       "    </tr>\n",
       "    <tr>\n",
       "      <th>2</th>\n",
       "      <td>CASUAL DINING</td>\n",
       "      <td>10915</td>\n",
       "      <td>North Indian, Chinese, Biryani, Hyderabadi</td>\n",
       "      <td>11am – 3:30pm, 7pm – 11pm (Mon-Sun)</td>\n",
       "      <td>Chennai</td>\n",
       "      <td>Saligramam</td>\n",
       "      <td>3.8</td>\n",
       "      <td>221 votes</td>\n",
       "      <td>800.0</td>\n",
       "    </tr>\n",
       "    <tr>\n",
       "      <th>3</th>\n",
       "      <td>QUICK BITES</td>\n",
       "      <td>6346</td>\n",
       "      <td>Tibetan, Chinese</td>\n",
       "      <td>11:30am – 1am (Mon-Sun)</td>\n",
       "      <td>Mumbai</td>\n",
       "      <td>Bandra West</td>\n",
       "      <td>4.1</td>\n",
       "      <td>24 votes</td>\n",
       "      <td>800.0</td>\n",
       "    </tr>\n",
       "    <tr>\n",
       "      <th>4</th>\n",
       "      <td>DESSERT PARLOR</td>\n",
       "      <td>15387</td>\n",
       "      <td>Desserts</td>\n",
       "      <td>11am – 1am (Mon-Sun)</td>\n",
       "      <td>Mumbai</td>\n",
       "      <td>Lower Parel</td>\n",
       "      <td>3.8</td>\n",
       "      <td>165 votes</td>\n",
       "      <td>300.0</td>\n",
       "    </tr>\n",
       "    <tr>\n",
       "      <th>5</th>\n",
       "      <td>CASUAL DINING</td>\n",
       "      <td>5618</td>\n",
       "      <td>North Indian, Chinese, Seafood, Biryani</td>\n",
       "      <td>12noon – 12:30AM (Mon-Sun)</td>\n",
       "      <td>Mumbai</td>\n",
       "      <td>Vile Parle West</td>\n",
       "      <td>4.0</td>\n",
       "      <td>550 votes</td>\n",
       "      <td>800.0</td>\n",
       "    </tr>\n",
       "  </tbody>\n",
       "</table>\n",
       "</div>"
      ],
      "text/plain": [
       "               title  restaurant_id  \\\n",
       "1  CASUAL DINING,BAR          13198   \n",
       "2      CASUAL DINING          10915   \n",
       "3        QUICK BITES           6346   \n",
       "4     DESSERT PARLOR          15387   \n",
       "5      CASUAL DINING           5618   \n",
       "\n",
       "                                     cuisines  \\\n",
       "1              Asian, Modern Indian, Japanese   \n",
       "2  North Indian, Chinese, Biryani, Hyderabadi   \n",
       "3                            Tibetan, Chinese   \n",
       "4                                    Desserts   \n",
       "5     North Indian, Chinese, Seafood, Biryani   \n",
       "\n",
       "                                  time     city         locality rating  \\\n",
       "1                 6pm – 11pm (Mon-Sun)  Chennai        Ramapuram    4.2   \n",
       "2  11am – 3:30pm, 7pm – 11pm (Mon-Sun)  Chennai       Saligramam    3.8   \n",
       "3              11:30am – 1am (Mon-Sun)   Mumbai      Bandra West    4.1   \n",
       "4                 11am – 1am (Mon-Sun)   Mumbai      Lower Parel    3.8   \n",
       "5           12noon – 12:30AM (Mon-Sun)   Mumbai  Vile Parle West    4.0   \n",
       "\n",
       "       votes    cost  \n",
       "1   30 votes  1500.0  \n",
       "2  221 votes   800.0  \n",
       "3   24 votes   800.0  \n",
       "4  165 votes   300.0  \n",
       "5  550 votes   800.0  "
      ]
     },
     "execution_count": 178,
     "metadata": {},
     "output_type": "execute_result"
    }
   ],
   "source": [
    "df_d.head()"
   ]
  },
  {
   "cell_type": "code",
   "execution_count": null,
   "metadata": {},
   "outputs": [],
   "source": []
  },
  {
   "cell_type": "code",
   "execution_count": 179,
   "metadata": {},
   "outputs": [
    {
     "name": "stdout",
     "output_type": "stream",
     "text": [
      "<class 'pandas.core.frame.DataFrame'>\n",
      "Int64Index: 15793 entries, 1 to 4230\n",
      "Data columns (total 9 columns):\n",
      "title            15793 non-null object\n",
      "restaurant_id    15793 non-null int64\n",
      "cuisines         15793 non-null object\n",
      "time             15793 non-null object\n",
      "city             15793 non-null object\n",
      "locality         15793 non-null object\n",
      "rating           15789 non-null object\n",
      "votes            14318 non-null object\n",
      "cost             11910 non-null float64\n",
      "dtypes: float64(1), int64(1), object(7)\n",
      "memory usage: 1.2+ MB\n"
     ]
    }
   ],
   "source": [
    "df_d.info()"
   ]
  },
  {
   "cell_type": "code",
   "execution_count": 180,
   "metadata": {},
   "outputs": [],
   "source": [
    "df_df = df_d"
   ]
  },
  {
   "cell_type": "code",
   "execution_count": null,
   "metadata": {},
   "outputs": [],
   "source": []
  },
  {
   "cell_type": "code",
   "execution_count": null,
   "metadata": {},
   "outputs": [],
   "source": []
  },
  {
   "cell_type": "code",
   "execution_count": 181,
   "metadata": {},
   "outputs": [
    {
     "data": {
      "text/plain": [
       "1        30 votes\n",
       "2       221 votes\n",
       "3        24 votes\n",
       "4       165 votes\n",
       "5       550 votes\n",
       "          ...    \n",
       "4226    287 votes\n",
       "4227    469 votes\n",
       "4228     53 votes\n",
       "4229          NaN\n",
       "4230     63 votes\n",
       "Name: votes, Length: 15793, dtype: object"
      ]
     },
     "execution_count": 181,
     "metadata": {},
     "output_type": "execute_result"
    }
   ],
   "source": [
    "df_df.votes"
   ]
  },
  {
   "cell_type": "code",
   "execution_count": 182,
   "metadata": {},
   "outputs": [
    {
     "data": {
      "text/plain": [
       "1        30 votes\n",
       "2       221 votes\n",
       "3        24 votes\n",
       "4       165 votes\n",
       "5       550 votes\n",
       "          ...    \n",
       "4226    287 votes\n",
       "4227    469 votes\n",
       "4228     53 votes\n",
       "4229          NaN\n",
       "4230     63 votes\n",
       "Name: votes, Length: 15793, dtype: object"
      ]
     },
     "execution_count": 182,
     "metadata": {},
     "output_type": "execute_result"
    }
   ],
   "source": [
    "df_df.votes"
   ]
  },
  {
   "cell_type": "code",
   "execution_count": null,
   "metadata": {},
   "outputs": [],
   "source": []
  },
  {
   "cell_type": "code",
   "execution_count": null,
   "metadata": {},
   "outputs": [],
   "source": []
  },
  {
   "cell_type": "code",
   "execution_count": 183,
   "metadata": {
    "scrolled": true
   },
   "outputs": [],
   "source": [
    "df_df[\"votes\"].fillna(df_df.votes.mode()[0],inplace = True)"
   ]
  },
  {
   "cell_type": "code",
   "execution_count": 184,
   "metadata": {},
   "outputs": [],
   "source": [
    "df_df['votes'] = df_df['votes'].str.split(expand=True)[0]"
   ]
  },
  {
   "cell_type": "code",
   "execution_count": null,
   "metadata": {},
   "outputs": [],
   "source": []
  },
  {
   "cell_type": "code",
   "execution_count": 185,
   "metadata": {},
   "outputs": [
    {
     "data": {
      "text/plain": [
       "title               0\n",
       "restaurant_id       0\n",
       "cuisines            0\n",
       "time                0\n",
       "city                0\n",
       "locality            0\n",
       "rating              4\n",
       "votes               0\n",
       "cost             3883\n",
       "dtype: int64"
      ]
     },
     "execution_count": 185,
     "metadata": {},
     "output_type": "execute_result"
    }
   ],
   "source": [
    "df_df.isna().sum()"
   ]
  },
  {
   "cell_type": "code",
   "execution_count": 186,
   "metadata": {},
   "outputs": [
    {
     "data": {
      "text/plain": [
       "array(['30', '221', '24', ..., '2159', '3807', '1913'], dtype=object)"
      ]
     },
     "execution_count": 186,
     "metadata": {},
     "output_type": "execute_result"
    }
   ],
   "source": [
    "df_df.votes.unique()"
   ]
  },
  {
   "cell_type": "code",
   "execution_count": 187,
   "metadata": {},
   "outputs": [
    {
     "data": {
      "text/plain": [
       "array(['4.2', '3.8', '4.1', '4.0', '4.3', '3.9', '3.3', '3.4', '-', '4.5',\n",
       "       '3.6', '3.5', '4.4', '2.7', '3.7', '4.7', 'NEW', '3.1', '2.5',\n",
       "       '4.6', '2.8', nan, '3.0', '3.2', '2.6', '2.9', '4.9', '4.8', '2.4',\n",
       "       '2.3', '2.0', '2.1', '2.2'], dtype=object)"
      ]
     },
     "execution_count": 187,
     "metadata": {},
     "output_type": "execute_result"
    }
   ],
   "source": [
    "df_df.rating.unique()"
   ]
  },
  {
   "cell_type": "code",
   "execution_count": 188,
   "metadata": {},
   "outputs": [
    {
     "data": {
      "text/plain": [
       "0    3.9\n",
       "dtype: object"
      ]
     },
     "execution_count": 188,
     "metadata": {},
     "output_type": "execute_result"
    }
   ],
   "source": [
    "df_df.rating.mode()"
   ]
  },
  {
   "cell_type": "code",
   "execution_count": 189,
   "metadata": {},
   "outputs": [],
   "source": [
    "df_df.replace({'-':df_df.rating.mode()[0],'NEW':df_df.rating.mode()[0]},inplace=True)"
   ]
  },
  {
   "cell_type": "code",
   "execution_count": 190,
   "metadata": {},
   "outputs": [
    {
     "data": {
      "text/plain": [
       "array(['4.2', '3.8', '4.1', '4.0', '4.3', '3.9', '3.3', '3.4', '4.5',\n",
       "       '3.6', '3.5', '4.4', '2.7', '3.7', '4.7', '3.1', '2.5', '4.6',\n",
       "       '2.8', nan, '3.0', '3.2', '2.6', '2.9', '4.9', '4.8', '2.4', '2.3',\n",
       "       '2.0', '2.1', '2.2'], dtype=object)"
      ]
     },
     "execution_count": 190,
     "metadata": {},
     "output_type": "execute_result"
    }
   ],
   "source": [
    "df_df.rating.unique()"
   ]
  },
  {
   "cell_type": "code",
   "execution_count": 191,
   "metadata": {},
   "outputs": [
    {
     "name": "stdout",
     "output_type": "stream",
     "text": [
      "<class 'pandas.core.frame.DataFrame'>\n",
      "Int64Index: 15793 entries, 1 to 4230\n",
      "Data columns (total 9 columns):\n",
      "title            15793 non-null object\n",
      "restaurant_id    15793 non-null int64\n",
      "cuisines         15793 non-null object\n",
      "time             15793 non-null object\n",
      "city             15793 non-null object\n",
      "locality         15793 non-null object\n",
      "rating           15789 non-null object\n",
      "votes            15793 non-null object\n",
      "cost             11910 non-null float64\n",
      "dtypes: float64(1), int64(1), object(7)\n",
      "memory usage: 1.2+ MB\n"
     ]
    }
   ],
   "source": [
    "df_df.info()"
   ]
  },
  {
   "cell_type": "code",
   "execution_count": 192,
   "metadata": {},
   "outputs": [],
   "source": [
    "df_df = df_df.astype({'rating':'float'})"
   ]
  },
  {
   "cell_type": "code",
   "execution_count": 193,
   "metadata": {},
   "outputs": [],
   "source": [
    "df_df.rating.fillna(df_df.rating.mode()[0],inplace=True)"
   ]
  },
  {
   "cell_type": "code",
   "execution_count": 194,
   "metadata": {},
   "outputs": [
    {
     "data": {
      "text/plain": [
       "0"
      ]
     },
     "execution_count": 194,
     "metadata": {},
     "output_type": "execute_result"
    }
   ],
   "source": [
    "df_df.rating.isna().sum()"
   ]
  },
  {
   "cell_type": "code",
   "execution_count": 195,
   "metadata": {},
   "outputs": [],
   "source": [
    "df_df = df_df.astype({'votes':'int'})"
   ]
  },
  {
   "cell_type": "code",
   "execution_count": 196,
   "metadata": {},
   "outputs": [],
   "source": [
    "df_df.drop(['locality','restaurant_id','time'],axis=1,inplace=True)"
   ]
  },
  {
   "cell_type": "code",
   "execution_count": 197,
   "metadata": {},
   "outputs": [
    {
     "name": "stdout",
     "output_type": "stream",
     "text": [
      "<class 'pandas.core.frame.DataFrame'>\n",
      "Int64Index: 15793 entries, 1 to 4230\n",
      "Data columns (total 6 columns):\n",
      "title       15793 non-null object\n",
      "cuisines    15793 non-null object\n",
      "city        15793 non-null object\n",
      "rating      15793 non-null float64\n",
      "votes       15793 non-null int64\n",
      "cost        11910 non-null float64\n",
      "dtypes: float64(2), int64(1), object(3)\n",
      "memory usage: 863.7+ KB\n"
     ]
    }
   ],
   "source": [
    "df_df.info()"
   ]
  },
  {
   "cell_type": "code",
   "execution_count": 198,
   "metadata": {},
   "outputs": [
    {
     "data": {
      "text/html": [
       "<div>\n",
       "<style scoped>\n",
       "    .dataframe tbody tr th:only-of-type {\n",
       "        vertical-align: middle;\n",
       "    }\n",
       "\n",
       "    .dataframe tbody tr th {\n",
       "        vertical-align: top;\n",
       "    }\n",
       "\n",
       "    .dataframe thead th {\n",
       "        text-align: right;\n",
       "    }\n",
       "</style>\n",
       "<table border=\"1\" class=\"dataframe\">\n",
       "  <thead>\n",
       "    <tr style=\"text-align: right;\">\n",
       "      <th></th>\n",
       "      <th>title</th>\n",
       "      <th>cuisines</th>\n",
       "      <th>city</th>\n",
       "      <th>rating</th>\n",
       "      <th>votes</th>\n",
       "      <th>cost</th>\n",
       "    </tr>\n",
       "  </thead>\n",
       "  <tbody>\n",
       "    <tr>\n",
       "      <th>1</th>\n",
       "      <td>CASUAL DINING,BAR</td>\n",
       "      <td>Asian, Modern Indian, Japanese</td>\n",
       "      <td>Chennai</td>\n",
       "      <td>4.2</td>\n",
       "      <td>30</td>\n",
       "      <td>1500.0</td>\n",
       "    </tr>\n",
       "    <tr>\n",
       "      <th>2</th>\n",
       "      <td>CASUAL DINING</td>\n",
       "      <td>North Indian, Chinese, Biryani, Hyderabadi</td>\n",
       "      <td>Chennai</td>\n",
       "      <td>3.8</td>\n",
       "      <td>221</td>\n",
       "      <td>800.0</td>\n",
       "    </tr>\n",
       "    <tr>\n",
       "      <th>3</th>\n",
       "      <td>QUICK BITES</td>\n",
       "      <td>Tibetan, Chinese</td>\n",
       "      <td>Mumbai</td>\n",
       "      <td>4.1</td>\n",
       "      <td>24</td>\n",
       "      <td>800.0</td>\n",
       "    </tr>\n",
       "    <tr>\n",
       "      <th>4</th>\n",
       "      <td>DESSERT PARLOR</td>\n",
       "      <td>Desserts</td>\n",
       "      <td>Mumbai</td>\n",
       "      <td>3.8</td>\n",
       "      <td>165</td>\n",
       "      <td>300.0</td>\n",
       "    </tr>\n",
       "    <tr>\n",
       "      <th>5</th>\n",
       "      <td>CASUAL DINING</td>\n",
       "      <td>North Indian, Chinese, Seafood, Biryani</td>\n",
       "      <td>Mumbai</td>\n",
       "      <td>4.0</td>\n",
       "      <td>550</td>\n",
       "      <td>800.0</td>\n",
       "    </tr>\n",
       "  </tbody>\n",
       "</table>\n",
       "</div>"
      ],
      "text/plain": [
       "               title                                    cuisines     city  \\\n",
       "1  CASUAL DINING,BAR              Asian, Modern Indian, Japanese  Chennai   \n",
       "2      CASUAL DINING  North Indian, Chinese, Biryani, Hyderabadi  Chennai   \n",
       "3        QUICK BITES                            Tibetan, Chinese   Mumbai   \n",
       "4     DESSERT PARLOR                                    Desserts   Mumbai   \n",
       "5      CASUAL DINING     North Indian, Chinese, Seafood, Biryani   Mumbai   \n",
       "\n",
       "   rating  votes    cost  \n",
       "1     4.2     30  1500.0  \n",
       "2     3.8    221   800.0  \n",
       "3     4.1     24   800.0  \n",
       "4     3.8    165   300.0  \n",
       "5     4.0    550   800.0  "
      ]
     },
     "execution_count": 198,
     "metadata": {},
     "output_type": "execute_result"
    }
   ],
   "source": [
    "df_df.head()"
   ]
  },
  {
   "cell_type": "code",
   "execution_count": null,
   "metadata": {},
   "outputs": [],
   "source": []
  },
  {
   "cell_type": "code",
   "execution_count": null,
   "metadata": {},
   "outputs": [],
   "source": []
  },
  {
   "cell_type": "code",
   "execution_count": 199,
   "metadata": {},
   "outputs": [],
   "source": [
    "dfdf = df_df"
   ]
  },
  {
   "cell_type": "code",
   "execution_count": 200,
   "metadata": {},
   "outputs": [
    {
     "data": {
      "text/html": [
       "<div>\n",
       "<style scoped>\n",
       "    .dataframe tbody tr th:only-of-type {\n",
       "        vertical-align: middle;\n",
       "    }\n",
       "\n",
       "    .dataframe tbody tr th {\n",
       "        vertical-align: top;\n",
       "    }\n",
       "\n",
       "    .dataframe thead th {\n",
       "        text-align: right;\n",
       "    }\n",
       "</style>\n",
       "<table border=\"1\" class=\"dataframe\">\n",
       "  <thead>\n",
       "    <tr style=\"text-align: right;\">\n",
       "      <th></th>\n",
       "      <th>title</th>\n",
       "      <th>cuisines</th>\n",
       "      <th>city</th>\n",
       "      <th>rating</th>\n",
       "      <th>votes</th>\n",
       "      <th>cost</th>\n",
       "    </tr>\n",
       "  </thead>\n",
       "  <tbody>\n",
       "    <tr>\n",
       "      <th>1</th>\n",
       "      <td>CASUAL DINING,BAR</td>\n",
       "      <td>Asian, Modern Indian, Japanese</td>\n",
       "      <td>Chennai</td>\n",
       "      <td>4.2</td>\n",
       "      <td>30</td>\n",
       "      <td>1500.0</td>\n",
       "    </tr>\n",
       "    <tr>\n",
       "      <th>2</th>\n",
       "      <td>CASUAL DINING</td>\n",
       "      <td>North Indian, Chinese, Biryani, Hyderabadi</td>\n",
       "      <td>Chennai</td>\n",
       "      <td>3.8</td>\n",
       "      <td>221</td>\n",
       "      <td>800.0</td>\n",
       "    </tr>\n",
       "    <tr>\n",
       "      <th>3</th>\n",
       "      <td>QUICK BITES</td>\n",
       "      <td>Tibetan, Chinese</td>\n",
       "      <td>Mumbai</td>\n",
       "      <td>4.1</td>\n",
       "      <td>24</td>\n",
       "      <td>800.0</td>\n",
       "    </tr>\n",
       "    <tr>\n",
       "      <th>4</th>\n",
       "      <td>DESSERT PARLOR</td>\n",
       "      <td>Desserts</td>\n",
       "      <td>Mumbai</td>\n",
       "      <td>3.8</td>\n",
       "      <td>165</td>\n",
       "      <td>300.0</td>\n",
       "    </tr>\n",
       "    <tr>\n",
       "      <th>5</th>\n",
       "      <td>CASUAL DINING</td>\n",
       "      <td>North Indian, Chinese, Seafood, Biryani</td>\n",
       "      <td>Mumbai</td>\n",
       "      <td>4.0</td>\n",
       "      <td>550</td>\n",
       "      <td>800.0</td>\n",
       "    </tr>\n",
       "  </tbody>\n",
       "</table>\n",
       "</div>"
      ],
      "text/plain": [
       "               title                                    cuisines     city  \\\n",
       "1  CASUAL DINING,BAR              Asian, Modern Indian, Japanese  Chennai   \n",
       "2      CASUAL DINING  North Indian, Chinese, Biryani, Hyderabadi  Chennai   \n",
       "3        QUICK BITES                            Tibetan, Chinese   Mumbai   \n",
       "4     DESSERT PARLOR                                    Desserts   Mumbai   \n",
       "5      CASUAL DINING     North Indian, Chinese, Seafood, Biryani   Mumbai   \n",
       "\n",
       "   rating  votes    cost  \n",
       "1     4.2     30  1500.0  \n",
       "2     3.8    221   800.0  \n",
       "3     4.1     24   800.0  \n",
       "4     3.8    165   300.0  \n",
       "5     4.0    550   800.0  "
      ]
     },
     "execution_count": 200,
     "metadata": {},
     "output_type": "execute_result"
    }
   ],
   "source": [
    "dfdf.head()"
   ]
  },
  {
   "cell_type": "code",
   "execution_count": null,
   "metadata": {},
   "outputs": [],
   "source": []
  },
  {
   "cell_type": "code",
   "execution_count": 201,
   "metadata": {},
   "outputs": [],
   "source": [
    "title_counter_val = Counter([a for data in dfdf.title.str.split(',').tolist() for a in data])"
   ]
  },
  {
   "cell_type": "code",
   "execution_count": 202,
   "metadata": {},
   "outputs": [
    {
     "data": {
      "text/plain": [
       "Counter({'CASUAL DINING': 5514,\n",
       "         'BAR': 855,\n",
       "         'QUICK BITES': 5758,\n",
       "         'DESSERT PARLOR': 742,\n",
       "         'CAFÉ': 1081,\n",
       "         'MICROBREWERY': 95,\n",
       "         'BEVERAGE SHOP': 306,\n",
       "         'IRANI CAFE': 5,\n",
       "         'BAKERY': 665,\n",
       "         'None': 1123,\n",
       "         'PUB': 179,\n",
       "         'FINE DINING': 447,\n",
       "         'SWEET SHOP': 208,\n",
       "         'LOUNGE': 245,\n",
       "         'FOOD COURT': 138,\n",
       "         'MESS': 65,\n",
       "         'KIOSK': 73,\n",
       "         'CLUB': 38,\n",
       "         'CONFECTIONERY': 6,\n",
       "         'DHABA': 51,\n",
       "         'MEAT SHOP': 3,\n",
       "         'COCKTAIL BAR': 7,\n",
       "         'FOOD TRUCK': 34,\n",
       "         'PAAN SHOP': 5,\n",
       "         'BHOJANALYA': 1})"
      ]
     },
     "execution_count": 202,
     "metadata": {},
     "output_type": "execute_result"
    }
   ],
   "source": [
    "title_counter_val"
   ]
  },
  {
   "cell_type": "code",
   "execution_count": 203,
   "metadata": {},
   "outputs": [],
   "source": [
    "for key,value in title_counter_val.items():\n",
    "    dfdf.loc[(dfdf['title'].str.contains(key)),'title'] = key"
   ]
  },
  {
   "cell_type": "code",
   "execution_count": 204,
   "metadata": {},
   "outputs": [
    {
     "data": {
      "text/plain": [
       "array(['CASUAL DINING', 'QUICK BITES', 'DESSERT PARLOR', 'CAFÉ',\n",
       "       'MICROBREWERY', 'None', 'BAR', 'PUB', 'BEVERAGE SHOP',\n",
       "       'FINE DINING', 'BAKERY', 'FOOD COURT', 'LOUNGE', 'SWEET SHOP',\n",
       "       'MESS', 'KIOSK', 'CLUB', 'DHABA', 'MEAT SHOP', 'CONFECTIONERY',\n",
       "       'FOOD TRUCK', 'PAAN SHOP', 'IRANI CAFE', 'BHOJANALYA'],\n",
       "      dtype=object)"
      ]
     },
     "execution_count": 204,
     "metadata": {},
     "output_type": "execute_result"
    }
   ],
   "source": [
    "dfdf.title.unique()"
   ]
  },
  {
   "cell_type": "code",
   "execution_count": 205,
   "metadata": {},
   "outputs": [
    {
     "data": {
      "text/plain": [
       "QUICK BITES       5752\n",
       "CASUAL DINING     5514\n",
       "None              1123\n",
       "CAFÉ               860\n",
       "DESSERT PARLOR     655\n",
       "FINE DINING        400\n",
       "BAKERY             369\n",
       "BAR                254\n",
       "BEVERAGE SHOP      202\n",
       "LOUNGE             129\n",
       "FOOD COURT         106\n",
       "PUB                 73\n",
       "KIOSK               66\n",
       "MESS                65\n",
       "SWEET SHOP          62\n",
       "DHABA               51\n",
       "MICROBREWERY        45\n",
       "FOOD TRUCK          32\n",
       "CLUB                25\n",
       "PAAN SHOP            4\n",
       "CONFECTIONERY        3\n",
       "IRANI CAFE           1\n",
       "BHOJANALYA           1\n",
       "MEAT SHOP            1\n",
       "Name: title, dtype: int64"
      ]
     },
     "execution_count": 205,
     "metadata": {},
     "output_type": "execute_result"
    }
   ],
   "source": [
    "dfdf.title.value_counts()"
   ]
  },
  {
   "cell_type": "code",
   "execution_count": null,
   "metadata": {},
   "outputs": [],
   "source": []
  },
  {
   "cell_type": "code",
   "execution_count": null,
   "metadata": {},
   "outputs": [],
   "source": []
  },
  {
   "cell_type": "code",
   "execution_count": 206,
   "metadata": {},
   "outputs": [],
   "source": [
    "dfdf.loc[(dfdf['title'] == 'None'),'title'] = 'FOOD SHOP'"
   ]
  },
  {
   "cell_type": "code",
   "execution_count": null,
   "metadata": {},
   "outputs": [],
   "source": []
  },
  {
   "cell_type": "code",
   "execution_count": 207,
   "metadata": {},
   "outputs": [],
   "source": [
    "dfdf['title'].replace({'SWEET SHOP':'BAKERY','CONFECTIONERY':'BAKERY','IRANI CAFE':'CAFÉ','BEVERAGE SHOP':'BAR','PUB':'BAR','CLUB':'BAR','MICROBREWERY':'BAR'},inplace=True)"
   ]
  },
  {
   "cell_type": "code",
   "execution_count": 228,
   "metadata": {},
   "outputs": [
    {
     "data": {
      "text/plain": [
       "QUICK BITES       5752\n",
       "CASUAL DINING     5514\n",
       "FOOD SHOP         1123\n",
       "CAFÉ               861\n",
       "DESSERT PARLOR     655\n",
       "BAR                599\n",
       "BAKERY             434\n",
       "FINE DINING        400\n",
       "LOUNGE             129\n",
       "FOOD COURT         106\n",
       "KIOSK               66\n",
       "MESS                65\n",
       "DHABA               51\n",
       "FOOD TRUCK          32\n",
       "PAAN SHOP            4\n",
       "BHOJANALYA           1\n",
       "MEAT SHOP            1\n",
       "Name: title, dtype: int64"
      ]
     },
     "execution_count": 228,
     "metadata": {},
     "output_type": "execute_result"
    }
   ],
   "source": [
    "dfdf.title.value_counts()"
   ]
  },
  {
   "cell_type": "code",
   "execution_count": null,
   "metadata": {},
   "outputs": [],
   "source": []
  },
  {
   "cell_type": "code",
   "execution_count": 208,
   "metadata": {},
   "outputs": [
    {
     "data": {
      "text/plain": [
       "North Indian, Chinese                                      671\n",
       "North Indian                                               670\n",
       "South Indian                                               661\n",
       "Fast Food                                                  335\n",
       "Chinese                                                    204\n",
       "                                                          ... \n",
       "Cafe, Desserts, American                                     1\n",
       "South Indian, North Indian, Chinese, Biryani, Beverages      1\n",
       "North Indian, Kerala, Chinese, Continental                   1\n",
       "Cafe, Italian, European, Asian                               1\n",
       "Bakery, Fast Food, Beverages, Desserts                       1\n",
       "Name: cuisines, Length: 4866, dtype: int64"
      ]
     },
     "execution_count": 208,
     "metadata": {},
     "output_type": "execute_result"
    }
   ],
   "source": [
    "dfdf.cuisines.value_counts()"
   ]
  },
  {
   "cell_type": "code",
   "execution_count": 219,
   "metadata": {},
   "outputs": [],
   "source": [
    "dfdf['cuisines'] = dfdf.cuisines.str.lstrip()"
   ]
  },
  {
   "cell_type": "code",
   "execution_count": 222,
   "metadata": {},
   "outputs": [],
   "source": [
    "cuisines_counter_val = Counter([a.strip() for data in dfdf.cuisines.str.split(',').tolist() for a in data])"
   ]
  },
  {
   "cell_type": "code",
   "execution_count": 223,
   "metadata": {},
   "outputs": [
    {
     "data": {
      "text/plain": [
       "Counter({'Asian': 563,\n",
       "         'Modern Indian': 80,\n",
       "         'Japanese': 178,\n",
       "         'North Indian': 6762,\n",
       "         'Chinese': 5465,\n",
       "         'Biryani': 1578,\n",
       "         'Hyderabadi': 172,\n",
       "         'Tibetan': 61,\n",
       "         'Desserts': 1403,\n",
       "         'Seafood': 720,\n",
       "         'Cafe': 1062,\n",
       "         'Pizza': 639,\n",
       "         'Burger': 441,\n",
       "         'Bar Food': 42,\n",
       "         'South Indian': 2861,\n",
       "         'Fast Food': 2664,\n",
       "         'Beverages': 1193,\n",
       "         'Arabian': 490,\n",
       "         'Mughlai': 953,\n",
       "         'Parsi': 27,\n",
       "         'Thai': 392,\n",
       "         'Bakery': 824,\n",
       "         'Momos': 451,\n",
       "         'Continental': 1943,\n",
       "         'European': 311,\n",
       "         'Rolls': 315,\n",
       "         'Andhra': 311,\n",
       "         'Italian': 1428,\n",
       "         'BBQ': 199,\n",
       "         'Finger Food': 358,\n",
       "         'Tea': 76,\n",
       "         'American': 363,\n",
       "         'Healthy Food': 259,\n",
       "         'Coffee': 56,\n",
       "         'Indonesian': 22,\n",
       "         'Korean': 44,\n",
       "         'Nepalese': 16,\n",
       "         'Ice Cream': 433,\n",
       "         'Mexican': 309,\n",
       "         'Indian': 48,\n",
       "         'Mithai': 246,\n",
       "         'Street Food': 833,\n",
       "         'Kerala': 680,\n",
       "         'Malaysian': 47,\n",
       "         'Vietnamese': 38,\n",
       "         'Iranian': 15,\n",
       "         'Kebab': 269,\n",
       "         'Juices': 304,\n",
       "         'Sandwich': 287,\n",
       "         'Malwani': 60,\n",
       "         'Maharashtrian': 75,\n",
       "         'Mediterranean': 191,\n",
       "         'Salad': 319,\n",
       "         'Gujarati': 47,\n",
       "         'Rajasthani': 53,\n",
       "         'Tex-Mex': 23,\n",
       "         'Roast Chicken': 6,\n",
       "         'Burmese': 32,\n",
       "         'Chettinad': 155,\n",
       "         'North Eastern': 19,\n",
       "         'Lebanese': 187,\n",
       "         '': 126,\n",
       "         'Bihari': 14,\n",
       "         'Bengali': 103,\n",
       "         'Goan': 35,\n",
       "         'Lucknowi': 23,\n",
       "         'Awadhi': 19,\n",
       "         'Steak': 53,\n",
       "         'French': 33,\n",
       "         'Portuguese': 8,\n",
       "         'Wraps': 32,\n",
       "         'Sri Lankan': 11,\n",
       "         'Oriya': 21,\n",
       "         'Ethiopian': 1,\n",
       "         'Konkan': 23,\n",
       "         'Sushi': 69,\n",
       "         'Spanish': 22,\n",
       "         'Russian': 2,\n",
       "         'Mangalorean': 73,\n",
       "         'Turkish': 24,\n",
       "         'Bubble Tea': 11,\n",
       "         'Afghan': 27,\n",
       "         'Naga': 8,\n",
       "         'Grill': 15,\n",
       "         'Singaporean': 15,\n",
       "         'German': 5,\n",
       "         'Middle Eastern': 32,\n",
       "         'Sindhi': 5,\n",
       "         'Cantonese': 4,\n",
       "         'Hot Pot': 1,\n",
       "         'Pan Asian': 2,\n",
       "         'Satay': 1,\n",
       "         'Dumplings': 1,\n",
       "         'Kashmiri': 10,\n",
       "         'Raw Meats': 3,\n",
       "         'Drinks Only': 7,\n",
       "         'Moroccan': 4,\n",
       "         'Panini': 4,\n",
       "         'Cafe Food': 6,\n",
       "         'Charcoal Chicken': 9,\n",
       "         'Belgian': 2,\n",
       "         'Tamil': 5,\n",
       "         'African': 3,\n",
       "         'Assamese': 3,\n",
       "         'Hot dogs': 1,\n",
       "         'Paan': 5,\n",
       "         'Poké': 4,\n",
       "         'British': 8,\n",
       "         'Bohri': 3,\n",
       "         'Fusion': 2,\n",
       "         'Armenian': 1,\n",
       "         'South American': 5,\n",
       "         'Greek': 7,\n",
       "         'Pakistani': 4,\n",
       "         'Peruvian': 2,\n",
       "         'Cuisine Varies': 2,\n",
       "         'Irish': 1,\n",
       "         'Multi Cuisine': 1,\n",
       "         'Coffee and Tea': 1,\n",
       "         'Mongolian': 2,\n",
       "         'Jewish': 1,\n",
       "         'Vegan': 2,\n",
       "         'Oriental': 2,\n",
       "         'Modern Australian': 1,\n",
       "         'Egyptian': 2,\n",
       "         'Fish and Chips': 1,\n",
       "         'Brazilian': 1,\n",
       "         'Mishti': 1,\n",
       "         'Falafel': 1})"
      ]
     },
     "execution_count": 223,
     "metadata": {},
     "output_type": "execute_result"
    }
   ],
   "source": [
    "cuisines_counter_val"
   ]
  },
  {
   "cell_type": "code",
   "execution_count": 211,
   "metadata": {},
   "outputs": [],
   "source": [
    "dfdff = dfdf.cuisines.replace({' ':''})"
   ]
  },
  {
   "cell_type": "code",
   "execution_count": 225,
   "metadata": {},
   "outputs": [
    {
     "data": {
      "text/plain": [
       "array(['Asian, Modern Indian, Japanese',\n",
       "       'North Indian, Chinese, Biryani, Hyderabadi', 'Tibetan, Chinese',\n",
       "       ..., 'European, Mediterranean, Italian, Sushi',\n",
       "       'North Indian, Chinese, Kebab, Juices', 'Sindhi, Street Food'],\n",
       "      dtype=object)"
      ]
     },
     "execution_count": 225,
     "metadata": {},
     "output_type": "execute_result"
    }
   ],
   "source": [
    "dfdff.unique()"
   ]
  },
  {
   "cell_type": "code",
   "execution_count": null,
   "metadata": {},
   "outputs": [],
   "source": []
  },
  {
   "cell_type": "code",
   "execution_count": 229,
   "metadata": {},
   "outputs": [],
   "source": [
    "df_df['title'] = dfdf['title']"
   ]
  },
  {
   "cell_type": "code",
   "execution_count": null,
   "metadata": {},
   "outputs": [],
   "source": []
  },
  {
   "cell_type": "code",
   "execution_count": 230,
   "metadata": {},
   "outputs": [
    {
     "data": {
      "text/plain": [
       "array(['CASUAL DINING', 'QUICK BITES', 'DESSERT PARLOR', 'CAFÉ', 'BAR',\n",
       "       'FOOD SHOP', 'FINE DINING', 'BAKERY', 'FOOD COURT', 'LOUNGE',\n",
       "       'MESS', 'KIOSK', 'DHABA', 'MEAT SHOP', 'FOOD TRUCK', 'PAAN SHOP',\n",
       "       'BHOJANALYA'], dtype=object)"
      ]
     },
     "execution_count": 230,
     "metadata": {},
     "output_type": "execute_result"
    }
   ],
   "source": [
    "df_df.title.unique()"
   ]
  },
  {
   "cell_type": "code",
   "execution_count": 231,
   "metadata": {},
   "outputs": [
    {
     "name": "stdout",
     "output_type": "stream",
     "text": [
      "<class 'pandas.core.frame.DataFrame'>\n",
      "Int64Index: 15793 entries, 1 to 4230\n",
      "Data columns (total 6 columns):\n",
      "title       15793 non-null object\n",
      "cuisines    15793 non-null object\n",
      "city        15793 non-null object\n",
      "rating      15793 non-null float64\n",
      "votes       15793 non-null int64\n",
      "cost        11910 non-null float64\n",
      "dtypes: float64(2), int64(1), object(3)\n",
      "memory usage: 863.7+ KB\n"
     ]
    }
   ],
   "source": [
    "df_df.info()"
   ]
  },
  {
   "cell_type": "code",
   "execution_count": 232,
   "metadata": {},
   "outputs": [
    {
     "data": {
      "text/plain": [
       "array(['Chennai', 'Mumbai', 'Bangalore', 'Gurgaon', 'Hyderabad', 'Kochi',\n",
       "       'Delhi', 'Noida', 'Secunderabad', 'Faridabad', 'Telangana',\n",
       "       'Ghaziabad', 'Ernakulam'], dtype=object)"
      ]
     },
     "execution_count": 232,
     "metadata": {},
     "output_type": "execute_result"
    }
   ],
   "source": [
    "df_df.city.unique()"
   ]
  },
  {
   "cell_type": "code",
   "execution_count": null,
   "metadata": {},
   "outputs": [],
   "source": []
  },
  {
   "cell_type": "code",
   "execution_count": null,
   "metadata": {},
   "outputs": [],
   "source": []
  },
  {
   "cell_type": "code",
   "execution_count": 233,
   "metadata": {},
   "outputs": [],
   "source": [
    "title_num_col = df_df.title.str.get_dummies(sep=',')"
   ]
  },
  {
   "cell_type": "code",
   "execution_count": 235,
   "metadata": {},
   "outputs": [],
   "source": [
    "cuisines_num_col = df_df.cuisines.str.get_dummies(sep=',')"
   ]
  },
  {
   "cell_type": "code",
   "execution_count": 238,
   "metadata": {},
   "outputs": [],
   "source": [
    "city_num_col = df_df.city.str.get_dummies()"
   ]
  },
  {
   "cell_type": "code",
   "execution_count": null,
   "metadata": {},
   "outputs": [],
   "source": []
  },
  {
   "cell_type": "code",
   "execution_count": 239,
   "metadata": {},
   "outputs": [
    {
     "data": {
      "text/html": [
       "<div>\n",
       "<style scoped>\n",
       "    .dataframe tbody tr th:only-of-type {\n",
       "        vertical-align: middle;\n",
       "    }\n",
       "\n",
       "    .dataframe tbody tr th {\n",
       "        vertical-align: top;\n",
       "    }\n",
       "\n",
       "    .dataframe thead th {\n",
       "        text-align: right;\n",
       "    }\n",
       "</style>\n",
       "<table border=\"1\" class=\"dataframe\">\n",
       "  <thead>\n",
       "    <tr style=\"text-align: right;\">\n",
       "      <th></th>\n",
       "      <th>title</th>\n",
       "      <th>cuisines</th>\n",
       "      <th>city</th>\n",
       "      <th>rating</th>\n",
       "      <th>votes</th>\n",
       "      <th>cost</th>\n",
       "    </tr>\n",
       "  </thead>\n",
       "  <tbody>\n",
       "    <tr>\n",
       "      <th>1</th>\n",
       "      <td>CASUAL DINING</td>\n",
       "      <td>Asian, Modern Indian, Japanese</td>\n",
       "      <td>Chennai</td>\n",
       "      <td>4.2</td>\n",
       "      <td>30</td>\n",
       "      <td>1500.0</td>\n",
       "    </tr>\n",
       "    <tr>\n",
       "      <th>2</th>\n",
       "      <td>CASUAL DINING</td>\n",
       "      <td>North Indian, Chinese, Biryani, Hyderabadi</td>\n",
       "      <td>Chennai</td>\n",
       "      <td>3.8</td>\n",
       "      <td>221</td>\n",
       "      <td>800.0</td>\n",
       "    </tr>\n",
       "    <tr>\n",
       "      <th>3</th>\n",
       "      <td>QUICK BITES</td>\n",
       "      <td>Tibetan, Chinese</td>\n",
       "      <td>Mumbai</td>\n",
       "      <td>4.1</td>\n",
       "      <td>24</td>\n",
       "      <td>800.0</td>\n",
       "    </tr>\n",
       "    <tr>\n",
       "      <th>4</th>\n",
       "      <td>DESSERT PARLOR</td>\n",
       "      <td>Desserts</td>\n",
       "      <td>Mumbai</td>\n",
       "      <td>3.8</td>\n",
       "      <td>165</td>\n",
       "      <td>300.0</td>\n",
       "    </tr>\n",
       "    <tr>\n",
       "      <th>5</th>\n",
       "      <td>CASUAL DINING</td>\n",
       "      <td>North Indian, Chinese, Seafood, Biryani</td>\n",
       "      <td>Mumbai</td>\n",
       "      <td>4.0</td>\n",
       "      <td>550</td>\n",
       "      <td>800.0</td>\n",
       "    </tr>\n",
       "  </tbody>\n",
       "</table>\n",
       "</div>"
      ],
      "text/plain": [
       "            title                                    cuisines     city  \\\n",
       "1   CASUAL DINING              Asian, Modern Indian, Japanese  Chennai   \n",
       "2   CASUAL DINING  North Indian, Chinese, Biryani, Hyderabadi  Chennai   \n",
       "3     QUICK BITES                            Tibetan, Chinese   Mumbai   \n",
       "4  DESSERT PARLOR                                    Desserts   Mumbai   \n",
       "5   CASUAL DINING     North Indian, Chinese, Seafood, Biryani   Mumbai   \n",
       "\n",
       "   rating  votes    cost  \n",
       "1     4.2     30  1500.0  \n",
       "2     3.8    221   800.0  \n",
       "3     4.1     24   800.0  \n",
       "4     3.8    165   300.0  \n",
       "5     4.0    550   800.0  "
      ]
     },
     "execution_count": 239,
     "metadata": {},
     "output_type": "execute_result"
    }
   ],
   "source": [
    "df_df.head()"
   ]
  },
  {
   "cell_type": "code",
   "execution_count": null,
   "metadata": {},
   "outputs": [],
   "source": [
    "df_dff = df_df"
   ]
  },
  {
   "cell_type": "code",
   "execution_count": null,
   "metadata": {},
   "outputs": [],
   "source": []
  },
  {
   "cell_type": "code",
   "execution_count": null,
   "metadata": {},
   "outputs": [],
   "source": [
    "df_dff.loc[(df_dff['title'] == 'None'),'title'] = 'HOTEL'"
   ]
  },
  {
   "cell_type": "code",
   "execution_count": null,
   "metadata": {},
   "outputs": [],
   "source": [
    "df_dff.loc[df_dff['title'] == 'None']"
   ]
  },
  {
   "cell_type": "code",
   "execution_count": null,
   "metadata": {},
   "outputs": [],
   "source": []
  },
  {
   "cell_type": "code",
   "execution_count": null,
   "metadata": {},
   "outputs": [],
   "source": []
  },
  {
   "cell_type": "code",
   "execution_count": null,
   "metadata": {},
   "outputs": [],
   "source": []
  },
  {
   "cell_type": "code",
   "execution_count": null,
   "metadata": {},
   "outputs": [],
   "source": []
  },
  {
   "cell_type": "code",
   "execution_count": null,
   "metadata": {},
   "outputs": [],
   "source": []
  },
  {
   "cell_type": "code",
   "execution_count": null,
   "metadata": {},
   "outputs": [],
   "source": []
  },
  {
   "cell_type": "code",
   "execution_count": null,
   "metadata": {},
   "outputs": [],
   "source": []
  },
  {
   "cell_type": "code",
   "execution_count": null,
   "metadata": {},
   "outputs": [],
   "source": []
  },
  {
   "cell_type": "code",
   "execution_count": 130,
   "metadata": {},
   "outputs": [
    {
     "data": {
      "text/plain": [
       "(15793, 6)"
      ]
     },
     "execution_count": 130,
     "metadata": {},
     "output_type": "execute_result"
    }
   ],
   "source": [
    "df_df.shape"
   ]
  },
  {
   "cell_type": "code",
   "execution_count": null,
   "metadata": {},
   "outputs": [],
   "source": []
  },
  {
   "cell_type": "code",
   "execution_count": 131,
   "metadata": {},
   "outputs": [],
   "source": [
    "df_df.drop('cuisines',axis=1,inplace=True)"
   ]
  },
  {
   "cell_type": "code",
   "execution_count": 132,
   "metadata": {},
   "outputs": [],
   "source": [
    "# df_df = pd.concat([df_df,dummies_col])"
   ]
  },
  {
   "cell_type": "code",
   "execution_count": 133,
   "metadata": {},
   "outputs": [],
   "source": [
    "df_num_col = df.select_dtypes(include = np.number)\n",
    "df_cat_col = df.select_dtypes(exclude = np.number)"
   ]
  },
  {
   "cell_type": "code",
   "execution_count": 134,
   "metadata": {},
   "outputs": [
    {
     "data": {
      "text/html": [
       "<div>\n",
       "<style scoped>\n",
       "    .dataframe tbody tr th:only-of-type {\n",
       "        vertical-align: middle;\n",
       "    }\n",
       "\n",
       "    .dataframe tbody tr th {\n",
       "        vertical-align: top;\n",
       "    }\n",
       "\n",
       "    .dataframe thead th {\n",
       "        text-align: right;\n",
       "    }\n",
       "</style>\n",
       "<table border=\"1\" class=\"dataframe\">\n",
       "  <thead>\n",
       "    <tr style=\"text-align: right;\">\n",
       "      <th></th>\n",
       "      <th>restaurant_id</th>\n",
       "      <th>cost</th>\n",
       "    </tr>\n",
       "  </thead>\n",
       "  <tbody>\n",
       "    <tr>\n",
       "      <th>0</th>\n",
       "      <td>9438</td>\n",
       "      <td>1200.0</td>\n",
       "    </tr>\n",
       "    <tr>\n",
       "      <th>1</th>\n",
       "      <td>13198</td>\n",
       "      <td>1500.0</td>\n",
       "    </tr>\n",
       "    <tr>\n",
       "      <th>2</th>\n",
       "      <td>10915</td>\n",
       "      <td>800.0</td>\n",
       "    </tr>\n",
       "    <tr>\n",
       "      <th>3</th>\n",
       "      <td>6346</td>\n",
       "      <td>800.0</td>\n",
       "    </tr>\n",
       "    <tr>\n",
       "      <th>4</th>\n",
       "      <td>15387</td>\n",
       "      <td>300.0</td>\n",
       "    </tr>\n",
       "  </tbody>\n",
       "</table>\n",
       "</div>"
      ],
      "text/plain": [
       "   restaurant_id    cost\n",
       "0           9438  1200.0\n",
       "1          13198  1500.0\n",
       "2          10915   800.0\n",
       "3           6346   800.0\n",
       "4          15387   300.0"
      ]
     },
     "execution_count": 134,
     "metadata": {},
     "output_type": "execute_result"
    }
   ],
   "source": [
    "df_num_col.head()"
   ]
  },
  {
   "cell_type": "code",
   "execution_count": 135,
   "metadata": {},
   "outputs": [
    {
     "data": {
      "text/html": [
       "<div>\n",
       "<style scoped>\n",
       "    .dataframe tbody tr th:only-of-type {\n",
       "        vertical-align: middle;\n",
       "    }\n",
       "\n",
       "    .dataframe tbody tr th {\n",
       "        vertical-align: top;\n",
       "    }\n",
       "\n",
       "    .dataframe thead th {\n",
       "        text-align: right;\n",
       "    }\n",
       "</style>\n",
       "<table border=\"1\" class=\"dataframe\">\n",
       "  <thead>\n",
       "    <tr style=\"text-align: right;\">\n",
       "      <th></th>\n",
       "      <th>title</th>\n",
       "      <th>cuisines</th>\n",
       "      <th>time</th>\n",
       "      <th>city</th>\n",
       "      <th>locality</th>\n",
       "      <th>rating</th>\n",
       "      <th>votes</th>\n",
       "    </tr>\n",
       "  </thead>\n",
       "  <tbody>\n",
       "    <tr>\n",
       "      <th>0</th>\n",
       "      <td>CASUAL DINING</td>\n",
       "      <td>Malwani, Goan, North Indian</td>\n",
       "      <td>11am – 4pm, 7:30pm – 11:30pm (Mon-Sun)</td>\n",
       "      <td>Thane</td>\n",
       "      <td>Dombivali East</td>\n",
       "      <td>3.6</td>\n",
       "      <td>49 votes</td>\n",
       "    </tr>\n",
       "    <tr>\n",
       "      <th>1</th>\n",
       "      <td>CASUAL DINING,BAR</td>\n",
       "      <td>Asian, Modern Indian, Japanese</td>\n",
       "      <td>6pm – 11pm (Mon-Sun)</td>\n",
       "      <td>Chennai</td>\n",
       "      <td>Ramapuram</td>\n",
       "      <td>4.2</td>\n",
       "      <td>30 votes</td>\n",
       "    </tr>\n",
       "    <tr>\n",
       "      <th>2</th>\n",
       "      <td>CASUAL DINING</td>\n",
       "      <td>North Indian, Chinese, Biryani, Hyderabadi</td>\n",
       "      <td>11am – 3:30pm, 7pm – 11pm (Mon-Sun)</td>\n",
       "      <td>Chennai</td>\n",
       "      <td>Saligramam</td>\n",
       "      <td>3.8</td>\n",
       "      <td>221 votes</td>\n",
       "    </tr>\n",
       "    <tr>\n",
       "      <th>3</th>\n",
       "      <td>QUICK BITES</td>\n",
       "      <td>Tibetan, Chinese</td>\n",
       "      <td>11:30am – 1am (Mon-Sun)</td>\n",
       "      <td>Mumbai</td>\n",
       "      <td>Bandra West</td>\n",
       "      <td>4.1</td>\n",
       "      <td>24 votes</td>\n",
       "    </tr>\n",
       "    <tr>\n",
       "      <th>4</th>\n",
       "      <td>DESSERT PARLOR</td>\n",
       "      <td>Desserts</td>\n",
       "      <td>11am – 1am (Mon-Sun)</td>\n",
       "      <td>Mumbai</td>\n",
       "      <td>Lower Parel</td>\n",
       "      <td>3.8</td>\n",
       "      <td>165 votes</td>\n",
       "    </tr>\n",
       "  </tbody>\n",
       "</table>\n",
       "</div>"
      ],
      "text/plain": [
       "               title                                    cuisines  \\\n",
       "0      CASUAL DINING                 Malwani, Goan, North Indian   \n",
       "1  CASUAL DINING,BAR              Asian, Modern Indian, Japanese   \n",
       "2      CASUAL DINING  North Indian, Chinese, Biryani, Hyderabadi   \n",
       "3        QUICK BITES                            Tibetan, Chinese   \n",
       "4     DESSERT PARLOR                                    Desserts   \n",
       "\n",
       "                                     time     city        locality rating  \\\n",
       "0  11am – 4pm, 7:30pm – 11:30pm (Mon-Sun)    Thane  Dombivali East    3.6   \n",
       "1                    6pm – 11pm (Mon-Sun)  Chennai       Ramapuram    4.2   \n",
       "2     11am – 3:30pm, 7pm – 11pm (Mon-Sun)  Chennai      Saligramam    3.8   \n",
       "3                 11:30am – 1am (Mon-Sun)   Mumbai     Bandra West    4.1   \n",
       "4                    11am – 1am (Mon-Sun)   Mumbai     Lower Parel    3.8   \n",
       "\n",
       "       votes  \n",
       "0   49 votes  \n",
       "1   30 votes  \n",
       "2  221 votes  \n",
       "3   24 votes  \n",
       "4  165 votes  "
      ]
     },
     "execution_count": 135,
     "metadata": {},
     "output_type": "execute_result"
    }
   ],
   "source": [
    "df_cat_col.head()"
   ]
  },
  {
   "cell_type": "code",
   "execution_count": 136,
   "metadata": {},
   "outputs": [
    {
     "data": {
      "text/plain": [
       "QUICK BITES             5627\n",
       "CASUAL DINING           4902\n",
       "None                    1188\n",
       "CAFÉ                     826\n",
       "DESSERT PARLOR           506\n",
       "                        ... \n",
       "DESSERT PARLOR,KIOSK       1\n",
       "LOUNGE,CAFÉ                1\n",
       "BAR,CLUB                   1\n",
       "MEAT SHOP                  1\n",
       "BHOJANALYA                 1\n",
       "Name: title, Length: 123, dtype: int64"
      ]
     },
     "execution_count": 136,
     "metadata": {},
     "output_type": "execute_result"
    }
   ],
   "source": [
    "df_cat_col.title.value_counts()"
   ]
  },
  {
   "cell_type": "code",
   "execution_count": 137,
   "metadata": {},
   "outputs": [],
   "source": [
    "df_cat_cuisines_num_col = df_cat_col['cuisines'].str.get_dummies(sep=\",\")"
   ]
  },
  {
   "cell_type": "code",
   "execution_count": 138,
   "metadata": {},
   "outputs": [],
   "source": [
    "df_cat_title_num_col = df_cat_col['title'].str.get_dummies(sep=\",\")"
   ]
  },
  {
   "cell_type": "code",
   "execution_count": 139,
   "metadata": {},
   "outputs": [
    {
     "data": {
      "text/html": [
       "<div>\n",
       "<style scoped>\n",
       "    .dataframe tbody tr th:only-of-type {\n",
       "        vertical-align: middle;\n",
       "    }\n",
       "\n",
       "    .dataframe tbody tr th {\n",
       "        vertical-align: top;\n",
       "    }\n",
       "\n",
       "    .dataframe thead th {\n",
       "        text-align: right;\n",
       "    }\n",
       "</style>\n",
       "<table border=\"1\" class=\"dataframe\">\n",
       "  <thead>\n",
       "    <tr style=\"text-align: right;\">\n",
       "      <th></th>\n",
       "      <th></th>\n",
       "      <th>Afghan</th>\n",
       "      <th>African</th>\n",
       "      <th>American</th>\n",
       "      <th>Andhra</th>\n",
       "      <th>Arabian</th>\n",
       "      <th>Asian</th>\n",
       "      <th>Assamese</th>\n",
       "      <th>Awadhi</th>\n",
       "      <th>BBQ</th>\n",
       "      <th>...</th>\n",
       "      <th>Street Food</th>\n",
       "      <th>Sushi</th>\n",
       "      <th>Tamil</th>\n",
       "      <th>Tea</th>\n",
       "      <th>Tex-Mex</th>\n",
       "      <th>Thai</th>\n",
       "      <th>Tibetan</th>\n",
       "      <th>Turkish</th>\n",
       "      <th>Vietnamese</th>\n",
       "      <th>Wraps</th>\n",
       "    </tr>\n",
       "  </thead>\n",
       "  <tbody>\n",
       "    <tr>\n",
       "      <th>0</th>\n",
       "      <td>0</td>\n",
       "      <td>0</td>\n",
       "      <td>0</td>\n",
       "      <td>0</td>\n",
       "      <td>0</td>\n",
       "      <td>0</td>\n",
       "      <td>0</td>\n",
       "      <td>0</td>\n",
       "      <td>0</td>\n",
       "      <td>0</td>\n",
       "      <td>...</td>\n",
       "      <td>0</td>\n",
       "      <td>0</td>\n",
       "      <td>0</td>\n",
       "      <td>0</td>\n",
       "      <td>0</td>\n",
       "      <td>0</td>\n",
       "      <td>0</td>\n",
       "      <td>0</td>\n",
       "      <td>0</td>\n",
       "      <td>0</td>\n",
       "    </tr>\n",
       "    <tr>\n",
       "      <th>1</th>\n",
       "      <td>0</td>\n",
       "      <td>0</td>\n",
       "      <td>0</td>\n",
       "      <td>0</td>\n",
       "      <td>0</td>\n",
       "      <td>0</td>\n",
       "      <td>0</td>\n",
       "      <td>0</td>\n",
       "      <td>0</td>\n",
       "      <td>0</td>\n",
       "      <td>...</td>\n",
       "      <td>0</td>\n",
       "      <td>0</td>\n",
       "      <td>0</td>\n",
       "      <td>0</td>\n",
       "      <td>0</td>\n",
       "      <td>0</td>\n",
       "      <td>0</td>\n",
       "      <td>0</td>\n",
       "      <td>0</td>\n",
       "      <td>0</td>\n",
       "    </tr>\n",
       "    <tr>\n",
       "      <th>2</th>\n",
       "      <td>0</td>\n",
       "      <td>0</td>\n",
       "      <td>0</td>\n",
       "      <td>0</td>\n",
       "      <td>0</td>\n",
       "      <td>0</td>\n",
       "      <td>0</td>\n",
       "      <td>0</td>\n",
       "      <td>0</td>\n",
       "      <td>0</td>\n",
       "      <td>...</td>\n",
       "      <td>0</td>\n",
       "      <td>0</td>\n",
       "      <td>0</td>\n",
       "      <td>0</td>\n",
       "      <td>0</td>\n",
       "      <td>0</td>\n",
       "      <td>0</td>\n",
       "      <td>0</td>\n",
       "      <td>0</td>\n",
       "      <td>0</td>\n",
       "    </tr>\n",
       "    <tr>\n",
       "      <th>3</th>\n",
       "      <td>0</td>\n",
       "      <td>0</td>\n",
       "      <td>0</td>\n",
       "      <td>0</td>\n",
       "      <td>0</td>\n",
       "      <td>0</td>\n",
       "      <td>0</td>\n",
       "      <td>0</td>\n",
       "      <td>0</td>\n",
       "      <td>0</td>\n",
       "      <td>...</td>\n",
       "      <td>0</td>\n",
       "      <td>0</td>\n",
       "      <td>0</td>\n",
       "      <td>0</td>\n",
       "      <td>0</td>\n",
       "      <td>0</td>\n",
       "      <td>1</td>\n",
       "      <td>0</td>\n",
       "      <td>0</td>\n",
       "      <td>0</td>\n",
       "    </tr>\n",
       "    <tr>\n",
       "      <th>4</th>\n",
       "      <td>0</td>\n",
       "      <td>0</td>\n",
       "      <td>0</td>\n",
       "      <td>0</td>\n",
       "      <td>0</td>\n",
       "      <td>0</td>\n",
       "      <td>0</td>\n",
       "      <td>0</td>\n",
       "      <td>0</td>\n",
       "      <td>0</td>\n",
       "      <td>...</td>\n",
       "      <td>0</td>\n",
       "      <td>0</td>\n",
       "      <td>0</td>\n",
       "      <td>0</td>\n",
       "      <td>0</td>\n",
       "      <td>0</td>\n",
       "      <td>0</td>\n",
       "      <td>0</td>\n",
       "      <td>0</td>\n",
       "      <td>0</td>\n",
       "    </tr>\n",
       "  </tbody>\n",
       "</table>\n",
       "<p>5 rows × 228 columns</p>\n",
       "</div>"
      ],
      "text/plain": [
       "       Afghan   African   American   Andhra   Arabian   Asian   Assamese  \\\n",
       "0  0        0         0          0        0         0       0          0   \n",
       "1  0        0         0          0        0         0       0          0   \n",
       "2  0        0         0          0        0         0       0          0   \n",
       "3  0        0         0          0        0         0       0          0   \n",
       "4  0        0         0          0        0         0       0          0   \n",
       "\n",
       "    Awadhi   BBQ  ...  Street Food  Sushi  Tamil  Tea  Tex-Mex  Thai  Tibetan  \\\n",
       "0        0     0  ...            0      0      0    0        0     0        0   \n",
       "1        0     0  ...            0      0      0    0        0     0        0   \n",
       "2        0     0  ...            0      0      0    0        0     0        0   \n",
       "3        0     0  ...            0      0      0    0        0     0        1   \n",
       "4        0     0  ...            0      0      0    0        0     0        0   \n",
       "\n",
       "   Turkish  Vietnamese  Wraps  \n",
       "0        0           0      0  \n",
       "1        0           0      0  \n",
       "2        0           0      0  \n",
       "3        0           0      0  \n",
       "4        0           0      0  \n",
       "\n",
       "[5 rows x 228 columns]"
      ]
     },
     "execution_count": 139,
     "metadata": {},
     "output_type": "execute_result"
    }
   ],
   "source": [
    "df_cat_cuisines_num_col.head()"
   ]
  },
  {
   "cell_type": "code",
   "execution_count": 140,
   "metadata": {},
   "outputs": [
    {
     "data": {
      "text/html": [
       "<div>\n",
       "<style scoped>\n",
       "    .dataframe tbody tr th:only-of-type {\n",
       "        vertical-align: middle;\n",
       "    }\n",
       "\n",
       "    .dataframe tbody tr th {\n",
       "        vertical-align: top;\n",
       "    }\n",
       "\n",
       "    .dataframe thead th {\n",
       "        text-align: right;\n",
       "    }\n",
       "</style>\n",
       "<table border=\"1\" class=\"dataframe\">\n",
       "  <thead>\n",
       "    <tr style=\"text-align: right;\">\n",
       "      <th></th>\n",
       "      <th>BAKERY</th>\n",
       "      <th>BAR</th>\n",
       "      <th>BEVERAGE SHOP</th>\n",
       "      <th>BHOJANALYA</th>\n",
       "      <th>CAFÉ</th>\n",
       "      <th>CASUAL DINING</th>\n",
       "      <th>CLUB</th>\n",
       "      <th>COCKTAIL BAR</th>\n",
       "      <th>CONFECTIONERY</th>\n",
       "      <th>DESSERT PARLOR</th>\n",
       "      <th>...</th>\n",
       "      <th>KIOSK</th>\n",
       "      <th>LOUNGE</th>\n",
       "      <th>MEAT SHOP</th>\n",
       "      <th>MESS</th>\n",
       "      <th>MICROBREWERY</th>\n",
       "      <th>None</th>\n",
       "      <th>PAAN SHOP</th>\n",
       "      <th>PUB</th>\n",
       "      <th>QUICK BITES</th>\n",
       "      <th>SWEET SHOP</th>\n",
       "    </tr>\n",
       "  </thead>\n",
       "  <tbody>\n",
       "    <tr>\n",
       "      <th>0</th>\n",
       "      <td>0</td>\n",
       "      <td>0</td>\n",
       "      <td>0</td>\n",
       "      <td>0</td>\n",
       "      <td>0</td>\n",
       "      <td>1</td>\n",
       "      <td>0</td>\n",
       "      <td>0</td>\n",
       "      <td>0</td>\n",
       "      <td>0</td>\n",
       "      <td>...</td>\n",
       "      <td>0</td>\n",
       "      <td>0</td>\n",
       "      <td>0</td>\n",
       "      <td>0</td>\n",
       "      <td>0</td>\n",
       "      <td>0</td>\n",
       "      <td>0</td>\n",
       "      <td>0</td>\n",
       "      <td>0</td>\n",
       "      <td>0</td>\n",
       "    </tr>\n",
       "    <tr>\n",
       "      <th>1</th>\n",
       "      <td>0</td>\n",
       "      <td>1</td>\n",
       "      <td>0</td>\n",
       "      <td>0</td>\n",
       "      <td>0</td>\n",
       "      <td>1</td>\n",
       "      <td>0</td>\n",
       "      <td>0</td>\n",
       "      <td>0</td>\n",
       "      <td>0</td>\n",
       "      <td>...</td>\n",
       "      <td>0</td>\n",
       "      <td>0</td>\n",
       "      <td>0</td>\n",
       "      <td>0</td>\n",
       "      <td>0</td>\n",
       "      <td>0</td>\n",
       "      <td>0</td>\n",
       "      <td>0</td>\n",
       "      <td>0</td>\n",
       "      <td>0</td>\n",
       "    </tr>\n",
       "    <tr>\n",
       "      <th>2</th>\n",
       "      <td>0</td>\n",
       "      <td>0</td>\n",
       "      <td>0</td>\n",
       "      <td>0</td>\n",
       "      <td>0</td>\n",
       "      <td>1</td>\n",
       "      <td>0</td>\n",
       "      <td>0</td>\n",
       "      <td>0</td>\n",
       "      <td>0</td>\n",
       "      <td>...</td>\n",
       "      <td>0</td>\n",
       "      <td>0</td>\n",
       "      <td>0</td>\n",
       "      <td>0</td>\n",
       "      <td>0</td>\n",
       "      <td>0</td>\n",
       "      <td>0</td>\n",
       "      <td>0</td>\n",
       "      <td>0</td>\n",
       "      <td>0</td>\n",
       "    </tr>\n",
       "    <tr>\n",
       "      <th>3</th>\n",
       "      <td>0</td>\n",
       "      <td>0</td>\n",
       "      <td>0</td>\n",
       "      <td>0</td>\n",
       "      <td>0</td>\n",
       "      <td>0</td>\n",
       "      <td>0</td>\n",
       "      <td>0</td>\n",
       "      <td>0</td>\n",
       "      <td>0</td>\n",
       "      <td>...</td>\n",
       "      <td>0</td>\n",
       "      <td>0</td>\n",
       "      <td>0</td>\n",
       "      <td>0</td>\n",
       "      <td>0</td>\n",
       "      <td>0</td>\n",
       "      <td>0</td>\n",
       "      <td>0</td>\n",
       "      <td>1</td>\n",
       "      <td>0</td>\n",
       "    </tr>\n",
       "    <tr>\n",
       "      <th>4</th>\n",
       "      <td>0</td>\n",
       "      <td>0</td>\n",
       "      <td>0</td>\n",
       "      <td>0</td>\n",
       "      <td>0</td>\n",
       "      <td>0</td>\n",
       "      <td>0</td>\n",
       "      <td>0</td>\n",
       "      <td>0</td>\n",
       "      <td>1</td>\n",
       "      <td>...</td>\n",
       "      <td>0</td>\n",
       "      <td>0</td>\n",
       "      <td>0</td>\n",
       "      <td>0</td>\n",
       "      <td>0</td>\n",
       "      <td>0</td>\n",
       "      <td>0</td>\n",
       "      <td>0</td>\n",
       "      <td>0</td>\n",
       "      <td>0</td>\n",
       "    </tr>\n",
       "  </tbody>\n",
       "</table>\n",
       "<p>5 rows × 25 columns</p>\n",
       "</div>"
      ],
      "text/plain": [
       "   BAKERY  BAR  BEVERAGE SHOP  BHOJANALYA  CAFÉ  CASUAL DINING  CLUB  \\\n",
       "0       0    0              0           0     0              1     0   \n",
       "1       0    1              0           0     0              1     0   \n",
       "2       0    0              0           0     0              1     0   \n",
       "3       0    0              0           0     0              0     0   \n",
       "4       0    0              0           0     0              0     0   \n",
       "\n",
       "   COCKTAIL BAR  CONFECTIONERY  DESSERT PARLOR  ...  KIOSK  LOUNGE  MEAT SHOP  \\\n",
       "0             0              0               0  ...      0       0          0   \n",
       "1             0              0               0  ...      0       0          0   \n",
       "2             0              0               0  ...      0       0          0   \n",
       "3             0              0               0  ...      0       0          0   \n",
       "4             0              0               1  ...      0       0          0   \n",
       "\n",
       "   MESS  MICROBREWERY  None  PAAN SHOP  PUB  QUICK BITES  SWEET SHOP  \n",
       "0     0             0     0          0    0            0           0  \n",
       "1     0             0     0          0    0            0           0  \n",
       "2     0             0     0          0    0            0           0  \n",
       "3     0             0     0          0    0            1           0  \n",
       "4     0             0     0          0    0            0           0  \n",
       "\n",
       "[5 rows x 25 columns]"
      ]
     },
     "execution_count": 140,
     "metadata": {},
     "output_type": "execute_result"
    }
   ],
   "source": [
    "df_cat_title_num_col.head()"
   ]
  },
  {
   "cell_type": "code",
   "execution_count": 141,
   "metadata": {},
   "outputs": [
    {
     "data": {
      "text/html": [
       "<div>\n",
       "<style scoped>\n",
       "    .dataframe tbody tr th:only-of-type {\n",
       "        vertical-align: middle;\n",
       "    }\n",
       "\n",
       "    .dataframe tbody tr th {\n",
       "        vertical-align: top;\n",
       "    }\n",
       "\n",
       "    .dataframe thead th {\n",
       "        text-align: right;\n",
       "    }\n",
       "</style>\n",
       "<table border=\"1\" class=\"dataframe\">\n",
       "  <thead>\n",
       "    <tr style=\"text-align: right;\">\n",
       "      <th></th>\n",
       "      <th>time</th>\n",
       "      <th>city</th>\n",
       "      <th>locality</th>\n",
       "      <th>rating</th>\n",
       "      <th>votes</th>\n",
       "    </tr>\n",
       "  </thead>\n",
       "  <tbody>\n",
       "    <tr>\n",
       "      <th>0</th>\n",
       "      <td>11am – 4pm, 7:30pm – 11:30pm (Mon-Sun)</td>\n",
       "      <td>Thane</td>\n",
       "      <td>Dombivali East</td>\n",
       "      <td>3.6</td>\n",
       "      <td>49 votes</td>\n",
       "    </tr>\n",
       "    <tr>\n",
       "      <th>1</th>\n",
       "      <td>6pm – 11pm (Mon-Sun)</td>\n",
       "      <td>Chennai</td>\n",
       "      <td>Ramapuram</td>\n",
       "      <td>4.2</td>\n",
       "      <td>30 votes</td>\n",
       "    </tr>\n",
       "    <tr>\n",
       "      <th>2</th>\n",
       "      <td>11am – 3:30pm, 7pm – 11pm (Mon-Sun)</td>\n",
       "      <td>Chennai</td>\n",
       "      <td>Saligramam</td>\n",
       "      <td>3.8</td>\n",
       "      <td>221 votes</td>\n",
       "    </tr>\n",
       "    <tr>\n",
       "      <th>3</th>\n",
       "      <td>11:30am – 1am (Mon-Sun)</td>\n",
       "      <td>Mumbai</td>\n",
       "      <td>Bandra West</td>\n",
       "      <td>4.1</td>\n",
       "      <td>24 votes</td>\n",
       "    </tr>\n",
       "    <tr>\n",
       "      <th>4</th>\n",
       "      <td>11am – 1am (Mon-Sun)</td>\n",
       "      <td>Mumbai</td>\n",
       "      <td>Lower Parel</td>\n",
       "      <td>3.8</td>\n",
       "      <td>165 votes</td>\n",
       "    </tr>\n",
       "    <tr>\n",
       "      <th>...</th>\n",
       "      <td>...</td>\n",
       "      <td>...</td>\n",
       "      <td>...</td>\n",
       "      <td>...</td>\n",
       "      <td>...</td>\n",
       "    </tr>\n",
       "    <tr>\n",
       "      <th>4226</th>\n",
       "      <td>11:30am – 11:30pm (Mon-Sun)</td>\n",
       "      <td>Delhi</td>\n",
       "      <td>Punjabi Bagh</td>\n",
       "      <td>3.9</td>\n",
       "      <td>287 votes</td>\n",
       "    </tr>\n",
       "    <tr>\n",
       "      <th>4227</th>\n",
       "      <td>11am – 1am (Mon-Sun)</td>\n",
       "      <td>Bangalore</td>\n",
       "      <td>HSR Layout</td>\n",
       "      <td>4.3</td>\n",
       "      <td>469 votes</td>\n",
       "    </tr>\n",
       "    <tr>\n",
       "      <th>4228</th>\n",
       "      <td>9:30am – 10:30pm (Mon-Sun)</td>\n",
       "      <td>Faridabad</td>\n",
       "      <td>Sector 86</td>\n",
       "      <td>3.7</td>\n",
       "      <td>53 votes</td>\n",
       "    </tr>\n",
       "    <tr>\n",
       "      <th>4229</th>\n",
       "      <td>11am – 11:30pm (Mon, Tue, Wed, Thu, Sat, Sun),...</td>\n",
       "      <td>Kochi</td>\n",
       "      <td>Kochi</td>\n",
       "      <td>-</td>\n",
       "      <td>NaN</td>\n",
       "    </tr>\n",
       "    <tr>\n",
       "      <th>4230</th>\n",
       "      <td>5pm – 1am (Mon-Sun)</td>\n",
       "      <td>Mumbai</td>\n",
       "      <td>Perry Cross Road</td>\n",
       "      <td>3.7</td>\n",
       "      <td>63 votes</td>\n",
       "    </tr>\n",
       "  </tbody>\n",
       "</table>\n",
       "<p>16794 rows × 5 columns</p>\n",
       "</div>"
      ],
      "text/plain": [
       "                                                   time       city  \\\n",
       "0                11am – 4pm, 7:30pm – 11:30pm (Mon-Sun)      Thane   \n",
       "1                                  6pm – 11pm (Mon-Sun)    Chennai   \n",
       "2                   11am – 3:30pm, 7pm – 11pm (Mon-Sun)    Chennai   \n",
       "3                               11:30am – 1am (Mon-Sun)     Mumbai   \n",
       "4                                  11am – 1am (Mon-Sun)     Mumbai   \n",
       "...                                                 ...        ...   \n",
       "4226                        11:30am – 11:30pm (Mon-Sun)      Delhi   \n",
       "4227                               11am – 1am (Mon-Sun)  Bangalore   \n",
       "4228                         9:30am – 10:30pm (Mon-Sun)  Faridabad   \n",
       "4229  11am – 11:30pm (Mon, Tue, Wed, Thu, Sat, Sun),...      Kochi   \n",
       "4230                                5pm – 1am (Mon-Sun)     Mumbai   \n",
       "\n",
       "              locality rating      votes  \n",
       "0       Dombivali East    3.6   49 votes  \n",
       "1            Ramapuram    4.2   30 votes  \n",
       "2           Saligramam    3.8  221 votes  \n",
       "3          Bandra West    4.1   24 votes  \n",
       "4          Lower Parel    3.8  165 votes  \n",
       "...                ...    ...        ...  \n",
       "4226      Punjabi Bagh    3.9  287 votes  \n",
       "4227        HSR Layout    4.3  469 votes  \n",
       "4228         Sector 86    3.7   53 votes  \n",
       "4229             Kochi      -        NaN  \n",
       "4230  Perry Cross Road    3.7   63 votes  \n",
       "\n",
       "[16794 rows x 5 columns]"
      ]
     },
     "execution_count": 141,
     "metadata": {},
     "output_type": "execute_result"
    }
   ],
   "source": [
    "df_cat_col.drop(['title','cuisines'],axis=1)"
   ]
  },
  {
   "cell_type": "code",
   "execution_count": 142,
   "metadata": {},
   "outputs": [],
   "source": [
    "df_preprocced = pd.concat([df_cat_title_num_col,df_cat_col,df_cat_cuisines_num_col],axis='columns')"
   ]
  },
  {
   "cell_type": "code",
   "execution_count": 143,
   "metadata": {},
   "outputs": [],
   "source": [
    "df_preprocced = pd.concat([df_preprocced,df_num_col],axis='columns')"
   ]
  },
  {
   "cell_type": "code",
   "execution_count": 144,
   "metadata": {},
   "outputs": [
    {
     "ename": "NameError",
     "evalue": "name 'df_city_num_col' is not defined",
     "output_type": "error",
     "traceback": [
      "\u001b[0;31m---------------------------------------------------------------------------\u001b[0m",
      "\u001b[0;31mNameError\u001b[0m                                 Traceback (most recent call last)",
      "\u001b[0;32m<ipython-input-144-73f8ec6c605f>\u001b[0m in \u001b[0;36m<module>\u001b[0;34m\u001b[0m\n\u001b[0;32m----> 1\u001b[0;31m \u001b[0mdf_preprocced\u001b[0m \u001b[0;34m=\u001b[0m \u001b[0mpd\u001b[0m\u001b[0;34m.\u001b[0m\u001b[0mconcat\u001b[0m\u001b[0;34m(\u001b[0m\u001b[0;34m[\u001b[0m\u001b[0mdf_preprocced\u001b[0m\u001b[0;34m,\u001b[0m\u001b[0mdf_city_num_col\u001b[0m\u001b[0;34m]\u001b[0m\u001b[0;34m,\u001b[0m\u001b[0maxis\u001b[0m\u001b[0;34m=\u001b[0m\u001b[0;34m'columns'\u001b[0m\u001b[0;34m)\u001b[0m\u001b[0;34m\u001b[0m\u001b[0;34m\u001b[0m\u001b[0m\n\u001b[0m",
      "\u001b[0;31mNameError\u001b[0m: name 'df_city_num_col' is not defined"
     ]
    }
   ],
   "source": [
    "df_preprocced = pd.concat([df_preprocced,df_city_num_col],axis='columns')"
   ]
  },
  {
   "cell_type": "code",
   "execution_count": null,
   "metadata": {},
   "outputs": [],
   "source": []
  },
  {
   "cell_type": "code",
   "execution_count": null,
   "metadata": {},
   "outputs": [],
   "source": [
    "df_city_num_col"
   ]
  },
  {
   "cell_type": "code",
   "execution_count": null,
   "metadata": {},
   "outputs": [],
   "source": [
    "del df_preprocced['cuisines']"
   ]
  },
  {
   "cell_type": "code",
   "execution_count": null,
   "metadata": {},
   "outputs": [],
   "source": [
    "del df_preprocced['title']"
   ]
  },
  {
   "cell_type": "code",
   "execution_count": null,
   "metadata": {},
   "outputs": [],
   "source": [
    "del df_preprocced['locality']"
   ]
  },
  {
   "cell_type": "code",
   "execution_count": null,
   "metadata": {},
   "outputs": [],
   "source": [
    "df_city_num_col = df_preprocced['city'].str.get_dummies(sep=',')"
   ]
  },
  {
   "cell_type": "code",
   "execution_count": null,
   "metadata": {},
   "outputs": [],
   "source": [
    "df_city_num_col.head()"
   ]
  },
  {
   "cell_type": "code",
   "execution_count": null,
   "metadata": {},
   "outputs": [],
   "source": [
    "del df_preprocced['city']"
   ]
  },
  {
   "cell_type": "code",
   "execution_count": null,
   "metadata": {},
   "outputs": [],
   "source": []
  },
  {
   "cell_type": "code",
   "execution_count": null,
   "metadata": {},
   "outputs": [],
   "source": []
  },
  {
   "cell_type": "code",
   "execution_count": null,
   "metadata": {},
   "outputs": [],
   "source": [
    "df_preprocced.shape"
   ]
  },
  {
   "cell_type": "code",
   "execution_count": null,
   "metadata": {},
   "outputs": [],
   "source": []
  },
  {
   "cell_type": "code",
   "execution_count": null,
   "metadata": {},
   "outputs": [],
   "source": [
    "train_preprocessed = df_preprocced[df_preprocced[\"cost\"].notna()]"
   ]
  },
  {
   "cell_type": "code",
   "execution_count": null,
   "metadata": {},
   "outputs": [],
   "source": [
    "test_preprocessed = df_preprocced[df_preprocced[\"cost\"].isna()]"
   ]
  },
  {
   "cell_type": "code",
   "execution_count": null,
   "metadata": {},
   "outputs": [],
   "source": [
    "train_preprocessed.shape"
   ]
  },
  {
   "cell_type": "code",
   "execution_count": null,
   "metadata": {},
   "outputs": [],
   "source": [
    "test_preprocessed.shape"
   ]
  },
  {
   "cell_type": "code",
   "execution_count": null,
   "metadata": {},
   "outputs": [],
   "source": [
    "X = train_preprocessed"
   ]
  },
  {
   "cell_type": "code",
   "execution_count": null,
   "metadata": {},
   "outputs": [],
   "source": [
    "Y = train_preprocessed[\"cost\"]"
   ]
  },
  {
   "cell_type": "code",
   "execution_count": null,
   "metadata": {},
   "outputs": [],
   "source": [
    "X.shape"
   ]
  },
  {
   "cell_type": "code",
   "execution_count": null,
   "metadata": {},
   "outputs": [],
   "source": [
    "X.info()"
   ]
  },
  {
   "cell_type": "code",
   "execution_count": null,
   "metadata": {},
   "outputs": [],
   "source": [
    "X.head()"
   ]
  },
  {
   "cell_type": "code",
   "execution_count": null,
   "metadata": {},
   "outputs": [],
   "source": [
    "X.city.unique()"
   ]
  },
  {
   "cell_type": "code",
   "execution_count": null,
   "metadata": {},
   "outputs": [],
   "source": []
  },
  {
   "cell_type": "code",
   "execution_count": null,
   "metadata": {},
   "outputs": [],
   "source": []
  },
  {
   "cell_type": "code",
   "execution_count": null,
   "metadata": {},
   "outputs": [],
   "source": []
  },
  {
   "cell_type": "code",
   "execution_count": null,
   "metadata": {},
   "outputs": [],
   "source": []
  },
  {
   "cell_type": "code",
   "execution_count": null,
   "metadata": {},
   "outputs": [],
   "source": []
  },
  {
   "cell_type": "code",
   "execution_count": null,
   "metadata": {},
   "outputs": [],
   "source": []
  },
  {
   "cell_type": "code",
   "execution_count": null,
   "metadata": {},
   "outputs": [],
   "source": []
  },
  {
   "cell_type": "code",
   "execution_count": null,
   "metadata": {},
   "outputs": [],
   "source": []
  },
  {
   "cell_type": "code",
   "execution_count": null,
   "metadata": {},
   "outputs": [],
   "source": []
  },
  {
   "cell_type": "code",
   "execution_count": null,
   "metadata": {},
   "outputs": [],
   "source": []
  },
  {
   "cell_type": "code",
   "execution_count": null,
   "metadata": {},
   "outputs": [],
   "source": []
  },
  {
   "cell_type": "code",
   "execution_count": null,
   "metadata": {},
   "outputs": [],
   "source": []
  },
  {
   "cell_type": "code",
   "execution_count": null,
   "metadata": {},
   "outputs": [],
   "source": []
  },
  {
   "cell_type": "code",
   "execution_count": null,
   "metadata": {},
   "outputs": [],
   "source": [
    "train_x,test_x,train_y,test_y = train_test_split(X,Y,test_size=0.3,random_state=10)"
   ]
  },
  {
   "cell_type": "code",
   "execution_count": null,
   "metadata": {},
   "outputs": [],
   "source": [
    "train_x.shape"
   ]
  },
  {
   "cell_type": "code",
   "execution_count": null,
   "metadata": {},
   "outputs": [],
   "source": []
  },
  {
   "cell_type": "code",
   "execution_count": null,
   "metadata": {},
   "outputs": [],
   "source": [
    "test_x.shape"
   ]
  },
  {
   "cell_type": "code",
   "execution_count": null,
   "metadata": {},
   "outputs": [],
   "source": [
    "linear = LinearRegression()"
   ]
  },
  {
   "cell_type": "code",
   "execution_count": null,
   "metadata": {},
   "outputs": [],
   "source": [
    "linear.fit(train_x,train_y)"
   ]
  },
  {
   "cell_type": "code",
   "execution_count": null,
   "metadata": {},
   "outputs": [],
   "source": [
    "linear.coef_"
   ]
  },
  {
   "cell_type": "code",
   "execution_count": null,
   "metadata": {},
   "outputs": [],
   "source": [
    "pd.DataFrame(linear.coef_,train_x.columns).plot(kind = \"bar\")"
   ]
  },
  {
   "cell_type": "code",
   "execution_count": null,
   "metadata": {},
   "outputs": [],
   "source": [
    "train_predict = linear.predict(train_x)"
   ]
  },
  {
   "cell_type": "code",
   "execution_count": null,
   "metadata": {},
   "outputs": [],
   "source": [
    "test_predict = linear.predict(test_x)"
   ]
  },
  {
   "cell_type": "code",
   "execution_count": null,
   "metadata": {},
   "outputs": [],
   "source": [
    "np.sqrt(mean_squared_error(train_predict,train_y))"
   ]
  },
  {
   "cell_type": "code",
   "execution_count": null,
   "metadata": {},
   "outputs": [],
   "source": []
  },
  {
   "cell_type": "code",
   "execution_count": null,
   "metadata": {},
   "outputs": [],
   "source": []
  },
  {
   "cell_type": "code",
   "execution_count": null,
   "metadata": {},
   "outputs": [],
   "source": []
  },
  {
   "cell_type": "code",
   "execution_count": null,
   "metadata": {},
   "outputs": [],
   "source": []
  },
  {
   "cell_type": "raw",
   "metadata": {},
   "source": []
  },
  {
   "cell_type": "code",
   "execution_count": null,
   "metadata": {},
   "outputs": [],
   "source": []
  },
  {
   "cell_type": "code",
   "execution_count": null,
   "metadata": {},
   "outputs": [],
   "source": []
  },
  {
   "cell_type": "code",
   "execution_count": null,
   "metadata": {},
   "outputs": [],
   "source": []
  },
  {
   "cell_type": "code",
   "execution_count": null,
   "metadata": {},
   "outputs": [],
   "source": []
  },
  {
   "cell_type": "code",
   "execution_count": null,
   "metadata": {},
   "outputs": [],
   "source": []
  },
  {
   "cell_type": "code",
   "execution_count": null,
   "metadata": {},
   "outputs": [],
   "source": []
  },
  {
   "cell_type": "code",
   "execution_count": null,
   "metadata": {},
   "outputs": [],
   "source": []
  },
  {
   "cell_type": "code",
   "execution_count": null,
   "metadata": {},
   "outputs": [],
   "source": [
    "# df_df['city'].apply(lambda x : [np.nan] if x==None else x)"
   ]
  },
  {
   "cell_type": "code",
   "execution_count": null,
   "metadata": {},
   "outputs": [],
   "source": [
    "city_array = df_df[df_df['city'].isna()].locality.str.split(\" \")"
   ]
  },
  {
   "cell_type": "code",
   "execution_count": null,
   "metadata": {},
   "outputs": [],
   "source": [
    "city_array = [x for x in city_array if len(x)==1]"
   ]
  },
  {
   "cell_type": "code",
   "execution_count": null,
   "metadata": {},
   "outputs": [],
   "source": []
  },
  {
   "cell_type": "code",
   "execution_count": null,
   "metadata": {},
   "outputs": [],
   "source": [
    "city_array"
   ]
  },
  {
   "cell_type": "code",
   "execution_count": null,
   "metadata": {},
   "outputs": [],
   "source": []
  },
  {
   "cell_type": "code",
   "execution_count": null,
   "metadata": {},
   "outputs": [],
   "source": []
  },
  {
   "cell_type": "code",
   "execution_count": null,
   "metadata": {},
   "outputs": [],
   "source": []
  },
  {
   "cell_type": "code",
   "execution_count": null,
   "metadata": {},
   "outputs": [],
   "source": []
  },
  {
   "cell_type": "code",
   "execution_count": null,
   "metadata": {},
   "outputs": [],
   "source": []
  },
  {
   "cell_type": "code",
   "execution_count": null,
   "metadata": {},
   "outputs": [],
   "source": []
  },
  {
   "cell_type": "code",
   "execution_count": null,
   "metadata": {},
   "outputs": [],
   "source": []
  },
  {
   "cell_type": "code",
   "execution_count": null,
   "metadata": {},
   "outputs": [],
   "source": []
  },
  {
   "cell_type": "code",
   "execution_count": null,
   "metadata": {},
   "outputs": [],
   "source": []
  },
  {
   "cell_type": "code",
   "execution_count": null,
   "metadata": {},
   "outputs": [],
   "source": []
  },
  {
   "cell_type": "code",
   "execution_count": null,
   "metadata": {},
   "outputs": [],
   "source": []
  },
  {
   "cell_type": "code",
   "execution_count": null,
   "metadata": {},
   "outputs": [],
   "source": []
  },
  {
   "cell_type": "code",
   "execution_count": null,
   "metadata": {},
   "outputs": [],
   "source": []
  },
  {
   "cell_type": "code",
   "execution_count": null,
   "metadata": {},
   "outputs": [],
   "source": []
  },
  {
   "cell_type": "code",
   "execution_count": null,
   "metadata": {},
   "outputs": [],
   "source": []
  },
  {
   "cell_type": "code",
   "execution_count": null,
   "metadata": {},
   "outputs": [],
   "source": []
  },
  {
   "cell_type": "code",
   "execution_count": null,
   "metadata": {},
   "outputs": [],
   "source": []
  },
  {
   "cell_type": "code",
   "execution_count": null,
   "metadata": {},
   "outputs": [],
   "source": []
  },
  {
   "cell_type": "code",
   "execution_count": null,
   "metadata": {},
   "outputs": [],
   "source": []
  },
  {
   "cell_type": "code",
   "execution_count": null,
   "metadata": {},
   "outputs": [],
   "source": []
  },
  {
   "cell_type": "code",
   "execution_count": null,
   "metadata": {},
   "outputs": [],
   "source": []
  },
  {
   "cell_type": "code",
   "execution_count": null,
   "metadata": {},
   "outputs": [],
   "source": []
  },
  {
   "cell_type": "code",
   "execution_count": null,
   "metadata": {},
   "outputs": [],
   "source": []
  },
  {
   "cell_type": "code",
   "execution_count": null,
   "metadata": {},
   "outputs": [],
   "source": []
  },
  {
   "cell_type": "code",
   "execution_count": null,
   "metadata": {},
   "outputs": [],
   "source": []
  },
  {
   "cell_type": "code",
   "execution_count": null,
   "metadata": {},
   "outputs": [],
   "source": []
  },
  {
   "cell_type": "code",
   "execution_count": null,
   "metadata": {},
   "outputs": [],
   "source": []
  },
  {
   "cell_type": "code",
   "execution_count": null,
   "metadata": {},
   "outputs": [],
   "source": []
  },
  {
   "cell_type": "code",
   "execution_count": null,
   "metadata": {},
   "outputs": [],
   "source": []
  },
  {
   "cell_type": "code",
   "execution_count": null,
   "metadata": {},
   "outputs": [],
   "source": []
  },
  {
   "cell_type": "code",
   "execution_count": null,
   "metadata": {},
   "outputs": [],
   "source": []
  },
  {
   "cell_type": "code",
   "execution_count": null,
   "metadata": {},
   "outputs": [],
   "source": []
  },
  {
   "cell_type": "code",
   "execution_count": null,
   "metadata": {},
   "outputs": [],
   "source": []
  },
  {
   "cell_type": "code",
   "execution_count": null,
   "metadata": {},
   "outputs": [],
   "source": []
  },
  {
   "cell_type": "code",
   "execution_count": null,
   "metadata": {},
   "outputs": [],
   "source": []
  },
  {
   "cell_type": "code",
   "execution_count": null,
   "metadata": {},
   "outputs": [],
   "source": []
  },
  {
   "cell_type": "code",
   "execution_count": null,
   "metadata": {},
   "outputs": [],
   "source": []
  },
  {
   "cell_type": "code",
   "execution_count": null,
   "metadata": {},
   "outputs": [],
   "source": []
  },
  {
   "cell_type": "code",
   "execution_count": null,
   "metadata": {},
   "outputs": [],
   "source": []
  },
  {
   "cell_type": "code",
   "execution_count": null,
   "metadata": {},
   "outputs": [],
   "source": []
  },
  {
   "cell_type": "code",
   "execution_count": null,
   "metadata": {},
   "outputs": [],
   "source": []
  },
  {
   "cell_type": "code",
   "execution_count": null,
   "metadata": {},
   "outputs": [],
   "source": [
    "df_d.fillna( {'locality':  })"
   ]
  },
  {
   "cell_type": "code",
   "execution_count": null,
   "metadata": {},
   "outputs": [],
   "source": []
  },
  {
   "cell_type": "code",
   "execution_count": null,
   "metadata": {},
   "outputs": [],
   "source": []
  },
  {
   "cell_type": "code",
   "execution_count": null,
   "metadata": {},
   "outputs": [],
   "source": []
  },
  {
   "cell_type": "code",
   "execution_count": null,
   "metadata": {},
   "outputs": [],
   "source": []
  },
  {
   "cell_type": "code",
   "execution_count": null,
   "metadata": {},
   "outputs": [],
   "source": []
  },
  {
   "cell_type": "code",
   "execution_count": null,
   "metadata": {},
   "outputs": [],
   "source": []
  },
  {
   "cell_type": "code",
   "execution_count": null,
   "metadata": {},
   "outputs": [],
   "source": []
  },
  {
   "cell_type": "code",
   "execution_count": null,
   "metadata": {},
   "outputs": [],
   "source": []
  },
  {
   "cell_type": "code",
   "execution_count": null,
   "metadata": {},
   "outputs": [],
   "source": []
  },
  {
   "cell_type": "code",
   "execution_count": null,
   "metadata": {},
   "outputs": [],
   "source": []
  },
  {
   "cell_type": "code",
   "execution_count": null,
   "metadata": {},
   "outputs": [],
   "source": []
  },
  {
   "cell_type": "code",
   "execution_count": null,
   "metadata": {},
   "outputs": [],
   "source": []
  },
  {
   "cell_type": "code",
   "execution_count": null,
   "metadata": {},
   "outputs": [],
   "source": []
  },
  {
   "cell_type": "code",
   "execution_count": null,
   "metadata": {},
   "outputs": [],
   "source": []
  },
  {
   "cell_type": "code",
   "execution_count": null,
   "metadata": {},
   "outputs": [],
   "source": []
  }
 ],
 "metadata": {
  "kernelspec": {
   "display_name": "Python 3",
   "language": "python",
   "name": "python3"
  },
  "language_info": {
   "codemirror_mode": {
    "name": "ipython",
    "version": 3
   },
   "file_extension": ".py",
   "mimetype": "text/x-python",
   "name": "python",
   "nbconvert_exporter": "python",
   "pygments_lexer": "ipython3",
   "version": "3.6.8"
  }
 },
 "nbformat": 4,
 "nbformat_minor": 2
}
