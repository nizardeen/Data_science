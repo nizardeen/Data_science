{
 "cells": [
  {
   "cell_type": "code",
   "execution_count": 330,
   "metadata": {},
   "outputs": [],
   "source": [
    "%matplotlib inline\n",
    "import pandas as pd\n",
    "import numpy as np\n",
    "from sklearn.model_selection import train_test_split\n",
    "from sklearn.linear_model import LinearRegression\n",
    "from sklearn.metrics import mean_squared_error\n",
    "from sklearn.linear_model import Ridge\n",
    "from sklearn.linear_model import Lasso\n",
    "from sklearn.linear_model import ElasticNet\n",
    "import warnings\n",
    "warnings.filterwarnings(\"ignore\")\n",
    "from collections import Counter"
   ]
  },
  {
   "cell_type": "code",
   "execution_count": 331,
   "metadata": {},
   "outputs": [],
   "source": [
    "train = pd.read_excel('Data_Train.xlsx')\n",
    "test = pd.read_excel('Data_Test.xlsx')\n"
   ]
  },
  {
   "cell_type": "code",
   "execution_count": 332,
   "metadata": {},
   "outputs": [
    {
     "name": "stdout",
     "output_type": "stream",
     "text": [
      "<class 'pandas.core.frame.DataFrame'>\n",
      "RangeIndex: 12690 entries, 0 to 12689\n",
      "Data columns (total 9 columns):\n",
      "TITLE            12690 non-null object\n",
      "RESTAURANT_ID    12690 non-null int64\n",
      "CUISINES         12690 non-null object\n",
      "TIME             12690 non-null object\n",
      "CITY             12578 non-null object\n",
      "LOCALITY         12592 non-null object\n",
      "RATING           12688 non-null object\n",
      "VOTES            11486 non-null object\n",
      "COST             12690 non-null int64\n",
      "dtypes: int64(2), object(7)\n",
      "memory usage: 892.4+ KB\n"
     ]
    }
   ],
   "source": [
    "train.info()"
   ]
  },
  {
   "cell_type": "code",
   "execution_count": 333,
   "metadata": {},
   "outputs": [
    {
     "name": "stdout",
     "output_type": "stream",
     "text": [
      "<class 'pandas.core.frame.DataFrame'>\n",
      "RangeIndex: 4231 entries, 0 to 4230\n",
      "Data columns (total 8 columns):\n",
      "TITLE            4231 non-null object\n",
      "RESTAURANT_ID    4231 non-null int64\n",
      "CUISINES         4231 non-null object\n",
      "TIME             4231 non-null object\n",
      "CITY             4196 non-null object\n",
      "LOCALITY         4201 non-null object\n",
      "RATING           4229 non-null object\n",
      "VOTES            3829 non-null object\n",
      "dtypes: int64(1), object(7)\n",
      "memory usage: 264.6+ KB\n"
     ]
    }
   ],
   "source": [
    "test.info()"
   ]
  },
  {
   "cell_type": "code",
   "execution_count": null,
   "metadata": {},
   "outputs": [],
   "source": []
  },
  {
   "cell_type": "code",
   "execution_count": null,
   "metadata": {},
   "outputs": [],
   "source": []
  },
  {
   "cell_type": "code",
   "execution_count": null,
   "metadata": {},
   "outputs": [],
   "source": []
  },
  {
   "cell_type": "code",
   "execution_count": null,
   "metadata": {},
   "outputs": [],
   "source": []
  },
  {
   "cell_type": "code",
   "execution_count": 334,
   "metadata": {},
   "outputs": [
    {
     "data": {
      "text/html": [
       "<div>\n",
       "<style scoped>\n",
       "    .dataframe tbody tr th:only-of-type {\n",
       "        vertical-align: middle;\n",
       "    }\n",
       "\n",
       "    .dataframe tbody tr th {\n",
       "        vertical-align: top;\n",
       "    }\n",
       "\n",
       "    .dataframe thead th {\n",
       "        text-align: right;\n",
       "    }\n",
       "</style>\n",
       "<table border=\"1\" class=\"dataframe\">\n",
       "  <thead>\n",
       "    <tr style=\"text-align: right;\">\n",
       "      <th></th>\n",
       "      <th>TITLE</th>\n",
       "      <th>RESTAURANT_ID</th>\n",
       "      <th>CUISINES</th>\n",
       "      <th>TIME</th>\n",
       "      <th>CITY</th>\n",
       "      <th>LOCALITY</th>\n",
       "      <th>RATING</th>\n",
       "      <th>VOTES</th>\n",
       "    </tr>\n",
       "  </thead>\n",
       "  <tbody>\n",
       "    <tr>\n",
       "      <th>0</th>\n",
       "      <td>CASUAL DINING</td>\n",
       "      <td>4085</td>\n",
       "      <td>North Indian, Chinese, Mughlai, Kebab</td>\n",
       "      <td>12noon – 12midnight (Mon-Sun)</td>\n",
       "      <td>Noida</td>\n",
       "      <td>Sector 18</td>\n",
       "      <td>4.3</td>\n",
       "      <td>564 votes</td>\n",
       "    </tr>\n",
       "    <tr>\n",
       "      <th>1</th>\n",
       "      <td>QUICK BITES</td>\n",
       "      <td>12680</td>\n",
       "      <td>South Indian, Fast Food, Pizza, North Indian</td>\n",
       "      <td>7am – 12:30AM (Mon-Sun)</td>\n",
       "      <td>Mumbai</td>\n",
       "      <td>Grant Road</td>\n",
       "      <td>4.2</td>\n",
       "      <td>61 votes</td>\n",
       "    </tr>\n",
       "    <tr>\n",
       "      <th>2</th>\n",
       "      <td>CASUAL DINING</td>\n",
       "      <td>1411</td>\n",
       "      <td>North Indian, Seafood, Biryani, Chinese</td>\n",
       "      <td>11am – 11:30pm (Mon-Sun)</td>\n",
       "      <td>Mumbai</td>\n",
       "      <td>Marine Lines</td>\n",
       "      <td>3.8</td>\n",
       "      <td>350 votes</td>\n",
       "    </tr>\n",
       "    <tr>\n",
       "      <th>3</th>\n",
       "      <td>None</td>\n",
       "      <td>204</td>\n",
       "      <td>Biryani</td>\n",
       "      <td>9am – 10pm (Mon, Wed, Thu, Fri, Sat, Sun), 10:...</td>\n",
       "      <td>Faridabad</td>\n",
       "      <td>NIT</td>\n",
       "      <td>3.8</td>\n",
       "      <td>1445 votes</td>\n",
       "    </tr>\n",
       "    <tr>\n",
       "      <th>4</th>\n",
       "      <td>QUICK BITES</td>\n",
       "      <td>13453</td>\n",
       "      <td>South Indian, Kerala</td>\n",
       "      <td>11am – 10pm (Mon-Sun)</td>\n",
       "      <td>Kochi</td>\n",
       "      <td>Kaloor</td>\n",
       "      <td>3.6</td>\n",
       "      <td>23 votes</td>\n",
       "    </tr>\n",
       "  </tbody>\n",
       "</table>\n",
       "</div>"
      ],
      "text/plain": [
       "           TITLE  RESTAURANT_ID                                      CUISINES  \\\n",
       "0  CASUAL DINING           4085         North Indian, Chinese, Mughlai, Kebab   \n",
       "1    QUICK BITES          12680  South Indian, Fast Food, Pizza, North Indian   \n",
       "2  CASUAL DINING           1411       North Indian, Seafood, Biryani, Chinese   \n",
       "3           None            204                                       Biryani   \n",
       "4    QUICK BITES          13453                          South Indian, Kerala   \n",
       "\n",
       "                                                TIME       CITY      LOCALITY  \\\n",
       "0                      12noon – 12midnight (Mon-Sun)      Noida     Sector 18   \n",
       "1                            7am – 12:30AM (Mon-Sun)     Mumbai    Grant Road   \n",
       "2                           11am – 11:30pm (Mon-Sun)     Mumbai  Marine Lines   \n",
       "3  9am – 10pm (Mon, Wed, Thu, Fri, Sat, Sun), 10:...  Faridabad           NIT   \n",
       "4                              11am – 10pm (Mon-Sun)      Kochi        Kaloor   \n",
       "\n",
       "  RATING       VOTES  \n",
       "0    4.3   564 votes  \n",
       "1    4.2    61 votes  \n",
       "2    3.8   350 votes  \n",
       "3    3.8  1445 votes  \n",
       "4    3.6    23 votes  "
      ]
     },
     "execution_count": 334,
     "metadata": {},
     "output_type": "execute_result"
    }
   ],
   "source": [
    "test.head()"
   ]
  },
  {
   "cell_type": "code",
   "execution_count": null,
   "metadata": {},
   "outputs": [],
   "source": []
  },
  {
   "cell_type": "code",
   "execution_count": null,
   "metadata": {},
   "outputs": [],
   "source": []
  },
  {
   "cell_type": "code",
   "execution_count": 335,
   "metadata": {},
   "outputs": [],
   "source": [
    "df = pd.concat([train,test],sort=False)"
   ]
  },
  {
   "cell_type": "code",
   "execution_count": 336,
   "metadata": {},
   "outputs": [
    {
     "data": {
      "text/plain": [
       "(16921, 9)"
      ]
     },
     "execution_count": 336,
     "metadata": {},
     "output_type": "execute_result"
    }
   ],
   "source": [
    "df.shape"
   ]
  },
  {
   "cell_type": "code",
   "execution_count": 337,
   "metadata": {},
   "outputs": [
    {
     "data": {
      "text/plain": [
       "TITLE               0\n",
       "RESTAURANT_ID       0\n",
       "CUISINES            0\n",
       "TIME                0\n",
       "CITY              147\n",
       "LOCALITY          128\n",
       "RATING              4\n",
       "VOTES            1606\n",
       "COST             4231\n",
       "dtype: int64"
      ]
     },
     "execution_count": 337,
     "metadata": {},
     "output_type": "execute_result"
    }
   ],
   "source": [
    "df.isna().sum()"
   ]
  },
  {
   "cell_type": "code",
   "execution_count": null,
   "metadata": {},
   "outputs": [],
   "source": []
  },
  {
   "cell_type": "code",
   "execution_count": 338,
   "metadata": {},
   "outputs": [
    {
     "data": {
      "text/html": [
       "<div>\n",
       "<style scoped>\n",
       "    .dataframe tbody tr th:only-of-type {\n",
       "        vertical-align: middle;\n",
       "    }\n",
       "\n",
       "    .dataframe tbody tr th {\n",
       "        vertical-align: top;\n",
       "    }\n",
       "\n",
       "    .dataframe thead th {\n",
       "        text-align: right;\n",
       "    }\n",
       "</style>\n",
       "<table border=\"1\" class=\"dataframe\">\n",
       "  <thead>\n",
       "    <tr style=\"text-align: right;\">\n",
       "      <th></th>\n",
       "      <th>TITLE</th>\n",
       "      <th>RESTAURANT_ID</th>\n",
       "      <th>CUISINES</th>\n",
       "      <th>TIME</th>\n",
       "      <th>CITY</th>\n",
       "      <th>LOCALITY</th>\n",
       "      <th>RATING</th>\n",
       "      <th>VOTES</th>\n",
       "      <th>COST</th>\n",
       "    </tr>\n",
       "  </thead>\n",
       "  <tbody>\n",
       "    <tr>\n",
       "      <th>0</th>\n",
       "      <td>CASUAL DINING</td>\n",
       "      <td>9438</td>\n",
       "      <td>Malwani, Goan, North Indian</td>\n",
       "      <td>11am – 4pm, 7:30pm – 11:30pm (Mon-Sun)</td>\n",
       "      <td>Thane</td>\n",
       "      <td>Dombivali East</td>\n",
       "      <td>3.6</td>\n",
       "      <td>49 votes</td>\n",
       "      <td>1200.0</td>\n",
       "    </tr>\n",
       "    <tr>\n",
       "      <th>1</th>\n",
       "      <td>CASUAL DINING,BAR</td>\n",
       "      <td>13198</td>\n",
       "      <td>Asian, Modern Indian, Japanese</td>\n",
       "      <td>6pm – 11pm (Mon-Sun)</td>\n",
       "      <td>Chennai</td>\n",
       "      <td>Ramapuram</td>\n",
       "      <td>4.2</td>\n",
       "      <td>30 votes</td>\n",
       "      <td>1500.0</td>\n",
       "    </tr>\n",
       "    <tr>\n",
       "      <th>2</th>\n",
       "      <td>CASUAL DINING</td>\n",
       "      <td>10915</td>\n",
       "      <td>North Indian, Chinese, Biryani, Hyderabadi</td>\n",
       "      <td>11am – 3:30pm, 7pm – 11pm (Mon-Sun)</td>\n",
       "      <td>Chennai</td>\n",
       "      <td>Saligramam</td>\n",
       "      <td>3.8</td>\n",
       "      <td>221 votes</td>\n",
       "      <td>800.0</td>\n",
       "    </tr>\n",
       "    <tr>\n",
       "      <th>3</th>\n",
       "      <td>QUICK BITES</td>\n",
       "      <td>6346</td>\n",
       "      <td>Tibetan, Chinese</td>\n",
       "      <td>11:30am – 1am (Mon-Sun)</td>\n",
       "      <td>Mumbai</td>\n",
       "      <td>Bandra West</td>\n",
       "      <td>4.1</td>\n",
       "      <td>24 votes</td>\n",
       "      <td>800.0</td>\n",
       "    </tr>\n",
       "    <tr>\n",
       "      <th>4</th>\n",
       "      <td>DESSERT PARLOR</td>\n",
       "      <td>15387</td>\n",
       "      <td>Desserts</td>\n",
       "      <td>11am – 1am (Mon-Sun)</td>\n",
       "      <td>Mumbai</td>\n",
       "      <td>Lower Parel</td>\n",
       "      <td>3.8</td>\n",
       "      <td>165 votes</td>\n",
       "      <td>300.0</td>\n",
       "    </tr>\n",
       "  </tbody>\n",
       "</table>\n",
       "</div>"
      ],
      "text/plain": [
       "               TITLE  RESTAURANT_ID  \\\n",
       "0      CASUAL DINING           9438   \n",
       "1  CASUAL DINING,BAR          13198   \n",
       "2      CASUAL DINING          10915   \n",
       "3        QUICK BITES           6346   \n",
       "4     DESSERT PARLOR          15387   \n",
       "\n",
       "                                     CUISINES  \\\n",
       "0                 Malwani, Goan, North Indian   \n",
       "1              Asian, Modern Indian, Japanese   \n",
       "2  North Indian, Chinese, Biryani, Hyderabadi   \n",
       "3                            Tibetan, Chinese   \n",
       "4                                    Desserts   \n",
       "\n",
       "                                     TIME     CITY        LOCALITY RATING  \\\n",
       "0  11am – 4pm, 7:30pm – 11:30pm (Mon-Sun)    Thane  Dombivali East    3.6   \n",
       "1                    6pm – 11pm (Mon-Sun)  Chennai       Ramapuram    4.2   \n",
       "2     11am – 3:30pm, 7pm – 11pm (Mon-Sun)  Chennai      Saligramam    3.8   \n",
       "3                 11:30am – 1am (Mon-Sun)   Mumbai     Bandra West    4.1   \n",
       "4                    11am – 1am (Mon-Sun)   Mumbai     Lower Parel    3.8   \n",
       "\n",
       "       VOTES    COST  \n",
       "0   49 votes  1200.0  \n",
       "1   30 votes  1500.0  \n",
       "2  221 votes   800.0  \n",
       "3   24 votes   800.0  \n",
       "4  165 votes   300.0  "
      ]
     },
     "execution_count": 338,
     "metadata": {},
     "output_type": "execute_result"
    }
   ],
   "source": [
    "df.head()"
   ]
  },
  {
   "cell_type": "code",
   "execution_count": null,
   "metadata": {},
   "outputs": [],
   "source": []
  },
  {
   "cell_type": "code",
   "execution_count": 339,
   "metadata": {},
   "outputs": [],
   "source": [
    "df.columns = map(str.lower,df.columns)"
   ]
  },
  {
   "cell_type": "code",
   "execution_count": null,
   "metadata": {},
   "outputs": [],
   "source": []
  },
  {
   "cell_type": "code",
   "execution_count": 340,
   "metadata": {},
   "outputs": [],
   "source": [
    "df['city'] = df['city'].replace(df[df['city'].str.contains('bang',na=False)][\"city\"].unique(),'Bangalore')\n",
    "df['city'] = df['city'].replace(df[df['city'].str.contains('Bang',na=False)][\"city\"].unique(),'Bangalore')\n",
    "df['city'] = df['city'].replace(df[df['city'].str.contains('Ker',na=False)][\"city\"].unique(),'kerala')\n",
    "df['city'] = df['city'].replace(df[df['city'].str.contains('JP Nagar',na=False)][\"city\"].unique(),'Bangalore')\n",
    "df['city'] = df['city'].replace(df[df['city'].str.contains('Mum',na=False)][\"city\"].unique(),'Mumbai')\n",
    "df['city'] = df['city'].replace(df[df['city'].str.contains('Bandra',na=False)][\"city\"].unique(),'Mumbai')\n",
    "df['city'] = df['city'].replace(df[df['city'].str.contains('Andheri',na=False)][\"city\"].unique(),'Mumbai')\n",
    "df['city'] = df['city'].replace(df[df['city'].str.contains('Maharashtra',na=False)][\"city\"].unique(),'Mumbai')\n",
    "df['city'] = df['city'].replace(df[df['city'].str.contains('Chen',na=False)][\"city\"].unique(),'Chennai')\n",
    "df['city'] = df['city'].replace(df[df['city'].str.contains('chen',na=False)][\"city\"].unique(),'Chennai')\n",
    "df['city'] = df['city'].replace(df[df['city'].str.contains('Tamil',na=False)][\"city\"].unique(),'Chennai')\n",
    "df['city'] = df['city'].replace(df[df['city'].str.contains('Anna Salai',na=False)][\"city\"].unique(),'Chennai')\n",
    "df['city'] = df['city'].replace(df[df['city'].str.contains('Tambaram',na=False)][\"city\"].unique(),'Chennai')\n",
    "df['city'] = df['city'].replace(df[df['city'].str.contains('Tela',na=False)][\"city\"].unique(),'Telangana')\n",
    "df['city'] = df['city'].replace(df[df['city'].str.contains('Delhi',na=False)][\"city\"].unique(),'Delhi')\n",
    "df['city'] = df['city'].replace(df[df['city'].str.contains('Karnataka',na=False)][\"city\"].unique(),'Bangalore')\n",
    "df['city'] = df['city'].replace(df[df['city'].str.contains('Bengalore',na=False)][\"city\"].unique(),'Bangalore')\n",
    "df['city'] = df['city'].replace(df[df['city'].str.contains('Bengalore',na=False)][\"city\"].unique(),'Bangalore')\n",
    "df['city'] = df['city'].replace(df[df['city'].str.contains('Bengaluru',na=False)][\"city\"].unique(),'Bangalore')\n",
    "df['city'] = df['city'].replace(df[df['city'].str.contains('Marathahalli',na=False)][\"city\"].unique(),'Bangalore')\n",
    "df['city'] = df['city'].replace(df[df['city'].str.contains('Kochi',na=False)][\"city\"].unique(),'Kochi')\n",
    "df['city'] = df['city'].replace(df[df['city'].str.contains('Hyder',na=False)][\"city\"].unique(),'Hyderabad')"
   ]
  },
  {
   "cell_type": "code",
   "execution_count": 341,
   "metadata": {},
   "outputs": [],
   "source": [
    "df_d = df"
   ]
  },
  {
   "cell_type": "code",
   "execution_count": 342,
   "metadata": {},
   "outputs": [
    {
     "data": {
      "text/plain": [
       "(16921, 9)"
      ]
     },
     "execution_count": 342,
     "metadata": {},
     "output_type": "execute_result"
    }
   ],
   "source": [
    "df_d.shape"
   ]
  },
  {
   "cell_type": "code",
   "execution_count": 343,
   "metadata": {},
   "outputs": [
    {
     "data": {
      "text/html": [
       "<div>\n",
       "<style scoped>\n",
       "    .dataframe tbody tr th:only-of-type {\n",
       "        vertical-align: middle;\n",
       "    }\n",
       "\n",
       "    .dataframe tbody tr th {\n",
       "        vertical-align: top;\n",
       "    }\n",
       "\n",
       "    .dataframe thead th {\n",
       "        text-align: right;\n",
       "    }\n",
       "</style>\n",
       "<table border=\"1\" class=\"dataframe\">\n",
       "  <thead>\n",
       "    <tr style=\"text-align: right;\">\n",
       "      <th></th>\n",
       "      <th>title</th>\n",
       "      <th>restaurant_id</th>\n",
       "      <th>cuisines</th>\n",
       "      <th>time</th>\n",
       "      <th>city</th>\n",
       "      <th>locality</th>\n",
       "      <th>rating</th>\n",
       "      <th>votes</th>\n",
       "      <th>cost</th>\n",
       "    </tr>\n",
       "  </thead>\n",
       "  <tbody>\n",
       "    <tr>\n",
       "      <th>0</th>\n",
       "      <td>CASUAL DINING</td>\n",
       "      <td>9438</td>\n",
       "      <td>Malwani, Goan, North Indian</td>\n",
       "      <td>11am – 4pm, 7:30pm – 11:30pm (Mon-Sun)</td>\n",
       "      <td>Thane</td>\n",
       "      <td>Dombivali East</td>\n",
       "      <td>3.6</td>\n",
       "      <td>49 votes</td>\n",
       "      <td>1200.0</td>\n",
       "    </tr>\n",
       "    <tr>\n",
       "      <th>1</th>\n",
       "      <td>CASUAL DINING,BAR</td>\n",
       "      <td>13198</td>\n",
       "      <td>Asian, Modern Indian, Japanese</td>\n",
       "      <td>6pm – 11pm (Mon-Sun)</td>\n",
       "      <td>Chennai</td>\n",
       "      <td>Ramapuram</td>\n",
       "      <td>4.2</td>\n",
       "      <td>30 votes</td>\n",
       "      <td>1500.0</td>\n",
       "    </tr>\n",
       "    <tr>\n",
       "      <th>2</th>\n",
       "      <td>CASUAL DINING</td>\n",
       "      <td>10915</td>\n",
       "      <td>North Indian, Chinese, Biryani, Hyderabadi</td>\n",
       "      <td>11am – 3:30pm, 7pm – 11pm (Mon-Sun)</td>\n",
       "      <td>Chennai</td>\n",
       "      <td>Saligramam</td>\n",
       "      <td>3.8</td>\n",
       "      <td>221 votes</td>\n",
       "      <td>800.0</td>\n",
       "    </tr>\n",
       "    <tr>\n",
       "      <th>3</th>\n",
       "      <td>QUICK BITES</td>\n",
       "      <td>6346</td>\n",
       "      <td>Tibetan, Chinese</td>\n",
       "      <td>11:30am – 1am (Mon-Sun)</td>\n",
       "      <td>Mumbai</td>\n",
       "      <td>Bandra West</td>\n",
       "      <td>4.1</td>\n",
       "      <td>24 votes</td>\n",
       "      <td>800.0</td>\n",
       "    </tr>\n",
       "    <tr>\n",
       "      <th>4</th>\n",
       "      <td>DESSERT PARLOR</td>\n",
       "      <td>15387</td>\n",
       "      <td>Desserts</td>\n",
       "      <td>11am – 1am (Mon-Sun)</td>\n",
       "      <td>Mumbai</td>\n",
       "      <td>Lower Parel</td>\n",
       "      <td>3.8</td>\n",
       "      <td>165 votes</td>\n",
       "      <td>300.0</td>\n",
       "    </tr>\n",
       "  </tbody>\n",
       "</table>\n",
       "</div>"
      ],
      "text/plain": [
       "               title  restaurant_id  \\\n",
       "0      CASUAL DINING           9438   \n",
       "1  CASUAL DINING,BAR          13198   \n",
       "2      CASUAL DINING          10915   \n",
       "3        QUICK BITES           6346   \n",
       "4     DESSERT PARLOR          15387   \n",
       "\n",
       "                                     cuisines  \\\n",
       "0                 Malwani, Goan, North Indian   \n",
       "1              Asian, Modern Indian, Japanese   \n",
       "2  North Indian, Chinese, Biryani, Hyderabadi   \n",
       "3                            Tibetan, Chinese   \n",
       "4                                    Desserts   \n",
       "\n",
       "                                     time     city        locality rating  \\\n",
       "0  11am – 4pm, 7:30pm – 11:30pm (Mon-Sun)    Thane  Dombivali East    3.6   \n",
       "1                    6pm – 11pm (Mon-Sun)  Chennai       Ramapuram    4.2   \n",
       "2     11am – 3:30pm, 7pm – 11pm (Mon-Sun)  Chennai      Saligramam    3.8   \n",
       "3                 11:30am – 1am (Mon-Sun)   Mumbai     Bandra West    4.1   \n",
       "4                    11am – 1am (Mon-Sun)   Mumbai     Lower Parel    3.8   \n",
       "\n",
       "       votes    cost  \n",
       "0   49 votes  1200.0  \n",
       "1   30 votes  1500.0  \n",
       "2  221 votes   800.0  \n",
       "3   24 votes   800.0  \n",
       "4  165 votes   300.0  "
      ]
     },
     "execution_count": 343,
     "metadata": {},
     "output_type": "execute_result"
    }
   ],
   "source": [
    "df_d.head()"
   ]
  },
  {
   "cell_type": "code",
   "execution_count": 344,
   "metadata": {},
   "outputs": [
    {
     "data": {
      "text/plain": [
       "title               0\n",
       "restaurant_id       0\n",
       "cuisines            0\n",
       "time                0\n",
       "city              147\n",
       "locality          128\n",
       "rating              4\n",
       "votes            1606\n",
       "cost             4231\n",
       "dtype: int64"
      ]
     },
     "execution_count": 344,
     "metadata": {},
     "output_type": "execute_result"
    }
   ],
   "source": [
    "df_d.isna().sum()"
   ]
  },
  {
   "cell_type": "code",
   "execution_count": null,
   "metadata": {},
   "outputs": [],
   "source": []
  },
  {
   "cell_type": "code",
   "execution_count": 345,
   "metadata": {},
   "outputs": [],
   "source": [
    "df_d.columns = map(str.lower,df_d.columns)"
   ]
  },
  {
   "cell_type": "code",
   "execution_count": null,
   "metadata": {},
   "outputs": [],
   "source": []
  },
  {
   "cell_type": "code",
   "execution_count": null,
   "metadata": {},
   "outputs": [],
   "source": []
  },
  {
   "cell_type": "code",
   "execution_count": 346,
   "metadata": {},
   "outputs": [
    {
     "data": {
      "text/plain": [
       "array(['Dombivali East', 'Ramapuram', 'Saligramam', ...,\n",
       "       'Off Carter Road', 'SRM Back Gate', 'Perry Cross Road'],\n",
       "      dtype=object)"
      ]
     },
     "execution_count": 346,
     "metadata": {},
     "output_type": "execute_result"
    }
   ],
   "source": [
    "df_d['locality'].unique()"
   ]
  },
  {
   "cell_type": "code",
   "execution_count": 347,
   "metadata": {},
   "outputs": [],
   "source": [
    "df_d.dropna(subset=['city','locality'],how='all',inplace=True)"
   ]
  },
  {
   "cell_type": "code",
   "execution_count": null,
   "metadata": {},
   "outputs": [],
   "source": []
  },
  {
   "cell_type": "code",
   "execution_count": 348,
   "metadata": {},
   "outputs": [
    {
     "data": {
      "text/plain": [
       "title               0\n",
       "restaurant_id       0\n",
       "cuisines            0\n",
       "time                0\n",
       "city               20\n",
       "locality            1\n",
       "rating              4\n",
       "votes            1584\n",
       "cost             4201\n",
       "dtype: int64"
      ]
     },
     "execution_count": 348,
     "metadata": {},
     "output_type": "execute_result"
    }
   ],
   "source": [
    "df_d.isna().sum()"
   ]
  },
  {
   "cell_type": "code",
   "execution_count": 349,
   "metadata": {},
   "outputs": [
    {
     "data": {
      "text/html": [
       "<div>\n",
       "<style scoped>\n",
       "    .dataframe tbody tr th:only-of-type {\n",
       "        vertical-align: middle;\n",
       "    }\n",
       "\n",
       "    .dataframe tbody tr th {\n",
       "        vertical-align: top;\n",
       "    }\n",
       "\n",
       "    .dataframe thead th {\n",
       "        text-align: right;\n",
       "    }\n",
       "</style>\n",
       "<table border=\"1\" class=\"dataframe\">\n",
       "  <thead>\n",
       "    <tr style=\"text-align: right;\">\n",
       "      <th></th>\n",
       "      <th>title</th>\n",
       "      <th>restaurant_id</th>\n",
       "      <th>cuisines</th>\n",
       "      <th>time</th>\n",
       "      <th>city</th>\n",
       "      <th>locality</th>\n",
       "      <th>rating</th>\n",
       "      <th>votes</th>\n",
       "      <th>cost</th>\n",
       "    </tr>\n",
       "  </thead>\n",
       "  <tbody>\n",
       "    <tr>\n",
       "      <th>12181</th>\n",
       "      <td>None</td>\n",
       "      <td>3861</td>\n",
       "      <td>Asian</td>\n",
       "      <td>11am – 11pm (Mon, Tue, Thu, Sun), 11am – 3pm...</td>\n",
       "      <td>Bangalore</td>\n",
       "      <td>NaN</td>\n",
       "      <td>NEW</td>\n",
       "      <td>NaN</td>\n",
       "      <td>300.0</td>\n",
       "    </tr>\n",
       "  </tbody>\n",
       "</table>\n",
       "</div>"
      ],
      "text/plain": [
       "      title  restaurant_id cuisines  \\\n",
       "12181  None           3861    Asian   \n",
       "\n",
       "                                                  time       city locality  \\\n",
       "12181  11am – 11pm (Mon, Tue, Thu, Sun), 11am – 3pm...  Bangalore      NaN   \n",
       "\n",
       "      rating votes   cost  \n",
       "12181    NEW   NaN  300.0  "
      ]
     },
     "execution_count": 349,
     "metadata": {},
     "output_type": "execute_result"
    }
   ],
   "source": [
    "df_d[df_d.locality.isna()]"
   ]
  },
  {
   "cell_type": "code",
   "execution_count": 350,
   "metadata": {},
   "outputs": [
    {
     "data": {
      "text/plain": [
       "array(['Thane', 'Chennai', 'Mumbai', 'Bangalore', 'Gurgaon', 'Hyderabad',\n",
       "       'Kochi', 'Thane West', 'Delhi', 'Malad East', '682036', 'Noida',\n",
       "       'Secunderabad', 'India', 'Madhuranagar', nan, 'Faridabad',\n",
       "       'Chembur.', 'opp gurudwara Shakurpur', 'Telangana', 'Ghaziabad',\n",
       "       'kerala', 'Edappally', 'Kadavanthra', 'Ernakulam Circle kochi',\n",
       "       'Near Reliance Fresh', 'Kilpauk', 'Kothaguda', 'Goregaon West',\n",
       "       'Kakkanad', 'Outer Ring Road', 'Mulund East',\n",
       "       'Secunderabad main road near signal NMREC COLLEGE', 'Gachibowli',\n",
       "       'Semmancheri', 'Powai (Next to Powai Plaza)', 'Dombivali East',\n",
       "       'Kandivali', 'Dewan Rama Road', 'Gurugram', 'Sector 51 Noida',\n",
       "       'Kaloor', 'Besant Nagar', 'Adjacent To Commercial Street',\n",
       "       'Dwarka', '682035.', 'Kalyan West', 'Avadi', 'Kondapur',\n",
       "       'Mehdipatnam', 'Gandipet', 'Velachery', 'Pallavaram',\n",
       "       'Vijaya Nagar', 'BTM Layout',\n",
       "       'Metro Pillar No 21. Mettuguda main road near railway degree college.',\n",
       "       'Madhapur', 'Ernakulam', 'Sarjapur', 'Rohini', 'Karol Bagh',\n",
       "       'Perungudi', 'Thykoodam', 'Greater Noida', 'Khairatabad',\n",
       "       'chullickal', 'Grant Road West', 'Hitech City', 'West Maredpally',\n",
       "       'Nedumbassery', 'MG Road', 'Naya Nagar Mira Road', 'Pitampura',\n",
       "       'Lower Parel', 'HBR Layout', 'Rajiv gandhi Nagar', 'Medavakkam',\n",
       "       'Sathya Nagar', 'Behind Ramalayam Temple', 'Palarivattom',\n",
       "       'Brigade Road', 'Virar West', 'B-1 Stage', 'Aluva',\n",
       "       'IOB Bank Kamala Nagar', 'HSR Layout', 'Marine Drive',\n",
       "       'DLF Galleria', 'Nallathambi Main Road', 'Citypark', 'Bhayandar',\n",
       "       'Aluva Circle', 'Thammenahalli Village', 'SG Palya', 'Attapur.',\n",
       "       'Near Shangrilla Bus Stop', 'Khar (west)', 'Road 3', 'Kukatpally',\n",
       "       'Faridabd', 'Dilsukhnagar', 'Near Munrshwara Temple',\n",
       "       'Off Brigade Road', 'khar west', 'Potheri', 'OMR Karapakkam',\n",
       "       'Mahim', 'Lingampally', 'Powai', 'Vasai West.', 'Thane (W)',\n",
       "       'Secunderabad ECIL', 'navi mumbai', 'ward X11', 'kochi',\n",
       "       'Perumbavoor', 'Mira raod east', 'Pokhran Road 2', 'Uttar Pradesh',\n",
       "       'Naharpar', 'Hosur Road', 'Near Bharat Petroleum.', 'Sriram nagar',\n",
       "       'Vyttila', 'Banjara Hills', 'MALAPALLIPURAM P .O THRISSUR',\n",
       "       'Panampilly Nagar', 'hyderabad', 'Borivali East.', 'ECIL',\n",
       "       'Jubilee Hills',\n",
       "       'Amrit kaur market opposite new delhi railway station paharganj',\n",
       "       'Telengana', 'Rajanpada', 'Mahabalipuram',\n",
       "       'Secunderabad. WE HAVE NO BRANCHES.', 'Gurgoan', 'Elamakkara',\n",
       "       'Sector 1', 'Kolathur', '3rd Street', 'Borivali West',\n",
       "       'Rodeo Drive Sector 49', 'Pallimukku', 'Sector 51', 'Champapet',\n",
       "       'Andavar Nagar', 'opp mukteshwar ashram powai', 'Nungambakkam',\n",
       "       'BK Guda', 'Kukatapally', 'Near Sector 110 Noida', 'Navallur',\n",
       "       'Beside Excellency Gardens', 'Begumpet',\n",
       "       'Maharaja Hotel Beside Gardania Bar', 'Ashok Vihar Phase 1',\n",
       "       'Trivandrum', 'Narayanguda', 'Thevera', 'Palm Beach Road',\n",
       "       'East Coast Road (ECR)', 'Ramapuram', 'Nandanam', 'Saket',\n",
       "       'MG Road Ernakulam', 'Indiranagar', 'Thiruvanmiyur', 'Ambattur',\n",
       "       'Anna Nagar West', 'Old Railway Road', 'Kalyan',\n",
       "       'Near Ramlila Ground', 'Serilingampally', 'Himayath Nagar',\n",
       "       'Nallala Street', 'Wagle Estate', '1st Stage', 'First Street',\n",
       "       '6 & 7 - 4/64 Subhash Nagar', '1st Tavarekere', 'Perambur',\n",
       "       'Vaishali Ghaziabad', 'Thanisandra', 'Block F', 'Sector 7 Dwarka',\n",
       "       'Opposite Barathi Gas Company', 'Vadapalani', 'Kondapur.',\n",
       "       'Badlapur West.', 'Kalamassery', 'Palavakkam', 'TCS Synergy park',\n",
       "       'BTM 1st Stage', 'Mahadevpura', 'NEW BEL ROAD 560054',\n",
       "       'Veliaveetil house Vivekananda Nagar Elamakkara', 'Sholinganallur',\n",
       "       'Lower Parel West', 'Tripunithura', 'Mogappair', 'Ashok Nagar',\n",
       "       'Haridwar Apartments', 'Indirapuram', 'Manikonda', 'GST Road',\n",
       "       'Lahari Apartments', 'Ramanthapur', 'Mulund west',\n",
       "       'Gurgaon Haryana India', '10th avenue', 'Uppal', 'Nizampet',\n",
       "       'Ulsoo', 'PVR plaza cinema building Connaught Place',\n",
       "       'Gurgaon Haryana', 'Chromepet', 'Janakpuri', 'Secunderabad.',\n",
       "       'Vadapalani.', 'aluva circle', 'Vasai west', 'Mig Housing Society',\n",
       "       'Haryana', 'Borivali West.', 'Golf Course Road',\n",
       "       'Near Jyothinivas College', 'Anna Nagar East', 'Masab Tank',\n",
       "       'Panathur Main Road',\n",
       "       'opposite to western side of ITPL Service gate', 'Kalkaji',\n",
       "       'APR Chambers', 'Gandhinagar Rd', 'Whitefield', '682024',\n",
       "       'Girgaum', 'Kurla (W)', 'Thane West Thane West', 'Marad',\n",
       "       'Near Sector 34', 'Nallagandla', 'Vandalur', 'Mulund West',\n",
       "       'Secunderbad', 'MM Nagar', 'Chittethukkara', 'BTM', 'Dombivli',\n",
       "       'Sahakara Nagar', 'Tavarekere Main Road', 'Community Centre',\n",
       "       'Delh.', 'Sector-6 Noida 201301', 'Kaaraikudi Complex',\n",
       "       'Thiruvanmiyur (Opp Eurokids LB Road)', 'Tolichowki', 'Alwarpet',\n",
       "       'Suraram', 'Forum Sujana Mall Opposite to Malaysian township',\n",
       "       'Old Hafeezpet', 'Yousufguda', 'Chepauk', 'Chowpatty',\n",
       "       'Church Street', 'RA Puram', 'Habsiguda', 'Kandivali West',\n",
       "       'Noida Extention', 'Shihab Thangal Road', 'Miumbai',\n",
       "       'Vanasthalipuram', 'KK Road', 'Opposite Ellora Building'],\n",
       "      dtype=object)"
      ]
     },
     "execution_count": 350,
     "metadata": {},
     "output_type": "execute_result"
    }
   ],
   "source": [
    "df_d.city.unique()"
   ]
  },
  {
   "cell_type": "code",
   "execution_count": 351,
   "metadata": {},
   "outputs": [],
   "source": [
    "df1=df_d.query(\" city  not in ('Secunderabad','Ghaziabad','Telangana','Chennai','Bangalore','Noida','Mumbai','Kochi','Hyderabad','Delhi','Gurgaon','Faridabad','Ernakulam')\")#.drop#[\"CITY\"]"
   ]
  },
  {
   "cell_type": "code",
   "execution_count": 352,
   "metadata": {},
   "outputs": [
    {
     "data": {
      "text/html": [
       "<div>\n",
       "<style scoped>\n",
       "    .dataframe tbody tr th:only-of-type {\n",
       "        vertical-align: middle;\n",
       "    }\n",
       "\n",
       "    .dataframe tbody tr th {\n",
       "        vertical-align: top;\n",
       "    }\n",
       "\n",
       "    .dataframe thead th {\n",
       "        text-align: right;\n",
       "    }\n",
       "</style>\n",
       "<table border=\"1\" class=\"dataframe\">\n",
       "  <thead>\n",
       "    <tr style=\"text-align: right;\">\n",
       "      <th></th>\n",
       "      <th>title</th>\n",
       "      <th>restaurant_id</th>\n",
       "      <th>cuisines</th>\n",
       "      <th>time</th>\n",
       "      <th>city</th>\n",
       "      <th>locality</th>\n",
       "      <th>rating</th>\n",
       "      <th>votes</th>\n",
       "      <th>cost</th>\n",
       "    </tr>\n",
       "  </thead>\n",
       "  <tbody>\n",
       "    <tr>\n",
       "      <th>0</th>\n",
       "      <td>CASUAL DINING</td>\n",
       "      <td>9438</td>\n",
       "      <td>Malwani, Goan, North Indian</td>\n",
       "      <td>11am – 4pm, 7:30pm – 11:30pm (Mon-Sun)</td>\n",
       "      <td>Thane</td>\n",
       "      <td>Dombivali East</td>\n",
       "      <td>3.6</td>\n",
       "      <td>49 votes</td>\n",
       "      <td>1200.0</td>\n",
       "    </tr>\n",
       "    <tr>\n",
       "      <th>14</th>\n",
       "      <td>QUICK BITES</td>\n",
       "      <td>15024</td>\n",
       "      <td>Maharashtrian</td>\n",
       "      <td>Closed (Mon),11am – 11pm (Tue-Sun)</td>\n",
       "      <td>Thane West</td>\n",
       "      <td>Majiwada</td>\n",
       "      <td>4.0</td>\n",
       "      <td>160 votes</td>\n",
       "      <td>300.0</td>\n",
       "    </tr>\n",
       "    <tr>\n",
       "      <th>47</th>\n",
       "      <td>CASUAL DINING,BAR</td>\n",
       "      <td>2003</td>\n",
       "      <td>Continental, North Indian, Chinese, Healthy Food</td>\n",
       "      <td>12noon – 1am (Mon-Sun)</td>\n",
       "      <td>Malad East</td>\n",
       "      <td>Film City Road</td>\n",
       "      <td>3.9</td>\n",
       "      <td>985 votes</td>\n",
       "      <td>1400.0</td>\n",
       "    </tr>\n",
       "    <tr>\n",
       "      <th>58</th>\n",
       "      <td>CASUAL DINING</td>\n",
       "      <td>4963</td>\n",
       "      <td>Kerala</td>\n",
       "      <td>12noon – 3:30pm, 7pm – 10pm (Mon-Sun)</td>\n",
       "      <td>682036</td>\n",
       "      <td>Kerala</td>\n",
       "      <td>4.0</td>\n",
       "      <td>145 votes</td>\n",
       "      <td>400.0</td>\n",
       "    </tr>\n",
       "    <tr>\n",
       "      <th>135</th>\n",
       "      <td>QUICK BITES</td>\n",
       "      <td>10311</td>\n",
       "      <td>Chinese</td>\n",
       "      <td>11am – 11pm (Mon-Sun)</td>\n",
       "      <td>India</td>\n",
       "      <td>Telangana 500084</td>\n",
       "      <td>3.5</td>\n",
       "      <td>92 votes</td>\n",
       "      <td>250.0</td>\n",
       "    </tr>\n",
       "    <tr>\n",
       "      <th>...</th>\n",
       "      <td>...</td>\n",
       "      <td>...</td>\n",
       "      <td>...</td>\n",
       "      <td>...</td>\n",
       "      <td>...</td>\n",
       "      <td>...</td>\n",
       "      <td>...</td>\n",
       "      <td>...</td>\n",
       "      <td>...</td>\n",
       "    </tr>\n",
       "    <tr>\n",
       "      <th>4122</th>\n",
       "      <td>CASUAL DINING</td>\n",
       "      <td>10685</td>\n",
       "      <td>North Indian, South Indian, Chinese, Continent...</td>\n",
       "      <td>11am – 11:30pm (Mon-Sun)</td>\n",
       "      <td>Thane</td>\n",
       "      <td>Dombivali East</td>\n",
       "      <td>3.4</td>\n",
       "      <td>16 votes</td>\n",
       "      <td>NaN</td>\n",
       "    </tr>\n",
       "    <tr>\n",
       "      <th>4139</th>\n",
       "      <td>CASUAL DINING</td>\n",
       "      <td>9237</td>\n",
       "      <td>North Indian, Chinese</td>\n",
       "      <td>5pm – 1am (Mon-Sun)</td>\n",
       "      <td>Thane</td>\n",
       "      <td>Thane west</td>\n",
       "      <td>4.1</td>\n",
       "      <td>504 votes</td>\n",
       "      <td>NaN</td>\n",
       "    </tr>\n",
       "    <tr>\n",
       "      <th>4167</th>\n",
       "      <td>QUICK BITES</td>\n",
       "      <td>12015</td>\n",
       "      <td>Lebanese</td>\n",
       "      <td>4pm – 11pm (Mon-Sun)</td>\n",
       "      <td>NaN</td>\n",
       "      <td>Chennai</td>\n",
       "      <td>3.7</td>\n",
       "      <td>124 votes</td>\n",
       "      <td>NaN</td>\n",
       "    </tr>\n",
       "    <tr>\n",
       "      <th>4177</th>\n",
       "      <td>DESSERT PARLOR</td>\n",
       "      <td>5425</td>\n",
       "      <td>Desserts</td>\n",
       "      <td>10:30am – 12:30AM (Mon-Sun)</td>\n",
       "      <td>Opposite Ellora Building</td>\n",
       "      <td>Off Carter Road</td>\n",
       "      <td>4.2</td>\n",
       "      <td>1236 votes</td>\n",
       "      <td>NaN</td>\n",
       "    </tr>\n",
       "    <tr>\n",
       "      <th>4196</th>\n",
       "      <td>QUICK BITES</td>\n",
       "      <td>3791</td>\n",
       "      <td>Street Food, Fast Food</td>\n",
       "      <td>8am – 10pm (Mon-Sun)</td>\n",
       "      <td>Potheri</td>\n",
       "      <td>SRM Back Gate</td>\n",
       "      <td>3.7</td>\n",
       "      <td>259 votes</td>\n",
       "      <td>NaN</td>\n",
       "    </tr>\n",
       "  </tbody>\n",
       "</table>\n",
       "<p>690 rows × 9 columns</p>\n",
       "</div>"
      ],
      "text/plain": [
       "                  title  restaurant_id  \\\n",
       "0         CASUAL DINING           9438   \n",
       "14          QUICK BITES          15024   \n",
       "47    CASUAL DINING,BAR           2003   \n",
       "58        CASUAL DINING           4963   \n",
       "135         QUICK BITES          10311   \n",
       "...                 ...            ...   \n",
       "4122      CASUAL DINING          10685   \n",
       "4139      CASUAL DINING           9237   \n",
       "4167        QUICK BITES          12015   \n",
       "4177     DESSERT PARLOR           5425   \n",
       "4196        QUICK BITES           3791   \n",
       "\n",
       "                                               cuisines  \\\n",
       "0                           Malwani, Goan, North Indian   \n",
       "14                                        Maharashtrian   \n",
       "47     Continental, North Indian, Chinese, Healthy Food   \n",
       "58                                               Kerala   \n",
       "135                                             Chinese   \n",
       "...                                                 ...   \n",
       "4122  North Indian, South Indian, Chinese, Continent...   \n",
       "4139                              North Indian, Chinese   \n",
       "4167                                           Lebanese   \n",
       "4177                                           Desserts   \n",
       "4196                             Street Food, Fast Food   \n",
       "\n",
       "                                        time                      city  \\\n",
       "0     11am – 4pm, 7:30pm – 11:30pm (Mon-Sun)                     Thane   \n",
       "14        Closed (Mon),11am – 11pm (Tue-Sun)                Thane West   \n",
       "47                    12noon – 1am (Mon-Sun)                Malad East   \n",
       "58     12noon – 3:30pm, 7pm – 10pm (Mon-Sun)                    682036   \n",
       "135                    11am – 11pm (Mon-Sun)                     India   \n",
       "...                                      ...                       ...   \n",
       "4122                11am – 11:30pm (Mon-Sun)                     Thane   \n",
       "4139                     5pm – 1am (Mon-Sun)                     Thane   \n",
       "4167                    4pm – 11pm (Mon-Sun)                       NaN   \n",
       "4177             10:30am – 12:30AM (Mon-Sun)  Opposite Ellora Building   \n",
       "4196                    8am – 10pm (Mon-Sun)                   Potheri   \n",
       "\n",
       "              locality rating       votes    cost  \n",
       "0       Dombivali East    3.6    49 votes  1200.0  \n",
       "14            Majiwada    4.0   160 votes   300.0  \n",
       "47      Film City Road    3.9   985 votes  1400.0  \n",
       "58              Kerala    4.0   145 votes   400.0  \n",
       "135   Telangana 500084    3.5    92 votes   250.0  \n",
       "...                ...    ...         ...     ...  \n",
       "4122    Dombivali East    3.4    16 votes     NaN  \n",
       "4139        Thane west    4.1   504 votes     NaN  \n",
       "4167           Chennai    3.7   124 votes     NaN  \n",
       "4177   Off Carter Road    4.2  1236 votes     NaN  \n",
       "4196     SRM Back Gate    3.7   259 votes     NaN  \n",
       "\n",
       "[690 rows x 9 columns]"
      ]
     },
     "execution_count": 352,
     "metadata": {},
     "output_type": "execute_result"
    }
   ],
   "source": [
    "df1"
   ]
  },
  {
   "cell_type": "code",
   "execution_count": null,
   "metadata": {},
   "outputs": [],
   "source": []
  },
  {
   "cell_type": "code",
   "execution_count": null,
   "metadata": {},
   "outputs": [],
   "source": []
  },
  {
   "cell_type": "code",
   "execution_count": 353,
   "metadata": {},
   "outputs": [],
   "source": [
    "df_d = df_d[~df_d.index.isin(df1.index)]\n",
    "# df_d.city.unique()"
   ]
  },
  {
   "cell_type": "code",
   "execution_count": 354,
   "metadata": {},
   "outputs": [
    {
     "data": {
      "text/plain": [
       "array(['Chennai', 'Mumbai', 'Bangalore', 'Gurgaon', 'Hyderabad', 'Kochi',\n",
       "       'Delhi', 'Noida', 'Secunderabad', 'Faridabad', 'Telangana',\n",
       "       'Ghaziabad', 'Ernakulam'], dtype=object)"
      ]
     },
     "execution_count": 354,
     "metadata": {},
     "output_type": "execute_result"
    }
   ],
   "source": [
    "df_d.city.unique()"
   ]
  },
  {
   "cell_type": "code",
   "execution_count": 355,
   "metadata": {},
   "outputs": [
    {
     "data": {
      "text/plain": [
       "(15793, 9)"
      ]
     },
     "execution_count": 355,
     "metadata": {},
     "output_type": "execute_result"
    }
   ],
   "source": [
    "df_d.shape"
   ]
  },
  {
   "cell_type": "code",
   "execution_count": null,
   "metadata": {},
   "outputs": [],
   "source": []
  },
  {
   "cell_type": "code",
   "execution_count": null,
   "metadata": {},
   "outputs": [],
   "source": []
  },
  {
   "cell_type": "code",
   "execution_count": null,
   "metadata": {},
   "outputs": [],
   "source": []
  },
  {
   "cell_type": "code",
   "execution_count": null,
   "metadata": {},
   "outputs": [],
   "source": []
  },
  {
   "cell_type": "code",
   "execution_count": null,
   "metadata": {},
   "outputs": [],
   "source": []
  },
  {
   "cell_type": "code",
   "execution_count": null,
   "metadata": {},
   "outputs": [],
   "source": []
  },
  {
   "cell_type": "code",
   "execution_count": 356,
   "metadata": {},
   "outputs": [],
   "source": [
    "city_value = df_d[df_d['locality'].isnull()].city.str.split(\" \", expand = True)[0] #Here i tried of splitting the city data to place the [0] position string into the locality part"
   ]
  },
  {
   "cell_type": "code",
   "execution_count": 357,
   "metadata": {},
   "outputs": [
    {
     "data": {
      "text/plain": [
       "12181    Bangalore\n",
       "Name: 0, dtype: object"
      ]
     },
     "execution_count": 357,
     "metadata": {},
     "output_type": "execute_result"
    }
   ],
   "source": [
    "city_value"
   ]
  },
  {
   "cell_type": "code",
   "execution_count": null,
   "metadata": {},
   "outputs": [],
   "source": []
  },
  {
   "cell_type": "code",
   "execution_count": 358,
   "metadata": {},
   "outputs": [],
   "source": [
    "df_d['locality'].fillna('Kadubesanahalli',inplace=True)"
   ]
  },
  {
   "cell_type": "code",
   "execution_count": 359,
   "metadata": {},
   "outputs": [
    {
     "data": {
      "text/plain": [
       "title               0\n",
       "restaurant_id       0\n",
       "cuisines            0\n",
       "time                0\n",
       "city                0\n",
       "locality            0\n",
       "rating              4\n",
       "votes            1475\n",
       "cost             3883\n",
       "dtype: int64"
      ]
     },
     "execution_count": 359,
     "metadata": {},
     "output_type": "execute_result"
    }
   ],
   "source": [
    "df_d.isna().sum()"
   ]
  },
  {
   "cell_type": "code",
   "execution_count": 360,
   "metadata": {},
   "outputs": [
    {
     "data": {
      "text/html": [
       "<div>\n",
       "<style scoped>\n",
       "    .dataframe tbody tr th:only-of-type {\n",
       "        vertical-align: middle;\n",
       "    }\n",
       "\n",
       "    .dataframe tbody tr th {\n",
       "        vertical-align: top;\n",
       "    }\n",
       "\n",
       "    .dataframe thead th {\n",
       "        text-align: right;\n",
       "    }\n",
       "</style>\n",
       "<table border=\"1\" class=\"dataframe\">\n",
       "  <thead>\n",
       "    <tr style=\"text-align: right;\">\n",
       "      <th></th>\n",
       "      <th>title</th>\n",
       "      <th>restaurant_id</th>\n",
       "      <th>cuisines</th>\n",
       "      <th>time</th>\n",
       "      <th>city</th>\n",
       "      <th>locality</th>\n",
       "      <th>rating</th>\n",
       "      <th>votes</th>\n",
       "      <th>cost</th>\n",
       "    </tr>\n",
       "  </thead>\n",
       "  <tbody>\n",
       "  </tbody>\n",
       "</table>\n",
       "</div>"
      ],
      "text/plain": [
       "Empty DataFrame\n",
       "Columns: [title, restaurant_id, cuisines, time, city, locality, rating, votes, cost]\n",
       "Index: []"
      ]
     },
     "execution_count": 360,
     "metadata": {},
     "output_type": "execute_result"
    }
   ],
   "source": [
    "df_d[df_d['city'].isna()] # .locality.unique()"
   ]
  },
  {
   "cell_type": "code",
   "execution_count": 361,
   "metadata": {},
   "outputs": [
    {
     "data": {
      "text/plain": [
       "title               0\n",
       "restaurant_id       0\n",
       "cuisines            0\n",
       "time                0\n",
       "city                0\n",
       "locality            0\n",
       "rating              4\n",
       "votes            1475\n",
       "cost             3883\n",
       "dtype: int64"
      ]
     },
     "execution_count": 361,
     "metadata": {},
     "output_type": "execute_result"
    }
   ],
   "source": [
    "df_d.isna().sum()"
   ]
  },
  {
   "cell_type": "code",
   "execution_count": null,
   "metadata": {},
   "outputs": [],
   "source": []
  },
  {
   "cell_type": "code",
   "execution_count": 362,
   "metadata": {},
   "outputs": [
    {
     "data": {
      "text/plain": [
       "(15793, 9)"
      ]
     },
     "execution_count": 362,
     "metadata": {},
     "output_type": "execute_result"
    }
   ],
   "source": [
    "df_d.shape"
   ]
  },
  {
   "cell_type": "code",
   "execution_count": 363,
   "metadata": {},
   "outputs": [
    {
     "data": {
      "text/html": [
       "<div>\n",
       "<style scoped>\n",
       "    .dataframe tbody tr th:only-of-type {\n",
       "        vertical-align: middle;\n",
       "    }\n",
       "\n",
       "    .dataframe tbody tr th {\n",
       "        vertical-align: top;\n",
       "    }\n",
       "\n",
       "    .dataframe thead th {\n",
       "        text-align: right;\n",
       "    }\n",
       "</style>\n",
       "<table border=\"1\" class=\"dataframe\">\n",
       "  <thead>\n",
       "    <tr style=\"text-align: right;\">\n",
       "      <th></th>\n",
       "      <th>title</th>\n",
       "      <th>restaurant_id</th>\n",
       "      <th>cuisines</th>\n",
       "      <th>time</th>\n",
       "      <th>city</th>\n",
       "      <th>locality</th>\n",
       "      <th>rating</th>\n",
       "      <th>votes</th>\n",
       "      <th>cost</th>\n",
       "    </tr>\n",
       "  </thead>\n",
       "  <tbody>\n",
       "    <tr>\n",
       "      <th>1</th>\n",
       "      <td>CASUAL DINING,BAR</td>\n",
       "      <td>13198</td>\n",
       "      <td>Asian, Modern Indian, Japanese</td>\n",
       "      <td>6pm – 11pm (Mon-Sun)</td>\n",
       "      <td>Chennai</td>\n",
       "      <td>Ramapuram</td>\n",
       "      <td>4.2</td>\n",
       "      <td>30 votes</td>\n",
       "      <td>1500.0</td>\n",
       "    </tr>\n",
       "    <tr>\n",
       "      <th>2</th>\n",
       "      <td>CASUAL DINING</td>\n",
       "      <td>10915</td>\n",
       "      <td>North Indian, Chinese, Biryani, Hyderabadi</td>\n",
       "      <td>11am – 3:30pm, 7pm – 11pm (Mon-Sun)</td>\n",
       "      <td>Chennai</td>\n",
       "      <td>Saligramam</td>\n",
       "      <td>3.8</td>\n",
       "      <td>221 votes</td>\n",
       "      <td>800.0</td>\n",
       "    </tr>\n",
       "    <tr>\n",
       "      <th>3</th>\n",
       "      <td>QUICK BITES</td>\n",
       "      <td>6346</td>\n",
       "      <td>Tibetan, Chinese</td>\n",
       "      <td>11:30am – 1am (Mon-Sun)</td>\n",
       "      <td>Mumbai</td>\n",
       "      <td>Bandra West</td>\n",
       "      <td>4.1</td>\n",
       "      <td>24 votes</td>\n",
       "      <td>800.0</td>\n",
       "    </tr>\n",
       "    <tr>\n",
       "      <th>4</th>\n",
       "      <td>DESSERT PARLOR</td>\n",
       "      <td>15387</td>\n",
       "      <td>Desserts</td>\n",
       "      <td>11am – 1am (Mon-Sun)</td>\n",
       "      <td>Mumbai</td>\n",
       "      <td>Lower Parel</td>\n",
       "      <td>3.8</td>\n",
       "      <td>165 votes</td>\n",
       "      <td>300.0</td>\n",
       "    </tr>\n",
       "    <tr>\n",
       "      <th>5</th>\n",
       "      <td>CASUAL DINING</td>\n",
       "      <td>5618</td>\n",
       "      <td>North Indian, Chinese, Seafood, Biryani</td>\n",
       "      <td>12noon – 12:30AM (Mon-Sun)</td>\n",
       "      <td>Mumbai</td>\n",
       "      <td>Vile Parle West</td>\n",
       "      <td>4.0</td>\n",
       "      <td>550 votes</td>\n",
       "      <td>800.0</td>\n",
       "    </tr>\n",
       "  </tbody>\n",
       "</table>\n",
       "</div>"
      ],
      "text/plain": [
       "               title  restaurant_id  \\\n",
       "1  CASUAL DINING,BAR          13198   \n",
       "2      CASUAL DINING          10915   \n",
       "3        QUICK BITES           6346   \n",
       "4     DESSERT PARLOR          15387   \n",
       "5      CASUAL DINING           5618   \n",
       "\n",
       "                                     cuisines  \\\n",
       "1              Asian, Modern Indian, Japanese   \n",
       "2  North Indian, Chinese, Biryani, Hyderabadi   \n",
       "3                            Tibetan, Chinese   \n",
       "4                                    Desserts   \n",
       "5     North Indian, Chinese, Seafood, Biryani   \n",
       "\n",
       "                                  time     city         locality rating  \\\n",
       "1                 6pm – 11pm (Mon-Sun)  Chennai        Ramapuram    4.2   \n",
       "2  11am – 3:30pm, 7pm – 11pm (Mon-Sun)  Chennai       Saligramam    3.8   \n",
       "3              11:30am – 1am (Mon-Sun)   Mumbai      Bandra West    4.1   \n",
       "4                 11am – 1am (Mon-Sun)   Mumbai      Lower Parel    3.8   \n",
       "5           12noon – 12:30AM (Mon-Sun)   Mumbai  Vile Parle West    4.0   \n",
       "\n",
       "       votes    cost  \n",
       "1   30 votes  1500.0  \n",
       "2  221 votes   800.0  \n",
       "3   24 votes   800.0  \n",
       "4  165 votes   300.0  \n",
       "5  550 votes   800.0  "
      ]
     },
     "execution_count": 363,
     "metadata": {},
     "output_type": "execute_result"
    }
   ],
   "source": [
    "df_d.head()"
   ]
  },
  {
   "cell_type": "code",
   "execution_count": null,
   "metadata": {},
   "outputs": [],
   "source": []
  },
  {
   "cell_type": "code",
   "execution_count": 364,
   "metadata": {},
   "outputs": [
    {
     "name": "stdout",
     "output_type": "stream",
     "text": [
      "<class 'pandas.core.frame.DataFrame'>\n",
      "Int64Index: 15793 entries, 1 to 4230\n",
      "Data columns (total 9 columns):\n",
      "title            15793 non-null object\n",
      "restaurant_id    15793 non-null int64\n",
      "cuisines         15793 non-null object\n",
      "time             15793 non-null object\n",
      "city             15793 non-null object\n",
      "locality         15793 non-null object\n",
      "rating           15789 non-null object\n",
      "votes            14318 non-null object\n",
      "cost             11910 non-null float64\n",
      "dtypes: float64(1), int64(1), object(7)\n",
      "memory usage: 1.2+ MB\n"
     ]
    }
   ],
   "source": [
    "df_d.info()"
   ]
  },
  {
   "cell_type": "code",
   "execution_count": 365,
   "metadata": {},
   "outputs": [],
   "source": [
    "df_df = df_d"
   ]
  },
  {
   "cell_type": "code",
   "execution_count": null,
   "metadata": {},
   "outputs": [],
   "source": []
  },
  {
   "cell_type": "code",
   "execution_count": null,
   "metadata": {},
   "outputs": [],
   "source": []
  },
  {
   "cell_type": "code",
   "execution_count": 366,
   "metadata": {},
   "outputs": [
    {
     "data": {
      "text/plain": [
       "1        30 votes\n",
       "2       221 votes\n",
       "3        24 votes\n",
       "4       165 votes\n",
       "5       550 votes\n",
       "          ...    \n",
       "4226    287 votes\n",
       "4227    469 votes\n",
       "4228     53 votes\n",
       "4229          NaN\n",
       "4230     63 votes\n",
       "Name: votes, Length: 15793, dtype: object"
      ]
     },
     "execution_count": 366,
     "metadata": {},
     "output_type": "execute_result"
    }
   ],
   "source": [
    "df_df.votes"
   ]
  },
  {
   "cell_type": "code",
   "execution_count": 367,
   "metadata": {},
   "outputs": [
    {
     "data": {
      "text/plain": [
       "1        30 votes\n",
       "2       221 votes\n",
       "3        24 votes\n",
       "4       165 votes\n",
       "5       550 votes\n",
       "          ...    \n",
       "4226    287 votes\n",
       "4227    469 votes\n",
       "4228     53 votes\n",
       "4229          NaN\n",
       "4230     63 votes\n",
       "Name: votes, Length: 15793, dtype: object"
      ]
     },
     "execution_count": 367,
     "metadata": {},
     "output_type": "execute_result"
    }
   ],
   "source": [
    "df_df.votes"
   ]
  },
  {
   "cell_type": "code",
   "execution_count": null,
   "metadata": {},
   "outputs": [],
   "source": []
  },
  {
   "cell_type": "code",
   "execution_count": null,
   "metadata": {},
   "outputs": [],
   "source": []
  },
  {
   "cell_type": "code",
   "execution_count": 368,
   "metadata": {
    "scrolled": true
   },
   "outputs": [],
   "source": [
    "df_df[\"votes\"].fillna(df_df.votes.mode()[0],inplace = True)"
   ]
  },
  {
   "cell_type": "code",
   "execution_count": 369,
   "metadata": {},
   "outputs": [],
   "source": [
    "df_df['votes'] = df_df['votes'].str.split(expand=True)[0]"
   ]
  },
  {
   "cell_type": "code",
   "execution_count": null,
   "metadata": {},
   "outputs": [],
   "source": []
  },
  {
   "cell_type": "code",
   "execution_count": 370,
   "metadata": {},
   "outputs": [
    {
     "data": {
      "text/plain": [
       "title               0\n",
       "restaurant_id       0\n",
       "cuisines            0\n",
       "time                0\n",
       "city                0\n",
       "locality            0\n",
       "rating              4\n",
       "votes               0\n",
       "cost             3883\n",
       "dtype: int64"
      ]
     },
     "execution_count": 370,
     "metadata": {},
     "output_type": "execute_result"
    }
   ],
   "source": [
    "df_df.isna().sum()"
   ]
  },
  {
   "cell_type": "code",
   "execution_count": 371,
   "metadata": {},
   "outputs": [
    {
     "data": {
      "text/plain": [
       "array(['30', '221', '24', ..., '2159', '3807', '1913'], dtype=object)"
      ]
     },
     "execution_count": 371,
     "metadata": {},
     "output_type": "execute_result"
    }
   ],
   "source": [
    "df_df.votes.unique()"
   ]
  },
  {
   "cell_type": "code",
   "execution_count": 372,
   "metadata": {},
   "outputs": [
    {
     "data": {
      "text/plain": [
       "array(['4.2', '3.8', '4.1', '4.0', '4.3', '3.9', '3.3', '3.4', '-', '4.5',\n",
       "       '3.6', '3.5', '4.4', '2.7', '3.7', '4.7', 'NEW', '3.1', '2.5',\n",
       "       '4.6', '2.8', nan, '3.0', '3.2', '2.6', '2.9', '4.9', '4.8', '2.4',\n",
       "       '2.3', '2.0', '2.1', '2.2'], dtype=object)"
      ]
     },
     "execution_count": 372,
     "metadata": {},
     "output_type": "execute_result"
    }
   ],
   "source": [
    "df_df.rating.unique()"
   ]
  },
  {
   "cell_type": "code",
   "execution_count": 373,
   "metadata": {},
   "outputs": [
    {
     "data": {
      "text/plain": [
       "0    3.9\n",
       "dtype: object"
      ]
     },
     "execution_count": 373,
     "metadata": {},
     "output_type": "execute_result"
    }
   ],
   "source": [
    "df_df.rating.mode()"
   ]
  },
  {
   "cell_type": "code",
   "execution_count": 374,
   "metadata": {},
   "outputs": [],
   "source": [
    "df_df.replace({'-':df_df.rating.mode()[0],'NEW':df_df.rating.mode()[0]},inplace=True)"
   ]
  },
  {
   "cell_type": "code",
   "execution_count": 375,
   "metadata": {},
   "outputs": [
    {
     "data": {
      "text/plain": [
       "array(['4.2', '3.8', '4.1', '4.0', '4.3', '3.9', '3.3', '3.4', '4.5',\n",
       "       '3.6', '3.5', '4.4', '2.7', '3.7', '4.7', '3.1', '2.5', '4.6',\n",
       "       '2.8', nan, '3.0', '3.2', '2.6', '2.9', '4.9', '4.8', '2.4', '2.3',\n",
       "       '2.0', '2.1', '2.2'], dtype=object)"
      ]
     },
     "execution_count": 375,
     "metadata": {},
     "output_type": "execute_result"
    }
   ],
   "source": [
    "df_df.rating.unique()"
   ]
  },
  {
   "cell_type": "code",
   "execution_count": 376,
   "metadata": {},
   "outputs": [
    {
     "name": "stdout",
     "output_type": "stream",
     "text": [
      "<class 'pandas.core.frame.DataFrame'>\n",
      "Int64Index: 15793 entries, 1 to 4230\n",
      "Data columns (total 9 columns):\n",
      "title            15793 non-null object\n",
      "restaurant_id    15793 non-null int64\n",
      "cuisines         15793 non-null object\n",
      "time             15793 non-null object\n",
      "city             15793 non-null object\n",
      "locality         15793 non-null object\n",
      "rating           15789 non-null object\n",
      "votes            15793 non-null object\n",
      "cost             11910 non-null float64\n",
      "dtypes: float64(1), int64(1), object(7)\n",
      "memory usage: 1.2+ MB\n"
     ]
    }
   ],
   "source": [
    "df_df.info()"
   ]
  },
  {
   "cell_type": "code",
   "execution_count": 377,
   "metadata": {},
   "outputs": [],
   "source": [
    "df_df = df_df.astype({'rating':'float'})"
   ]
  },
  {
   "cell_type": "code",
   "execution_count": 378,
   "metadata": {},
   "outputs": [],
   "source": [
    "df_df.rating.fillna(df_df.rating.mode()[0],inplace=True)"
   ]
  },
  {
   "cell_type": "code",
   "execution_count": 379,
   "metadata": {},
   "outputs": [
    {
     "data": {
      "text/plain": [
       "0"
      ]
     },
     "execution_count": 379,
     "metadata": {},
     "output_type": "execute_result"
    }
   ],
   "source": [
    "df_df.rating.isna().sum()"
   ]
  },
  {
   "cell_type": "code",
   "execution_count": 380,
   "metadata": {},
   "outputs": [],
   "source": [
    "df_df = df_df.astype({'votes':'int'})"
   ]
  },
  {
   "cell_type": "code",
   "execution_count": 381,
   "metadata": {},
   "outputs": [],
   "source": [
    "df_df.drop(['locality','restaurant_id','time'],axis=1,inplace=True)"
   ]
  },
  {
   "cell_type": "code",
   "execution_count": 382,
   "metadata": {},
   "outputs": [
    {
     "name": "stdout",
     "output_type": "stream",
     "text": [
      "<class 'pandas.core.frame.DataFrame'>\n",
      "Int64Index: 15793 entries, 1 to 4230\n",
      "Data columns (total 6 columns):\n",
      "title       15793 non-null object\n",
      "cuisines    15793 non-null object\n",
      "city        15793 non-null object\n",
      "rating      15793 non-null float64\n",
      "votes       15793 non-null int64\n",
      "cost        11910 non-null float64\n",
      "dtypes: float64(2), int64(1), object(3)\n",
      "memory usage: 863.7+ KB\n"
     ]
    }
   ],
   "source": [
    "df_df.info()"
   ]
  },
  {
   "cell_type": "code",
   "execution_count": 383,
   "metadata": {},
   "outputs": [
    {
     "data": {
      "text/html": [
       "<div>\n",
       "<style scoped>\n",
       "    .dataframe tbody tr th:only-of-type {\n",
       "        vertical-align: middle;\n",
       "    }\n",
       "\n",
       "    .dataframe tbody tr th {\n",
       "        vertical-align: top;\n",
       "    }\n",
       "\n",
       "    .dataframe thead th {\n",
       "        text-align: right;\n",
       "    }\n",
       "</style>\n",
       "<table border=\"1\" class=\"dataframe\">\n",
       "  <thead>\n",
       "    <tr style=\"text-align: right;\">\n",
       "      <th></th>\n",
       "      <th>title</th>\n",
       "      <th>cuisines</th>\n",
       "      <th>city</th>\n",
       "      <th>rating</th>\n",
       "      <th>votes</th>\n",
       "      <th>cost</th>\n",
       "    </tr>\n",
       "  </thead>\n",
       "  <tbody>\n",
       "    <tr>\n",
       "      <th>1</th>\n",
       "      <td>CASUAL DINING,BAR</td>\n",
       "      <td>Asian, Modern Indian, Japanese</td>\n",
       "      <td>Chennai</td>\n",
       "      <td>4.2</td>\n",
       "      <td>30</td>\n",
       "      <td>1500.0</td>\n",
       "    </tr>\n",
       "    <tr>\n",
       "      <th>2</th>\n",
       "      <td>CASUAL DINING</td>\n",
       "      <td>North Indian, Chinese, Biryani, Hyderabadi</td>\n",
       "      <td>Chennai</td>\n",
       "      <td>3.8</td>\n",
       "      <td>221</td>\n",
       "      <td>800.0</td>\n",
       "    </tr>\n",
       "    <tr>\n",
       "      <th>3</th>\n",
       "      <td>QUICK BITES</td>\n",
       "      <td>Tibetan, Chinese</td>\n",
       "      <td>Mumbai</td>\n",
       "      <td>4.1</td>\n",
       "      <td>24</td>\n",
       "      <td>800.0</td>\n",
       "    </tr>\n",
       "    <tr>\n",
       "      <th>4</th>\n",
       "      <td>DESSERT PARLOR</td>\n",
       "      <td>Desserts</td>\n",
       "      <td>Mumbai</td>\n",
       "      <td>3.8</td>\n",
       "      <td>165</td>\n",
       "      <td>300.0</td>\n",
       "    </tr>\n",
       "    <tr>\n",
       "      <th>5</th>\n",
       "      <td>CASUAL DINING</td>\n",
       "      <td>North Indian, Chinese, Seafood, Biryani</td>\n",
       "      <td>Mumbai</td>\n",
       "      <td>4.0</td>\n",
       "      <td>550</td>\n",
       "      <td>800.0</td>\n",
       "    </tr>\n",
       "  </tbody>\n",
       "</table>\n",
       "</div>"
      ],
      "text/plain": [
       "               title                                    cuisines     city  \\\n",
       "1  CASUAL DINING,BAR              Asian, Modern Indian, Japanese  Chennai   \n",
       "2      CASUAL DINING  North Indian, Chinese, Biryani, Hyderabadi  Chennai   \n",
       "3        QUICK BITES                            Tibetan, Chinese   Mumbai   \n",
       "4     DESSERT PARLOR                                    Desserts   Mumbai   \n",
       "5      CASUAL DINING     North Indian, Chinese, Seafood, Biryani   Mumbai   \n",
       "\n",
       "   rating  votes    cost  \n",
       "1     4.2     30  1500.0  \n",
       "2     3.8    221   800.0  \n",
       "3     4.1     24   800.0  \n",
       "4     3.8    165   300.0  \n",
       "5     4.0    550   800.0  "
      ]
     },
     "execution_count": 383,
     "metadata": {},
     "output_type": "execute_result"
    }
   ],
   "source": [
    "df_df.head()"
   ]
  },
  {
   "cell_type": "code",
   "execution_count": null,
   "metadata": {},
   "outputs": [],
   "source": []
  },
  {
   "cell_type": "code",
   "execution_count": null,
   "metadata": {},
   "outputs": [],
   "source": []
  },
  {
   "cell_type": "code",
   "execution_count": 384,
   "metadata": {},
   "outputs": [],
   "source": [
    "dfdf = df_df"
   ]
  },
  {
   "cell_type": "code",
   "execution_count": 385,
   "metadata": {},
   "outputs": [
    {
     "data": {
      "text/html": [
       "<div>\n",
       "<style scoped>\n",
       "    .dataframe tbody tr th:only-of-type {\n",
       "        vertical-align: middle;\n",
       "    }\n",
       "\n",
       "    .dataframe tbody tr th {\n",
       "        vertical-align: top;\n",
       "    }\n",
       "\n",
       "    .dataframe thead th {\n",
       "        text-align: right;\n",
       "    }\n",
       "</style>\n",
       "<table border=\"1\" class=\"dataframe\">\n",
       "  <thead>\n",
       "    <tr style=\"text-align: right;\">\n",
       "      <th></th>\n",
       "      <th>title</th>\n",
       "      <th>cuisines</th>\n",
       "      <th>city</th>\n",
       "      <th>rating</th>\n",
       "      <th>votes</th>\n",
       "      <th>cost</th>\n",
       "    </tr>\n",
       "  </thead>\n",
       "  <tbody>\n",
       "    <tr>\n",
       "      <th>1</th>\n",
       "      <td>CASUAL DINING,BAR</td>\n",
       "      <td>Asian, Modern Indian, Japanese</td>\n",
       "      <td>Chennai</td>\n",
       "      <td>4.2</td>\n",
       "      <td>30</td>\n",
       "      <td>1500.0</td>\n",
       "    </tr>\n",
       "    <tr>\n",
       "      <th>2</th>\n",
       "      <td>CASUAL DINING</td>\n",
       "      <td>North Indian, Chinese, Biryani, Hyderabadi</td>\n",
       "      <td>Chennai</td>\n",
       "      <td>3.8</td>\n",
       "      <td>221</td>\n",
       "      <td>800.0</td>\n",
       "    </tr>\n",
       "    <tr>\n",
       "      <th>3</th>\n",
       "      <td>QUICK BITES</td>\n",
       "      <td>Tibetan, Chinese</td>\n",
       "      <td>Mumbai</td>\n",
       "      <td>4.1</td>\n",
       "      <td>24</td>\n",
       "      <td>800.0</td>\n",
       "    </tr>\n",
       "    <tr>\n",
       "      <th>4</th>\n",
       "      <td>DESSERT PARLOR</td>\n",
       "      <td>Desserts</td>\n",
       "      <td>Mumbai</td>\n",
       "      <td>3.8</td>\n",
       "      <td>165</td>\n",
       "      <td>300.0</td>\n",
       "    </tr>\n",
       "    <tr>\n",
       "      <th>5</th>\n",
       "      <td>CASUAL DINING</td>\n",
       "      <td>North Indian, Chinese, Seafood, Biryani</td>\n",
       "      <td>Mumbai</td>\n",
       "      <td>4.0</td>\n",
       "      <td>550</td>\n",
       "      <td>800.0</td>\n",
       "    </tr>\n",
       "  </tbody>\n",
       "</table>\n",
       "</div>"
      ],
      "text/plain": [
       "               title                                    cuisines     city  \\\n",
       "1  CASUAL DINING,BAR              Asian, Modern Indian, Japanese  Chennai   \n",
       "2      CASUAL DINING  North Indian, Chinese, Biryani, Hyderabadi  Chennai   \n",
       "3        QUICK BITES                            Tibetan, Chinese   Mumbai   \n",
       "4     DESSERT PARLOR                                    Desserts   Mumbai   \n",
       "5      CASUAL DINING     North Indian, Chinese, Seafood, Biryani   Mumbai   \n",
       "\n",
       "   rating  votes    cost  \n",
       "1     4.2     30  1500.0  \n",
       "2     3.8    221   800.0  \n",
       "3     4.1     24   800.0  \n",
       "4     3.8    165   300.0  \n",
       "5     4.0    550   800.0  "
      ]
     },
     "execution_count": 385,
     "metadata": {},
     "output_type": "execute_result"
    }
   ],
   "source": [
    "dfdf.head()"
   ]
  },
  {
   "cell_type": "code",
   "execution_count": null,
   "metadata": {},
   "outputs": [],
   "source": []
  },
  {
   "cell_type": "code",
   "execution_count": 386,
   "metadata": {},
   "outputs": [],
   "source": [
    "title_counter_val = Counter([a for data in dfdf.title.str.split(',').tolist() for a in data])"
   ]
  },
  {
   "cell_type": "code",
   "execution_count": 387,
   "metadata": {},
   "outputs": [
    {
     "data": {
      "text/plain": [
       "Counter({'CASUAL DINING': 5514,\n",
       "         'BAR': 855,\n",
       "         'QUICK BITES': 5758,\n",
       "         'DESSERT PARLOR': 742,\n",
       "         'CAFÉ': 1081,\n",
       "         'MICROBREWERY': 95,\n",
       "         'BEVERAGE SHOP': 306,\n",
       "         'IRANI CAFE': 5,\n",
       "         'BAKERY': 665,\n",
       "         'None': 1123,\n",
       "         'PUB': 179,\n",
       "         'FINE DINING': 447,\n",
       "         'SWEET SHOP': 208,\n",
       "         'LOUNGE': 245,\n",
       "         'FOOD COURT': 138,\n",
       "         'MESS': 65,\n",
       "         'KIOSK': 73,\n",
       "         'CLUB': 38,\n",
       "         'CONFECTIONERY': 6,\n",
       "         'DHABA': 51,\n",
       "         'MEAT SHOP': 3,\n",
       "         'COCKTAIL BAR': 7,\n",
       "         'FOOD TRUCK': 34,\n",
       "         'PAAN SHOP': 5,\n",
       "         'BHOJANALYA': 1})"
      ]
     },
     "execution_count": 387,
     "metadata": {},
     "output_type": "execute_result"
    }
   ],
   "source": [
    "title_counter_val"
   ]
  },
  {
   "cell_type": "code",
   "execution_count": 388,
   "metadata": {},
   "outputs": [],
   "source": [
    "for key,value in title_counter_val.items():\n",
    "    dfdf.loc[(dfdf['title'].str.contains(key)),'title'] = key"
   ]
  },
  {
   "cell_type": "code",
   "execution_count": 389,
   "metadata": {},
   "outputs": [
    {
     "data": {
      "text/plain": [
       "array(['CASUAL DINING', 'QUICK BITES', 'DESSERT PARLOR', 'CAFÉ',\n",
       "       'MICROBREWERY', 'None', 'BAR', 'PUB', 'BEVERAGE SHOP',\n",
       "       'FINE DINING', 'BAKERY', 'FOOD COURT', 'LOUNGE', 'SWEET SHOP',\n",
       "       'MESS', 'KIOSK', 'CLUB', 'DHABA', 'MEAT SHOP', 'CONFECTIONERY',\n",
       "       'FOOD TRUCK', 'PAAN SHOP', 'IRANI CAFE', 'BHOJANALYA'],\n",
       "      dtype=object)"
      ]
     },
     "execution_count": 389,
     "metadata": {},
     "output_type": "execute_result"
    }
   ],
   "source": [
    "dfdf.title.unique()"
   ]
  },
  {
   "cell_type": "code",
   "execution_count": 390,
   "metadata": {},
   "outputs": [
    {
     "data": {
      "text/plain": [
       "QUICK BITES       5752\n",
       "CASUAL DINING     5514\n",
       "None              1123\n",
       "CAFÉ               860\n",
       "DESSERT PARLOR     655\n",
       "FINE DINING        400\n",
       "BAKERY             369\n",
       "BAR                254\n",
       "BEVERAGE SHOP      202\n",
       "LOUNGE             129\n",
       "FOOD COURT         106\n",
       "PUB                 73\n",
       "KIOSK               66\n",
       "MESS                65\n",
       "SWEET SHOP          62\n",
       "DHABA               51\n",
       "MICROBREWERY        45\n",
       "FOOD TRUCK          32\n",
       "CLUB                25\n",
       "PAAN SHOP            4\n",
       "CONFECTIONERY        3\n",
       "IRANI CAFE           1\n",
       "BHOJANALYA           1\n",
       "MEAT SHOP            1\n",
       "Name: title, dtype: int64"
      ]
     },
     "execution_count": 390,
     "metadata": {},
     "output_type": "execute_result"
    }
   ],
   "source": [
    "dfdf.title.value_counts()"
   ]
  },
  {
   "cell_type": "code",
   "execution_count": null,
   "metadata": {},
   "outputs": [],
   "source": []
  },
  {
   "cell_type": "code",
   "execution_count": null,
   "metadata": {},
   "outputs": [],
   "source": []
  },
  {
   "cell_type": "code",
   "execution_count": 391,
   "metadata": {},
   "outputs": [],
   "source": [
    "dfdf.loc[(dfdf['title'] == 'None'),'title'] = 'FOOD SHOP'"
   ]
  },
  {
   "cell_type": "code",
   "execution_count": null,
   "metadata": {},
   "outputs": [],
   "source": []
  },
  {
   "cell_type": "code",
   "execution_count": 392,
   "metadata": {},
   "outputs": [],
   "source": [
    "dfdf['title'].replace({'SWEET SHOP':'BAKERY','CONFECTIONERY':'BAKERY','IRANI CAFE':'CAFÉ','BEVERAGE SHOP':'BAR','PUB':'BAR','CLUB':'BAR','MICROBREWERY':'BAR'},inplace=True)"
   ]
  },
  {
   "cell_type": "code",
   "execution_count": 393,
   "metadata": {},
   "outputs": [
    {
     "data": {
      "text/plain": [
       "QUICK BITES       5752\n",
       "CASUAL DINING     5514\n",
       "FOOD SHOP         1123\n",
       "CAFÉ               861\n",
       "DESSERT PARLOR     655\n",
       "BAR                599\n",
       "BAKERY             434\n",
       "FINE DINING        400\n",
       "LOUNGE             129\n",
       "FOOD COURT         106\n",
       "KIOSK               66\n",
       "MESS                65\n",
       "DHABA               51\n",
       "FOOD TRUCK          32\n",
       "PAAN SHOP            4\n",
       "BHOJANALYA           1\n",
       "MEAT SHOP            1\n",
       "Name: title, dtype: int64"
      ]
     },
     "execution_count": 393,
     "metadata": {},
     "output_type": "execute_result"
    }
   ],
   "source": [
    "dfdf.title.value_counts()"
   ]
  },
  {
   "cell_type": "code",
   "execution_count": null,
   "metadata": {},
   "outputs": [],
   "source": []
  },
  {
   "cell_type": "code",
   "execution_count": 394,
   "metadata": {},
   "outputs": [
    {
     "data": {
      "text/plain": [
       "North Indian, Chinese                                      671\n",
       "North Indian                                               670\n",
       "South Indian                                               661\n",
       "Fast Food                                                  335\n",
       "Chinese                                                    204\n",
       "                                                          ... \n",
       "Cafe, Desserts, American                                     1\n",
       "South Indian, North Indian, Chinese, Biryani, Beverages      1\n",
       "North Indian, Kerala, Chinese, Continental                   1\n",
       "Cafe, Italian, European, Asian                               1\n",
       "Bakery, Fast Food, Beverages, Desserts                       1\n",
       "Name: cuisines, Length: 4866, dtype: int64"
      ]
     },
     "execution_count": 394,
     "metadata": {},
     "output_type": "execute_result"
    }
   ],
   "source": [
    "dfdf.cuisines.value_counts()"
   ]
  },
  {
   "cell_type": "code",
   "execution_count": 395,
   "metadata": {},
   "outputs": [],
   "source": [
    "dfdf['cuisines'] = dfdf.cuisines.str.lstrip()"
   ]
  },
  {
   "cell_type": "code",
   "execution_count": 396,
   "metadata": {},
   "outputs": [],
   "source": [
    "cuisines_counter_val = Counter([a.strip() for data in dfdf.cuisines.str.split(',').tolist() for a in data])"
   ]
  },
  {
   "cell_type": "code",
   "execution_count": 397,
   "metadata": {},
   "outputs": [
    {
     "data": {
      "text/plain": [
       "Counter({'Asian': 563,\n",
       "         'Modern Indian': 80,\n",
       "         'Japanese': 178,\n",
       "         'North Indian': 6762,\n",
       "         'Chinese': 5465,\n",
       "         'Biryani': 1578,\n",
       "         'Hyderabadi': 172,\n",
       "         'Tibetan': 61,\n",
       "         'Desserts': 1403,\n",
       "         'Seafood': 720,\n",
       "         'Cafe': 1062,\n",
       "         'Pizza': 639,\n",
       "         'Burger': 441,\n",
       "         'Bar Food': 42,\n",
       "         'South Indian': 2861,\n",
       "         'Fast Food': 2664,\n",
       "         'Beverages': 1193,\n",
       "         'Arabian': 490,\n",
       "         'Mughlai': 953,\n",
       "         'Parsi': 27,\n",
       "         'Thai': 392,\n",
       "         'Bakery': 824,\n",
       "         'Momos': 451,\n",
       "         'Continental': 1943,\n",
       "         'European': 311,\n",
       "         'Rolls': 315,\n",
       "         'Andhra': 311,\n",
       "         'Italian': 1428,\n",
       "         'BBQ': 199,\n",
       "         'Finger Food': 358,\n",
       "         'Tea': 76,\n",
       "         'American': 363,\n",
       "         'Healthy Food': 259,\n",
       "         'Coffee': 56,\n",
       "         'Indonesian': 22,\n",
       "         'Korean': 44,\n",
       "         'Nepalese': 16,\n",
       "         'Ice Cream': 433,\n",
       "         'Mexican': 309,\n",
       "         'Indian': 48,\n",
       "         'Mithai': 246,\n",
       "         'Street Food': 833,\n",
       "         'Kerala': 680,\n",
       "         'Malaysian': 47,\n",
       "         'Vietnamese': 38,\n",
       "         'Iranian': 15,\n",
       "         'Kebab': 269,\n",
       "         'Juices': 304,\n",
       "         'Sandwich': 287,\n",
       "         'Malwani': 60,\n",
       "         'Maharashtrian': 75,\n",
       "         'Mediterranean': 191,\n",
       "         'Salad': 319,\n",
       "         'Gujarati': 47,\n",
       "         'Rajasthani': 53,\n",
       "         'Tex-Mex': 23,\n",
       "         'Roast Chicken': 6,\n",
       "         'Burmese': 32,\n",
       "         'Chettinad': 155,\n",
       "         'North Eastern': 19,\n",
       "         'Lebanese': 187,\n",
       "         '': 126,\n",
       "         'Bihari': 14,\n",
       "         'Bengali': 103,\n",
       "         'Goan': 35,\n",
       "         'Lucknowi': 23,\n",
       "         'Awadhi': 19,\n",
       "         'Steak': 53,\n",
       "         'French': 33,\n",
       "         'Portuguese': 8,\n",
       "         'Wraps': 32,\n",
       "         'Sri Lankan': 11,\n",
       "         'Oriya': 21,\n",
       "         'Ethiopian': 1,\n",
       "         'Konkan': 23,\n",
       "         'Sushi': 69,\n",
       "         'Spanish': 22,\n",
       "         'Russian': 2,\n",
       "         'Mangalorean': 73,\n",
       "         'Turkish': 24,\n",
       "         'Bubble Tea': 11,\n",
       "         'Afghan': 27,\n",
       "         'Naga': 8,\n",
       "         'Grill': 15,\n",
       "         'Singaporean': 15,\n",
       "         'German': 5,\n",
       "         'Middle Eastern': 32,\n",
       "         'Sindhi': 5,\n",
       "         'Cantonese': 4,\n",
       "         'Hot Pot': 1,\n",
       "         'Pan Asian': 2,\n",
       "         'Satay': 1,\n",
       "         'Dumplings': 1,\n",
       "         'Kashmiri': 10,\n",
       "         'Raw Meats': 3,\n",
       "         'Drinks Only': 7,\n",
       "         'Moroccan': 4,\n",
       "         'Panini': 4,\n",
       "         'Cafe Food': 6,\n",
       "         'Charcoal Chicken': 9,\n",
       "         'Belgian': 2,\n",
       "         'Tamil': 5,\n",
       "         'African': 3,\n",
       "         'Assamese': 3,\n",
       "         'Hot dogs': 1,\n",
       "         'Paan': 5,\n",
       "         'Poké': 4,\n",
       "         'British': 8,\n",
       "         'Bohri': 3,\n",
       "         'Fusion': 2,\n",
       "         'Armenian': 1,\n",
       "         'South American': 5,\n",
       "         'Greek': 7,\n",
       "         'Pakistani': 4,\n",
       "         'Peruvian': 2,\n",
       "         'Cuisine Varies': 2,\n",
       "         'Irish': 1,\n",
       "         'Multi Cuisine': 1,\n",
       "         'Coffee and Tea': 1,\n",
       "         'Mongolian': 2,\n",
       "         'Jewish': 1,\n",
       "         'Vegan': 2,\n",
       "         'Oriental': 2,\n",
       "         'Modern Australian': 1,\n",
       "         'Egyptian': 2,\n",
       "         'Fish and Chips': 1,\n",
       "         'Brazilian': 1,\n",
       "         'Mishti': 1,\n",
       "         'Falafel': 1})"
      ]
     },
     "execution_count": 397,
     "metadata": {},
     "output_type": "execute_result"
    }
   ],
   "source": [
    "cuisines_counter_val"
   ]
  },
  {
   "cell_type": "code",
   "execution_count": 398,
   "metadata": {},
   "outputs": [],
   "source": [
    "dfdff = dfdf.cuisines.replace({' ':''})"
   ]
  },
  {
   "cell_type": "code",
   "execution_count": 399,
   "metadata": {},
   "outputs": [
    {
     "data": {
      "text/plain": [
       "array(['Asian, Modern Indian, Japanese',\n",
       "       'North Indian, Chinese, Biryani, Hyderabadi', 'Tibetan, Chinese',\n",
       "       ..., 'European, Mediterranean, Italian, Sushi',\n",
       "       'North Indian, Chinese, Kebab, Juices', 'Sindhi, Street Food'],\n",
       "      dtype=object)"
      ]
     },
     "execution_count": 399,
     "metadata": {},
     "output_type": "execute_result"
    }
   ],
   "source": [
    "dfdff.unique()"
   ]
  },
  {
   "cell_type": "code",
   "execution_count": null,
   "metadata": {},
   "outputs": [],
   "source": []
  },
  {
   "cell_type": "code",
   "execution_count": 400,
   "metadata": {},
   "outputs": [],
   "source": [
    "df_df['title'] = dfdf['title']"
   ]
  },
  {
   "cell_type": "code",
   "execution_count": null,
   "metadata": {},
   "outputs": [],
   "source": []
  },
  {
   "cell_type": "code",
   "execution_count": 401,
   "metadata": {},
   "outputs": [
    {
     "data": {
      "text/plain": [
       "array(['CASUAL DINING', 'QUICK BITES', 'DESSERT PARLOR', 'CAFÉ', 'BAR',\n",
       "       'FOOD SHOP', 'FINE DINING', 'BAKERY', 'FOOD COURT', 'LOUNGE',\n",
       "       'MESS', 'KIOSK', 'DHABA', 'MEAT SHOP', 'FOOD TRUCK', 'PAAN SHOP',\n",
       "       'BHOJANALYA'], dtype=object)"
      ]
     },
     "execution_count": 401,
     "metadata": {},
     "output_type": "execute_result"
    }
   ],
   "source": [
    "df_df.title.unique()"
   ]
  },
  {
   "cell_type": "code",
   "execution_count": 402,
   "metadata": {},
   "outputs": [
    {
     "name": "stdout",
     "output_type": "stream",
     "text": [
      "<class 'pandas.core.frame.DataFrame'>\n",
      "Int64Index: 15793 entries, 1 to 4230\n",
      "Data columns (total 6 columns):\n",
      "title       15793 non-null object\n",
      "cuisines    15793 non-null object\n",
      "city        15793 non-null object\n",
      "rating      15793 non-null float64\n",
      "votes       15793 non-null int64\n",
      "cost        11910 non-null float64\n",
      "dtypes: float64(2), int64(1), object(3)\n",
      "memory usage: 863.7+ KB\n"
     ]
    }
   ],
   "source": [
    "df_df.info()"
   ]
  },
  {
   "cell_type": "code",
   "execution_count": 403,
   "metadata": {},
   "outputs": [
    {
     "data": {
      "text/plain": [
       "array(['Chennai', 'Mumbai', 'Bangalore', 'Gurgaon', 'Hyderabad', 'Kochi',\n",
       "       'Delhi', 'Noida', 'Secunderabad', 'Faridabad', 'Telangana',\n",
       "       'Ghaziabad', 'Ernakulam'], dtype=object)"
      ]
     },
     "execution_count": 403,
     "metadata": {},
     "output_type": "execute_result"
    }
   ],
   "source": [
    "df_df.city.unique()"
   ]
  },
  {
   "cell_type": "code",
   "execution_count": null,
   "metadata": {},
   "outputs": [],
   "source": []
  },
  {
   "cell_type": "code",
   "execution_count": null,
   "metadata": {},
   "outputs": [],
   "source": []
  },
  {
   "cell_type": "code",
   "execution_count": 404,
   "metadata": {},
   "outputs": [],
   "source": [
    "title_num_col = df_df.title.str.get_dummies(sep=',')"
   ]
  },
  {
   "cell_type": "code",
   "execution_count": 405,
   "metadata": {},
   "outputs": [],
   "source": [
    "cuisines_num_col = df_df.cuisines.str.get_dummies(sep=',')"
   ]
  },
  {
   "cell_type": "code",
   "execution_count": 406,
   "metadata": {},
   "outputs": [],
   "source": [
    "city_num_col = df_df.city.str.get_dummies()"
   ]
  },
  {
   "cell_type": "code",
   "execution_count": 407,
   "metadata": {},
   "outputs": [
    {
     "data": {
      "text/plain": [
       "title          0\n",
       "cuisines       0\n",
       "city           0\n",
       "rating         0\n",
       "votes          0\n",
       "cost        3883\n",
       "dtype: int64"
      ]
     },
     "execution_count": 407,
     "metadata": {},
     "output_type": "execute_result"
    }
   ],
   "source": [
    "df_df.isna().sum()"
   ]
  },
  {
   "cell_type": "code",
   "execution_count": 408,
   "metadata": {},
   "outputs": [],
   "source": [
    "df_df = pd.concat([df_df,title_num_col,cuisines_num_col,city_num_col],axis='columns')"
   ]
  },
  {
   "cell_type": "code",
   "execution_count": 409,
   "metadata": {},
   "outputs": [],
   "source": [
    "df_df.drop(['title','cuisines','city'],axis='columns',inplace=True)"
   ]
  },
  {
   "cell_type": "code",
   "execution_count": 410,
   "metadata": {},
   "outputs": [],
   "source": [
    "df_df_backup = df_df"
   ]
  },
  {
   "cell_type": "code",
   "execution_count": 411,
   "metadata": {},
   "outputs": [
    {
     "data": {
      "text/html": [
       "<div>\n",
       "<style scoped>\n",
       "    .dataframe tbody tr th:only-of-type {\n",
       "        vertical-align: middle;\n",
       "    }\n",
       "\n",
       "    .dataframe tbody tr th {\n",
       "        vertical-align: top;\n",
       "    }\n",
       "\n",
       "    .dataframe thead th {\n",
       "        text-align: right;\n",
       "    }\n",
       "</style>\n",
       "<table border=\"1\" class=\"dataframe\">\n",
       "  <thead>\n",
       "    <tr style=\"text-align: right;\">\n",
       "      <th></th>\n",
       "      <th>rating</th>\n",
       "      <th>votes</th>\n",
       "      <th>cost</th>\n",
       "      <th>BAKERY</th>\n",
       "      <th>BAR</th>\n",
       "      <th>BHOJANALYA</th>\n",
       "      <th>CAFÉ</th>\n",
       "      <th>CASUAL DINING</th>\n",
       "      <th>DESSERT PARLOR</th>\n",
       "      <th>DHABA</th>\n",
       "      <th>...</th>\n",
       "      <th>Ernakulam</th>\n",
       "      <th>Faridabad</th>\n",
       "      <th>Ghaziabad</th>\n",
       "      <th>Gurgaon</th>\n",
       "      <th>Hyderabad</th>\n",
       "      <th>Kochi</th>\n",
       "      <th>Mumbai</th>\n",
       "      <th>Noida</th>\n",
       "      <th>Secunderabad</th>\n",
       "      <th>Telangana</th>\n",
       "    </tr>\n",
       "  </thead>\n",
       "  <tbody>\n",
       "    <tr>\n",
       "      <th>1</th>\n",
       "      <td>4.2</td>\n",
       "      <td>30</td>\n",
       "      <td>1500.0</td>\n",
       "      <td>0</td>\n",
       "      <td>0</td>\n",
       "      <td>0</td>\n",
       "      <td>0</td>\n",
       "      <td>1</td>\n",
       "      <td>0</td>\n",
       "      <td>0</td>\n",
       "      <td>...</td>\n",
       "      <td>0</td>\n",
       "      <td>0</td>\n",
       "      <td>0</td>\n",
       "      <td>0</td>\n",
       "      <td>0</td>\n",
       "      <td>0</td>\n",
       "      <td>0</td>\n",
       "      <td>0</td>\n",
       "      <td>0</td>\n",
       "      <td>0</td>\n",
       "    </tr>\n",
       "    <tr>\n",
       "      <th>2</th>\n",
       "      <td>3.8</td>\n",
       "      <td>221</td>\n",
       "      <td>800.0</td>\n",
       "      <td>0</td>\n",
       "      <td>0</td>\n",
       "      <td>0</td>\n",
       "      <td>0</td>\n",
       "      <td>1</td>\n",
       "      <td>0</td>\n",
       "      <td>0</td>\n",
       "      <td>...</td>\n",
       "      <td>0</td>\n",
       "      <td>0</td>\n",
       "      <td>0</td>\n",
       "      <td>0</td>\n",
       "      <td>0</td>\n",
       "      <td>0</td>\n",
       "      <td>0</td>\n",
       "      <td>0</td>\n",
       "      <td>0</td>\n",
       "      <td>0</td>\n",
       "    </tr>\n",
       "    <tr>\n",
       "      <th>3</th>\n",
       "      <td>4.1</td>\n",
       "      <td>24</td>\n",
       "      <td>800.0</td>\n",
       "      <td>0</td>\n",
       "      <td>0</td>\n",
       "      <td>0</td>\n",
       "      <td>0</td>\n",
       "      <td>0</td>\n",
       "      <td>0</td>\n",
       "      <td>0</td>\n",
       "      <td>...</td>\n",
       "      <td>0</td>\n",
       "      <td>0</td>\n",
       "      <td>0</td>\n",
       "      <td>0</td>\n",
       "      <td>0</td>\n",
       "      <td>0</td>\n",
       "      <td>1</td>\n",
       "      <td>0</td>\n",
       "      <td>0</td>\n",
       "      <td>0</td>\n",
       "    </tr>\n",
       "    <tr>\n",
       "      <th>4</th>\n",
       "      <td>3.8</td>\n",
       "      <td>165</td>\n",
       "      <td>300.0</td>\n",
       "      <td>0</td>\n",
       "      <td>0</td>\n",
       "      <td>0</td>\n",
       "      <td>0</td>\n",
       "      <td>0</td>\n",
       "      <td>1</td>\n",
       "      <td>0</td>\n",
       "      <td>...</td>\n",
       "      <td>0</td>\n",
       "      <td>0</td>\n",
       "      <td>0</td>\n",
       "      <td>0</td>\n",
       "      <td>0</td>\n",
       "      <td>0</td>\n",
       "      <td>1</td>\n",
       "      <td>0</td>\n",
       "      <td>0</td>\n",
       "      <td>0</td>\n",
       "    </tr>\n",
       "    <tr>\n",
       "      <th>5</th>\n",
       "      <td>4.0</td>\n",
       "      <td>550</td>\n",
       "      <td>800.0</td>\n",
       "      <td>0</td>\n",
       "      <td>0</td>\n",
       "      <td>0</td>\n",
       "      <td>0</td>\n",
       "      <td>1</td>\n",
       "      <td>0</td>\n",
       "      <td>0</td>\n",
       "      <td>...</td>\n",
       "      <td>0</td>\n",
       "      <td>0</td>\n",
       "      <td>0</td>\n",
       "      <td>0</td>\n",
       "      <td>0</td>\n",
       "      <td>0</td>\n",
       "      <td>1</td>\n",
       "      <td>0</td>\n",
       "      <td>0</td>\n",
       "      <td>0</td>\n",
       "    </tr>\n",
       "  </tbody>\n",
       "</table>\n",
       "<p>5 rows × 260 columns</p>\n",
       "</div>"
      ],
      "text/plain": [
       "   rating  votes    cost  BAKERY  BAR  BHOJANALYA  CAFÉ  CASUAL DINING  \\\n",
       "1     4.2     30  1500.0       0    0           0     0              1   \n",
       "2     3.8    221   800.0       0    0           0     0              1   \n",
       "3     4.1     24   800.0       0    0           0     0              0   \n",
       "4     3.8    165   300.0       0    0           0     0              0   \n",
       "5     4.0    550   800.0       0    0           0     0              1   \n",
       "\n",
       "   DESSERT PARLOR  DHABA  ...  Ernakulam  Faridabad  Ghaziabad  Gurgaon  \\\n",
       "1               0      0  ...          0          0          0        0   \n",
       "2               0      0  ...          0          0          0        0   \n",
       "3               0      0  ...          0          0          0        0   \n",
       "4               1      0  ...          0          0          0        0   \n",
       "5               0      0  ...          0          0          0        0   \n",
       "\n",
       "   Hyderabad  Kochi  Mumbai  Noida  Secunderabad  Telangana  \n",
       "1          0      0       0      0             0          0  \n",
       "2          0      0       0      0             0          0  \n",
       "3          0      0       1      0             0          0  \n",
       "4          0      0       1      0             0          0  \n",
       "5          0      0       1      0             0          0  \n",
       "\n",
       "[5 rows x 260 columns]"
      ]
     },
     "execution_count": 411,
     "metadata": {},
     "output_type": "execute_result"
    }
   ],
   "source": [
    "df_df_backup.head()"
   ]
  },
  {
   "cell_type": "code",
   "execution_count": null,
   "metadata": {},
   "outputs": [],
   "source": []
  },
  {
   "cell_type": "code",
   "execution_count": 280,
   "metadata": {},
   "outputs": [],
   "source": [
    "# df_df.drop(['rating','votes'],axis='columns',inplace=True)"
   ]
  },
  {
   "cell_type": "code",
   "execution_count": 304,
   "metadata": {},
   "outputs": [],
   "source": [
    "# df_df = df_df_backup"
   ]
  },
  {
   "cell_type": "code",
   "execution_count": null,
   "metadata": {},
   "outputs": [],
   "source": []
  },
  {
   "cell_type": "code",
   "execution_count": null,
   "metadata": {},
   "outputs": [],
   "source": []
  },
  {
   "cell_type": "code",
   "execution_count": 412,
   "metadata": {},
   "outputs": [
    {
     "data": {
      "text/html": [
       "<div>\n",
       "<style scoped>\n",
       "    .dataframe tbody tr th:only-of-type {\n",
       "        vertical-align: middle;\n",
       "    }\n",
       "\n",
       "    .dataframe tbody tr th {\n",
       "        vertical-align: top;\n",
       "    }\n",
       "\n",
       "    .dataframe thead th {\n",
       "        text-align: right;\n",
       "    }\n",
       "</style>\n",
       "<table border=\"1\" class=\"dataframe\">\n",
       "  <thead>\n",
       "    <tr style=\"text-align: right;\">\n",
       "      <th></th>\n",
       "      <th>rating</th>\n",
       "      <th>votes</th>\n",
       "      <th>cost</th>\n",
       "      <th>BAKERY</th>\n",
       "      <th>BAR</th>\n",
       "      <th>BHOJANALYA</th>\n",
       "      <th>CAFÉ</th>\n",
       "      <th>CASUAL DINING</th>\n",
       "      <th>DESSERT PARLOR</th>\n",
       "      <th>DHABA</th>\n",
       "      <th>...</th>\n",
       "      <th>Ernakulam</th>\n",
       "      <th>Faridabad</th>\n",
       "      <th>Ghaziabad</th>\n",
       "      <th>Gurgaon</th>\n",
       "      <th>Hyderabad</th>\n",
       "      <th>Kochi</th>\n",
       "      <th>Mumbai</th>\n",
       "      <th>Noida</th>\n",
       "      <th>Secunderabad</th>\n",
       "      <th>Telangana</th>\n",
       "    </tr>\n",
       "  </thead>\n",
       "  <tbody>\n",
       "    <tr>\n",
       "      <th>1</th>\n",
       "      <td>4.2</td>\n",
       "      <td>30</td>\n",
       "      <td>1500.0</td>\n",
       "      <td>0</td>\n",
       "      <td>0</td>\n",
       "      <td>0</td>\n",
       "      <td>0</td>\n",
       "      <td>1</td>\n",
       "      <td>0</td>\n",
       "      <td>0</td>\n",
       "      <td>...</td>\n",
       "      <td>0</td>\n",
       "      <td>0</td>\n",
       "      <td>0</td>\n",
       "      <td>0</td>\n",
       "      <td>0</td>\n",
       "      <td>0</td>\n",
       "      <td>0</td>\n",
       "      <td>0</td>\n",
       "      <td>0</td>\n",
       "      <td>0</td>\n",
       "    </tr>\n",
       "    <tr>\n",
       "      <th>2</th>\n",
       "      <td>3.8</td>\n",
       "      <td>221</td>\n",
       "      <td>800.0</td>\n",
       "      <td>0</td>\n",
       "      <td>0</td>\n",
       "      <td>0</td>\n",
       "      <td>0</td>\n",
       "      <td>1</td>\n",
       "      <td>0</td>\n",
       "      <td>0</td>\n",
       "      <td>...</td>\n",
       "      <td>0</td>\n",
       "      <td>0</td>\n",
       "      <td>0</td>\n",
       "      <td>0</td>\n",
       "      <td>0</td>\n",
       "      <td>0</td>\n",
       "      <td>0</td>\n",
       "      <td>0</td>\n",
       "      <td>0</td>\n",
       "      <td>0</td>\n",
       "    </tr>\n",
       "    <tr>\n",
       "      <th>3</th>\n",
       "      <td>4.1</td>\n",
       "      <td>24</td>\n",
       "      <td>800.0</td>\n",
       "      <td>0</td>\n",
       "      <td>0</td>\n",
       "      <td>0</td>\n",
       "      <td>0</td>\n",
       "      <td>0</td>\n",
       "      <td>0</td>\n",
       "      <td>0</td>\n",
       "      <td>...</td>\n",
       "      <td>0</td>\n",
       "      <td>0</td>\n",
       "      <td>0</td>\n",
       "      <td>0</td>\n",
       "      <td>0</td>\n",
       "      <td>0</td>\n",
       "      <td>1</td>\n",
       "      <td>0</td>\n",
       "      <td>0</td>\n",
       "      <td>0</td>\n",
       "    </tr>\n",
       "    <tr>\n",
       "      <th>4</th>\n",
       "      <td>3.8</td>\n",
       "      <td>165</td>\n",
       "      <td>300.0</td>\n",
       "      <td>0</td>\n",
       "      <td>0</td>\n",
       "      <td>0</td>\n",
       "      <td>0</td>\n",
       "      <td>0</td>\n",
       "      <td>1</td>\n",
       "      <td>0</td>\n",
       "      <td>...</td>\n",
       "      <td>0</td>\n",
       "      <td>0</td>\n",
       "      <td>0</td>\n",
       "      <td>0</td>\n",
       "      <td>0</td>\n",
       "      <td>0</td>\n",
       "      <td>1</td>\n",
       "      <td>0</td>\n",
       "      <td>0</td>\n",
       "      <td>0</td>\n",
       "    </tr>\n",
       "    <tr>\n",
       "      <th>5</th>\n",
       "      <td>4.0</td>\n",
       "      <td>550</td>\n",
       "      <td>800.0</td>\n",
       "      <td>0</td>\n",
       "      <td>0</td>\n",
       "      <td>0</td>\n",
       "      <td>0</td>\n",
       "      <td>1</td>\n",
       "      <td>0</td>\n",
       "      <td>0</td>\n",
       "      <td>...</td>\n",
       "      <td>0</td>\n",
       "      <td>0</td>\n",
       "      <td>0</td>\n",
       "      <td>0</td>\n",
       "      <td>0</td>\n",
       "      <td>0</td>\n",
       "      <td>1</td>\n",
       "      <td>0</td>\n",
       "      <td>0</td>\n",
       "      <td>0</td>\n",
       "    </tr>\n",
       "  </tbody>\n",
       "</table>\n",
       "<p>5 rows × 260 columns</p>\n",
       "</div>"
      ],
      "text/plain": [
       "   rating  votes    cost  BAKERY  BAR  BHOJANALYA  CAFÉ  CASUAL DINING  \\\n",
       "1     4.2     30  1500.0       0    0           0     0              1   \n",
       "2     3.8    221   800.0       0    0           0     0              1   \n",
       "3     4.1     24   800.0       0    0           0     0              0   \n",
       "4     3.8    165   300.0       0    0           0     0              0   \n",
       "5     4.0    550   800.0       0    0           0     0              1   \n",
       "\n",
       "   DESSERT PARLOR  DHABA  ...  Ernakulam  Faridabad  Ghaziabad  Gurgaon  \\\n",
       "1               0      0  ...          0          0          0        0   \n",
       "2               0      0  ...          0          0          0        0   \n",
       "3               0      0  ...          0          0          0        0   \n",
       "4               1      0  ...          0          0          0        0   \n",
       "5               0      0  ...          0          0          0        0   \n",
       "\n",
       "   Hyderabad  Kochi  Mumbai  Noida  Secunderabad  Telangana  \n",
       "1          0      0       0      0             0          0  \n",
       "2          0      0       0      0             0          0  \n",
       "3          0      0       1      0             0          0  \n",
       "4          0      0       1      0             0          0  \n",
       "5          0      0       1      0             0          0  \n",
       "\n",
       "[5 rows x 260 columns]"
      ]
     },
     "execution_count": 412,
     "metadata": {},
     "output_type": "execute_result"
    }
   ],
   "source": [
    "df_df.head()"
   ]
  },
  {
   "cell_type": "code",
   "execution_count": 413,
   "metadata": {},
   "outputs": [
    {
     "data": {
      "text/html": [
       "<div>\n",
       "<style scoped>\n",
       "    .dataframe tbody tr th:only-of-type {\n",
       "        vertical-align: middle;\n",
       "    }\n",
       "\n",
       "    .dataframe tbody tr th {\n",
       "        vertical-align: top;\n",
       "    }\n",
       "\n",
       "    .dataframe thead th {\n",
       "        text-align: right;\n",
       "    }\n",
       "</style>\n",
       "<table border=\"1\" class=\"dataframe\">\n",
       "  <thead>\n",
       "    <tr style=\"text-align: right;\">\n",
       "      <th></th>\n",
       "      <th>title</th>\n",
       "      <th>cuisines</th>\n",
       "      <th>time</th>\n",
       "      <th>city</th>\n",
       "      <th>locality</th>\n",
       "      <th>rating</th>\n",
       "      <th>votes</th>\n",
       "    </tr>\n",
       "  </thead>\n",
       "  <tbody>\n",
       "    <tr>\n",
       "      <th>0</th>\n",
       "      <td>CASUAL DINING</td>\n",
       "      <td>Malwani, Goan, North Indian</td>\n",
       "      <td>11am – 4pm, 7:30pm – 11:30pm (Mon-Sun)</td>\n",
       "      <td>Thane</td>\n",
       "      <td>Dombivali East</td>\n",
       "      <td>3.6</td>\n",
       "      <td>49 votes</td>\n",
       "    </tr>\n",
       "    <tr>\n",
       "      <th>1</th>\n",
       "      <td>CASUAL DINING,BAR</td>\n",
       "      <td>Asian, Modern Indian, Japanese</td>\n",
       "      <td>6pm – 11pm (Mon-Sun)</td>\n",
       "      <td>Chennai</td>\n",
       "      <td>Ramapuram</td>\n",
       "      <td>4.2</td>\n",
       "      <td>30 votes</td>\n",
       "    </tr>\n",
       "    <tr>\n",
       "      <th>2</th>\n",
       "      <td>CASUAL DINING</td>\n",
       "      <td>North Indian, Chinese, Biryani, Hyderabadi</td>\n",
       "      <td>11am – 3:30pm, 7pm – 11pm (Mon-Sun)</td>\n",
       "      <td>Chennai</td>\n",
       "      <td>Saligramam</td>\n",
       "      <td>3.8</td>\n",
       "      <td>221 votes</td>\n",
       "    </tr>\n",
       "    <tr>\n",
       "      <th>3</th>\n",
       "      <td>QUICK BITES</td>\n",
       "      <td>Tibetan, Chinese</td>\n",
       "      <td>11:30am – 1am (Mon-Sun)</td>\n",
       "      <td>Mumbai</td>\n",
       "      <td>Bandra West</td>\n",
       "      <td>4.1</td>\n",
       "      <td>24 votes</td>\n",
       "    </tr>\n",
       "    <tr>\n",
       "      <th>4</th>\n",
       "      <td>DESSERT PARLOR</td>\n",
       "      <td>Desserts</td>\n",
       "      <td>11am – 1am (Mon-Sun)</td>\n",
       "      <td>Mumbai</td>\n",
       "      <td>Lower Parel</td>\n",
       "      <td>3.8</td>\n",
       "      <td>165 votes</td>\n",
       "    </tr>\n",
       "  </tbody>\n",
       "</table>\n",
       "</div>"
      ],
      "text/plain": [
       "               title                                    cuisines  \\\n",
       "0      CASUAL DINING                 Malwani, Goan, North Indian   \n",
       "1  CASUAL DINING,BAR              Asian, Modern Indian, Japanese   \n",
       "2      CASUAL DINING  North Indian, Chinese, Biryani, Hyderabadi   \n",
       "3        QUICK BITES                            Tibetan, Chinese   \n",
       "4     DESSERT PARLOR                                    Desserts   \n",
       "\n",
       "                                     time     city        locality rating  \\\n",
       "0  11am – 4pm, 7:30pm – 11:30pm (Mon-Sun)    Thane  Dombivali East    3.6   \n",
       "1                    6pm – 11pm (Mon-Sun)  Chennai       Ramapuram    4.2   \n",
       "2     11am – 3:30pm, 7pm – 11pm (Mon-Sun)  Chennai      Saligramam    3.8   \n",
       "3                 11:30am – 1am (Mon-Sun)   Mumbai     Bandra West    4.1   \n",
       "4                    11am – 1am (Mon-Sun)   Mumbai     Lower Parel    3.8   \n",
       "\n",
       "       votes  \n",
       "0   49 votes  \n",
       "1   30 votes  \n",
       "2  221 votes  \n",
       "3   24 votes  \n",
       "4  165 votes  "
      ]
     },
     "execution_count": 413,
     "metadata": {},
     "output_type": "execute_result"
    }
   ],
   "source": [
    "df_cat_col.head()"
   ]
  },
  {
   "cell_type": "code",
   "execution_count": null,
   "metadata": {},
   "outputs": [],
   "source": []
  },
  {
   "cell_type": "code",
   "execution_count": 414,
   "metadata": {},
   "outputs": [
    {
     "data": {
      "text/plain": [
       "(15793, 260)"
      ]
     },
     "execution_count": 414,
     "metadata": {},
     "output_type": "execute_result"
    }
   ],
   "source": [
    "df_df.shape"
   ]
  },
  {
   "cell_type": "code",
   "execution_count": 415,
   "metadata": {},
   "outputs": [
    {
     "name": "stdout",
     "output_type": "stream",
     "text": [
      "<class 'pandas.core.frame.DataFrame'>\n",
      "Int64Index: 15793 entries, 1 to 4230\n",
      "Columns: 260 entries, rating to Telangana\n",
      "dtypes: float64(2), int64(258)\n",
      "memory usage: 31.4 MB\n"
     ]
    }
   ],
   "source": [
    "df_df.info()"
   ]
  },
  {
   "cell_type": "code",
   "execution_count": null,
   "metadata": {},
   "outputs": [],
   "source": []
  },
  {
   "cell_type": "code",
   "execution_count": null,
   "metadata": {},
   "outputs": [],
   "source": []
  },
  {
   "cell_type": "code",
   "execution_count": null,
   "metadata": {},
   "outputs": [],
   "source": []
  },
  {
   "cell_type": "code",
   "execution_count": 416,
   "metadata": {},
   "outputs": [],
   "source": [
    "train_preprocessed = df_df[df_df[\"cost\"].notna()]"
   ]
  },
  {
   "cell_type": "code",
   "execution_count": null,
   "metadata": {},
   "outputs": [],
   "source": []
  },
  {
   "cell_type": "code",
   "execution_count": 417,
   "metadata": {},
   "outputs": [],
   "source": [
    "test_preprocessed = df_df[df_df[\"cost\"].isna()]"
   ]
  },
  {
   "cell_type": "code",
   "execution_count": null,
   "metadata": {},
   "outputs": [],
   "source": []
  },
  {
   "cell_type": "code",
   "execution_count": 418,
   "metadata": {},
   "outputs": [
    {
     "data": {
      "text/plain": [
       "(11910, 260)"
      ]
     },
     "execution_count": 418,
     "metadata": {},
     "output_type": "execute_result"
    }
   ],
   "source": [
    "train_preprocessed.shape"
   ]
  },
  {
   "cell_type": "code",
   "execution_count": 419,
   "metadata": {},
   "outputs": [
    {
     "data": {
      "text/plain": [
       "(3883, 260)"
      ]
     },
     "execution_count": 419,
     "metadata": {},
     "output_type": "execute_result"
    }
   ],
   "source": [
    "test_preprocessed.shape"
   ]
  },
  {
   "cell_type": "code",
   "execution_count": 420,
   "metadata": {},
   "outputs": [],
   "source": [
    "X = train_preprocessed"
   ]
  },
  {
   "cell_type": "code",
   "execution_count": 421,
   "metadata": {},
   "outputs": [],
   "source": [
    "Y = train_preprocessed[\"cost\"]"
   ]
  },
  {
   "cell_type": "code",
   "execution_count": 422,
   "metadata": {},
   "outputs": [
    {
     "data": {
      "text/plain": [
       "(11910, 260)"
      ]
     },
     "execution_count": 422,
     "metadata": {},
     "output_type": "execute_result"
    }
   ],
   "source": [
    "X.shape"
   ]
  },
  {
   "cell_type": "code",
   "execution_count": 423,
   "metadata": {},
   "outputs": [
    {
     "name": "stdout",
     "output_type": "stream",
     "text": [
      "<class 'pandas.core.frame.DataFrame'>\n",
      "Int64Index: 11910 entries, 1 to 12689\n",
      "Columns: 260 entries, rating to Telangana\n",
      "dtypes: float64(2), int64(258)\n",
      "memory usage: 23.7 MB\n"
     ]
    }
   ],
   "source": [
    "X.info()"
   ]
  },
  {
   "cell_type": "code",
   "execution_count": 424,
   "metadata": {},
   "outputs": [
    {
     "data": {
      "text/html": [
       "<div>\n",
       "<style scoped>\n",
       "    .dataframe tbody tr th:only-of-type {\n",
       "        vertical-align: middle;\n",
       "    }\n",
       "\n",
       "    .dataframe tbody tr th {\n",
       "        vertical-align: top;\n",
       "    }\n",
       "\n",
       "    .dataframe thead th {\n",
       "        text-align: right;\n",
       "    }\n",
       "</style>\n",
       "<table border=\"1\" class=\"dataframe\">\n",
       "  <thead>\n",
       "    <tr style=\"text-align: right;\">\n",
       "      <th></th>\n",
       "      <th>rating</th>\n",
       "      <th>votes</th>\n",
       "      <th>cost</th>\n",
       "      <th>BAKERY</th>\n",
       "      <th>BAR</th>\n",
       "      <th>BHOJANALYA</th>\n",
       "      <th>CAFÉ</th>\n",
       "      <th>CASUAL DINING</th>\n",
       "      <th>DESSERT PARLOR</th>\n",
       "      <th>DHABA</th>\n",
       "      <th>...</th>\n",
       "      <th>Ernakulam</th>\n",
       "      <th>Faridabad</th>\n",
       "      <th>Ghaziabad</th>\n",
       "      <th>Gurgaon</th>\n",
       "      <th>Hyderabad</th>\n",
       "      <th>Kochi</th>\n",
       "      <th>Mumbai</th>\n",
       "      <th>Noida</th>\n",
       "      <th>Secunderabad</th>\n",
       "      <th>Telangana</th>\n",
       "    </tr>\n",
       "  </thead>\n",
       "  <tbody>\n",
       "    <tr>\n",
       "      <th>1</th>\n",
       "      <td>4.2</td>\n",
       "      <td>30</td>\n",
       "      <td>1500.0</td>\n",
       "      <td>0</td>\n",
       "      <td>0</td>\n",
       "      <td>0</td>\n",
       "      <td>0</td>\n",
       "      <td>1</td>\n",
       "      <td>0</td>\n",
       "      <td>0</td>\n",
       "      <td>...</td>\n",
       "      <td>0</td>\n",
       "      <td>0</td>\n",
       "      <td>0</td>\n",
       "      <td>0</td>\n",
       "      <td>0</td>\n",
       "      <td>0</td>\n",
       "      <td>0</td>\n",
       "      <td>0</td>\n",
       "      <td>0</td>\n",
       "      <td>0</td>\n",
       "    </tr>\n",
       "    <tr>\n",
       "      <th>2</th>\n",
       "      <td>3.8</td>\n",
       "      <td>221</td>\n",
       "      <td>800.0</td>\n",
       "      <td>0</td>\n",
       "      <td>0</td>\n",
       "      <td>0</td>\n",
       "      <td>0</td>\n",
       "      <td>1</td>\n",
       "      <td>0</td>\n",
       "      <td>0</td>\n",
       "      <td>...</td>\n",
       "      <td>0</td>\n",
       "      <td>0</td>\n",
       "      <td>0</td>\n",
       "      <td>0</td>\n",
       "      <td>0</td>\n",
       "      <td>0</td>\n",
       "      <td>0</td>\n",
       "      <td>0</td>\n",
       "      <td>0</td>\n",
       "      <td>0</td>\n",
       "    </tr>\n",
       "    <tr>\n",
       "      <th>3</th>\n",
       "      <td>4.1</td>\n",
       "      <td>24</td>\n",
       "      <td>800.0</td>\n",
       "      <td>0</td>\n",
       "      <td>0</td>\n",
       "      <td>0</td>\n",
       "      <td>0</td>\n",
       "      <td>0</td>\n",
       "      <td>0</td>\n",
       "      <td>0</td>\n",
       "      <td>...</td>\n",
       "      <td>0</td>\n",
       "      <td>0</td>\n",
       "      <td>0</td>\n",
       "      <td>0</td>\n",
       "      <td>0</td>\n",
       "      <td>0</td>\n",
       "      <td>1</td>\n",
       "      <td>0</td>\n",
       "      <td>0</td>\n",
       "      <td>0</td>\n",
       "    </tr>\n",
       "    <tr>\n",
       "      <th>4</th>\n",
       "      <td>3.8</td>\n",
       "      <td>165</td>\n",
       "      <td>300.0</td>\n",
       "      <td>0</td>\n",
       "      <td>0</td>\n",
       "      <td>0</td>\n",
       "      <td>0</td>\n",
       "      <td>0</td>\n",
       "      <td>1</td>\n",
       "      <td>0</td>\n",
       "      <td>...</td>\n",
       "      <td>0</td>\n",
       "      <td>0</td>\n",
       "      <td>0</td>\n",
       "      <td>0</td>\n",
       "      <td>0</td>\n",
       "      <td>0</td>\n",
       "      <td>1</td>\n",
       "      <td>0</td>\n",
       "      <td>0</td>\n",
       "      <td>0</td>\n",
       "    </tr>\n",
       "    <tr>\n",
       "      <th>5</th>\n",
       "      <td>4.0</td>\n",
       "      <td>550</td>\n",
       "      <td>800.0</td>\n",
       "      <td>0</td>\n",
       "      <td>0</td>\n",
       "      <td>0</td>\n",
       "      <td>0</td>\n",
       "      <td>1</td>\n",
       "      <td>0</td>\n",
       "      <td>0</td>\n",
       "      <td>...</td>\n",
       "      <td>0</td>\n",
       "      <td>0</td>\n",
       "      <td>0</td>\n",
       "      <td>0</td>\n",
       "      <td>0</td>\n",
       "      <td>0</td>\n",
       "      <td>1</td>\n",
       "      <td>0</td>\n",
       "      <td>0</td>\n",
       "      <td>0</td>\n",
       "    </tr>\n",
       "  </tbody>\n",
       "</table>\n",
       "<p>5 rows × 260 columns</p>\n",
       "</div>"
      ],
      "text/plain": [
       "   rating  votes    cost  BAKERY  BAR  BHOJANALYA  CAFÉ  CASUAL DINING  \\\n",
       "1     4.2     30  1500.0       0    0           0     0              1   \n",
       "2     3.8    221   800.0       0    0           0     0              1   \n",
       "3     4.1     24   800.0       0    0           0     0              0   \n",
       "4     3.8    165   300.0       0    0           0     0              0   \n",
       "5     4.0    550   800.0       0    0           0     0              1   \n",
       "\n",
       "   DESSERT PARLOR  DHABA  ...  Ernakulam  Faridabad  Ghaziabad  Gurgaon  \\\n",
       "1               0      0  ...          0          0          0        0   \n",
       "2               0      0  ...          0          0          0        0   \n",
       "3               0      0  ...          0          0          0        0   \n",
       "4               1      0  ...          0          0          0        0   \n",
       "5               0      0  ...          0          0          0        0   \n",
       "\n",
       "   Hyderabad  Kochi  Mumbai  Noida  Secunderabad  Telangana  \n",
       "1          0      0       0      0             0          0  \n",
       "2          0      0       0      0             0          0  \n",
       "3          0      0       1      0             0          0  \n",
       "4          0      0       1      0             0          0  \n",
       "5          0      0       1      0             0          0  \n",
       "\n",
       "[5 rows x 260 columns]"
      ]
     },
     "execution_count": 424,
     "metadata": {},
     "output_type": "execute_result"
    }
   ],
   "source": [
    "X.head()"
   ]
  },
  {
   "cell_type": "code",
   "execution_count": null,
   "metadata": {},
   "outputs": [],
   "source": []
  },
  {
   "cell_type": "code",
   "execution_count": 425,
   "metadata": {},
   "outputs": [],
   "source": [
    "train_x,test_x,train_y,test_y = train_test_split(X,Y,test_size=0.3,random_state=10)"
   ]
  },
  {
   "cell_type": "code",
   "execution_count": 442,
   "metadata": {},
   "outputs": [
    {
     "data": {
      "text/plain": [
       "(8337, 260)"
      ]
     },
     "execution_count": 442,
     "metadata": {},
     "output_type": "execute_result"
    }
   ],
   "source": [
    "train_x.shape"
   ]
  },
  {
   "cell_type": "code",
   "execution_count": 443,
   "metadata": {},
   "outputs": [
    {
     "data": {
      "text/html": [
       "<div>\n",
       "<style scoped>\n",
       "    .dataframe tbody tr th:only-of-type {\n",
       "        vertical-align: middle;\n",
       "    }\n",
       "\n",
       "    .dataframe tbody tr th {\n",
       "        vertical-align: top;\n",
       "    }\n",
       "\n",
       "    .dataframe thead th {\n",
       "        text-align: right;\n",
       "    }\n",
       "</style>\n",
       "<table border=\"1\" class=\"dataframe\">\n",
       "  <thead>\n",
       "    <tr style=\"text-align: right;\">\n",
       "      <th></th>\n",
       "      <th>rating</th>\n",
       "      <th>votes</th>\n",
       "      <th>cost</th>\n",
       "      <th>BAKERY</th>\n",
       "      <th>BAR</th>\n",
       "      <th>BHOJANALYA</th>\n",
       "      <th>CAFÉ</th>\n",
       "      <th>CASUAL DINING</th>\n",
       "      <th>DESSERT PARLOR</th>\n",
       "      <th>DHABA</th>\n",
       "      <th>...</th>\n",
       "      <th>Ernakulam</th>\n",
       "      <th>Faridabad</th>\n",
       "      <th>Ghaziabad</th>\n",
       "      <th>Gurgaon</th>\n",
       "      <th>Hyderabad</th>\n",
       "      <th>Kochi</th>\n",
       "      <th>Mumbai</th>\n",
       "      <th>Noida</th>\n",
       "      <th>Secunderabad</th>\n",
       "      <th>Telangana</th>\n",
       "    </tr>\n",
       "  </thead>\n",
       "  <tbody>\n",
       "    <tr>\n",
       "      <th>795</th>\n",
       "      <td>3.5</td>\n",
       "      <td>23</td>\n",
       "      <td>200.0</td>\n",
       "      <td>0</td>\n",
       "      <td>0</td>\n",
       "      <td>0</td>\n",
       "      <td>0</td>\n",
       "      <td>0</td>\n",
       "      <td>0</td>\n",
       "      <td>0</td>\n",
       "      <td>...</td>\n",
       "      <td>0</td>\n",
       "      <td>1</td>\n",
       "      <td>0</td>\n",
       "      <td>0</td>\n",
       "      <td>0</td>\n",
       "      <td>0</td>\n",
       "      <td>0</td>\n",
       "      <td>0</td>\n",
       "      <td>0</td>\n",
       "      <td>0</td>\n",
       "    </tr>\n",
       "    <tr>\n",
       "      <th>12381</th>\n",
       "      <td>3.8</td>\n",
       "      <td>659</td>\n",
       "      <td>1300.0</td>\n",
       "      <td>0</td>\n",
       "      <td>0</td>\n",
       "      <td>0</td>\n",
       "      <td>0</td>\n",
       "      <td>1</td>\n",
       "      <td>0</td>\n",
       "      <td>0</td>\n",
       "      <td>...</td>\n",
       "      <td>0</td>\n",
       "      <td>0</td>\n",
       "      <td>0</td>\n",
       "      <td>0</td>\n",
       "      <td>0</td>\n",
       "      <td>0</td>\n",
       "      <td>0</td>\n",
       "      <td>0</td>\n",
       "      <td>0</td>\n",
       "      <td>0</td>\n",
       "    </tr>\n",
       "    <tr>\n",
       "      <th>4666</th>\n",
       "      <td>3.8</td>\n",
       "      <td>481</td>\n",
       "      <td>650.0</td>\n",
       "      <td>0</td>\n",
       "      <td>0</td>\n",
       "      <td>0</td>\n",
       "      <td>0</td>\n",
       "      <td>0</td>\n",
       "      <td>0</td>\n",
       "      <td>0</td>\n",
       "      <td>...</td>\n",
       "      <td>0</td>\n",
       "      <td>0</td>\n",
       "      <td>0</td>\n",
       "      <td>0</td>\n",
       "      <td>0</td>\n",
       "      <td>0</td>\n",
       "      <td>0</td>\n",
       "      <td>0</td>\n",
       "      <td>0</td>\n",
       "      <td>0</td>\n",
       "    </tr>\n",
       "    <tr>\n",
       "      <th>11402</th>\n",
       "      <td>4.3</td>\n",
       "      <td>480</td>\n",
       "      <td>2000.0</td>\n",
       "      <td>0</td>\n",
       "      <td>1</td>\n",
       "      <td>0</td>\n",
       "      <td>0</td>\n",
       "      <td>0</td>\n",
       "      <td>0</td>\n",
       "      <td>0</td>\n",
       "      <td>...</td>\n",
       "      <td>0</td>\n",
       "      <td>0</td>\n",
       "      <td>0</td>\n",
       "      <td>1</td>\n",
       "      <td>0</td>\n",
       "      <td>0</td>\n",
       "      <td>0</td>\n",
       "      <td>0</td>\n",
       "      <td>0</td>\n",
       "      <td>0</td>\n",
       "    </tr>\n",
       "    <tr>\n",
       "      <th>7823</th>\n",
       "      <td>3.9</td>\n",
       "      <td>44</td>\n",
       "      <td>150.0</td>\n",
       "      <td>1</td>\n",
       "      <td>0</td>\n",
       "      <td>0</td>\n",
       "      <td>0</td>\n",
       "      <td>0</td>\n",
       "      <td>0</td>\n",
       "      <td>0</td>\n",
       "      <td>...</td>\n",
       "      <td>0</td>\n",
       "      <td>0</td>\n",
       "      <td>0</td>\n",
       "      <td>0</td>\n",
       "      <td>0</td>\n",
       "      <td>1</td>\n",
       "      <td>0</td>\n",
       "      <td>0</td>\n",
       "      <td>0</td>\n",
       "      <td>0</td>\n",
       "    </tr>\n",
       "  </tbody>\n",
       "</table>\n",
       "<p>5 rows × 260 columns</p>\n",
       "</div>"
      ],
      "text/plain": [
       "       rating  votes    cost  BAKERY  BAR  BHOJANALYA  CAFÉ  CASUAL DINING  \\\n",
       "795       3.5     23   200.0       0    0           0     0              0   \n",
       "12381     3.8    659  1300.0       0    0           0     0              1   \n",
       "4666      3.8    481   650.0       0    0           0     0              0   \n",
       "11402     4.3    480  2000.0       0    1           0     0              0   \n",
       "7823      3.9     44   150.0       1    0           0     0              0   \n",
       "\n",
       "       DESSERT PARLOR  DHABA  ...  Ernakulam  Faridabad  Ghaziabad  Gurgaon  \\\n",
       "795                 0      0  ...          0          1          0        0   \n",
       "12381               0      0  ...          0          0          0        0   \n",
       "4666                0      0  ...          0          0          0        0   \n",
       "11402               0      0  ...          0          0          0        1   \n",
       "7823                0      0  ...          0          0          0        0   \n",
       "\n",
       "       Hyderabad  Kochi  Mumbai  Noida  Secunderabad  Telangana  \n",
       "795            0      0       0      0             0          0  \n",
       "12381          0      0       0      0             0          0  \n",
       "4666           0      0       0      0             0          0  \n",
       "11402          0      0       0      0             0          0  \n",
       "7823           0      1       0      0             0          0  \n",
       "\n",
       "[5 rows x 260 columns]"
      ]
     },
     "execution_count": 443,
     "metadata": {},
     "output_type": "execute_result"
    }
   ],
   "source": [
    "train_x.head()"
   ]
  },
  {
   "cell_type": "code",
   "execution_count": null,
   "metadata": {},
   "outputs": [],
   "source": []
  },
  {
   "cell_type": "raw",
   "metadata": {},
   "source": []
  },
  {
   "cell_type": "raw",
   "metadata": {},
   "source": []
  },
  {
   "cell_type": "code",
   "execution_count": null,
   "metadata": {},
   "outputs": [],
   "source": []
  },
  {
   "cell_type": "code",
   "execution_count": null,
   "metadata": {},
   "outputs": [],
   "source": []
  },
  {
   "cell_type": "code",
   "execution_count": null,
   "metadata": {},
   "outputs": [],
   "source": []
  },
  {
   "cell_type": "raw",
   "metadata": {},
   "source": []
  },
  {
   "cell_type": "raw",
   "metadata": {},
   "source": []
  },
  {
   "cell_type": "code",
   "execution_count": 427,
   "metadata": {},
   "outputs": [
    {
     "data": {
      "text/plain": [
       "(3573, 260)"
      ]
     },
     "execution_count": 427,
     "metadata": {},
     "output_type": "execute_result"
    }
   ],
   "source": [
    "test_x.shape"
   ]
  },
  {
   "cell_type": "code",
   "execution_count": 428,
   "metadata": {},
   "outputs": [],
   "source": [
    "linear = LinearRegression()"
   ]
  },
  {
   "cell_type": "code",
   "execution_count": 429,
   "metadata": {},
   "outputs": [
    {
     "data": {
      "text/plain": [
       "LinearRegression(copy_X=True, fit_intercept=True, n_jobs=None, normalize=False)"
      ]
     },
     "execution_count": 429,
     "metadata": {},
     "output_type": "execute_result"
    }
   ],
   "source": [
    "linear.fit(train_x,train_y)"
   ]
  },
  {
   "cell_type": "code",
   "execution_count": 430,
   "metadata": {},
   "outputs": [
    {
     "data": {
      "text/plain": [
       "array([-3.87627576e-13,  3.33066907e-16,  1.00000000e+00, -1.60937326e-03,\n",
       "       -1.60937326e-03,  2.48756942e-03, -1.60937326e-03, -1.60937326e-03,\n",
       "       -1.60937326e-03, -1.60937326e-03, -1.60937326e-03, -1.60937326e-03,\n",
       "       -1.60937326e-03, -1.60937326e-03, -1.60937326e-03, -1.60937326e-03,\n",
       "       -6.99479055e-06, -1.60937326e-03, -1.18486990e-03, -1.60937326e-03,\n",
       "        2.18457439e-13, -7.30423327e-14,  2.94752894e-04, -6.36030061e-14,\n",
       "        2.61749918e-14,  8.03973858e-15,  2.63591341e-13,  1.25470550e-14,\n",
       "       -2.25164735e-13, -6.61809712e-14,  3.30129126e-14,  2.69647409e-13,\n",
       "       -1.21895931e-13, -1.40957395e-14, -1.16328930e-14,  3.82722825e-14,\n",
       "        1.75503194e-15,  1.50379180e-15, -1.97055422e-14, -3.49917578e-14,\n",
       "        3.44186485e-14,  1.99844210e-14,  4.90722168e-14,  3.66981365e-13,\n",
       "        1.63678834e-14,  1.53625214e-14,  6.71528805e-14,  8.47503491e-14,\n",
       "       -4.41246567e-14, -8.41167414e-15,  6.56059544e-14, -7.10727050e-15,\n",
       "        7.02199800e-15, -4.67652764e-05,  1.40740428e-04,  2.03759535e-14,\n",
       "        3.14948696e-05,  7.04780201e-15, -1.97883160e-15,  5.90256313e-05,\n",
       "       -1.66253458e-14,  4.10672981e-14,  8.41862018e-06,  2.37649256e-14,\n",
       "       -3.27579557e-14,  8.40096764e-15,  1.34601260e-14,  5.18812424e-15,\n",
       "       -1.00136208e-13, -5.32810897e-14, -2.15150163e-14, -4.21161587e-14,\n",
       "       -7.46460998e-15, -8.10208901e-14, -4.96399254e-15, -9.24022144e-15,\n",
       "        2.93190286e-06, -1.93849927e-14,  4.00157677e-14, -2.64962883e-14,\n",
       "       -2.38171570e-14, -1.96171069e-14, -3.28602434e-14, -3.34481791e-15,\n",
       "       -1.82652016e-14, -6.52071713e-15,  3.26353663e-15,  6.29438992e-15,\n",
       "        3.47555372e-14,  2.74170877e-14,  7.68384922e-15,  2.16395912e-14,\n",
       "        4.17519689e-05,  5.56278656e-14,  1.08571119e-05,  1.38239301e-14,\n",
       "       -1.33038112e-14, -4.13996840e-15, -2.65530480e-04,  1.09648266e-13,\n",
       "        1.43887181e-16, -1.47838894e-14, -2.78446157e-14, -2.95358356e-15,\n",
       "        2.86833023e-13, -5.77760496e-15,  8.40256862e-06,  2.57110966e-13,\n",
       "       -6.43686561e-14, -1.23224659e-14,  3.71950116e-14, -2.20923919e-13,\n",
       "       -1.31914878e-14, -1.11549855e-13, -2.49049099e-14,  7.88469225e-14,\n",
       "        4.71040850e-14, -3.67015988e-14,  2.34271513e-06, -4.20795126e-15,\n",
       "        6.31157453e-15,  1.34571599e-05, -1.22243795e-15,  2.20329194e-05,\n",
       "        1.24615352e-14, -4.09965285e-05,  2.34609966e-14, -2.96597387e-14,\n",
       "        1.46554589e-14,  2.34344336e-14, -4.40343291e-15,  6.63379941e-15,\n",
       "        2.55624108e-14, -1.07855077e-14,  8.37669167e-14,  1.35521477e-14,\n",
       "        1.88342722e-14,  4.02396486e-14, -2.93190290e-06, -2.77037236e-14,\n",
       "       -2.28105024e-14, -5.37704671e-04, -1.50643684e-05, -5.37704671e-04,\n",
       "       -5.37704671e-04, -5.37704671e-04, -1.43696112e-05, -5.37704671e-04,\n",
       "       -5.37704671e-04, -5.37704671e-04, -5.37704671e-04, -5.37704671e-04,\n",
       "       -5.37704671e-04, -5.37704671e-04, -5.37704671e-04, -5.37704670e-04,\n",
       "       -5.37704671e-04, -5.37704671e-04,  9.44682294e-06, -6.31675900e-06,\n",
       "       -5.37704670e-04, -5.37704671e-04, -5.37704670e-04, -5.37704671e-04,\n",
       "       -5.37704671e-04,  1.79892844e-05,  6.50184228e-06, -5.37704671e-04,\n",
       "       -5.37704671e-04, -5.37704670e-04, -5.37704671e-04, -5.37704671e-04,\n",
       "       -5.37704670e-04, -2.72174191e-04, -5.37704670e-04, -5.37704671e-04,\n",
       "       -5.37704670e-04, -5.37704671e-04, -5.37704671e-04, -5.37704671e-04,\n",
       "       -5.37704670e-04, -5.37704670e-04, -5.37704671e-04, -5.37704670e-04,\n",
       "       -5.37704671e-04, -5.37704671e-04, -5.37704670e-04, -5.37704670e-04,\n",
       "       -5.37704671e-04,  5.80598243e-06, -5.37704671e-04, -5.37704671e-04,\n",
       "       -5.37704671e-04, -5.37704670e-04, -5.37704671e-04, -5.37704671e-04,\n",
       "       -5.37704670e-04, -5.37704671e-04, -5.37704671e-04, -5.37704671e-04,\n",
       "       -5.37704671e-04, -5.37704670e-04, -5.37704671e-04, -5.37704671e-04,\n",
       "       -5.37704671e-04, -5.37704670e-04, -5.37704670e-04, -5.37704671e-04,\n",
       "       -5.37704670e-04, -5.37704671e-04, -5.37704671e-04, -5.37704670e-04,\n",
       "       -5.37704670e-04, -5.37704671e-04, -5.37704671e-04, -5.37704670e-04,\n",
       "       -5.37704671e-04, -9.62208035e-04, -5.37704671e-04, -5.37704670e-04,\n",
       "       -5.37704671e-04, -5.37704670e-04, -5.37704671e-04, -5.37704671e-04,\n",
       "       -5.37704671e-04, -5.37704671e-04, -5.37704670e-04, -5.37704671e-04,\n",
       "       -5.37704670e-04, -5.37704670e-04, -5.37704670e-04, -5.37704670e-04,\n",
       "       -5.37704671e-04, -5.37704671e-04, -5.37704671e-04, -5.37704670e-04,\n",
       "       -5.37704671e-04, -5.37704671e-04, -5.37704670e-04, -5.37704670e-04,\n",
       "       -5.37704671e-04, -5.37704671e-04, -5.37704670e-04, -5.37704671e-04,\n",
       "       -5.37704671e-04, -5.37704671e-04, -5.37704670e-04, -3.43939756e-03,\n",
       "       -3.43939756e-03, -3.43939756e-03, -3.43939756e-03, -3.43939756e-03,\n",
       "       -3.43939756e-03, -3.43939756e-03, -3.43939756e-03, -3.43939756e-03,\n",
       "       -3.43939756e-03, -3.43939756e-03, -3.43939756e-03, -3.43939756e-03])"
      ]
     },
     "execution_count": 430,
     "metadata": {},
     "output_type": "execute_result"
    }
   ],
   "source": [
    "linear.coef_"
   ]
  },
  {
   "cell_type": "code",
   "execution_count": 431,
   "metadata": {},
   "outputs": [
    {
     "data": {
      "text/plain": [
       "<matplotlib.axes._subplots.AxesSubplot at 0x7fb5646c4630>"
      ]
     },
     "execution_count": 431,
     "metadata": {},
     "output_type": "execute_result"
    },
    {
     "data": {
      "image/png": "[encoded data removed]",
      "text/plain": [
       "<Figure size 432x288 with 1 Axes>"
      ]
     },
     "metadata": {
      "needs_background": "light"
     },
     "output_type": "display_data"
    }
   ],
   "source": [
    "pd.DataFrame(linear.coef_,train_x.columns).plot(kind = \"bar\")"
   ]
  },
  {
   "cell_type": "code",
   "execution_count": 432,
   "metadata": {},
   "outputs": [],
   "source": [
    "train_predict = linear.predict(train_x)"
   ]
  },
  {
   "cell_type": "code",
   "execution_count": 433,
   "metadata": {},
   "outputs": [],
   "source": [
    "test_predict = linear.predict(test_x)"
   ]
  },
  {
   "cell_type": "code",
   "execution_count": 434,
   "metadata": {},
   "outputs": [
    {
     "data": {
      "text/plain": [
       "1.2173097596015683e-12"
      ]
     },
     "execution_count": 434,
     "metadata": {},
     "output_type": "execute_result"
    }
   ],
   "source": [
    "np.sqrt(mean_squared_error(train_predict,train_y))"
   ]
  },
  {
   "cell_type": "code",
   "execution_count": 435,
   "metadata": {},
   "outputs": [
    {
     "data": {
      "text/plain": [
       "3.400470150682771e-05"
      ]
     },
     "execution_count": 435,
     "metadata": {},
     "output_type": "execute_result"
    }
   ],
   "source": [
    "np.sqrt(mean_squared_error(test_predict,test_y))"
   ]
  },
  {
   "cell_type": "code",
   "execution_count": null,
   "metadata": {},
   "outputs": [],
   "source": []
  },
  {
   "cell_type": "code",
   "execution_count": 441,
   "metadata": {},
   "outputs": [
    {
     "data": {
      "text/plain": [
       "array([4.7, 4.6, 4.2, 3.9, 4.5, 4.4, 2.6, 3.7, 3.6, 4. , 3.4, 4.3, 3.5,\n",
       "       3.8, 3.3, 3.2, 3. , 3.1, 2.8, 4.1, 2.9, 2.4, 2.7, 2.5, 4.8, 4.9,\n",
       "       2.2, 2.3])"
      ]
     },
     "execution_count": 441,
     "metadata": {},
     "output_type": "execute_result"
    }
   ],
   "source": [
    "test_x.rating.unique()"
   ]
  },
  {
   "cell_type": "code",
   "execution_count": null,
   "metadata": {},
   "outputs": [],
   "source": []
  },
  {
   "cell_type": "code",
   "execution_count": null,
   "metadata": {},
   "outputs": [],
   "source": []
  },
  {
   "cell_type": "code",
   "execution_count": null,
   "metadata": {},
   "outputs": [],
   "source": []
  },
  {
   "cell_type": "code",
   "execution_count": null,
   "metadata": {},
   "outputs": [],
   "source": []
  },
  {
   "cell_type": "code",
   "execution_count": null,
   "metadata": {},
   "outputs": [],
   "source": []
  },
  {
   "cell_type": "code",
   "execution_count": null,
   "metadata": {},
   "outputs": [],
   "source": []
  },
  {
   "cell_type": "code",
   "execution_count": 436,
   "metadata": {},
   "outputs": [
    {
     "ename": "ValueError",
     "evalue": "Input contains NaN, infinity or a value too large for dtype('float64').",
     "output_type": "error",
     "traceback": [
      "\u001b[0;31m---------------------------------------------------------------------------\u001b[0m",
      "\u001b[0;31mValueError\u001b[0m                                Traceback (most recent call last)",
      "\u001b[0;32m<ipython-input-436-4811e740f355>\u001b[0m in \u001b[0;36m<module>\u001b[0;34m\u001b[0m\n\u001b[1;32m      5\u001b[0m \u001b[0;34m\u001b[0m\u001b[0m\n\u001b[1;32m      6\u001b[0m \u001b[0mX_poly\u001b[0m \u001b[0;34m=\u001b[0m \u001b[0mpoly_reg\u001b[0m\u001b[0;34m.\u001b[0m\u001b[0mfit_transform\u001b[0m\u001b[0;34m(\u001b[0m\u001b[0mX\u001b[0m\u001b[0;34m)\u001b[0m\u001b[0;34m\u001b[0m\u001b[0;34m\u001b[0m\u001b[0m\n\u001b[0;32m----> 7\u001b[0;31m \u001b[0mX_test_poly\u001b[0m \u001b[0;34m=\u001b[0m \u001b[0mpoly_reg\u001b[0m\u001b[0;34m.\u001b[0m\u001b[0mfit_transform\u001b[0m\u001b[0;34m(\u001b[0m\u001b[0mtest_preprocessed\u001b[0m\u001b[0;34m.\u001b[0m\u001b[0mdrop\u001b[0m\u001b[0;34m(\u001b[0m\u001b[0mcolumns\u001b[0m\u001b[0;34m=\u001b[0m\u001b[0;34m[\u001b[0m\u001b[0;34m\"rating\"\u001b[0m\u001b[0;34m,\u001b[0m \u001b[0;34m\"votes\"\u001b[0m\u001b[0;34m]\u001b[0m\u001b[0;34m)\u001b[0m\u001b[0;34m)\u001b[0m\u001b[0;34m\u001b[0m\u001b[0;34m\u001b[0m\u001b[0m\n\u001b[0m\u001b[1;32m      8\u001b[0m \u001b[0;34m\u001b[0m\u001b[0m\n\u001b[1;32m      9\u001b[0m \u001b[0mpol_reg\u001b[0m \u001b[0;34m=\u001b[0m \u001b[0mLinearRegression\u001b[0m\u001b[0;34m(\u001b[0m\u001b[0;34m)\u001b[0m\u001b[0;34m\u001b[0m\u001b[0;34m\u001b[0m\u001b[0m\n",
      "\u001b[0;32m~/Documents/Python/ML/mlenv/lib/python3.6/site-packages/sklearn/base.py\u001b[0m in \u001b[0;36mfit_transform\u001b[0;34m(self, X, y, **fit_params)\u001b[0m\n\u001b[1;32m    551\u001b[0m         \u001b[0;32mif\u001b[0m \u001b[0my\u001b[0m \u001b[0;32mis\u001b[0m \u001b[0;32mNone\u001b[0m\u001b[0;34m:\u001b[0m\u001b[0;34m\u001b[0m\u001b[0;34m\u001b[0m\u001b[0m\n\u001b[1;32m    552\u001b[0m             \u001b[0;31m# fit method of arity 1 (unsupervised transformation)\u001b[0m\u001b[0;34m\u001b[0m\u001b[0;34m\u001b[0m\u001b[0;34m\u001b[0m\u001b[0m\n\u001b[0;32m--> 553\u001b[0;31m             \u001b[0;32mreturn\u001b[0m \u001b[0mself\u001b[0m\u001b[0;34m.\u001b[0m\u001b[0mfit\u001b[0m\u001b[0;34m(\u001b[0m\u001b[0mX\u001b[0m\u001b[0;34m,\u001b[0m \u001b[0;34m**\u001b[0m\u001b[0mfit_params\u001b[0m\u001b[0;34m)\u001b[0m\u001b[0;34m.\u001b[0m\u001b[0mtransform\u001b[0m\u001b[0;34m(\u001b[0m\u001b[0mX\u001b[0m\u001b[0;34m)\u001b[0m\u001b[0;34m\u001b[0m\u001b[0;34m\u001b[0m\u001b[0m\n\u001b[0m\u001b[1;32m    554\u001b[0m         \u001b[0;32melse\u001b[0m\u001b[0;34m:\u001b[0m\u001b[0;34m\u001b[0m\u001b[0;34m\u001b[0m\u001b[0m\n\u001b[1;32m    555\u001b[0m             \u001b[0;31m# fit method of arity 2 (supervised transformation)\u001b[0m\u001b[0;34m\u001b[0m\u001b[0;34m\u001b[0m\u001b[0;34m\u001b[0m\u001b[0m\n",
      "\u001b[0;32m~/Documents/Python/ML/mlenv/lib/python3.6/site-packages/sklearn/preprocessing/data.py\u001b[0m in \u001b[0;36mfit\u001b[0;34m(self, X, y)\u001b[0m\n\u001b[1;32m   1463\u001b[0m         \u001b[0mself\u001b[0m \u001b[0;34m:\u001b[0m \u001b[0minstance\u001b[0m\u001b[0;34m\u001b[0m\u001b[0;34m\u001b[0m\u001b[0m\n\u001b[1;32m   1464\u001b[0m         \"\"\"\n\u001b[0;32m-> 1465\u001b[0;31m         \u001b[0mn_samples\u001b[0m\u001b[0;34m,\u001b[0m \u001b[0mn_features\u001b[0m \u001b[0;34m=\u001b[0m \u001b[0mcheck_array\u001b[0m\u001b[0;34m(\u001b[0m\u001b[0mX\u001b[0m\u001b[0;34m,\u001b[0m \u001b[0maccept_sparse\u001b[0m\u001b[0;34m=\u001b[0m\u001b[0;32mTrue\u001b[0m\u001b[0;34m)\u001b[0m\u001b[0;34m.\u001b[0m\u001b[0mshape\u001b[0m\u001b[0;34m\u001b[0m\u001b[0;34m\u001b[0m\u001b[0m\n\u001b[0m\u001b[1;32m   1466\u001b[0m         combinations = self._combinations(n_features, self.degree,\n\u001b[1;32m   1467\u001b[0m                                           \u001b[0mself\u001b[0m\u001b[0;34m.\u001b[0m\u001b[0minteraction_only\u001b[0m\u001b[0;34m,\u001b[0m\u001b[0;34m\u001b[0m\u001b[0;34m\u001b[0m\u001b[0m\n",
      "\u001b[0;32m~/Documents/Python/ML/mlenv/lib/python3.6/site-packages/sklearn/utils/validation.py\u001b[0m in \u001b[0;36mcheck_array\u001b[0;34m(array, accept_sparse, accept_large_sparse, dtype, order, copy, force_all_finite, ensure_2d, allow_nd, ensure_min_samples, ensure_min_features, warn_on_dtype, estimator)\u001b[0m\n\u001b[1;32m    540\u001b[0m         \u001b[0;32mif\u001b[0m \u001b[0mforce_all_finite\u001b[0m\u001b[0;34m:\u001b[0m\u001b[0;34m\u001b[0m\u001b[0;34m\u001b[0m\u001b[0m\n\u001b[1;32m    541\u001b[0m             _assert_all_finite(array,\n\u001b[0;32m--> 542\u001b[0;31m                                allow_nan=force_all_finite == 'allow-nan')\n\u001b[0m\u001b[1;32m    543\u001b[0m \u001b[0;34m\u001b[0m\u001b[0m\n\u001b[1;32m    544\u001b[0m     \u001b[0;32mif\u001b[0m \u001b[0mensure_min_samples\u001b[0m \u001b[0;34m>\u001b[0m \u001b[0;36m0\u001b[0m\u001b[0;34m:\u001b[0m\u001b[0;34m\u001b[0m\u001b[0;34m\u001b[0m\u001b[0m\n",
      "\u001b[0;32m~/Documents/Python/ML/mlenv/lib/python3.6/site-packages/sklearn/utils/validation.py\u001b[0m in \u001b[0;36m_assert_all_finite\u001b[0;34m(X, allow_nan)\u001b[0m\n\u001b[1;32m     54\u001b[0m                 not allow_nan and not np.isfinite(X).all()):\n\u001b[1;32m     55\u001b[0m             \u001b[0mtype_err\u001b[0m \u001b[0;34m=\u001b[0m \u001b[0;34m'infinity'\u001b[0m \u001b[0;32mif\u001b[0m \u001b[0mallow_nan\u001b[0m \u001b[0;32melse\u001b[0m \u001b[0;34m'NaN, infinity'\u001b[0m\u001b[0;34m\u001b[0m\u001b[0;34m\u001b[0m\u001b[0m\n\u001b[0;32m---> 56\u001b[0;31m             \u001b[0;32mraise\u001b[0m \u001b[0mValueError\u001b[0m\u001b[0;34m(\u001b[0m\u001b[0mmsg_err\u001b[0m\u001b[0;34m.\u001b[0m\u001b[0mformat\u001b[0m\u001b[0;34m(\u001b[0m\u001b[0mtype_err\u001b[0m\u001b[0;34m,\u001b[0m \u001b[0mX\u001b[0m\u001b[0;34m.\u001b[0m\u001b[0mdtype\u001b[0m\u001b[0;34m)\u001b[0m\u001b[0;34m)\u001b[0m\u001b[0;34m\u001b[0m\u001b[0;34m\u001b[0m\u001b[0m\n\u001b[0m\u001b[1;32m     57\u001b[0m     \u001b[0;31m# for object dtype data, we only check for NaNs (GH-13254)\u001b[0m\u001b[0;34m\u001b[0m\u001b[0;34m\u001b[0m\u001b[0;34m\u001b[0m\u001b[0m\n\u001b[1;32m     58\u001b[0m     \u001b[0;32melif\u001b[0m \u001b[0mX\u001b[0m\u001b[0;34m.\u001b[0m\u001b[0mdtype\u001b[0m \u001b[0;34m==\u001b[0m \u001b[0mnp\u001b[0m\u001b[0;34m.\u001b[0m\u001b[0mdtype\u001b[0m\u001b[0;34m(\u001b[0m\u001b[0;34m'object'\u001b[0m\u001b[0;34m)\u001b[0m \u001b[0;32mand\u001b[0m \u001b[0;32mnot\u001b[0m \u001b[0mallow_nan\u001b[0m\u001b[0;34m:\u001b[0m\u001b[0;34m\u001b[0m\u001b[0;34m\u001b[0m\u001b[0m\n",
      "\u001b[0;31mValueError\u001b[0m: Input contains NaN, infinity or a value too large for dtype('float64')."
     ]
    }
   ],
   "source": [
    "from sklearn.preprocessing import PolynomialFeatures\n",
    "poly_reg = PolynomialFeatures(degree=2)\n",
    "X_train_poly = poly_reg.fit_transform(train_x)\n",
    "X_test_poly = poly_reg.fit_transform(test_x)\n",
    "\n",
    "X_poly = poly_reg.fit_transform(X)\n",
    "X_test_poly = poly_reg.fit_transform(test_preprocessed.drop(columns=[\"rating\", \"votes\"]))\n",
    "\n",
    "pol_reg = LinearRegression()"
   ]
  },
  {
   "cell_type": "code",
   "execution_count": null,
   "metadata": {},
   "outputs": [],
   "source": []
  },
  {
   "cell_type": "code",
   "execution_count": null,
   "metadata": {},
   "outputs": [],
   "source": []
  },
  {
   "cell_type": "code",
   "execution_count": null,
   "metadata": {},
   "outputs": [],
   "source": []
  },
  {
   "cell_type": "code",
   "execution_count": null,
   "metadata": {},
   "outputs": [],
   "source": []
  },
  {
   "cell_type": "code",
   "execution_count": null,
   "metadata": {},
   "outputs": [],
   "source": []
  },
  {
   "cell_type": "code",
   "execution_count": null,
   "metadata": {},
   "outputs": [],
   "source": []
  },
  {
   "cell_type": "code",
   "execution_count": null,
   "metadata": {},
   "outputs": [],
   "source": []
  }
 ],
 "metadata": {
  "kernelspec": {
   "display_name": "Python 3",
   "language": "python",
   "name": "python3"
  },
  "language_info": {
   "codemirror_mode": {
    "name": "ipython",
    "version": 3
   },
   "file_extension": ".py",
   "mimetype": "text/x-python",
   "name": "python",
   "nbconvert_exporter": "python",
   "pygments_lexer": "ipython3",
   "version": "3.6.8"
  }
 },
 "nbformat": 4,
 "nbformat_minor": 2
}
