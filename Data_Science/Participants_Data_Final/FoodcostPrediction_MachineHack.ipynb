{
 "cells": [
  {
   "cell_type": "code",
   "execution_count": 103,
   "metadata": {},
   "outputs": [],
   "source": [
    "import matplotlib.pyplot as plt\n",
    "%matplotlib inline\n",
    "\n",
    "import pandas as pd\n",
    "import numpy as np\n",
    "import re\n",
    "from sklearn.model_selection import train_test_split\n",
    "from sklearn.linear_model import LinearRegression\n",
    "from sklearn.metrics import mean_squared_error\n",
    "from sklearn.linear_model import Ridge\n",
    "from sklearn.linear_model import Lasso\n",
    "from sklearn.linear_model import ElasticNet\n",
    "import warnings\n",
    "warnings.filterwarnings(\"ignore\")\n",
    "import seaborn as sns\n"
   ]
  },
  {
   "cell_type": "code",
   "execution_count": 104,
   "metadata": {},
   "outputs": [],
   "source": [
    "train = pd.read_excel(\"Data_Test.xlsx\")\n",
    "test = pd.read_excel(\"Data_Train.xlsx\")\n"
   ]
  },
  {
   "cell_type": "code",
   "execution_count": 105,
   "metadata": {},
   "outputs": [
    {
     "data": {
      "text/plain": [
       "(4231, 8)"
      ]
     },
     "execution_count": 105,
     "metadata": {},
     "output_type": "execute_result"
    }
   ],
   "source": [
    "train.shape"
   ]
  },
  {
   "cell_type": "code",
   "execution_count": 106,
   "metadata": {},
   "outputs": [
    {
     "data": {
      "text/plain": [
       "(12690, 9)"
      ]
     },
     "execution_count": 106,
     "metadata": {},
     "output_type": "execute_result"
    }
   ],
   "source": [
    "test.shape"
   ]
  },
  {
   "cell_type": "code",
   "execution_count": null,
   "metadata": {},
   "outputs": [],
   "source": []
  },
  {
   "cell_type": "code",
   "execution_count": 107,
   "metadata": {},
   "outputs": [
    {
     "data": {
      "text/html": [
       "<div>\n",
       "<style scoped>\n",
       "    .dataframe tbody tr th:only-of-type {\n",
       "        vertical-align: middle;\n",
       "    }\n",
       "\n",
       "    .dataframe tbody tr th {\n",
       "        vertical-align: top;\n",
       "    }\n",
       "\n",
       "    .dataframe thead th {\n",
       "        text-align: right;\n",
       "    }\n",
       "</style>\n",
       "<table border=\"1\" class=\"dataframe\">\n",
       "  <thead>\n",
       "    <tr style=\"text-align: right;\">\n",
       "      <th></th>\n",
       "      <th>CITY</th>\n",
       "      <th>COST</th>\n",
       "      <th>CUISINES</th>\n",
       "      <th>LOCALITY</th>\n",
       "      <th>RATING</th>\n",
       "      <th>RESTAURANT_ID</th>\n",
       "      <th>TIME</th>\n",
       "      <th>TITLE</th>\n",
       "      <th>VOTES</th>\n",
       "    </tr>\n",
       "  </thead>\n",
       "  <tbody>\n",
       "    <tr>\n",
       "      <td>0</td>\n",
       "      <td>Noida</td>\n",
       "      <td>NaN</td>\n",
       "      <td>North Indian, Chinese, Mughlai, Kebab</td>\n",
       "      <td>Sector 18</td>\n",
       "      <td>4.3</td>\n",
       "      <td>4085</td>\n",
       "      <td>12noon – 12midnight (Mon-Sun)</td>\n",
       "      <td>CASUAL DINING</td>\n",
       "      <td>564 votes</td>\n",
       "    </tr>\n",
       "    <tr>\n",
       "      <td>1</td>\n",
       "      <td>Mumbai</td>\n",
       "      <td>NaN</td>\n",
       "      <td>South Indian, Fast Food, Pizza, North Indian</td>\n",
       "      <td>Grant Road</td>\n",
       "      <td>4.2</td>\n",
       "      <td>12680</td>\n",
       "      <td>7am – 12:30AM (Mon-Sun)</td>\n",
       "      <td>QUICK BITES</td>\n",
       "      <td>61 votes</td>\n",
       "    </tr>\n",
       "    <tr>\n",
       "      <td>2</td>\n",
       "      <td>Mumbai</td>\n",
       "      <td>NaN</td>\n",
       "      <td>North Indian, Seafood, Biryani, Chinese</td>\n",
       "      <td>Marine Lines</td>\n",
       "      <td>3.8</td>\n",
       "      <td>1411</td>\n",
       "      <td>11am – 11:30pm (Mon-Sun)</td>\n",
       "      <td>CASUAL DINING</td>\n",
       "      <td>350 votes</td>\n",
       "    </tr>\n",
       "    <tr>\n",
       "      <td>3</td>\n",
       "      <td>Faridabad</td>\n",
       "      <td>NaN</td>\n",
       "      <td>Biryani</td>\n",
       "      <td>NIT</td>\n",
       "      <td>3.8</td>\n",
       "      <td>204</td>\n",
       "      <td>9am – 10pm (Mon, Wed, Thu, Fri, Sat, Sun), 10:...</td>\n",
       "      <td>None</td>\n",
       "      <td>1445 votes</td>\n",
       "    </tr>\n",
       "    <tr>\n",
       "      <td>4</td>\n",
       "      <td>Kochi</td>\n",
       "      <td>NaN</td>\n",
       "      <td>South Indian, Kerala</td>\n",
       "      <td>Kaloor</td>\n",
       "      <td>3.6</td>\n",
       "      <td>13453</td>\n",
       "      <td>11am – 10pm (Mon-Sun)</td>\n",
       "      <td>QUICK BITES</td>\n",
       "      <td>23 votes</td>\n",
       "    </tr>\n",
       "  </tbody>\n",
       "</table>\n",
       "</div>"
      ],
      "text/plain": [
       "        CITY  COST                                      CUISINES  \\\n",
       "0      Noida   NaN         North Indian, Chinese, Mughlai, Kebab   \n",
       "1     Mumbai   NaN  South Indian, Fast Food, Pizza, North Indian   \n",
       "2     Mumbai   NaN       North Indian, Seafood, Biryani, Chinese   \n",
       "3  Faridabad   NaN                                       Biryani   \n",
       "4      Kochi   NaN                          South Indian, Kerala   \n",
       "\n",
       "       LOCALITY RATING  RESTAURANT_ID  \\\n",
       "0     Sector 18    4.3           4085   \n",
       "1    Grant Road    4.2          12680   \n",
       "2  Marine Lines    3.8           1411   \n",
       "3           NIT    3.8            204   \n",
       "4        Kaloor    3.6          13453   \n",
       "\n",
       "                                                TIME          TITLE  \\\n",
       "0                      12noon – 12midnight (Mon-Sun)  CASUAL DINING   \n",
       "1                            7am – 12:30AM (Mon-Sun)    QUICK BITES   \n",
       "2                           11am – 11:30pm (Mon-Sun)  CASUAL DINING   \n",
       "3  9am – 10pm (Mon, Wed, Thu, Fri, Sat, Sun), 10:...           None   \n",
       "4                              11am – 10pm (Mon-Sun)    QUICK BITES   \n",
       "\n",
       "        VOTES  \n",
       "0   564 votes  \n",
       "1    61 votes  \n",
       "2   350 votes  \n",
       "3  1445 votes  \n",
       "4    23 votes  "
      ]
     },
     "execution_count": 107,
     "metadata": {},
     "output_type": "execute_result"
    }
   ],
   "source": [
    "df = pd.concat([train,test])\n",
    "df.head()"
   ]
  },
  {
   "cell_type": "code",
   "execution_count": 108,
   "metadata": {},
   "outputs": [
    {
     "data": {
      "text/plain": [
       "(16921, 9)"
      ]
     },
     "execution_count": 108,
     "metadata": {},
     "output_type": "execute_result"
    }
   ],
   "source": [
    "df.shape"
   ]
  },
  {
   "cell_type": "code",
   "execution_count": 109,
   "metadata": {},
   "outputs": [
    {
     "data": {
      "text/plain": [
       "<seaborn.axisgrid.PairGrid at 0x1b80d0724c8>"
      ]
     },
     "execution_count": 109,
     "metadata": {},
     "output_type": "execute_result"
    },
    {
     "data": {
      "image/png": "[encoded data removed]",
      "text/plain": [
       "<Figure size 360x360 with 6 Axes>"
      ]
     },
     "metadata": {
      "needs_background": "light"
     },
     "output_type": "display_data"
    }
   ],
   "source": [
    "sns.pairplot(df)"
   ]
  },
  {
   "cell_type": "code",
   "execution_count": 110,
   "metadata": {},
   "outputs": [],
   "source": [
    "#df.duplicated().sum()"
   ]
  },
  {
   "cell_type": "code",
   "execution_count": 111,
   "metadata": {},
   "outputs": [
    {
     "data": {
      "text/plain": [
       "26"
      ]
     },
     "execution_count": 111,
     "metadata": {},
     "output_type": "execute_result"
    }
   ],
   "source": [
    "#df.drop_duplicates(inplace = True)\n",
    "df.duplicated().sum()"
   ]
  },
  {
   "cell_type": "code",
   "execution_count": 112,
   "metadata": {},
   "outputs": [
    {
     "name": "stdout",
     "output_type": "stream",
     "text": [
      "<class 'pandas.core.frame.DataFrame'>\n",
      "Int64Index: 16921 entries, 0 to 12689\n",
      "Data columns (total 9 columns):\n",
      "CITY             16774 non-null object\n",
      "COST             12690 non-null float64\n",
      "CUISINES         16921 non-null object\n",
      "LOCALITY         16793 non-null object\n",
      "RATING           16917 non-null object\n",
      "RESTAURANT_ID    16921 non-null int64\n",
      "TIME             16921 non-null object\n",
      "TITLE            16921 non-null object\n",
      "VOTES            15315 non-null object\n",
      "dtypes: float64(1), int64(1), object(7)\n",
      "memory usage: 1.9+ MB\n"
     ]
    }
   ],
   "source": [
    "df.info()"
   ]
  },
  {
   "cell_type": "code",
   "execution_count": 113,
   "metadata": {},
   "outputs": [
    {
     "data": {
      "text/plain": [
       "CITY              147\n",
       "COST             4231\n",
       "CUISINES            0\n",
       "LOCALITY          128\n",
       "RATING              4\n",
       "RESTAURANT_ID       0\n",
       "TIME                0\n",
       "TITLE               0\n",
       "VOTES            1606\n",
       "dtype: int64"
      ]
     },
     "execution_count": 113,
     "metadata": {},
     "output_type": "execute_result"
    }
   ],
   "source": [
    "df.isna().sum()"
   ]
  },
  {
   "cell_type": "code",
   "execution_count": 115,
   "metadata": {},
   "outputs": [
    {
     "data": {
      "text/plain": [
       "(16921, 9)"
      ]
     },
     "execution_count": 115,
     "metadata": {},
     "output_type": "execute_result"
    }
   ],
   "source": [
    "df.shape"
   ]
  },
  {
   "cell_type": "code",
   "execution_count": 116,
   "metadata": {},
   "outputs": [],
   "source": [
    "df['CITY'] = df['CITY'].replace(df[df['CITY'].str.contains('bang',na=False)][\"CITY\"].unique(),'Bangalore')\n",
    "df['CITY'] = df['CITY'].replace(df[df['CITY'].str.contains('Bang',na=False)][\"CITY\"].unique(),'Bangalore')\n",
    "df['CITY'] = df['CITY'].replace(df[df['CITY'].str.contains('Ker',na=False)][\"CITY\"].unique(),'kerala')\n",
    "df['CITY'] = df['CITY'].replace(df[df['CITY'].str.contains('JP Nagar',na=False)][\"CITY\"].unique(),'Bangalore')\n",
    "df['CITY'] = df['CITY'].replace(df[df['CITY'].str.contains('Mum',na=False)][\"CITY\"].unique(),'Mumbai')\n",
    "df['CITY'] = df['CITY'].replace(df[df['CITY'].str.contains('Bandra',na=False)][\"CITY\"].unique(),'Mumbai')\n",
    "df['CITY'] = df['CITY'].replace(df[df['CITY'].str.contains('Andheri',na=False)][\"CITY\"].unique(),'Mumbai')\n",
    "df['CITY'] = df['CITY'].replace(df[df['CITY'].str.contains('Maharashtra',na=False)][\"CITY\"].unique(),'Mumbai')\n",
    "df['CITY'] = df['CITY'].replace(df[df['CITY'].str.contains('Chen',na=False)][\"CITY\"].unique(),'Chennai')\n",
    "df['CITY'] = df['CITY'].replace(df[df['CITY'].str.contains('chen',na=False)][\"CITY\"].unique(),'Chennai')\n",
    "df['CITY'] = df['CITY'].replace(df[df['CITY'].str.contains('Tamil',na=False)][\"CITY\"].unique(),'Chennai')\n",
    "df['CITY'] = df['CITY'].replace(df[df['CITY'].str.contains('Anna Salai',na=False)][\"CITY\"].unique(),'Chennai')\n",
    "df['CITY'] = df['CITY'].replace(df[df['CITY'].str.contains('Tambaram',na=False)][\"CITY\"].unique(),'Chennai')\n",
    "df['CITY'] = df['CITY'].replace(df[df['CITY'].str.contains('Tela',na=False)][\"CITY\"].unique(),'Telangana')\n",
    "df['CITY'] = df['CITY'].replace(df[df['CITY'].str.contains('Delhi',na=False)][\"CITY\"].unique(),'Delhi')\n",
    "df['CITY'] = df['CITY'].replace(df[df['CITY'].str.contains('Karnataka',na=False)][\"CITY\"].unique(),'Bangalore')\n",
    "df['CITY'] = df['CITY'].replace(df[df['CITY'].str.contains('Bengalore',na=False)][\"CITY\"].unique(),'Bangalore')\n",
    "df['CITY'] = df['CITY'].replace(df[df['CITY'].str.contains('Bengalore',na=False)][\"CITY\"].unique(),'Bangalore')\n",
    "df['CITY'] = df['CITY'].replace(df[df['CITY'].str.contains('Bengaluru',na=False)][\"CITY\"].unique(),'Bangalore')\n",
    "df['CITY'] = df['CITY'].replace(df[df['CITY'].str.contains('Marathahalli',na=False)][\"CITY\"].unique(),'Bangalore')\n",
    "df['CITY'] = df['CITY'].replace(df[df['CITY'].str.contains('Kochi',na=False)][\"CITY\"].unique(),'Kochi')\n",
    "df['CITY'] = df['CITY'].replace(df[df['CITY'].str.contains('Hyder',na=False)][\"CITY\"].unique(),'Hyderabad')"
   ]
  },
  {
   "cell_type": "code",
   "execution_count": 117,
   "metadata": {},
   "outputs": [
    {
     "data": {
      "text/plain": [
       "array(['Noida', 'Mumbai', 'Faridabad', 'Kochi', 'Hyderabad', 'Chennai',\n",
       "       'Delhi', 'Bangalore', 'Gurgaon', 'Palarivattom', 'Ernakulam',\n",
       "       'Thane West', 'Ghaziabad', 'Thane', 'Telangana', 'Potheri',\n",
       "       'Panathur Main Road', 'Secunderabad', nan,\n",
       "       'opposite to western side of ITPL Service gate', 'Kalkaji',\n",
       "       'APR Chambers', 'India', 'Serilingampally', 'Gandhinagar Rd',\n",
       "       'HSR Layout', 'Greater Noida', 'Uttar Pradesh', 'Dwarka',\n",
       "       'Velachery', 'Anna Nagar West', 'Indiranagar', 'Whitefield',\n",
       "       'kerala', 'Madhapur', '1st Stage', 'Powai', 'Kaloor', 'kochi',\n",
       "       'Gurugram', '682024', 'Tripunithura', 'Kakkanad', 'Girgaum',\n",
       "       'Kurla (W)', 'Secunderabad.', 'Thane West Thane West',\n",
       "       'Banjara Hills', 'Marad', 'Near Sector 34', 'Nallagandla',\n",
       "       'Vandalur', 'Mulund West', 'Secunderbad', 'MM Nagar',\n",
       "       'Dilsukhnagar', 'Chittethukkara', 'BTM', 'Dombivli',\n",
       "       'Sahakara Nagar', 'Tavarekere Main Road', 'Community Centre',\n",
       "       'Delh.', 'Sector-6 Noida 201301', 'Kaaraikudi Complex',\n",
       "       'Thiruvanmiyur (Opp Eurokids LB Road)', 'Tolichowki', 'Alwarpet',\n",
       "       'Nungambakkam', 'Gachibowli', 'Suraram',\n",
       "       'Forum Sujana Mall Opposite to Malaysian township',\n",
       "       'Old Hafeezpet', 'Yousufguda', 'Chepauk', 'Chowpatty',\n",
       "       'Church Street', 'RA Puram', 'Habsiguda', 'Kandivali West',\n",
       "       'Noida Extention', 'Shihab Thangal Road', 'GST Road', 'Miumbai',\n",
       "       'Vanasthalipuram', 'KK Road', 'Opposite Ellora Building',\n",
       "       'Malad East', '682036', 'Madhuranagar', 'Chembur.',\n",
       "       'opp gurudwara Shakurpur', 'Edappally', 'Kadavanthra',\n",
       "       'Ernakulam Circle kochi', 'Near Reliance Fresh', 'Kilpauk',\n",
       "       'Kothaguda', 'Goregaon West', 'Outer Ring Road', 'Mulund East',\n",
       "       'Secunderabad main road near signal NMREC COLLEGE', 'Semmancheri',\n",
       "       'Powai (Next to Powai Plaza)', 'Dombivali East', 'Kandivali',\n",
       "       'Dewan Rama Road', 'Sector 51 Noida', 'Besant Nagar',\n",
       "       'Adjacent To Commercial Street', '682035.', 'Kalyan West', 'Avadi',\n",
       "       'Kondapur', 'Mehdipatnam', 'Gandipet', 'Pallavaram',\n",
       "       'Vijaya Nagar', 'BTM Layout',\n",
       "       'Metro Pillar No 21. Mettuguda main road near railway degree college.',\n",
       "       'Sarjapur', 'Rohini', 'Karol Bagh', 'Perungudi', 'Thykoodam',\n",
       "       'Khairatabad', 'chullickal', 'Grant Road West', 'Hitech City',\n",
       "       'West Maredpally', 'Nedumbassery', 'MG Road',\n",
       "       'Naya Nagar Mira Road', 'Pitampura', 'Lower Parel', 'HBR Layout',\n",
       "       'Rajiv gandhi Nagar', 'Medavakkam', 'Sathya Nagar',\n",
       "       'Behind Ramalayam Temple', 'Brigade Road', 'Virar West',\n",
       "       'B-1 Stage', 'Aluva', 'IOB Bank Kamala Nagar', 'Marine Drive',\n",
       "       'DLF Galleria', 'Nallathambi Main Road', 'Citypark', 'Bhayandar',\n",
       "       'Aluva Circle', 'Thammenahalli Village', 'SG Palya', 'Attapur.',\n",
       "       'Near Shangrilla Bus Stop', 'Khar (west)', 'Road 3', 'Kukatpally',\n",
       "       'Faridabd', 'Near Munrshwara Temple', 'Off Brigade Road',\n",
       "       'khar west', 'OMR Karapakkam', 'Mahim', 'Lingampally',\n",
       "       'Vasai West.', 'Thane (W)', 'Secunderabad ECIL', 'navi mumbai',\n",
       "       'ward X11', 'Perumbavoor', 'Mira raod east', 'Pokhran Road 2',\n",
       "       'Naharpar', 'Hosur Road', 'Near Bharat Petroleum.', 'Sriram nagar',\n",
       "       'Vyttila', 'MALAPALLIPURAM P .O THRISSUR', 'Panampilly Nagar',\n",
       "       'hyderabad', 'Borivali East.', 'ECIL', 'Jubilee Hills',\n",
       "       'Amrit kaur market opposite new delhi railway station paharganj',\n",
       "       'Telengana', 'Rajanpada', 'Mahabalipuram',\n",
       "       'Secunderabad. WE HAVE NO BRANCHES.', 'Gurgoan', 'Elamakkara',\n",
       "       'Sector 1', 'Kolathur', '3rd Street', 'Borivali West',\n",
       "       'Rodeo Drive Sector 49', 'Pallimukku', 'Sector 51', 'Champapet',\n",
       "       'Andavar Nagar', 'opp mukteshwar ashram powai', 'BK Guda',\n",
       "       'Kukatapally', 'Near Sector 110 Noida', 'Navallur',\n",
       "       'Beside Excellency Gardens', 'Begumpet',\n",
       "       'Maharaja Hotel Beside Gardania Bar', 'Ashok Vihar Phase 1',\n",
       "       'Trivandrum', 'Narayanguda', 'Thevera', 'Palm Beach Road',\n",
       "       'East Coast Road (ECR)', 'Ramapuram', 'Nandanam', 'Saket',\n",
       "       'MG Road Ernakulam', 'Thiruvanmiyur', 'Ambattur',\n",
       "       'Old Railway Road', 'Kalyan', 'Near Ramlila Ground',\n",
       "       'Himayath Nagar', 'Nallala Street', 'Wagle Estate', 'First Street',\n",
       "       '6 & 7 - 4/64 Subhash Nagar', '1st Tavarekere', 'Perambur',\n",
       "       'Vaishali Ghaziabad', 'Thanisandra', 'Block F', 'Sector 7 Dwarka',\n",
       "       'Opposite Barathi Gas Company', 'Vadapalani', 'Kondapur.',\n",
       "       'Badlapur West.', 'Kalamassery', 'Palavakkam', 'TCS Synergy park',\n",
       "       'BTM 1st Stage', 'Mahadevpura', 'NEW BEL ROAD 560054',\n",
       "       'Veliaveetil house Vivekananda Nagar Elamakkara', 'Sholinganallur',\n",
       "       'Lower Parel West', 'Mogappair', 'Ashok Nagar',\n",
       "       'Haridwar Apartments', 'Indirapuram', 'Manikonda',\n",
       "       'Lahari Apartments', 'Ramanthapur', 'Mulund west',\n",
       "       'Gurgaon Haryana India', '10th avenue', 'Uppal', 'Nizampet',\n",
       "       'Ulsoo', 'PVR plaza cinema building Connaught Place',\n",
       "       'Gurgaon Haryana', 'Chromepet', 'Janakpuri', 'Vadapalani.',\n",
       "       'aluva circle', 'Vasai west', 'Mig Housing Society', 'Haryana',\n",
       "       'Borivali West.', 'Golf Course Road', 'Near Jyothinivas College',\n",
       "       'Anna Nagar East', 'Masab Tank'], dtype=object)"
      ]
     },
     "execution_count": 117,
     "metadata": {},
     "output_type": "execute_result"
    }
   ],
   "source": [
    "df[\"CITY\"].unique()"
   ]
  },
  {
   "cell_type": "code",
   "execution_count": 99,
   "metadata": {},
   "outputs": [],
   "source": [
    "#df1=df.query(\" CITY  not in ('Secunderabad','Ghaziabad','Telangana','Chennai','Bangalore','Noida','Mumbai','Kochi','Hyderabad','Delhi','Gurgaon','Faridabad','Ernakulam')\")#.drop#[\"CITY\"]"
   ]
  },
  {
   "cell_type": "code",
   "execution_count": 100,
   "metadata": {},
   "outputs": [],
   "source": [
    "#df = df[~df.index.isin(df1.index)]"
   ]
  },
  {
   "cell_type": "code",
   "execution_count": 118,
   "metadata": {},
   "outputs": [
    {
     "data": {
      "text/plain": [
       "array(['Noida', 'Mumbai', 'Faridabad', 'Kochi', 'Hyderabad', 'Chennai',\n",
       "       'Delhi', 'Bangalore', 'Gurgaon', 'Palarivattom', 'Ernakulam',\n",
       "       'Thane West', 'Ghaziabad', 'Thane', 'Telangana', 'Potheri',\n",
       "       'Panathur Main Road', 'Secunderabad', nan,\n",
       "       'opposite to western side of ITPL Service gate', 'Kalkaji',\n",
       "       'APR Chambers', 'India', 'Serilingampally', 'Gandhinagar Rd',\n",
       "       'HSR Layout', 'Greater Noida', 'Uttar Pradesh', 'Dwarka',\n",
       "       'Velachery', 'Anna Nagar West', 'Indiranagar', 'Whitefield',\n",
       "       'kerala', 'Madhapur', '1st Stage', 'Powai', 'Kaloor', 'kochi',\n",
       "       'Gurugram', '682024', 'Tripunithura', 'Kakkanad', 'Girgaum',\n",
       "       'Kurla (W)', 'Secunderabad.', 'Thane West Thane West',\n",
       "       'Banjara Hills', 'Marad', 'Near Sector 34', 'Nallagandla',\n",
       "       'Vandalur', 'Mulund West', 'Secunderbad', 'MM Nagar',\n",
       "       'Dilsukhnagar', 'Chittethukkara', 'BTM', 'Dombivli',\n",
       "       'Sahakara Nagar', 'Tavarekere Main Road', 'Community Centre',\n",
       "       'Delh.', 'Sector-6 Noida 201301', 'Kaaraikudi Complex',\n",
       "       'Thiruvanmiyur (Opp Eurokids LB Road)', 'Tolichowki', 'Alwarpet',\n",
       "       'Nungambakkam', 'Gachibowli', 'Suraram',\n",
       "       'Forum Sujana Mall Opposite to Malaysian township',\n",
       "       'Old Hafeezpet', 'Yousufguda', 'Chepauk', 'Chowpatty',\n",
       "       'Church Street', 'RA Puram', 'Habsiguda', 'Kandivali West',\n",
       "       'Noida Extention', 'Shihab Thangal Road', 'GST Road', 'Miumbai',\n",
       "       'Vanasthalipuram', 'KK Road', 'Opposite Ellora Building',\n",
       "       'Malad East', '682036', 'Madhuranagar', 'Chembur.',\n",
       "       'opp gurudwara Shakurpur', 'Edappally', 'Kadavanthra',\n",
       "       'Ernakulam Circle kochi', 'Near Reliance Fresh', 'Kilpauk',\n",
       "       'Kothaguda', 'Goregaon West', 'Outer Ring Road', 'Mulund East',\n",
       "       'Secunderabad main road near signal NMREC COLLEGE', 'Semmancheri',\n",
       "       'Powai (Next to Powai Plaza)', 'Dombivali East', 'Kandivali',\n",
       "       'Dewan Rama Road', 'Sector 51 Noida', 'Besant Nagar',\n",
       "       'Adjacent To Commercial Street', '682035.', 'Kalyan West', 'Avadi',\n",
       "       'Kondapur', 'Mehdipatnam', 'Gandipet', 'Pallavaram',\n",
       "       'Vijaya Nagar', 'BTM Layout',\n",
       "       'Metro Pillar No 21. Mettuguda main road near railway degree college.',\n",
       "       'Sarjapur', 'Rohini', 'Karol Bagh', 'Perungudi', 'Thykoodam',\n",
       "       'Khairatabad', 'chullickal', 'Grant Road West', 'Hitech City',\n",
       "       'West Maredpally', 'Nedumbassery', 'MG Road',\n",
       "       'Naya Nagar Mira Road', 'Pitampura', 'Lower Parel', 'HBR Layout',\n",
       "       'Rajiv gandhi Nagar', 'Medavakkam', 'Sathya Nagar',\n",
       "       'Behind Ramalayam Temple', 'Brigade Road', 'Virar West',\n",
       "       'B-1 Stage', 'Aluva', 'IOB Bank Kamala Nagar', 'Marine Drive',\n",
       "       'DLF Galleria', 'Nallathambi Main Road', 'Citypark', 'Bhayandar',\n",
       "       'Aluva Circle', 'Thammenahalli Village', 'SG Palya', 'Attapur.',\n",
       "       'Near Shangrilla Bus Stop', 'Khar (west)', 'Road 3', 'Kukatpally',\n",
       "       'Faridabd', 'Near Munrshwara Temple', 'Off Brigade Road',\n",
       "       'khar west', 'OMR Karapakkam', 'Mahim', 'Lingampally',\n",
       "       'Vasai West.', 'Thane (W)', 'Secunderabad ECIL', 'navi mumbai',\n",
       "       'ward X11', 'Perumbavoor', 'Mira raod east', 'Pokhran Road 2',\n",
       "       'Naharpar', 'Hosur Road', 'Near Bharat Petroleum.', 'Sriram nagar',\n",
       "       'Vyttila', 'MALAPALLIPURAM P .O THRISSUR', 'Panampilly Nagar',\n",
       "       'hyderabad', 'Borivali East.', 'ECIL', 'Jubilee Hills',\n",
       "       'Amrit kaur market opposite new delhi railway station paharganj',\n",
       "       'Telengana', 'Rajanpada', 'Mahabalipuram',\n",
       "       'Secunderabad. WE HAVE NO BRANCHES.', 'Gurgoan', 'Elamakkara',\n",
       "       'Sector 1', 'Kolathur', '3rd Street', 'Borivali West',\n",
       "       'Rodeo Drive Sector 49', 'Pallimukku', 'Sector 51', 'Champapet',\n",
       "       'Andavar Nagar', 'opp mukteshwar ashram powai', 'BK Guda',\n",
       "       'Kukatapally', 'Near Sector 110 Noida', 'Navallur',\n",
       "       'Beside Excellency Gardens', 'Begumpet',\n",
       "       'Maharaja Hotel Beside Gardania Bar', 'Ashok Vihar Phase 1',\n",
       "       'Trivandrum', 'Narayanguda', 'Thevera', 'Palm Beach Road',\n",
       "       'East Coast Road (ECR)', 'Ramapuram', 'Nandanam', 'Saket',\n",
       "       'MG Road Ernakulam', 'Thiruvanmiyur', 'Ambattur',\n",
       "       'Old Railway Road', 'Kalyan', 'Near Ramlila Ground',\n",
       "       'Himayath Nagar', 'Nallala Street', 'Wagle Estate', 'First Street',\n",
       "       '6 & 7 - 4/64 Subhash Nagar', '1st Tavarekere', 'Perambur',\n",
       "       'Vaishali Ghaziabad', 'Thanisandra', 'Block F', 'Sector 7 Dwarka',\n",
       "       'Opposite Barathi Gas Company', 'Vadapalani', 'Kondapur.',\n",
       "       'Badlapur West.', 'Kalamassery', 'Palavakkam', 'TCS Synergy park',\n",
       "       'BTM 1st Stage', 'Mahadevpura', 'NEW BEL ROAD 560054',\n",
       "       'Veliaveetil house Vivekananda Nagar Elamakkara', 'Sholinganallur',\n",
       "       'Lower Parel West', 'Mogappair', 'Ashok Nagar',\n",
       "       'Haridwar Apartments', 'Indirapuram', 'Manikonda',\n",
       "       'Lahari Apartments', 'Ramanthapur', 'Mulund west',\n",
       "       'Gurgaon Haryana India', '10th avenue', 'Uppal', 'Nizampet',\n",
       "       'Ulsoo', 'PVR plaza cinema building Connaught Place',\n",
       "       'Gurgaon Haryana', 'Chromepet', 'Janakpuri', 'Vadapalani.',\n",
       "       'aluva circle', 'Vasai west', 'Mig Housing Society', 'Haryana',\n",
       "       'Borivali West.', 'Golf Course Road', 'Near Jyothinivas College',\n",
       "       'Anna Nagar East', 'Masab Tank'], dtype=object)"
      ]
     },
     "execution_count": 118,
     "metadata": {},
     "output_type": "execute_result"
    }
   ],
   "source": [
    "df[\"CITY\"].unique()"
   ]
  },
  {
   "cell_type": "code",
   "execution_count": 119,
   "metadata": {},
   "outputs": [
    {
     "data": {
      "text/plain": [
       "(16921, 9)"
      ]
     },
     "execution_count": 119,
     "metadata": {},
     "output_type": "execute_result"
    }
   ],
   "source": [
    "df.shape"
   ]
  },
  {
   "cell_type": "code",
   "execution_count": 120,
   "metadata": {},
   "outputs": [],
   "source": [
    "CUISINES=df['CUISINES'].str.get_dummies(sep=',')\n",
    "CITY=df['CITY'].str.get_dummies()\n",
    "TITLE=df['TITLE'].str.get_dummies()\n",
    "df['VOTES']=df['VOTES'].str.split(expand=True)[0]"
   ]
  },
  {
   "cell_type": "code",
   "execution_count": 121,
   "metadata": {},
   "outputs": [
    {
     "data": {
      "text/html": [
       "<div>\n",
       "<style scoped>\n",
       "    .dataframe tbody tr th:only-of-type {\n",
       "        vertical-align: middle;\n",
       "    }\n",
       "\n",
       "    .dataframe tbody tr th {\n",
       "        vertical-align: top;\n",
       "    }\n",
       "\n",
       "    .dataframe thead th {\n",
       "        text-align: right;\n",
       "    }\n",
       "</style>\n",
       "<table border=\"1\" class=\"dataframe\">\n",
       "  <thead>\n",
       "    <tr style=\"text-align: right;\">\n",
       "      <th></th>\n",
       "      <th>CITY</th>\n",
       "      <th>COST</th>\n",
       "      <th>CUISINES</th>\n",
       "      <th>LOCALITY</th>\n",
       "      <th>RATING</th>\n",
       "      <th>RESTAURANT_ID</th>\n",
       "      <th>TIME</th>\n",
       "      <th>TITLE</th>\n",
       "      <th>VOTES</th>\n",
       "    </tr>\n",
       "  </thead>\n",
       "  <tbody>\n",
       "    <tr>\n",
       "      <td>0</td>\n",
       "      <td>Noida</td>\n",
       "      <td>NaN</td>\n",
       "      <td>North Indian, Chinese, Mughlai, Kebab</td>\n",
       "      <td>Sector 18</td>\n",
       "      <td>4.3</td>\n",
       "      <td>4085</td>\n",
       "      <td>12noon – 12midnight (Mon-Sun)</td>\n",
       "      <td>CASUAL DINING</td>\n",
       "      <td>564</td>\n",
       "    </tr>\n",
       "    <tr>\n",
       "      <td>1</td>\n",
       "      <td>Mumbai</td>\n",
       "      <td>NaN</td>\n",
       "      <td>South Indian, Fast Food, Pizza, North Indian</td>\n",
       "      <td>Grant Road</td>\n",
       "      <td>4.2</td>\n",
       "      <td>12680</td>\n",
       "      <td>7am – 12:30AM (Mon-Sun)</td>\n",
       "      <td>QUICK BITES</td>\n",
       "      <td>61</td>\n",
       "    </tr>\n",
       "    <tr>\n",
       "      <td>2</td>\n",
       "      <td>Mumbai</td>\n",
       "      <td>NaN</td>\n",
       "      <td>North Indian, Seafood, Biryani, Chinese</td>\n",
       "      <td>Marine Lines</td>\n",
       "      <td>3.8</td>\n",
       "      <td>1411</td>\n",
       "      <td>11am – 11:30pm (Mon-Sun)</td>\n",
       "      <td>CASUAL DINING</td>\n",
       "      <td>350</td>\n",
       "    </tr>\n",
       "    <tr>\n",
       "      <td>3</td>\n",
       "      <td>Faridabad</td>\n",
       "      <td>NaN</td>\n",
       "      <td>Biryani</td>\n",
       "      <td>NIT</td>\n",
       "      <td>3.8</td>\n",
       "      <td>204</td>\n",
       "      <td>9am – 10pm (Mon, Wed, Thu, Fri, Sat, Sun), 10:...</td>\n",
       "      <td>None</td>\n",
       "      <td>1445</td>\n",
       "    </tr>\n",
       "    <tr>\n",
       "      <td>4</td>\n",
       "      <td>Kochi</td>\n",
       "      <td>NaN</td>\n",
       "      <td>South Indian, Kerala</td>\n",
       "      <td>Kaloor</td>\n",
       "      <td>3.6</td>\n",
       "      <td>13453</td>\n",
       "      <td>11am – 10pm (Mon-Sun)</td>\n",
       "      <td>QUICK BITES</td>\n",
       "      <td>23</td>\n",
       "    </tr>\n",
       "    <tr>\n",
       "      <td>...</td>\n",
       "      <td>...</td>\n",
       "      <td>...</td>\n",
       "      <td>...</td>\n",
       "      <td>...</td>\n",
       "      <td>...</td>\n",
       "      <td>...</td>\n",
       "      <td>...</td>\n",
       "      <td>...</td>\n",
       "      <td>...</td>\n",
       "    </tr>\n",
       "    <tr>\n",
       "      <td>12685</td>\n",
       "      <td>Hyderabad</td>\n",
       "      <td>500.0</td>\n",
       "      <td>North Indian, Burger, Kebab</td>\n",
       "      <td>Gachibowli</td>\n",
       "      <td>3.8</td>\n",
       "      <td>13228</td>\n",
       "      <td>12noon – 12midnight (Mon, Tue, Wed, Thu, Sun)...</td>\n",
       "      <td>QUICK BITES</td>\n",
       "      <td>546</td>\n",
       "    </tr>\n",
       "    <tr>\n",
       "      <td>12686</td>\n",
       "      <td>Mumbai</td>\n",
       "      <td>1800.0</td>\n",
       "      <td>Goan, Continental</td>\n",
       "      <td>Bandra Kurla Complex</td>\n",
       "      <td>4.3</td>\n",
       "      <td>9686</td>\n",
       "      <td>12noon – 1am (Mon-Fri),11am – 5pm, 7pm – 1am...</td>\n",
       "      <td>CASUAL DINING,BAR</td>\n",
       "      <td>1214</td>\n",
       "    </tr>\n",
       "    <tr>\n",
       "      <td>12687</td>\n",
       "      <td>Mumbai</td>\n",
       "      <td>1300.0</td>\n",
       "      <td>Finger Food, Continental, Asian, Chinese</td>\n",
       "      <td>Vashi</td>\n",
       "      <td>4.0</td>\n",
       "      <td>11133</td>\n",
       "      <td>12noon – 12:30AM (Mon-Sun)</td>\n",
       "      <td>LOUNGE</td>\n",
       "      <td>608</td>\n",
       "    </tr>\n",
       "    <tr>\n",
       "      <td>12688</td>\n",
       "      <td>Chennai</td>\n",
       "      <td>400.0</td>\n",
       "      <td>North Indian, South Indian, Chinese, Street Food</td>\n",
       "      <td>Maduravoyal</td>\n",
       "      <td>3.5</td>\n",
       "      <td>6134</td>\n",
       "      <td>6am – 10:45pm (Mon-Sun)</td>\n",
       "      <td>CASUAL DINING</td>\n",
       "      <td>32</td>\n",
       "    </tr>\n",
       "    <tr>\n",
       "      <td>12689</td>\n",
       "      <td>Hyderabad</td>\n",
       "      <td>600.0</td>\n",
       "      <td>North Indian, Chinese</td>\n",
       "      <td>Vanasthalipuram</td>\n",
       "      <td>3.4</td>\n",
       "      <td>6430</td>\n",
       "      <td>12:30pm – 11pm (Mon-Sun)</td>\n",
       "      <td>CASUAL DINING</td>\n",
       "      <td>677</td>\n",
       "    </tr>\n",
       "  </tbody>\n",
       "</table>\n",
       "<p>16921 rows × 9 columns</p>\n",
       "</div>"
      ],
      "text/plain": [
       "            CITY    COST                                          CUISINES  \\\n",
       "0          Noida     NaN             North Indian, Chinese, Mughlai, Kebab   \n",
       "1         Mumbai     NaN      South Indian, Fast Food, Pizza, North Indian   \n",
       "2         Mumbai     NaN           North Indian, Seafood, Biryani, Chinese   \n",
       "3      Faridabad     NaN                                           Biryani   \n",
       "4          Kochi     NaN                              South Indian, Kerala   \n",
       "...          ...     ...                                               ...   \n",
       "12685  Hyderabad   500.0                       North Indian, Burger, Kebab   \n",
       "12686     Mumbai  1800.0                                 Goan, Continental   \n",
       "12687     Mumbai  1300.0          Finger Food, Continental, Asian, Chinese   \n",
       "12688    Chennai   400.0  North Indian, South Indian, Chinese, Street Food   \n",
       "12689  Hyderabad   600.0                             North Indian, Chinese   \n",
       "\n",
       "                   LOCALITY RATING  RESTAURANT_ID  \\\n",
       "0                 Sector 18    4.3           4085   \n",
       "1                Grant Road    4.2          12680   \n",
       "2              Marine Lines    3.8           1411   \n",
       "3                       NIT    3.8            204   \n",
       "4                    Kaloor    3.6          13453   \n",
       "...                     ...    ...            ...   \n",
       "12685            Gachibowli    3.8          13228   \n",
       "12686  Bandra Kurla Complex    4.3           9686   \n",
       "12687                 Vashi    4.0          11133   \n",
       "12688           Maduravoyal    3.5           6134   \n",
       "12689       Vanasthalipuram    3.4           6430   \n",
       "\n",
       "                                                    TIME              TITLE  \\\n",
       "0                          12noon – 12midnight (Mon-Sun)      CASUAL DINING   \n",
       "1                                7am – 12:30AM (Mon-Sun)        QUICK BITES   \n",
       "2                               11am – 11:30pm (Mon-Sun)      CASUAL DINING   \n",
       "3      9am – 10pm (Mon, Wed, Thu, Fri, Sat, Sun), 10:...               None   \n",
       "4                                  11am – 10pm (Mon-Sun)        QUICK BITES   \n",
       "...                                                  ...                ...   \n",
       "12685   12noon – 12midnight (Mon, Tue, Wed, Thu, Sun)...        QUICK BITES   \n",
       "12686    12noon – 1am (Mon-Fri),11am – 5pm, 7pm – 1am...  CASUAL DINING,BAR   \n",
       "12687                         12noon – 12:30AM (Mon-Sun)             LOUNGE   \n",
       "12688                            6am – 10:45pm (Mon-Sun)      CASUAL DINING   \n",
       "12689                           12:30pm – 11pm (Mon-Sun)      CASUAL DINING   \n",
       "\n",
       "      VOTES  \n",
       "0       564  \n",
       "1        61  \n",
       "2       350  \n",
       "3      1445  \n",
       "4        23  \n",
       "...     ...  \n",
       "12685   546  \n",
       "12686  1214  \n",
       "12687   608  \n",
       "12688    32  \n",
       "12689   677  \n",
       "\n",
       "[16921 rows x 9 columns]"
      ]
     },
     "execution_count": 121,
     "metadata": {},
     "output_type": "execute_result"
    }
   ],
   "source": [
    "df\n"
   ]
  },
  {
   "cell_type": "code",
   "execution_count": 122,
   "metadata": {},
   "outputs": [],
   "source": [
    "df[\"RATING\"].fillna(df.RATING.mode()[0],inplace = True)\n",
    "df[\"VOTES\"].fillna(df.VOTES.mode()[0],inplace = True)\n",
    "df[\"RATING\"].fillna(df.RATING.mode()[0],inplace = True)\n"
   ]
  },
  {
   "cell_type": "code",
   "execution_count": 123,
   "metadata": {},
   "outputs": [],
   "source": [
    "df.RATING.replace({\"-\":\"0.1\",\"NEW\":\"0.1\"},inplace=True)\n"
   ]
  },
  {
   "cell_type": "code",
   "execution_count": 124,
   "metadata": {},
   "outputs": [
    {
     "name": "stdout",
     "output_type": "stream",
     "text": [
      "<class 'pandas.core.frame.DataFrame'>\n",
      "Int64Index: 16921 entries, 0 to 12689\n",
      "Data columns (total 9 columns):\n",
      "CITY             16774 non-null object\n",
      "COST             12690 non-null float64\n",
      "CUISINES         16921 non-null object\n",
      "LOCALITY         16793 non-null object\n",
      "RATING           16921 non-null object\n",
      "RESTAURANT_ID    16921 non-null int64\n",
      "TIME             16921 non-null object\n",
      "TITLE            16921 non-null object\n",
      "VOTES            16921 non-null object\n",
      "dtypes: float64(1), int64(1), object(7)\n",
      "memory usage: 1.9+ MB\n"
     ]
    }
   ],
   "source": [
    "df.info()"
   ]
  },
  {
   "cell_type": "code",
   "execution_count": 125,
   "metadata": {},
   "outputs": [
    {
     "data": {
      "text/html": [
       "<div>\n",
       "<style scoped>\n",
       "    .dataframe tbody tr th:only-of-type {\n",
       "        vertical-align: middle;\n",
       "    }\n",
       "\n",
       "    .dataframe tbody tr th {\n",
       "        vertical-align: top;\n",
       "    }\n",
       "\n",
       "    .dataframe thead th {\n",
       "        text-align: right;\n",
       "    }\n",
       "</style>\n",
       "<table border=\"1\" class=\"dataframe\">\n",
       "  <thead>\n",
       "    <tr style=\"text-align: right;\">\n",
       "      <th></th>\n",
       "      <th>CITY</th>\n",
       "      <th>COST</th>\n",
       "      <th>CUISINES</th>\n",
       "      <th>LOCALITY</th>\n",
       "      <th>RATING</th>\n",
       "      <th>RESTAURANT_ID</th>\n",
       "      <th>TIME</th>\n",
       "      <th>TITLE</th>\n",
       "      <th>VOTES</th>\n",
       "    </tr>\n",
       "  </thead>\n",
       "  <tbody>\n",
       "    <tr>\n",
       "      <td>0</td>\n",
       "      <td>Noida</td>\n",
       "      <td>NaN</td>\n",
       "      <td>North Indian, Chinese, Mughlai, Kebab</td>\n",
       "      <td>Sector 18</td>\n",
       "      <td>4.3</td>\n",
       "      <td>4085</td>\n",
       "      <td>12noon – 12midnight (Mon-Sun)</td>\n",
       "      <td>CASUAL DINING</td>\n",
       "      <td>564</td>\n",
       "    </tr>\n",
       "    <tr>\n",
       "      <td>1</td>\n",
       "      <td>Mumbai</td>\n",
       "      <td>NaN</td>\n",
       "      <td>South Indian, Fast Food, Pizza, North Indian</td>\n",
       "      <td>Grant Road</td>\n",
       "      <td>4.2</td>\n",
       "      <td>12680</td>\n",
       "      <td>7am – 12:30AM (Mon-Sun)</td>\n",
       "      <td>QUICK BITES</td>\n",
       "      <td>61</td>\n",
       "    </tr>\n",
       "    <tr>\n",
       "      <td>2</td>\n",
       "      <td>Mumbai</td>\n",
       "      <td>NaN</td>\n",
       "      <td>North Indian, Seafood, Biryani, Chinese</td>\n",
       "      <td>Marine Lines</td>\n",
       "      <td>3.8</td>\n",
       "      <td>1411</td>\n",
       "      <td>11am – 11:30pm (Mon-Sun)</td>\n",
       "      <td>CASUAL DINING</td>\n",
       "      <td>350</td>\n",
       "    </tr>\n",
       "    <tr>\n",
       "      <td>3</td>\n",
       "      <td>Faridabad</td>\n",
       "      <td>NaN</td>\n",
       "      <td>Biryani</td>\n",
       "      <td>NIT</td>\n",
       "      <td>3.8</td>\n",
       "      <td>204</td>\n",
       "      <td>9am – 10pm (Mon, Wed, Thu, Fri, Sat, Sun), 10:...</td>\n",
       "      <td>None</td>\n",
       "      <td>1445</td>\n",
       "    </tr>\n",
       "    <tr>\n",
       "      <td>4</td>\n",
       "      <td>Kochi</td>\n",
       "      <td>NaN</td>\n",
       "      <td>South Indian, Kerala</td>\n",
       "      <td>Kaloor</td>\n",
       "      <td>3.6</td>\n",
       "      <td>13453</td>\n",
       "      <td>11am – 10pm (Mon-Sun)</td>\n",
       "      <td>QUICK BITES</td>\n",
       "      <td>23</td>\n",
       "    </tr>\n",
       "  </tbody>\n",
       "</table>\n",
       "</div>"
      ],
      "text/plain": [
       "        CITY  COST                                      CUISINES  \\\n",
       "0      Noida   NaN         North Indian, Chinese, Mughlai, Kebab   \n",
       "1     Mumbai   NaN  South Indian, Fast Food, Pizza, North Indian   \n",
       "2     Mumbai   NaN       North Indian, Seafood, Biryani, Chinese   \n",
       "3  Faridabad   NaN                                       Biryani   \n",
       "4      Kochi   NaN                          South Indian, Kerala   \n",
       "\n",
       "       LOCALITY RATING  RESTAURANT_ID  \\\n",
       "0     Sector 18    4.3           4085   \n",
       "1    Grant Road    4.2          12680   \n",
       "2  Marine Lines    3.8           1411   \n",
       "3           NIT    3.8            204   \n",
       "4        Kaloor    3.6          13453   \n",
       "\n",
       "                                                TIME          TITLE VOTES  \n",
       "0                      12noon – 12midnight (Mon-Sun)  CASUAL DINING   564  \n",
       "1                            7am – 12:30AM (Mon-Sun)    QUICK BITES    61  \n",
       "2                           11am – 11:30pm (Mon-Sun)  CASUAL DINING   350  \n",
       "3  9am – 10pm (Mon, Wed, Thu, Fri, Sat, Sun), 10:...           None  1445  \n",
       "4                              11am – 10pm (Mon-Sun)    QUICK BITES    23  "
      ]
     },
     "execution_count": 125,
     "metadata": {},
     "output_type": "execute_result"
    }
   ],
   "source": [
    "df.head()"
   ]
  },
  {
   "cell_type": "code",
   "execution_count": 126,
   "metadata": {},
   "outputs": [],
   "source": [
    "df=df.drop(columns = [\"CUISINES\",\"TITLE\",\"CITY\",\"TIME\",\"RESTAURANT_ID\",\"LOCALITY\"])"
   ]
  },
  {
   "cell_type": "code",
   "execution_count": 127,
   "metadata": {},
   "outputs": [
    {
     "name": "stdout",
     "output_type": "stream",
     "text": [
      "<class 'pandas.core.frame.DataFrame'>\n",
      "Int64Index: 16921 entries, 0 to 12689\n",
      "Data columns (total 3 columns):\n",
      "COST      12690 non-null float64\n",
      "RATING    16921 non-null object\n",
      "VOTES     16921 non-null object\n",
      "dtypes: float64(1), object(2)\n",
      "memory usage: 1.1+ MB\n"
     ]
    }
   ],
   "source": [
    "df.info()"
   ]
  },
  {
   "cell_type": "code",
   "execution_count": 128,
   "metadata": {},
   "outputs": [],
   "source": [
    "df['RATING']=df['RATING'].astype(object).astype(float)\n",
    "df['VOTES']=df['VOTES'].astype(object).astype(float)"
   ]
  },
  {
   "cell_type": "code",
   "execution_count": 129,
   "metadata": {},
   "outputs": [
    {
     "name": "stdout",
     "output_type": "stream",
     "text": [
      "<class 'pandas.core.frame.DataFrame'>\n",
      "Int64Index: 16921 entries, 0 to 12689\n",
      "Data columns (total 3 columns):\n",
      "COST      12690 non-null float64\n",
      "RATING    16921 non-null float64\n",
      "VOTES     16921 non-null float64\n",
      "dtypes: float64(3)\n",
      "memory usage: 1.1 MB\n"
     ]
    }
   ],
   "source": [
    "df.info()"
   ]
  },
  {
   "cell_type": "code",
   "execution_count": 130,
   "metadata": {},
   "outputs": [],
   "source": [
    "df = pd.concat([df,CUISINES,TITLE,CITY],axis=\"columns\")\n",
    "df_preprocced=df"
   ]
  },
  {
   "cell_type": "code",
   "execution_count": 131,
   "metadata": {},
   "outputs": [
    {
     "data": {
      "text/html": [
       "<div>\n",
       "<style scoped>\n",
       "    .dataframe tbody tr th:only-of-type {\n",
       "        vertical-align: middle;\n",
       "    }\n",
       "\n",
       "    .dataframe tbody tr th {\n",
       "        vertical-align: top;\n",
       "    }\n",
       "\n",
       "    .dataframe thead th {\n",
       "        text-align: right;\n",
       "    }\n",
       "</style>\n",
       "<table border=\"1\" class=\"dataframe\">\n",
       "  <thead>\n",
       "    <tr style=\"text-align: right;\">\n",
       "      <th></th>\n",
       "      <th>COST</th>\n",
       "      <th>RATING</th>\n",
       "      <th>VOTES</th>\n",
       "      <th></th>\n",
       "      <th>Afghan</th>\n",
       "      <th>African</th>\n",
       "      <th>American</th>\n",
       "      <th>Andhra</th>\n",
       "      <th>Arabian</th>\n",
       "      <th>Asian</th>\n",
       "      <th>...</th>\n",
       "      <th>chullickal</th>\n",
       "      <th>hyderabad</th>\n",
       "      <th>kerala</th>\n",
       "      <th>khar west</th>\n",
       "      <th>kochi</th>\n",
       "      <th>navi mumbai</th>\n",
       "      <th>opp gurudwara Shakurpur</th>\n",
       "      <th>opp mukteshwar ashram powai</th>\n",
       "      <th>opposite to western side of ITPL Service gate</th>\n",
       "      <th>ward X11</th>\n",
       "    </tr>\n",
       "  </thead>\n",
       "  <tbody>\n",
       "    <tr>\n",
       "      <td>0</td>\n",
       "      <td>NaN</td>\n",
       "      <td>4.3</td>\n",
       "      <td>564.0</td>\n",
       "      <td>0</td>\n",
       "      <td>0</td>\n",
       "      <td>0</td>\n",
       "      <td>0</td>\n",
       "      <td>0</td>\n",
       "      <td>0</td>\n",
       "      <td>0</td>\n",
       "      <td>...</td>\n",
       "      <td>0</td>\n",
       "      <td>0</td>\n",
       "      <td>0</td>\n",
       "      <td>0</td>\n",
       "      <td>0</td>\n",
       "      <td>0</td>\n",
       "      <td>0</td>\n",
       "      <td>0</td>\n",
       "      <td>0</td>\n",
       "      <td>0</td>\n",
       "    </tr>\n",
       "    <tr>\n",
       "      <td>1</td>\n",
       "      <td>NaN</td>\n",
       "      <td>4.2</td>\n",
       "      <td>61.0</td>\n",
       "      <td>0</td>\n",
       "      <td>0</td>\n",
       "      <td>0</td>\n",
       "      <td>0</td>\n",
       "      <td>0</td>\n",
       "      <td>0</td>\n",
       "      <td>0</td>\n",
       "      <td>...</td>\n",
       "      <td>0</td>\n",
       "      <td>0</td>\n",
       "      <td>0</td>\n",
       "      <td>0</td>\n",
       "      <td>0</td>\n",
       "      <td>0</td>\n",
       "      <td>0</td>\n",
       "      <td>0</td>\n",
       "      <td>0</td>\n",
       "      <td>0</td>\n",
       "    </tr>\n",
       "    <tr>\n",
       "      <td>2</td>\n",
       "      <td>NaN</td>\n",
       "      <td>3.8</td>\n",
       "      <td>350.0</td>\n",
       "      <td>0</td>\n",
       "      <td>0</td>\n",
       "      <td>0</td>\n",
       "      <td>0</td>\n",
       "      <td>0</td>\n",
       "      <td>0</td>\n",
       "      <td>0</td>\n",
       "      <td>...</td>\n",
       "      <td>0</td>\n",
       "      <td>0</td>\n",
       "      <td>0</td>\n",
       "      <td>0</td>\n",
       "      <td>0</td>\n",
       "      <td>0</td>\n",
       "      <td>0</td>\n",
       "      <td>0</td>\n",
       "      <td>0</td>\n",
       "      <td>0</td>\n",
       "    </tr>\n",
       "    <tr>\n",
       "      <td>3</td>\n",
       "      <td>NaN</td>\n",
       "      <td>3.8</td>\n",
       "      <td>1445.0</td>\n",
       "      <td>0</td>\n",
       "      <td>0</td>\n",
       "      <td>0</td>\n",
       "      <td>0</td>\n",
       "      <td>0</td>\n",
       "      <td>0</td>\n",
       "      <td>0</td>\n",
       "      <td>...</td>\n",
       "      <td>0</td>\n",
       "      <td>0</td>\n",
       "      <td>0</td>\n",
       "      <td>0</td>\n",
       "      <td>0</td>\n",
       "      <td>0</td>\n",
       "      <td>0</td>\n",
       "      <td>0</td>\n",
       "      <td>0</td>\n",
       "      <td>0</td>\n",
       "    </tr>\n",
       "    <tr>\n",
       "      <td>4</td>\n",
       "      <td>NaN</td>\n",
       "      <td>3.6</td>\n",
       "      <td>23.0</td>\n",
       "      <td>0</td>\n",
       "      <td>0</td>\n",
       "      <td>0</td>\n",
       "      <td>0</td>\n",
       "      <td>0</td>\n",
       "      <td>0</td>\n",
       "      <td>0</td>\n",
       "      <td>...</td>\n",
       "      <td>0</td>\n",
       "      <td>0</td>\n",
       "      <td>0</td>\n",
       "      <td>0</td>\n",
       "      <td>0</td>\n",
       "      <td>0</td>\n",
       "      <td>0</td>\n",
       "      <td>0</td>\n",
       "      <td>0</td>\n",
       "      <td>0</td>\n",
       "    </tr>\n",
       "  </tbody>\n",
       "</table>\n",
       "<p>5 rows × 627 columns</p>\n",
       "</div>"
      ],
      "text/plain": [
       "   COST  RATING   VOTES      Afghan   African   American   Andhra   Arabian  \\\n",
       "0   NaN     4.3   564.0  0        0         0          0        0         0   \n",
       "1   NaN     4.2    61.0  0        0         0          0        0         0   \n",
       "2   NaN     3.8   350.0  0        0         0          0        0         0   \n",
       "3   NaN     3.8  1445.0  0        0         0          0        0         0   \n",
       "4   NaN     3.6    23.0  0        0         0          0        0         0   \n",
       "\n",
       "    Asian  ...  chullickal  hyderabad  kerala  khar west  kochi  navi mumbai  \\\n",
       "0       0  ...           0          0       0          0      0            0   \n",
       "1       0  ...           0          0       0          0      0            0   \n",
       "2       0  ...           0          0       0          0      0            0   \n",
       "3       0  ...           0          0       0          0      0            0   \n",
       "4       0  ...           0          0       0          0      0            0   \n",
       "\n",
       "   opp gurudwara Shakurpur  opp mukteshwar ashram powai  \\\n",
       "0                        0                            0   \n",
       "1                        0                            0   \n",
       "2                        0                            0   \n",
       "3                        0                            0   \n",
       "4                        0                            0   \n",
       "\n",
       "   opposite to western side of ITPL Service gate  ward X11  \n",
       "0                                              0         0  \n",
       "1                                              0         0  \n",
       "2                                              0         0  \n",
       "3                                              0         0  \n",
       "4                                              0         0  \n",
       "\n",
       "[5 rows x 627 columns]"
      ]
     },
     "execution_count": 131,
     "metadata": {},
     "output_type": "execute_result"
    }
   ],
   "source": [
    "df.head()"
   ]
  },
  {
   "cell_type": "code",
   "execution_count": 137,
   "metadata": {},
   "outputs": [
    {
     "data": {
      "text/plain": [
       "(16921, 627)"
      ]
     },
     "execution_count": 137,
     "metadata": {},
     "output_type": "execute_result"
    }
   ],
   "source": [
    "df.shape"
   ]
  },
  {
   "cell_type": "code",
   "execution_count": 132,
   "metadata": {},
   "outputs": [
    {
     "name": "stdout",
     "output_type": "stream",
     "text": [
      "<class 'pandas.core.frame.DataFrame'>\n",
      "Int64Index: 16921 entries, 0 to 12689\n",
      "Columns: 627 entries, COST to ward X11\n",
      "dtypes: float64(3), int64(624)\n",
      "memory usage: 81.7 MB\n"
     ]
    }
   ],
   "source": [
    "df_preprocced.info()"
   ]
  },
  {
   "cell_type": "code",
   "execution_count": 133,
   "metadata": {},
   "outputs": [],
   "source": [
    "train_preprocessed = df_preprocced[df_preprocced[\"COST\"].notna()]\n",
    "test_preprocessed = df_preprocced[df_preprocced[\"COST\"].isna()]"
   ]
  },
  {
   "cell_type": "code",
   "execution_count": 138,
   "metadata": {},
   "outputs": [
    {
     "data": {
      "text/plain": [
       "(12690, 627)"
      ]
     },
     "execution_count": 138,
     "metadata": {},
     "output_type": "execute_result"
    }
   ],
   "source": [
    "train_preprocessed.shape"
   ]
  },
  {
   "cell_type": "code",
   "execution_count": 139,
   "metadata": {},
   "outputs": [
    {
     "data": {
      "text/plain": [
       "(4231, 626)"
      ]
     },
     "execution_count": 139,
     "metadata": {},
     "output_type": "execute_result"
    }
   ],
   "source": [
    "test_preprocessed.shape"
   ]
  },
  {
   "cell_type": "code",
   "execution_count": 134,
   "metadata": {},
   "outputs": [
    {
     "data": {
      "text/plain": [
       "(4231, 626)"
      ]
     },
     "execution_count": 134,
     "metadata": {},
     "output_type": "execute_result"
    }
   ],
   "source": [
    "del test_preprocessed[\"COST\"]\n",
    "test_preprocessed.shape"
   ]
  },
  {
   "cell_type": "code",
   "execution_count": 136,
   "metadata": {},
   "outputs": [
    {
     "data": {
      "text/plain": [
       "(4231, 626)"
      ]
     },
     "execution_count": 136,
     "metadata": {},
     "output_type": "execute_result"
    }
   ],
   "source": [
    "test_preprocessed.shape"
   ]
  },
  {
   "cell_type": "code",
   "execution_count": 135,
   "metadata": {},
   "outputs": [
    {
     "data": {
      "text/plain": [
       "(12690, 627)"
      ]
     },
     "execution_count": 135,
     "metadata": {},
     "output_type": "execute_result"
    }
   ],
   "source": [
    "train_preprocessed.shape"
   ]
  },
  {
   "cell_type": "code",
   "execution_count": 30,
   "metadata": {},
   "outputs": [],
   "source": [
    "#--------------Train Test Split on Train_preprocessed-----------------"
   ]
  },
  {
   "cell_type": "code",
   "execution_count": 257,
   "metadata": {},
   "outputs": [],
   "source": [
    "X = train_preprocessed.drop(columns=[\"COST\"])"
   ]
  },
  {
   "cell_type": "code",
   "execution_count": 258,
   "metadata": {},
   "outputs": [],
   "source": [
    "y = train_preprocessed[\"COST\"]"
   ]
  },
  {
   "cell_type": "code",
   "execution_count": 142,
   "metadata": {},
   "outputs": [],
   "source": [
    "train_X, test_X, train_y, test_y = train_test_split(X, y, test_size = 0.3, random_state = 8)"
   ]
  },
  {
   "cell_type": "code",
   "execution_count": 143,
   "metadata": {},
   "outputs": [
    {
     "ename": "ModuleNotFoundError",
     "evalue": "No module named 'pandas_profiling'",
     "output_type": "error",
     "traceback": [
      "\u001b[1;31m---------------------------------------------------------------------------\u001b[0m",
      "\u001b[1;31mModuleNotFoundError\u001b[0m                       Traceback (most recent call last)",
      "\u001b[1;32m<ipython-input-143-7e7931b91fff>\u001b[0m in \u001b[0;36m<module>\u001b[1;34m\u001b[0m\n\u001b[1;32m----> 1\u001b[1;33m \u001b[1;32mimport\u001b[0m \u001b[0mpandas_profiling\u001b[0m\u001b[1;33m\u001b[0m\u001b[1;33m\u001b[0m\u001b[0m\n\u001b[0m\u001b[0;32m      2\u001b[0m \u001b[0mpandas_profiling\u001b[0m\u001b[1;33m.\u001b[0m\u001b[0mProfileReport\u001b[0m\u001b[1;33m(\u001b[0m\u001b[0mtrain_y\u001b[0m\u001b[1;33m)\u001b[0m\u001b[1;33m\u001b[0m\u001b[1;33m\u001b[0m\u001b[0m\n",
      "\u001b[1;31mModuleNotFoundError\u001b[0m: No module named 'pandas_profiling'"
     ]
    }
   ],
   "source": [
    "import pandas_profiling\n",
    "pandas_profiling.ProfileReport(train_y)"
   ]
  },
  {
   "cell_type": "code",
   "execution_count": 144,
   "metadata": {},
   "outputs": [
    {
     "data": {
      "text/plain": [
       "(8883,)"
      ]
     },
     "execution_count": 144,
     "metadata": {},
     "output_type": "execute_result"
    }
   ],
   "source": [
    "train_y.shape"
   ]
  },
  {
   "cell_type": "code",
   "execution_count": 145,
   "metadata": {
    "scrolled": true
   },
   "outputs": [
    {
     "data": {
      "text/plain": [
       "LinearRegression(copy_X=True, fit_intercept=True, n_jobs=None, normalize=False)"
      ]
     },
     "execution_count": 145,
     "metadata": {},
     "output_type": "execute_result"
    }
   ],
   "source": [
    "linear = LinearRegression()\n",
    "linear.fit(train_X,train_y)"
   ]
  },
  {
   "cell_type": "code",
   "execution_count": 146,
   "metadata": {},
   "outputs": [
    {
     "data": {
      "text/plain": [
       "array([ 1.98049372e+01,  4.48428271e-02,  9.28002358e+01,  6.09557004e+01,\n",
       "        1.11549753e-07, -6.81045146e+01,  3.18578737e+01, -4.18710614e+01,\n",
       "        1.19231674e+01, -2.71571601e-08,  3.19745915e+02,  6.23317381e+01,\n",
       "        3.60652848e+01,  2.53355127e+02,  9.00772801e+02, -9.28498023e+00,\n",
       "       -1.54946587e+01, -1.72166545e+02, -9.84386136e+00,  3.71882930e+00,\n",
       "        7.81620094e+00, -8.33657792e+00, -8.27782772e+01,  1.02544203e+02,\n",
       "        2.33822597e+01,  5.48735881e-01,  1.19780774e+01,  2.44495025e+01,\n",
       "       -3.30281748e+01,  1.11837916e+01, -8.69817866e+01,  9.28225173e+01,\n",
       "       -2.13424300e-09, -3.93673516e+00,  1.35375971e+02, -9.74040404e-10,\n",
       "       -1.86554416e-08,  2.48476333e+02, -3.71466058e-09, -4.03692833e+01,\n",
       "       -5.19647843e+01, -5.82775783e-09,  1.20275723e+02, -1.71847385e+02,\n",
       "        8.40006675e+02,  1.07042087e+02, -9.23275099e+01,  5.35600420e+00,\n",
       "       -5.71434447e+01, -1.37211487e-09, -4.10915300e+00,  1.99958095e-09,\n",
       "       -2.36590872e+01, -1.84841721e+01,  1.62612794e+02, -2.97227006e+01,\n",
       "        1.86426484e+01,  4.98336630e+01,  1.64116947e+02, -1.68167018e+01,\n",
       "       -1.30039061e+01,  1.01155526e+03,  5.55161358e+01,  2.43952728e+00,\n",
       "        3.95661981e+01,  5.45679942e+00,  5.18924337e+01,  1.77956792e+02,\n",
       "       -3.71571933e+01,  4.29046980e+01, -1.51234519e+02,  4.56856636e+00,\n",
       "        1.73149950e+02, -3.28869421e+01, -4.13865635e+00,  3.79259291e-10,\n",
       "       -1.78303679e+01,  7.14650414e+02,  9.61430800e+01, -5.79088904e+00,\n",
       "        2.32914539e+02, -3.39872430e+02,  5.61276197e+01,  8.02981078e+01,\n",
       "        1.97756670e+02,  4.44409546e+01,  1.46069714e+01, -2.77681223e+02,\n",
       "       -7.69626598e+00,  6.54267751e-11, -1.41314208e+03,  3.62961863e+02,\n",
       "        5.20267522e+00,  4.13309223e+01,  2.94268730e+02, -2.22094025e+01,\n",
       "       -1.75940073e+02,  1.30927870e+02,  1.66976409e+02, -6.79359441e+01,\n",
       "       -3.36887106e+01, -6.59973236e+01,  1.24641564e+02, -5.25264171e+01,\n",
       "       -1.13686838e-12,  5.48905976e+01,  2.91924619e+02, -7.18527857e+01,\n",
       "        1.70530257e-13, -1.99825176e+01,  8.11769374e+01,  1.25021060e+02,\n",
       "       -9.12232886e+01, -6.53669120e+01,  9.62800813e+01, -2.65855957e+01,\n",
       "       -7.92723525e+01,  2.70095232e+01,  8.88085994e+01, -1.61453643e+02,\n",
       "       -6.91065597e+00, -1.68167018e+01,  1.47635929e+02, -1.24150716e+01,\n",
       "       -3.22191746e+02,  7.53494068e+01,  3.85600142e+01, -9.96336234e+01,\n",
       "       -1.43099293e+02,  6.79416775e+02,  1.32827026e+02, -2.73362456e+02,\n",
       "       -2.74356606e+02, -5.75400751e+01, -1.32594885e+02, -2.96623614e+02,\n",
       "       -1.14838242e+02, -1.73775958e+02, -1.96761796e+02, -1.48812638e+02,\n",
       "       -1.91778315e+02,  2.95585778e-12, -2.52632300e+02, -2.23376669e+02,\n",
       "       -7.39420381e+01, -1.28388830e+02,  4.97461480e+01, -2.19861462e+01,\n",
       "       -5.48538992e-12, -1.04402113e+01, -1.21798427e+02, -1.31988641e+02,\n",
       "       -8.55019387e+01,  7.41746260e+01, -1.49656073e+02,  5.47355118e+02,\n",
       "        5.80749827e+02, -2.26240514e+00,  2.85559850e+02, -1.76647098e+02,\n",
       "        2.06328858e+02,  6.72385044e+02, -1.86873129e+02, -3.93809150e+01,\n",
       "        1.30216328e+02, -7.87511438e+01,  1.41432079e+02, -1.43819701e+02,\n",
       "       -1.84453861e+02, -1.60273389e+02, -8.81072992e-13,  1.19371180e-12,\n",
       "        7.03660291e+02,  1.71124781e+02,  5.06740771e+02, -1.98404795e+02,\n",
       "        1.24406082e+02, -2.54868023e+02, -2.04275380e+02,  4.33501855e+02,\n",
       "        6.00993527e+02, -1.09890163e+02,  1.76214598e-12, -2.46175056e+02,\n",
       "        4.80451289e+01, -2.77894247e+02,  8.16907185e+00,  3.63121939e+02,\n",
       "        3.08239102e+01, -1.63612852e+02, -1.75517771e+02,  1.94499883e+02,\n",
       "       -1.98416720e+02, -7.25011481e+01, -6.79775264e+01, -1.44175179e+02,\n",
       "       -4.72920994e+01, -1.18182111e+02, -7.54258436e+01, -2.22475249e+02,\n",
       "       -3.74880092e+02, -1.06450586e+02, -2.64934253e+02, -5.91226159e+01,\n",
       "        2.15063376e+02, -7.83255490e+01,  1.48652865e+02, -3.51001836e+01,\n",
       "       -1.85646129e+02, -2.29077676e+02,  1.73336963e+02, -2.07683867e+02,\n",
       "        1.07313555e+01, -3.05439433e+01,  6.11549563e+02,  5.69284017e+02,\n",
       "       -2.15130823e+02,  2.80909473e+02,  3.29498516e+00,  3.27028463e+02,\n",
       "       -2.78516722e+02, -3.61683703e+02, -1.62593484e+02, -1.70112854e+02,\n",
       "        4.94777555e+02,  2.56214527e+02, -1.53994939e+02,  4.83592721e+01,\n",
       "        2.69135570e+02, -1.19102576e+02, -4.37901515e+02,  1.13686838e-12,\n",
       "       -3.50052068e+02,  5.11590770e-13, -3.36205223e+02, -4.20034649e+02,\n",
       "       -5.43333208e+02, -4.09568216e+02, -4.86236695e+02,  3.72160799e+02,\n",
       "        1.24294906e+02,  2.88804537e+02,  2.72848411e-12,  9.04313172e+02,\n",
       "        6.52355030e+02,  1.67688086e-12,  2.77997481e+02, -4.54604332e+02,\n",
       "       -4.98897398e+02,  1.81898940e-12, -3.92843127e+02,  2.13162821e-12,\n",
       "       -3.84411769e+02, -2.84217094e-13, -3.70823314e+02, -3.13912779e+02,\n",
       "        2.21195624e+02, -3.26880898e+02, -2.43350534e+02, -3.59482103e+02,\n",
       "        6.76167138e+02, -5.68434189e-13,  4.07185532e+01, -3.92819980e+02,\n",
       "       -1.06109188e+02, -4.15159691e+02,  2.56402166e+02, -1.55938534e+02,\n",
       "        2.95169542e+02, -4.32009983e-12, -2.70945428e+02,  6.14970099e+02,\n",
       "        3.84103483e+02,  2.86791199e+02,  3.20661637e+02, -3.36517976e+02,\n",
       "        1.58678637e+03, -1.70530257e-13,  1.70530257e-13, -1.13686838e-13,\n",
       "        8.02331495e+02,  9.45210584e+02,  1.92187887e+03, -5.17607084e+02,\n",
       "        5.11590770e-13, -4.66404339e+02, -3.23190136e+02, -4.63165415e+02,\n",
       "       -3.56135344e+02, -2.86315453e+02, -5.18997405e+02,  7.10542736e-15,\n",
       "       -3.54358968e+02, -5.11361576e+02, -4.86798862e+02,  1.77661799e+03,\n",
       "        1.76656934e+03,  3.76416006e+02,  1.04862857e+03,  4.56523708e-13,\n",
       "       -3.16896790e+02, -3.69303075e+02, -2.56470869e+02, -5.03038779e+02,\n",
       "       -3.41060513e-13,  2.41584530e-13, -4.99732216e+02, -3.54822578e+02,\n",
       "       -4.48405323e+02,  7.48364375e+02,  8.75698409e+02,  4.14808984e+02,\n",
       "        5.25084561e+02,  1.25214293e+03, -1.13686838e-13,  8.86771882e+02,\n",
       "        5.99832315e+02, -6.43810399e+02, -7.25636759e+02, -4.58572960e+02,\n",
       "        6.41687983e+02,  5.44590431e+02,  2.70293136e+02, -2.84217094e-13,\n",
       "        2.41551977e+02, -4.42676422e+02, -3.74880092e+02,  3.59118906e+02,\n",
       "        3.55271368e-15,  1.12129883e+02,  2.42553747e+02,  1.13686838e-13,\n",
       "        3.85313148e+02,  5.47225219e+02, -4.23832657e+02, -4.20765637e+02,\n",
       "       -5.62844148e+02, -3.51170449e+02, -3.83830774e+02, -2.20279984e+02,\n",
       "       -3.16906330e+02, -3.42207824e+02, -6.51360782e+02, -4.92515960e+02,\n",
       "       -6.82121026e-13, -3.76088140e+02, -5.11056148e+02, -5.34634228e+02,\n",
       "       -3.69482223e-13, -2.50700270e+02, -2.36010590e+02, -4.33750040e+02,\n",
       "       -3.95149041e+02, -1.13686838e-13, -1.55839999e+02,  5.36387985e+01,\n",
       "       -2.27373675e-13, -1.36785500e+02, -2.84217094e-13, -1.48884178e+02,\n",
       "        2.55795385e-13,  1.13686838e-13,  2.77111667e-13, -1.63224725e+02,\n",
       "       -2.90755239e+02, -5.68434189e-14, -1.93093083e+02, -2.90527622e+02,\n",
       "       -1.46037644e+02,  2.21242112e+01, -5.27717639e+02,  1.13686838e-13,\n",
       "       -1.13686838e-13, -2.24638567e+02, -5.53274410e+02, -7.27188618e+01,\n",
       "       -1.49883699e+02,  2.84217094e-13, -3.07032710e+01,  5.85727471e+01,\n",
       "        3.71144230e+02, -7.20789268e+01,  5.59197437e+01,  1.14592203e+02,\n",
       "        4.56205838e+01, -2.33790326e+02, -4.30048699e+02, -4.78692066e+00,\n",
       "        1.16770684e+01,  4.68958206e-13, -2.24040235e+02,  5.68434189e-14,\n",
       "        4.12114787e-13, -1.46952565e+02,  2.18491891e-13, -1.08972917e+02,\n",
       "        9.59232693e-14, -1.13686838e-13, -1.70530257e-13, -2.14774538e+01,\n",
       "       -7.10542736e-14,  1.34778337e+02,  2.55795385e-13,  7.18113228e+01,\n",
       "        0.00000000e+00,  1.80576728e+01, -3.07183167e+02,  1.70530257e-13,\n",
       "       -2.44576859e+02, -1.42108547e-13, -1.24410271e+02,  2.84217094e-13,\n",
       "       -6.02989525e+02, -1.00192856e+02, -1.64510237e+02, -8.82815500e+01,\n",
       "       -2.13162821e-13, -8.61136096e+01,  3.00065204e+02, -4.02493918e+01,\n",
       "       -3.41060513e-13, -1.80801174e+02, -1.77665759e+02,  2.84217094e-14,\n",
       "        8.52651283e-14, -4.23363597e+01,  1.27897692e-13, -2.21848256e-13,\n",
       "       -3.68843363e+02,  6.87756210e+02, -4.34993131e+01,  2.68993060e+01,\n",
       "        6.75564657e+02, -8.10454011e+00,  3.73141800e+02,  1.24457291e+02,\n",
       "       -2.00937312e+02, -7.27195664e+01, -1.35003120e-13,  8.19511153e-15,\n",
       "        5.00874790e+00, -1.23517358e+02, -5.22367270e+02,  2.37715534e+02,\n",
       "       -1.01062515e+02, -2.45489637e+02, -1.11598079e+02, -2.88828713e+02,\n",
       "        2.44272331e-02, -9.66488616e+01,  1.54348087e+02, -1.70802430e-13,\n",
       "       -1.42108547e-13, -2.27373675e-13, -1.75717577e+02, -1.17399868e+02,\n",
       "       -1.13686838e-13, -2.33088297e+02,  9.86147827e+00, -2.65664288e+02,\n",
       "       -1.74934263e-13,  6.82121026e-13, -2.90907956e-01, -1.28405987e+02,\n",
       "        6.15977204e+01, -5.84802488e+01, -1.47752397e+02,  4.26325641e-14,\n",
       "       -2.52082964e+01, -2.39150264e+02, -7.32090717e+01, -2.84217094e-14,\n",
       "       -1.99762422e+02,  4.26325641e-14, -8.32870100e+01, -1.25619963e+02,\n",
       "       -5.44489811e+01, -1.56388689e+02,  1.56974058e+02,  3.02772334e+01,\n",
       "       -4.24304593e+02, -1.30505673e-13, -3.94364650e+02,  1.27897692e-13,\n",
       "       -4.04453334e+02,  9.62631549e+01, -4.35686564e+01,  1.52782518e-13,\n",
       "        5.26585916e+01, -4.95182073e+01, -2.13994404e-15, -3.20321562e+02,\n",
       "       -1.98951966e-13, -7.29173754e+01, -2.34175816e+02,  6.58983070e+01,\n",
       "        8.95426379e-14, -8.51371511e-01, -5.68434189e-14, -1.83513799e+02,\n",
       "       -1.86759086e+02, -1.13686838e-13, -8.52194479e+01, -6.29003515e+00,\n",
       "        5.68434189e-14, -8.00442340e-14,  5.68434189e-14, -3.23024071e+02,\n",
       "       -3.22904519e+02,  1.05353746e+02, -1.89963270e+02, -2.23447656e+02,\n",
       "       -5.68434189e-14, -1.13530097e-02, -2.82532479e+01, -2.79866833e+02,\n",
       "        2.84217094e-14, -2.05396172e-15,  0.00000000e+00,  7.10542736e-14,\n",
       "        6.42770882e+01, -1.42108547e-14, -2.77853899e+01, -3.46962514e+01,\n",
       "        0.00000000e+00, -5.01883158e+00, -3.40556983e+01,  1.16222246e+02,\n",
       "        0.00000000e+00, -8.84843936e+01, -8.31318329e+01,  0.00000000e+00,\n",
       "       -1.11141640e+03,  3.24330270e+02, -1.67637522e+02,  0.00000000e+00,\n",
       "       -5.15202685e+01,  0.00000000e+00, -8.90248599e+01, -1.79713341e+02,\n",
       "        0.00000000e+00,  0.00000000e+00, -6.84573401e+01, -2.41212403e+02,\n",
       "        0.00000000e+00,  0.00000000e+00,  0.00000000e+00, -1.19987548e+02,\n",
       "        0.00000000e+00,  0.00000000e+00,  0.00000000e+00,  2.93584011e+02,\n",
       "       -1.31799010e+02,  0.00000000e+00, -1.75726518e+02, -4.21758560e+02,\n",
       "       -1.04475548e+02, -1.42964550e+02,  0.00000000e+00, -2.99443827e+02,\n",
       "        4.36948555e+01,  0.00000000e+00, -1.88527269e+02,  4.44237757e+01,\n",
       "       -1.43852739e+02,  0.00000000e+00,  0.00000000e+00, -1.22439721e+02,\n",
       "        0.00000000e+00, -1.35745054e+02, -3.98033333e+02, -1.15643444e+02,\n",
       "        0.00000000e+00,  0.00000000e+00,  0.00000000e+00,  0.00000000e+00,\n",
       "        1.04756956e+02, -3.71118243e+01,  0.00000000e+00, -3.59785308e+02,\n",
       "        0.00000000e+00, -1.47721684e+02, -3.48689855e+02, -1.65599721e+02,\n",
       "       -3.20600549e+01,  0.00000000e+00, -6.92801131e+01,  0.00000000e+00,\n",
       "        1.32193593e+02, -1.67134610e+01, -6.45557366e+02,  0.00000000e+00,\n",
       "        1.20267425e+02,  0.00000000e+00, -2.28190501e+02, -6.30451177e+01,\n",
       "        1.02051644e+03, -4.75079509e+01,  1.66615090e+02, -5.50763754e+01,\n",
       "       -1.19673449e+02,  0.00000000e+00,  0.00000000e+00,  0.00000000e+00,\n",
       "       -9.09635825e+01, -1.92305519e+01, -2.36414939e+02,  0.00000000e+00,\n",
       "       -1.94407430e+02, -1.80450742e+02, -3.40341122e+02,  0.00000000e+00,\n",
       "       -3.39364464e+02,  0.00000000e+00,  0.00000000e+00, -1.52664287e+02,\n",
       "       -3.69796531e+02, -4.33823281e+02, -3.22752269e+02,  0.00000000e+00,\n",
       "       -1.99132533e+02,  0.00000000e+00, -2.84807267e+02,  1.94510549e+02,\n",
       "        0.00000000e+00, -2.07962969e+02])"
      ]
     },
     "execution_count": 146,
     "metadata": {},
     "output_type": "execute_result"
    }
   ],
   "source": [
    "linear.coef_"
   ]
  },
  {
   "cell_type": "code",
   "execution_count": 147,
   "metadata": {},
   "outputs": [
    {
     "data": {
      "text/plain": [
       "<matplotlib.axes._subplots.AxesSubplot at 0x1b8026f0d08>"
      ]
     },
     "execution_count": 147,
     "metadata": {},
     "output_type": "execute_result"
    },
    {
     "data": {
      "image/png": "[encoded data removed]",
      "text/plain": [
       "<Figure size 432x288 with 1 Axes>"
      ]
     },
     "metadata": {
      "needs_background": "light"
     },
     "output_type": "display_data"
    }
   ],
   "source": [
    "pd.DataFrame(linear.coef_,train_X.columns).plot(kind = \"bar\")"
   ]
  },
  {
   "cell_type": "code",
   "execution_count": 148,
   "metadata": {},
   "outputs": [],
   "source": [
    "train_predict = linear.predict(train_X)"
   ]
  },
  {
   "cell_type": "code",
   "execution_count": 149,
   "metadata": {
    "scrolled": true
   },
   "outputs": [],
   "source": [
    "test_predict = linear.predict(test_X)"
   ]
  },
  {
   "cell_type": "code",
   "execution_count": 150,
   "metadata": {},
   "outputs": [
    {
     "data": {
      "text/plain": [
       "295.6407965990787"
      ]
     },
     "execution_count": 150,
     "metadata": {},
     "output_type": "execute_result"
    }
   ],
   "source": [
    "np.sqrt(mean_squared_error(train_predict,train_y))"
   ]
  },
  {
   "cell_type": "code",
   "execution_count": 151,
   "metadata": {},
   "outputs": [
    {
     "data": {
      "text/plain": [
       "388.8014693787626"
      ]
     },
     "execution_count": 151,
     "metadata": {},
     "output_type": "execute_result"
    }
   ],
   "source": [
    "np.sqrt(mean_squared_error(test_predict,test_y))"
   ]
  },
  {
   "cell_type": "code",
   "execution_count": 152,
   "metadata": {},
   "outputs": [
    {
     "data": {
      "text/plain": [
       "(array([ 207.93889289,  272.85478606,  374.25406928, ...,  914.98635108,\n",
       "        1109.7998961 ,  552.97217622]),\n",
       " array([ 383.97420243,  418.14138379, 1468.85675329, ...,  403.51147566,\n",
       "         623.87356339,  755.93211084]))"
      ]
     },
     "execution_count": 152,
     "metadata": {},
     "output_type": "execute_result"
    }
   ],
   "source": [
    "train_predict,test_predict"
   ]
  },
  {
   "cell_type": "code",
   "execution_count": 153,
   "metadata": {},
   "outputs": [],
   "source": [
    "def model_fit(model, train_train_X, train_test_X, train_train_y, train_test_y, \n",
    "              train_X, train_y, test_X, filename ):\n",
    "    model.fit(train_train_X,train_train_y)\n",
    "\n",
    "    pd.DataFrame(model.coef_,train_train_X.columns).plot(kind = \"bar\")\n",
    "\n",
    "    train_predict = model.predict(train_train_X)\n",
    "\n",
    "    test_predict = model.predict(train_test_X)\n",
    "\n",
    "    print(\"Train RMSE : \",np.sqrt(mean_squared_error(train_predict,train_train_y)))\n",
    "\n",
    "    print(\"Test RMSE : \",np.sqrt(mean_squared_error(test_predict,train_test_y)))\n",
    "    \n",
    "    model.fit(train_X, train_y)\n",
    "    \n",
    "    test_hack_predict = model.predict(test_X)#.drop(columns=[\"COST\"]))\n",
    "    test_pred_df = pd.DataFrame(test_hack_predict,columns= [\"COST\"])\n",
    "    #result = pd.concat([test_X,test_pred_df] ,axis = 1)\n",
    "    test_pred_df.to_excel(filename,index = False)\n",
    "    "
   ]
  },
  {
   "cell_type": "code",
   "execution_count": 154,
   "metadata": {},
   "outputs": [],
   "source": [
    "def model_fit_poly(model, train_train_X, train_test_X, train_train_y, train_test_y, \n",
    "              train_X, train_y, test_X, filename ):\n",
    "    model.fit(train_train_X,train_train_y)\n",
    "\n",
    "    #pd.DataFrame(model.coef_,train_train_X.columns).plot(kind = \"bar\")\n",
    "\n",
    "    train_predict = model.predict(train_train_X)\n",
    "\n",
    "    test_predict = model.predict(train_test_X)\n",
    "\n",
    "    #print(\"Train RMSE : \",np.sqrt(mean_squared_error(train_predict,train_train_y)))\n",
    "\n",
    "    #print(\"Test RMSE : \",np.sqrt(mean_squared_error(test_predict,train_test_y)))\n",
    "    \n",
    "    model.fit(train_X, train_y)\n",
    "    \n",
    "    test_hack_predict = model.predict(test_X)\n",
    "    test_pred_df = pd.DataFrame(test_hack_predict)#,columns= [\"COST\"])\n",
    "    result = pd.concat([test_preprocessed,test_pred_df] ,axis = 1)\n",
    "    result.to_excel(filename,index = False)"
   ]
  },
  {
   "cell_type": "code",
   "execution_count": 155,
   "metadata": {},
   "outputs": [
    {
     "name": "stdout",
     "output_type": "stream",
     "text": [
      "Train RMSE :  295.6407965990787\n",
      "Test RMSE :  388.8014693787626\n"
     ]
    },
    {
     "data": {
      "image/png": "[encoded data removed]",
      "text/plain": [
       "<Figure size 432x288 with 1 Axes>"
      ]
     },
     "metadata": {
      "needs_background": "light"
     },
     "output_type": "display_data"
    }
   ],
   "source": [
    "model_fit(linear,train_X,test_X,train_y,test_y,X,y,test_preprocessed,\"linear_solution.xlsx\")"
   ]
  },
  {
   "cell_type": "code",
   "execution_count": 166,
   "metadata": {},
   "outputs": [],
   "source": [
    "lass = Lasso(alpha=0.6, normalize=True)"
   ]
  },
  {
   "cell_type": "code",
   "execution_count": 167,
   "metadata": {},
   "outputs": [
    {
     "name": "stdout",
     "output_type": "stream",
     "text": [
      "Train RMSE :  401.99279734363176\n",
      "Test RMSE :  470.26164797280336\n"
     ]
    },
    {
     "data": {
      "image/png": "[encoded data removed]",
      "text/plain": [
       "<Figure size 432x288 with 1 Axes>"
      ]
     },
     "metadata": {
      "needs_background": "light"
     },
     "output_type": "display_data"
    }
   ],
   "source": [
    "model_fit(lass,train_X,test_X,train_y,test_y,X,y,test_preprocessed,\"lasso_solution.xlsx\")"
   ]
  },
  {
   "cell_type": "code",
   "execution_count": null,
   "metadata": {},
   "outputs": [],
   "source": []
  },
  {
   "cell_type": "code",
   "execution_count": 171,
   "metadata": {},
   "outputs": [],
   "source": [
    "from sklearn.ensemble import RandomForestRegressor\n",
    "random_regressor = RandomForestRegressor(n_estimators=1000)\n"
   ]
  },
  {
   "cell_type": "code",
   "execution_count": 172,
   "metadata": {},
   "outputs": [
    {
     "data": {
      "text/plain": [
       "RandomForestRegressor(bootstrap=True, criterion='mse', max_depth=None,\n",
       "                      max_features='auto', max_leaf_nodes=None,\n",
       "                      min_impurity_decrease=0.0, min_impurity_split=None,\n",
       "                      min_samples_leaf=1, min_samples_split=2,\n",
       "                      min_weight_fraction_leaf=0.0, n_estimators=1000,\n",
       "                      n_jobs=None, oob_score=False, random_state=None,\n",
       "                      verbose=0, warm_start=False)"
      ]
     },
     "execution_count": 172,
     "metadata": {},
     "output_type": "execute_result"
    }
   ],
   "source": [
    "random_regressor.fit(train_X, train_y)"
   ]
  },
  {
   "cell_type": "code",
   "execution_count": 173,
   "metadata": {},
   "outputs": [],
   "source": [
    "train_pred = random_regressor.predict(train_X)"
   ]
  },
  {
   "cell_type": "code",
   "execution_count": 175,
   "metadata": {},
   "outputs": [
    {
     "data": {
      "text/plain": [
       "117.29553405207179"
      ]
     },
     "execution_count": 175,
     "metadata": {},
     "output_type": "execute_result"
    }
   ],
   "source": [
    "np.sqrt(mean_squared_error(train_y, train_pred))"
   ]
  },
  {
   "cell_type": "code",
   "execution_count": 174,
   "metadata": {},
   "outputs": [],
   "source": [
    "test_pred = random_regressor.predict(test_X)"
   ]
  },
  {
   "cell_type": "code",
   "execution_count": 176,
   "metadata": {},
   "outputs": [
    {
     "data": {
      "text/plain": [
       "388.743136931765"
      ]
     },
     "execution_count": 176,
     "metadata": {},
     "output_type": "execute_result"
    }
   ],
   "source": [
    "np.sqrt(mean_squared_error(test_y, test_pred))"
   ]
  },
  {
   "cell_type": "code",
   "execution_count": 179,
   "metadata": {},
   "outputs": [],
   "source": [
    "feature_imp = pd.DataFrame([train_X.columns,random_regressor.feature_importances_]).T"
   ]
  },
  {
   "cell_type": "code",
   "execution_count": 180,
   "metadata": {},
   "outputs": [],
   "source": [
    "feature_imp.columns = [\"col\", \"feature_imp\"]"
   ]
  },
  {
   "cell_type": "code",
   "execution_count": 181,
   "metadata": {},
   "outputs": [],
   "source": [
    "feature_imp.sort_values(by=\"feature_imp\",ascending=False,inplace=True)"
   ]
  },
  {
   "cell_type": "code",
   "execution_count": 228,
   "metadata": {},
   "outputs": [],
   "source": [
    "imp_feature =  list(feature_imp.head(60).col)"
   ]
  },
  {
   "cell_type": "code",
   "execution_count": 229,
   "metadata": {},
   "outputs": [
    {
     "name": "stdout",
     "output_type": "stream",
     "text": [
      "117.29553405207179\n",
      "393.9127879581765\n"
     ]
    }
   ],
   "source": [
    "random_regressor.fit(train_X[imp_feature], train_y)\n",
    "\n",
    "print(np.sqrt(mean_squared_error(train_y, train_pred)))\n",
    "\n",
    "test_pred = random_regressor.predict(test_X[imp_feature])\n",
    "\n",
    "print(np.sqrt(mean_squared_error(test_y, test_pred)))"
   ]
  },
  {
   "cell_type": "code",
   "execution_count": 230,
   "metadata": {
    "scrolled": false
   },
   "outputs": [
    {
     "name": "stdout",
     "output_type": "stream",
     "text": [
      "Train RMSE :  401.99718166158624\n",
      "Test RMSE :  470.2654431597289\n"
     ]
    },
    {
     "data": {
      "image/png": "[encoded data removed]",
      "text/plain": [
       "<Figure size 432x288 with 1 Axes>"
      ]
     },
     "metadata": {
      "needs_background": "light"
     },
     "output_type": "display_data"
    }
   ],
   "source": [
    "model_fit(lass,train_X[imp_feature],test_X[imp_feature],train_y,test_y,X[imp_feature],y,test_preprocessed[imp_feature],\"lasso_solution_imp.xlsx\")"
   ]
  },
  {
   "cell_type": "code",
   "execution_count": 231,
   "metadata": {},
   "outputs": [],
   "source": [
    "def model_fit_no_coef(model, train_train_X, train_test_X, train_train_y, train_test_y, \n",
    "              train_X, train_y, test_X, filename ):\n",
    "    model.fit(train_train_X,train_train_y)\n",
    "\n",
    "    #pd.DataFrame(model.coef_,train_train_X.columns).plot(kind = \"bar\")\n",
    "\n",
    "    train_predict = model.predict(train_train_X)\n",
    "\n",
    "    test_predict = model.predict(train_test_X)\n",
    "\n",
    "    print(\"Train RMSE : \",np.sqrt(mean_squared_error(train_predict,train_train_y)))\n",
    "\n",
    "    print(\"Test RMSE : \",np.sqrt(mean_squared_error(test_predict,train_test_y)))\n",
    "    \n",
    "    model.fit(train_X, train_y)\n",
    "    \n",
    "    test_hack_predict = model.predict(test_X)#.drop(columns=[\"COST\"]))\n",
    "    test_pred_df = pd.DataFrame(test_hack_predict,columns= [\"COST\"])\n",
    "    #result = pd.concat([test_X,test_pred_df] ,axis = 1)\n",
    "    test_pred_df.to_excel(filename,index = False)\n",
    "    "
   ]
  },
  {
   "cell_type": "code",
   "execution_count": 232,
   "metadata": {},
   "outputs": [],
   "source": [
    "from sklearn.ensemble import AdaBoostRegressor"
   ]
  },
  {
   "cell_type": "code",
   "execution_count": 233,
   "metadata": {},
   "outputs": [],
   "source": [
    "ada = AdaBoostRegressor(n_estimators=300)"
   ]
  },
  {
   "cell_type": "code",
   "execution_count": 234,
   "metadata": {},
   "outputs": [
    {
     "name": "stdout",
     "output_type": "stream",
     "text": [
      "Train RMSE :  903.3284290414499\n",
      "Test RMSE :  935.7457201242227\n"
     ]
    }
   ],
   "source": [
    "model_fit_no_coef(ada,train_X[imp_feature],test_X[imp_feature],train_y,test_y,X[imp_feature],y,test_preprocessed[imp_feature],\"ada_imp.xlsx\")"
   ]
  },
  {
   "cell_type": "code",
   "execution_count": 235,
   "metadata": {},
   "outputs": [],
   "source": [
    "from sklearn.ensemble import GradientBoostingRegressor"
   ]
  },
  {
   "cell_type": "code",
   "execution_count": 236,
   "metadata": {},
   "outputs": [],
   "source": [
    "gbm = GradientBoostingRegressor()"
   ]
  },
  {
   "cell_type": "code",
   "execution_count": 237,
   "metadata": {},
   "outputs": [
    {
     "name": "stdout",
     "output_type": "stream",
     "text": [
      "Train RMSE :  292.265852982689\n",
      "Test RMSE :  399.938859806497\n"
     ]
    }
   ],
   "source": [
    "model_fit_no_coef(gbm,train_X[imp_feature],test_X[imp_feature],train_y,test_y,X[imp_feature],y,test_preprocessed[imp_feature],\"gbm_imp.xlsx\")"
   ]
  },
  {
   "cell_type": "code",
   "execution_count": 238,
   "metadata": {},
   "outputs": [
    {
     "name": "stdout",
     "output_type": "stream",
     "text": [
      "Train RMSE :  291.312631751435\n",
      "Test RMSE :  397.3858238210554\n"
     ]
    }
   ],
   "source": [
    "model_fit_no_coef(gbm,train_X,test_X,train_y,test_y,X,y,test_preprocessed,\"gbm_imp.xlsx\")"
   ]
  },
  {
   "cell_type": "code",
   "execution_count": null,
   "metadata": {},
   "outputs": [],
   "source": []
  },
  {
   "cell_type": "code",
   "execution_count": 239,
   "metadata": {},
   "outputs": [],
   "source": [
    "from sklearn.tree import DecisionTreeRegressor\n",
    "dtree = DecisionTreeRegressor()"
   ]
  },
  {
   "cell_type": "code",
   "execution_count": 240,
   "metadata": {},
   "outputs": [
    {
     "name": "stdout",
     "output_type": "stream",
     "text": [
      "Train RMSE :  22.43598248887191\n",
      "Test RMSE :  481.08506903512176\n"
     ]
    }
   ],
   "source": [
    "model_fit_no_coef(dtree,train_X,test_X,train_y,test_y,X,y,test_preprocessed,\"dtree.xlsx\")"
   ]
  },
  {
   "cell_type": "code",
   "execution_count": 241,
   "metadata": {},
   "outputs": [
    {
     "name": "stdout",
     "output_type": "stream",
     "text": [
      "Train RMSE :  30.206806260069282\n",
      "Test RMSE :  479.31264957376817\n"
     ]
    }
   ],
   "source": [
    "model_fit_no_coef(dtree,train_X[imp_feature],test_X[imp_feature],train_y,test_y,X[imp_feature],y,test_preprocessed[imp_feature],\"dtreeimp.xlsx\")"
   ]
  },
  {
   "cell_type": "code",
   "execution_count": 250,
   "metadata": {},
   "outputs": [],
   "source": [
    "from sklearn.neighbors import KNeighborsRegressor\n",
    "knn = KNeighborsRegressor(n_neighbors=50)"
   ]
  },
  {
   "cell_type": "code",
   "execution_count": 251,
   "metadata": {},
   "outputs": [
    {
     "name": "stdout",
     "output_type": "stream",
     "text": [
      "Train RMSE :  552.2742778360976\n",
      "Test RMSE :  614.0621083733735\n"
     ]
    }
   ],
   "source": [
    "model_fit_no_coef(knn,train_X[imp_feature],test_X[imp_feature],train_y,test_y,X[imp_feature],y,test_preprocessed[imp_feature],\"knnimp.xlsx\")"
   ]
  },
  {
   "cell_type": "code",
   "execution_count": null,
   "metadata": {},
   "outputs": [],
   "source": []
  },
  {
   "cell_type": "code",
   "execution_count": 252,
   "metadata": {},
   "outputs": [],
   "source": [
    "import numpy as np\n",
    "from sklearn.linear_model import LinearRegression\n",
    "from sklearn.ensemble import RandomForestRegressor\n",
    "from sklearn.ensemble import VotingRegressor\n",
    "\n",
    "\n",
    "\n"
   ]
  },
  {
   "cell_type": "code",
   "execution_count": 268,
   "metadata": {},
   "outputs": [],
   "source": [
    "from sklearn.tree import DecisionTreeRegressor\n",
    "dtree_30 = DecisionTreeRegressor(max_depth=30)\n",
    "dtree_40 = DecisionTreeRegressor(max_depth=40)\n",
    "dtree_50 = DecisionTreeRegressor(max_depth=50)\n",
    "dtree_60 = DecisionTreeRegressor(max_depth=60)\n"
   ]
  },
  {
   "cell_type": "code",
   "execution_count": 274,
   "metadata": {},
   "outputs": [
    {
     "data": {
      "text/plain": [
       "array([1200.        , 1500.        ,  800.        , ..., 1300.        ,\n",
       "        400.        ,  629.62962963])"
      ]
     },
     "execution_count": 274,
     "metadata": {},
     "output_type": "execute_result"
    }
   ],
   "source": [
    "\n",
    "er = VotingRegressor([ ('dt2', dtree_60), ('dt3', dtree_40), ('dt4', dtree_50)])\n",
    "er.fit(X[imp_feature],y)\n",
    "er.predict(X[imp_feature])"
   ]
  },
  {
   "cell_type": "code",
   "execution_count": 275,
   "metadata": {},
   "outputs": [],
   "source": [
    "test_pred = er.predict(test_preprocessed[imp_feature])"
   ]
  },
  {
   "cell_type": "code",
   "execution_count": 276,
   "metadata": {},
   "outputs": [],
   "source": [
    "voting = pd.DataFrame([test_pred]).T"
   ]
  },
  {
   "cell_type": "code",
   "execution_count": 277,
   "metadata": {},
   "outputs": [],
   "source": [
    "voting.columns = [\"COST\"]"
   ]
  },
  {
   "cell_type": "code",
   "execution_count": 278,
   "metadata": {},
   "outputs": [],
   "source": [
    "voting.to_excel(\"voting_reg.xlsx\", index = False)"
   ]
  },
  {
   "cell_type": "code",
   "execution_count": 285,
   "metadata": {},
   "outputs": [
    {
     "ename": "ImportError",
     "evalue": "cannot import name 'StackingRegressor' from 'sklearn.ensemble' (C:\\Users\\mfiyazudeen\\AppData\\Local\\Continuum\\anaconda3\\lib\\site-packages\\sklearn\\ensemble\\__init__.py)",
     "output_type": "error",
     "traceback": [
      "\u001b[1;31m---------------------------------------------------------------------------\u001b[0m",
      "\u001b[1;31mImportError\u001b[0m                               Traceback (most recent call last)",
      "\u001b[1;32m<ipython-input-285-9484580cd08e>\u001b[0m in \u001b[0;36m<module>\u001b[1;34m\u001b[0m\n\u001b[1;32m----> 1\u001b[1;33m \u001b[1;32mfrom\u001b[0m \u001b[0msklearn\u001b[0m\u001b[1;33m.\u001b[0m\u001b[0mensemble\u001b[0m \u001b[1;32mimport\u001b[0m \u001b[0mStackingRegressor\u001b[0m\u001b[1;33m\u001b[0m\u001b[1;33m\u001b[0m\u001b[0m\n\u001b[0m",
      "\u001b[1;31mImportError\u001b[0m: cannot import name 'StackingRegressor' from 'sklearn.ensemble' (C:\\Users\\mfiyazudeen\\AppData\\Local\\Continuum\\anaconda3\\lib\\site-packages\\sklearn\\ensemble\\__init__.py)"
     ]
    }
   ],
   "source": [
    "from sklearn.ensemble import StackingRegressor"
   ]
  },
  {
   "cell_type": "code",
   "execution_count": 282,
   "metadata": {},
   "outputs": [
    {
     "name": "stdout",
     "output_type": "stream",
     "text": [
      "Requirement already up-to-date: scikit-learn in c:\\users\\mfiyazudeen\\appdata\\local\\continuum\\anaconda3\\lib\\site-packages (0.22)\n",
      "Requirement already satisfied, skipping upgrade: joblib>=0.11 in c:\\users\\mfiyazudeen\\appdata\\local\\continuum\\anaconda3\\lib\\site-packages (from scikit-learn) (0.13.2)\n",
      "Requirement already satisfied, skipping upgrade: numpy>=1.11.0 in c:\\users\\mfiyazudeen\\appdata\\local\\continuum\\anaconda3\\lib\\site-packages (from scikit-learn) (1.16.5)\n",
      "Requirement already satisfied, skipping upgrade: scipy>=0.17.0 in c:\\users\\mfiyazudeen\\appdata\\local\\continuum\\anaconda3\\lib\\site-packages (from scikit-learn) (1.3.1)\n"
     ]
    }
   ],
   "source": [
    "!pip install -U scikit-learn\n"
   ]
  },
  {
   "cell_type": "code",
   "execution_count": 283,
   "metadata": {},
   "outputs": [],
   "source": [
    "import sklearn"
   ]
  },
  {
   "cell_type": "code",
   "execution_count": 284,
   "metadata": {},
   "outputs": [
    {
     "name": "stdout",
     "output_type": "stream",
     "text": [
      "0.21.3\n"
     ]
    }
   ],
   "source": [
    "print(sklearn.__version__)"
   ]
  }
 ],
 "metadata": {
  "kernelspec": {
   "display_name": "Python 3",
   "language": "python",
   "name": "python3"
  },
  "language_info": {
   "codemirror_mode": {
    "name": "ipython",
    "version": 3
   },
   "file_extension": ".py",
   "mimetype": "text/x-python",
   "name": "python",
   "nbconvert_exporter": "python",
   "pygments_lexer": "ipython3",
   "version": "3.7.4"
  }
 },
 "nbformat": 4,
 "nbformat_minor": 2
}
