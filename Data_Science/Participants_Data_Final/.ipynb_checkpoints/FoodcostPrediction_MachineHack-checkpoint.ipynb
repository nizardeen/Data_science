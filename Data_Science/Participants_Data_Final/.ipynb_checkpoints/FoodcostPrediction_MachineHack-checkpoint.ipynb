{
 "cells": [
  {
   "cell_type": "code",
   "execution_count": 1,
   "metadata": {},
   "outputs": [],
   "source": [
    "import matplotlib.pyplot as plt\n",
    "%matplotlib inline\n",
    "\n",
    "import pandas as pd\n",
    "import numpy as np\n",
    "import re\n",
    "from sklearn.model_selection import train_test_split\n",
    "from sklearn.linear_model import LinearRegression\n",
    "from sklearn.metrics import mean_squared_error\n",
    "from sklearn.linear_model import Ridge\n",
    "from sklearn.linear_model import Lasso\n",
    "from sklearn.linear_model import ElasticNet\n",
    "import warnings\n",
    "warnings.filterwarnings(\"ignore\")\n",
    "import seaborn as sns\n"
   ]
  },
  {
   "cell_type": "code",
   "execution_count": 2,
   "metadata": {},
   "outputs": [],
   "source": [
    "train = pd.read_excel(\"Data_Test.xlsx\")\n",
    "test = pd.read_excel(\"Data_Train.xlsx\")\n"
   ]
  },
  {
   "cell_type": "code",
   "execution_count": null,
   "metadata": {},
   "outputs": [],
   "source": []
  },
  {
   "cell_type": "code",
   "execution_count": 3,
   "metadata": {},
   "outputs": [
    {
     "data": {
      "text/html": [
       "<div>\n",
       "<style scoped>\n",
       "    .dataframe tbody tr th:only-of-type {\n",
       "        vertical-align: middle;\n",
       "    }\n",
       "\n",
       "    .dataframe tbody tr th {\n",
       "        vertical-align: top;\n",
       "    }\n",
       "\n",
       "    .dataframe thead th {\n",
       "        text-align: right;\n",
       "    }\n",
       "</style>\n",
       "<table border=\"1\" class=\"dataframe\">\n",
       "  <thead>\n",
       "    <tr style=\"text-align: right;\">\n",
       "      <th></th>\n",
       "      <th>CITY</th>\n",
       "      <th>COST</th>\n",
       "      <th>CUISINES</th>\n",
       "      <th>LOCALITY</th>\n",
       "      <th>RATING</th>\n",
       "      <th>RESTAURANT_ID</th>\n",
       "      <th>TIME</th>\n",
       "      <th>TITLE</th>\n",
       "      <th>VOTES</th>\n",
       "    </tr>\n",
       "  </thead>\n",
       "  <tbody>\n",
       "    <tr>\n",
       "      <td>0</td>\n",
       "      <td>Noida</td>\n",
       "      <td>NaN</td>\n",
       "      <td>North Indian, Chinese, Mughlai, Kebab</td>\n",
       "      <td>Sector 18</td>\n",
       "      <td>4.3</td>\n",
       "      <td>4085</td>\n",
       "      <td>12noon – 12midnight (Mon-Sun)</td>\n",
       "      <td>CASUAL DINING</td>\n",
       "      <td>564 votes</td>\n",
       "    </tr>\n",
       "    <tr>\n",
       "      <td>1</td>\n",
       "      <td>Mumbai</td>\n",
       "      <td>NaN</td>\n",
       "      <td>South Indian, Fast Food, Pizza, North Indian</td>\n",
       "      <td>Grant Road</td>\n",
       "      <td>4.2</td>\n",
       "      <td>12680</td>\n",
       "      <td>7am – 12:30AM (Mon-Sun)</td>\n",
       "      <td>QUICK BITES</td>\n",
       "      <td>61 votes</td>\n",
       "    </tr>\n",
       "    <tr>\n",
       "      <td>2</td>\n",
       "      <td>Mumbai</td>\n",
       "      <td>NaN</td>\n",
       "      <td>North Indian, Seafood, Biryani, Chinese</td>\n",
       "      <td>Marine Lines</td>\n",
       "      <td>3.8</td>\n",
       "      <td>1411</td>\n",
       "      <td>11am – 11:30pm (Mon-Sun)</td>\n",
       "      <td>CASUAL DINING</td>\n",
       "      <td>350 votes</td>\n",
       "    </tr>\n",
       "    <tr>\n",
       "      <td>3</td>\n",
       "      <td>Faridabad</td>\n",
       "      <td>NaN</td>\n",
       "      <td>Biryani</td>\n",
       "      <td>NIT</td>\n",
       "      <td>3.8</td>\n",
       "      <td>204</td>\n",
       "      <td>9am – 10pm (Mon, Wed, Thu, Fri, Sat, Sun), 10:...</td>\n",
       "      <td>None</td>\n",
       "      <td>1445 votes</td>\n",
       "    </tr>\n",
       "    <tr>\n",
       "      <td>4</td>\n",
       "      <td>Kochi</td>\n",
       "      <td>NaN</td>\n",
       "      <td>South Indian, Kerala</td>\n",
       "      <td>Kaloor</td>\n",
       "      <td>3.6</td>\n",
       "      <td>13453</td>\n",
       "      <td>11am – 10pm (Mon-Sun)</td>\n",
       "      <td>QUICK BITES</td>\n",
       "      <td>23 votes</td>\n",
       "    </tr>\n",
       "  </tbody>\n",
       "</table>\n",
       "</div>"
      ],
      "text/plain": [
       "        CITY  COST                                      CUISINES  \\\n",
       "0      Noida   NaN         North Indian, Chinese, Mughlai, Kebab   \n",
       "1     Mumbai   NaN  South Indian, Fast Food, Pizza, North Indian   \n",
       "2     Mumbai   NaN       North Indian, Seafood, Biryani, Chinese   \n",
       "3  Faridabad   NaN                                       Biryani   \n",
       "4      Kochi   NaN                          South Indian, Kerala   \n",
       "\n",
       "       LOCALITY RATING  RESTAURANT_ID  \\\n",
       "0     Sector 18    4.3           4085   \n",
       "1    Grant Road    4.2          12680   \n",
       "2  Marine Lines    3.8           1411   \n",
       "3           NIT    3.8            204   \n",
       "4        Kaloor    3.6          13453   \n",
       "\n",
       "                                                TIME          TITLE  \\\n",
       "0                      12noon – 12midnight (Mon-Sun)  CASUAL DINING   \n",
       "1                            7am – 12:30AM (Mon-Sun)    QUICK BITES   \n",
       "2                           11am – 11:30pm (Mon-Sun)  CASUAL DINING   \n",
       "3  9am – 10pm (Mon, Wed, Thu, Fri, Sat, Sun), 10:...           None   \n",
       "4                              11am – 10pm (Mon-Sun)    QUICK BITES   \n",
       "\n",
       "        VOTES  \n",
       "0   564 votes  \n",
       "1    61 votes  \n",
       "2   350 votes  \n",
       "3  1445 votes  \n",
       "4    23 votes  "
      ]
     },
     "execution_count": 3,
     "metadata": {},
     "output_type": "execute_result"
    }
   ],
   "source": [
    "df = pd.concat([train,test])\n",
    "df.head()"
   ]
  },
  {
   "cell_type": "code",
   "execution_count": 4,
   "metadata": {},
   "outputs": [
    {
     "data": {
      "text/plain": [
       "<seaborn.axisgrid.PairGrid at 0x1b8654c6048>"
      ]
     },
     "execution_count": 4,
     "metadata": {},
     "output_type": "execute_result"
    },
    {
     "data": {
      "image/png": "[encoded data removed]",
      "text/plain": [
       "<Figure size 360x360 with 6 Axes>"
      ]
     },
     "metadata": {
      "needs_background": "light"
     },
     "output_type": "display_data"
    }
   ],
   "source": [
    "sns.pairplot(df)"
   ]
  },
  {
   "cell_type": "code",
   "execution_count": 5,
   "metadata": {},
   "outputs": [
    {
     "data": {
      "text/plain": [
       "26"
      ]
     },
     "execution_count": 5,
     "metadata": {},
     "output_type": "execute_result"
    }
   ],
   "source": [
    "df.duplicated().sum()"
   ]
  },
  {
   "cell_type": "code",
   "execution_count": 6,
   "metadata": {},
   "outputs": [
    {
     "data": {
      "text/plain": [
       "0"
      ]
     },
     "execution_count": 6,
     "metadata": {},
     "output_type": "execute_result"
    }
   ],
   "source": [
    "df.drop_duplicates(inplace = True)\n",
    "df.duplicated().sum()"
   ]
  },
  {
   "cell_type": "code",
   "execution_count": 7,
   "metadata": {},
   "outputs": [
    {
     "name": "stdout",
     "output_type": "stream",
     "text": [
      "<class 'pandas.core.frame.DataFrame'>\n",
      "Int64Index: 16895 entries, 0 to 12689\n",
      "Data columns (total 9 columns):\n",
      "CITY             16748 non-null object\n",
      "COST             12665 non-null float64\n",
      "CUISINES         16895 non-null object\n",
      "LOCALITY         16767 non-null object\n",
      "RATING           16891 non-null object\n",
      "RESTAURANT_ID    16895 non-null int64\n",
      "TIME             16895 non-null object\n",
      "TITLE            16895 non-null object\n",
      "VOTES            15293 non-null object\n",
      "dtypes: float64(1), int64(1), object(7)\n",
      "memory usage: 1.3+ MB\n"
     ]
    }
   ],
   "source": [
    "df.info()"
   ]
  },
  {
   "cell_type": "code",
   "execution_count": 8,
   "metadata": {},
   "outputs": [
    {
     "data": {
      "text/plain": [
       "CITY              147\n",
       "COST             4230\n",
       "CUISINES            0\n",
       "LOCALITY          128\n",
       "RATING              4\n",
       "RESTAURANT_ID       0\n",
       "TIME                0\n",
       "TITLE               0\n",
       "VOTES            1602\n",
       "dtype: int64"
      ]
     },
     "execution_count": 8,
     "metadata": {},
     "output_type": "execute_result"
    }
   ],
   "source": [
    "df.isna().sum()"
   ]
  },
  {
   "cell_type": "code",
   "execution_count": 9,
   "metadata": {},
   "outputs": [],
   "source": [
    "df['CITY'] = df['CITY'].replace(df[df['CITY'].str.contains('bang',na=False)][\"CITY\"].unique(),'Bangalore')\n",
    "df['CITY'] = df['CITY'].replace(df[df['CITY'].str.contains('Bang',na=False)][\"CITY\"].unique(),'Bangalore')\n",
    "df['CITY'] = df['CITY'].replace(df[df['CITY'].str.contains('Ker',na=False)][\"CITY\"].unique(),'kerala')\n",
    "df['CITY'] = df['CITY'].replace(df[df['CITY'].str.contains('JP Nagar',na=False)][\"CITY\"].unique(),'Bangalore')\n",
    "df['CITY'] = df['CITY'].replace(df[df['CITY'].str.contains('Mum',na=False)][\"CITY\"].unique(),'Mumbai')\n",
    "df['CITY'] = df['CITY'].replace(df[df['CITY'].str.contains('Bandra',na=False)][\"CITY\"].unique(),'Mumbai')\n",
    "df['CITY'] = df['CITY'].replace(df[df['CITY'].str.contains('Andheri',na=False)][\"CITY\"].unique(),'Mumbai')\n",
    "df['CITY'] = df['CITY'].replace(df[df['CITY'].str.contains('Maharashtra',na=False)][\"CITY\"].unique(),'Mumbai')\n",
    "df['CITY'] = df['CITY'].replace(df[df['CITY'].str.contains('Chen',na=False)][\"CITY\"].unique(),'Chennai')\n",
    "df['CITY'] = df['CITY'].replace(df[df['CITY'].str.contains('chen',na=False)][\"CITY\"].unique(),'Chennai')\n",
    "df['CITY'] = df['CITY'].replace(df[df['CITY'].str.contains('Tamil',na=False)][\"CITY\"].unique(),'Chennai')\n",
    "df['CITY'] = df['CITY'].replace(df[df['CITY'].str.contains('Anna Salai',na=False)][\"CITY\"].unique(),'Chennai')\n",
    "df['CITY'] = df['CITY'].replace(df[df['CITY'].str.contains('Tambaram',na=False)][\"CITY\"].unique(),'Chennai')\n",
    "df['CITY'] = df['CITY'].replace(df[df['CITY'].str.contains('Tela',na=False)][\"CITY\"].unique(),'Telangana')\n",
    "df['CITY'] = df['CITY'].replace(df[df['CITY'].str.contains('Delhi',na=False)][\"CITY\"].unique(),'Delhi')\n",
    "df['CITY'] = df['CITY'].replace(df[df['CITY'].str.contains('Karnataka',na=False)][\"CITY\"].unique(),'Bangalore')\n",
    "df['CITY'] = df['CITY'].replace(df[df['CITY'].str.contains('Bengalore',na=False)][\"CITY\"].unique(),'Bangalore')\n",
    "df['CITY'] = df['CITY'].replace(df[df['CITY'].str.contains('Bengalore',na=False)][\"CITY\"].unique(),'Bangalore')\n",
    "df['CITY'] = df['CITY'].replace(df[df['CITY'].str.contains('Bengaluru',na=False)][\"CITY\"].unique(),'Bangalore')\n",
    "df['CITY'] = df['CITY'].replace(df[df['CITY'].str.contains('Marathahalli',na=False)][\"CITY\"].unique(),'Bangalore')\n",
    "df['CITY'] = df['CITY'].replace(df[df['CITY'].str.contains('Kochi',na=False)][\"CITY\"].unique(),'Kochi')\n",
    "df['CITY'] = df['CITY'].replace(df[df['CITY'].str.contains('Hyder',na=False)][\"CITY\"].unique(),'Hyderabad')"
   ]
  },
  {
   "cell_type": "code",
   "execution_count": 10,
   "metadata": {},
   "outputs": [],
   "source": [
    "df1=df.query(\" CITY  not in ('Secunderabad','Ghaziabad','Telangana','Chennai','Bangalore','Noida','Mumbai','Kochi','Hyderabad','Delhi','Gurgaon','Faridabad','Ernakulam')\")#.drop#[\"CITY\"]"
   ]
  },
  {
   "cell_type": "code",
   "execution_count": 11,
   "metadata": {},
   "outputs": [],
   "source": [
    "df = df[~df.index.isin(df1.index)]"
   ]
  },
  {
   "cell_type": "code",
   "execution_count": 12,
   "metadata": {},
   "outputs": [
    {
     "data": {
      "text/plain": [
       "array(['Mumbai', 'Faridabad', 'Kochi', 'Hyderabad', 'Chennai', 'Delhi',\n",
       "       'Bangalore', 'Gurgaon', 'Ernakulam', 'Ghaziabad', 'Telangana',\n",
       "       'Secunderabad', 'Noida'], dtype=object)"
      ]
     },
     "execution_count": 12,
     "metadata": {},
     "output_type": "execute_result"
    }
   ],
   "source": [
    "df[\"CITY\"].unique()"
   ]
  },
  {
   "cell_type": "code",
   "execution_count": 13,
   "metadata": {},
   "outputs": [
    {
     "data": {
      "text/html": [
       "<div>\n",
       "<style scoped>\n",
       "    .dataframe tbody tr th:only-of-type {\n",
       "        vertical-align: middle;\n",
       "    }\n",
       "\n",
       "    .dataframe tbody tr th {\n",
       "        vertical-align: top;\n",
       "    }\n",
       "\n",
       "    .dataframe thead th {\n",
       "        text-align: right;\n",
       "    }\n",
       "</style>\n",
       "<table border=\"1\" class=\"dataframe\">\n",
       "  <thead>\n",
       "    <tr style=\"text-align: right;\">\n",
       "      <th></th>\n",
       "      <th>CITY</th>\n",
       "      <th>COST</th>\n",
       "      <th>CUISINES</th>\n",
       "      <th>LOCALITY</th>\n",
       "      <th>RATING</th>\n",
       "      <th>RESTAURANT_ID</th>\n",
       "      <th>TIME</th>\n",
       "      <th>TITLE</th>\n",
       "      <th>VOTES</th>\n",
       "    </tr>\n",
       "  </thead>\n",
       "  <tbody>\n",
       "    <tr>\n",
       "      <td>1</td>\n",
       "      <td>Mumbai</td>\n",
       "      <td>NaN</td>\n",
       "      <td>South Indian, Fast Food, Pizza, North Indian</td>\n",
       "      <td>Grant Road</td>\n",
       "      <td>4.2</td>\n",
       "      <td>12680</td>\n",
       "      <td>7am – 12:30AM (Mon-Sun)</td>\n",
       "      <td>QUICK BITES</td>\n",
       "      <td>61 votes</td>\n",
       "    </tr>\n",
       "    <tr>\n",
       "      <td>2</td>\n",
       "      <td>Mumbai</td>\n",
       "      <td>NaN</td>\n",
       "      <td>North Indian, Seafood, Biryani, Chinese</td>\n",
       "      <td>Marine Lines</td>\n",
       "      <td>3.8</td>\n",
       "      <td>1411</td>\n",
       "      <td>11am – 11:30pm (Mon-Sun)</td>\n",
       "      <td>CASUAL DINING</td>\n",
       "      <td>350 votes</td>\n",
       "    </tr>\n",
       "    <tr>\n",
       "      <td>3</td>\n",
       "      <td>Faridabad</td>\n",
       "      <td>NaN</td>\n",
       "      <td>Biryani</td>\n",
       "      <td>NIT</td>\n",
       "      <td>3.8</td>\n",
       "      <td>204</td>\n",
       "      <td>9am – 10pm (Mon, Wed, Thu, Fri, Sat, Sun), 10:...</td>\n",
       "      <td>None</td>\n",
       "      <td>1445 votes</td>\n",
       "    </tr>\n",
       "    <tr>\n",
       "      <td>4</td>\n",
       "      <td>Kochi</td>\n",
       "      <td>NaN</td>\n",
       "      <td>South Indian, Kerala</td>\n",
       "      <td>Kaloor</td>\n",
       "      <td>3.6</td>\n",
       "      <td>13453</td>\n",
       "      <td>11am – 10pm (Mon-Sun)</td>\n",
       "      <td>QUICK BITES</td>\n",
       "      <td>23 votes</td>\n",
       "    </tr>\n",
       "    <tr>\n",
       "      <td>5</td>\n",
       "      <td>Hyderabad</td>\n",
       "      <td>NaN</td>\n",
       "      <td>Ice Cream, Desserts</td>\n",
       "      <td>Banjara Hills</td>\n",
       "      <td>3.7</td>\n",
       "      <td>4518</td>\n",
       "      <td>2pm – 12midnight (Mon),1pm – 12:30AM (Tue-Sun)</td>\n",
       "      <td>FOOD TRUCK,DESSERT PARLOR</td>\n",
       "      <td>36 votes</td>\n",
       "    </tr>\n",
       "    <tr>\n",
       "      <td>...</td>\n",
       "      <td>...</td>\n",
       "      <td>...</td>\n",
       "      <td>...</td>\n",
       "      <td>...</td>\n",
       "      <td>...</td>\n",
       "      <td>...</td>\n",
       "      <td>...</td>\n",
       "      <td>...</td>\n",
       "      <td>...</td>\n",
       "    </tr>\n",
       "    <tr>\n",
       "      <td>12685</td>\n",
       "      <td>Hyderabad</td>\n",
       "      <td>500.0</td>\n",
       "      <td>North Indian, Burger, Kebab</td>\n",
       "      <td>Gachibowli</td>\n",
       "      <td>3.8</td>\n",
       "      <td>13228</td>\n",
       "      <td>12noon – 12midnight (Mon, Tue, Wed, Thu, Sun)...</td>\n",
       "      <td>QUICK BITES</td>\n",
       "      <td>546 votes</td>\n",
       "    </tr>\n",
       "    <tr>\n",
       "      <td>12686</td>\n",
       "      <td>Mumbai</td>\n",
       "      <td>1800.0</td>\n",
       "      <td>Goan, Continental</td>\n",
       "      <td>Bandra Kurla Complex</td>\n",
       "      <td>4.3</td>\n",
       "      <td>9686</td>\n",
       "      <td>12noon – 1am (Mon-Fri),11am – 5pm, 7pm – 1am...</td>\n",
       "      <td>CASUAL DINING,BAR</td>\n",
       "      <td>1214 votes</td>\n",
       "    </tr>\n",
       "    <tr>\n",
       "      <td>12687</td>\n",
       "      <td>Mumbai</td>\n",
       "      <td>1300.0</td>\n",
       "      <td>Finger Food, Continental, Asian, Chinese</td>\n",
       "      <td>Vashi</td>\n",
       "      <td>4.0</td>\n",
       "      <td>11133</td>\n",
       "      <td>12noon – 12:30AM (Mon-Sun)</td>\n",
       "      <td>LOUNGE</td>\n",
       "      <td>608 votes</td>\n",
       "    </tr>\n",
       "    <tr>\n",
       "      <td>12688</td>\n",
       "      <td>Chennai</td>\n",
       "      <td>400.0</td>\n",
       "      <td>North Indian, South Indian, Chinese, Street Food</td>\n",
       "      <td>Maduravoyal</td>\n",
       "      <td>3.5</td>\n",
       "      <td>6134</td>\n",
       "      <td>6am – 10:45pm (Mon-Sun)</td>\n",
       "      <td>CASUAL DINING</td>\n",
       "      <td>32 votes</td>\n",
       "    </tr>\n",
       "    <tr>\n",
       "      <td>12689</td>\n",
       "      <td>Hyderabad</td>\n",
       "      <td>600.0</td>\n",
       "      <td>North Indian, Chinese</td>\n",
       "      <td>Vanasthalipuram</td>\n",
       "      <td>3.4</td>\n",
       "      <td>6430</td>\n",
       "      <td>12:30pm – 11pm (Mon-Sun)</td>\n",
       "      <td>CASUAL DINING</td>\n",
       "      <td>677 votes</td>\n",
       "    </tr>\n",
       "  </tbody>\n",
       "</table>\n",
       "<p>15703 rows × 9 columns</p>\n",
       "</div>"
      ],
      "text/plain": [
       "            CITY    COST                                          CUISINES  \\\n",
       "1         Mumbai     NaN      South Indian, Fast Food, Pizza, North Indian   \n",
       "2         Mumbai     NaN           North Indian, Seafood, Biryani, Chinese   \n",
       "3      Faridabad     NaN                                           Biryani   \n",
       "4          Kochi     NaN                              South Indian, Kerala   \n",
       "5      Hyderabad     NaN                               Ice Cream, Desserts   \n",
       "...          ...     ...                                               ...   \n",
       "12685  Hyderabad   500.0                       North Indian, Burger, Kebab   \n",
       "12686     Mumbai  1800.0                                 Goan, Continental   \n",
       "12687     Mumbai  1300.0          Finger Food, Continental, Asian, Chinese   \n",
       "12688    Chennai   400.0  North Indian, South Indian, Chinese, Street Food   \n",
       "12689  Hyderabad   600.0                             North Indian, Chinese   \n",
       "\n",
       "                   LOCALITY RATING  RESTAURANT_ID  \\\n",
       "1                Grant Road    4.2          12680   \n",
       "2              Marine Lines    3.8           1411   \n",
       "3                       NIT    3.8            204   \n",
       "4                    Kaloor    3.6          13453   \n",
       "5             Banjara Hills    3.7           4518   \n",
       "...                     ...    ...            ...   \n",
       "12685            Gachibowli    3.8          13228   \n",
       "12686  Bandra Kurla Complex    4.3           9686   \n",
       "12687                 Vashi    4.0          11133   \n",
       "12688           Maduravoyal    3.5           6134   \n",
       "12689       Vanasthalipuram    3.4           6430   \n",
       "\n",
       "                                                    TIME  \\\n",
       "1                                7am – 12:30AM (Mon-Sun)   \n",
       "2                               11am – 11:30pm (Mon-Sun)   \n",
       "3      9am – 10pm (Mon, Wed, Thu, Fri, Sat, Sun), 10:...   \n",
       "4                                  11am – 10pm (Mon-Sun)   \n",
       "5         2pm – 12midnight (Mon),1pm – 12:30AM (Tue-Sun)   \n",
       "...                                                  ...   \n",
       "12685   12noon – 12midnight (Mon, Tue, Wed, Thu, Sun)...   \n",
       "12686    12noon – 1am (Mon-Fri),11am – 5pm, 7pm – 1am...   \n",
       "12687                         12noon – 12:30AM (Mon-Sun)   \n",
       "12688                            6am – 10:45pm (Mon-Sun)   \n",
       "12689                           12:30pm – 11pm (Mon-Sun)   \n",
       "\n",
       "                           TITLE       VOTES  \n",
       "1                    QUICK BITES    61 votes  \n",
       "2                  CASUAL DINING   350 votes  \n",
       "3                           None  1445 votes  \n",
       "4                    QUICK BITES    23 votes  \n",
       "5      FOOD TRUCK,DESSERT PARLOR    36 votes  \n",
       "...                          ...         ...  \n",
       "12685                QUICK BITES   546 votes  \n",
       "12686          CASUAL DINING,BAR  1214 votes  \n",
       "12687                     LOUNGE   608 votes  \n",
       "12688              CASUAL DINING    32 votes  \n",
       "12689              CASUAL DINING   677 votes  \n",
       "\n",
       "[15703 rows x 9 columns]"
      ]
     },
     "execution_count": 13,
     "metadata": {},
     "output_type": "execute_result"
    }
   ],
   "source": [
    "df"
   ]
  },
  {
   "cell_type": "code",
   "execution_count": 14,
   "metadata": {},
   "outputs": [],
   "source": [
    "CUISINES=df['CUISINES'].str.get_dummies(sep=',')\n",
    "CITY=df['CITY'].str.get_dummies()\n",
    "TITLE=df['TITLE'].str.get_dummies()\n",
    "df['VOTES']=df['VOTES'].str.split(expand=True)[0]"
   ]
  },
  {
   "cell_type": "code",
   "execution_count": 15,
   "metadata": {},
   "outputs": [
    {
     "data": {
      "text/html": [
       "<div>\n",
       "<style scoped>\n",
       "    .dataframe tbody tr th:only-of-type {\n",
       "        vertical-align: middle;\n",
       "    }\n",
       "\n",
       "    .dataframe tbody tr th {\n",
       "        vertical-align: top;\n",
       "    }\n",
       "\n",
       "    .dataframe thead th {\n",
       "        text-align: right;\n",
       "    }\n",
       "</style>\n",
       "<table border=\"1\" class=\"dataframe\">\n",
       "  <thead>\n",
       "    <tr style=\"text-align: right;\">\n",
       "      <th></th>\n",
       "      <th>CITY</th>\n",
       "      <th>COST</th>\n",
       "      <th>CUISINES</th>\n",
       "      <th>LOCALITY</th>\n",
       "      <th>RATING</th>\n",
       "      <th>RESTAURANT_ID</th>\n",
       "      <th>TIME</th>\n",
       "      <th>TITLE</th>\n",
       "      <th>VOTES</th>\n",
       "    </tr>\n",
       "  </thead>\n",
       "  <tbody>\n",
       "    <tr>\n",
       "      <td>1</td>\n",
       "      <td>Mumbai</td>\n",
       "      <td>NaN</td>\n",
       "      <td>South Indian, Fast Food, Pizza, North Indian</td>\n",
       "      <td>Grant Road</td>\n",
       "      <td>4.2</td>\n",
       "      <td>12680</td>\n",
       "      <td>7am – 12:30AM (Mon-Sun)</td>\n",
       "      <td>QUICK BITES</td>\n",
       "      <td>61</td>\n",
       "    </tr>\n",
       "    <tr>\n",
       "      <td>2</td>\n",
       "      <td>Mumbai</td>\n",
       "      <td>NaN</td>\n",
       "      <td>North Indian, Seafood, Biryani, Chinese</td>\n",
       "      <td>Marine Lines</td>\n",
       "      <td>3.8</td>\n",
       "      <td>1411</td>\n",
       "      <td>11am – 11:30pm (Mon-Sun)</td>\n",
       "      <td>CASUAL DINING</td>\n",
       "      <td>350</td>\n",
       "    </tr>\n",
       "    <tr>\n",
       "      <td>3</td>\n",
       "      <td>Faridabad</td>\n",
       "      <td>NaN</td>\n",
       "      <td>Biryani</td>\n",
       "      <td>NIT</td>\n",
       "      <td>3.8</td>\n",
       "      <td>204</td>\n",
       "      <td>9am – 10pm (Mon, Wed, Thu, Fri, Sat, Sun), 10:...</td>\n",
       "      <td>None</td>\n",
       "      <td>1445</td>\n",
       "    </tr>\n",
       "    <tr>\n",
       "      <td>4</td>\n",
       "      <td>Kochi</td>\n",
       "      <td>NaN</td>\n",
       "      <td>South Indian, Kerala</td>\n",
       "      <td>Kaloor</td>\n",
       "      <td>3.6</td>\n",
       "      <td>13453</td>\n",
       "      <td>11am – 10pm (Mon-Sun)</td>\n",
       "      <td>QUICK BITES</td>\n",
       "      <td>23</td>\n",
       "    </tr>\n",
       "    <tr>\n",
       "      <td>5</td>\n",
       "      <td>Hyderabad</td>\n",
       "      <td>NaN</td>\n",
       "      <td>Ice Cream, Desserts</td>\n",
       "      <td>Banjara Hills</td>\n",
       "      <td>3.7</td>\n",
       "      <td>4518</td>\n",
       "      <td>2pm – 12midnight (Mon),1pm – 12:30AM (Tue-Sun)</td>\n",
       "      <td>FOOD TRUCK,DESSERT PARLOR</td>\n",
       "      <td>36</td>\n",
       "    </tr>\n",
       "    <tr>\n",
       "      <td>...</td>\n",
       "      <td>...</td>\n",
       "      <td>...</td>\n",
       "      <td>...</td>\n",
       "      <td>...</td>\n",
       "      <td>...</td>\n",
       "      <td>...</td>\n",
       "      <td>...</td>\n",
       "      <td>...</td>\n",
       "      <td>...</td>\n",
       "    </tr>\n",
       "    <tr>\n",
       "      <td>12685</td>\n",
       "      <td>Hyderabad</td>\n",
       "      <td>500.0</td>\n",
       "      <td>North Indian, Burger, Kebab</td>\n",
       "      <td>Gachibowli</td>\n",
       "      <td>3.8</td>\n",
       "      <td>13228</td>\n",
       "      <td>12noon – 12midnight (Mon, Tue, Wed, Thu, Sun)...</td>\n",
       "      <td>QUICK BITES</td>\n",
       "      <td>546</td>\n",
       "    </tr>\n",
       "    <tr>\n",
       "      <td>12686</td>\n",
       "      <td>Mumbai</td>\n",
       "      <td>1800.0</td>\n",
       "      <td>Goan, Continental</td>\n",
       "      <td>Bandra Kurla Complex</td>\n",
       "      <td>4.3</td>\n",
       "      <td>9686</td>\n",
       "      <td>12noon – 1am (Mon-Fri),11am – 5pm, 7pm – 1am...</td>\n",
       "      <td>CASUAL DINING,BAR</td>\n",
       "      <td>1214</td>\n",
       "    </tr>\n",
       "    <tr>\n",
       "      <td>12687</td>\n",
       "      <td>Mumbai</td>\n",
       "      <td>1300.0</td>\n",
       "      <td>Finger Food, Continental, Asian, Chinese</td>\n",
       "      <td>Vashi</td>\n",
       "      <td>4.0</td>\n",
       "      <td>11133</td>\n",
       "      <td>12noon – 12:30AM (Mon-Sun)</td>\n",
       "      <td>LOUNGE</td>\n",
       "      <td>608</td>\n",
       "    </tr>\n",
       "    <tr>\n",
       "      <td>12688</td>\n",
       "      <td>Chennai</td>\n",
       "      <td>400.0</td>\n",
       "      <td>North Indian, South Indian, Chinese, Street Food</td>\n",
       "      <td>Maduravoyal</td>\n",
       "      <td>3.5</td>\n",
       "      <td>6134</td>\n",
       "      <td>6am – 10:45pm (Mon-Sun)</td>\n",
       "      <td>CASUAL DINING</td>\n",
       "      <td>32</td>\n",
       "    </tr>\n",
       "    <tr>\n",
       "      <td>12689</td>\n",
       "      <td>Hyderabad</td>\n",
       "      <td>600.0</td>\n",
       "      <td>North Indian, Chinese</td>\n",
       "      <td>Vanasthalipuram</td>\n",
       "      <td>3.4</td>\n",
       "      <td>6430</td>\n",
       "      <td>12:30pm – 11pm (Mon-Sun)</td>\n",
       "      <td>CASUAL DINING</td>\n",
       "      <td>677</td>\n",
       "    </tr>\n",
       "  </tbody>\n",
       "</table>\n",
       "<p>15703 rows × 9 columns</p>\n",
       "</div>"
      ],
      "text/plain": [
       "            CITY    COST                                          CUISINES  \\\n",
       "1         Mumbai     NaN      South Indian, Fast Food, Pizza, North Indian   \n",
       "2         Mumbai     NaN           North Indian, Seafood, Biryani, Chinese   \n",
       "3      Faridabad     NaN                                           Biryani   \n",
       "4          Kochi     NaN                              South Indian, Kerala   \n",
       "5      Hyderabad     NaN                               Ice Cream, Desserts   \n",
       "...          ...     ...                                               ...   \n",
       "12685  Hyderabad   500.0                       North Indian, Burger, Kebab   \n",
       "12686     Mumbai  1800.0                                 Goan, Continental   \n",
       "12687     Mumbai  1300.0          Finger Food, Continental, Asian, Chinese   \n",
       "12688    Chennai   400.0  North Indian, South Indian, Chinese, Street Food   \n",
       "12689  Hyderabad   600.0                             North Indian, Chinese   \n",
       "\n",
       "                   LOCALITY RATING  RESTAURANT_ID  \\\n",
       "1                Grant Road    4.2          12680   \n",
       "2              Marine Lines    3.8           1411   \n",
       "3                       NIT    3.8            204   \n",
       "4                    Kaloor    3.6          13453   \n",
       "5             Banjara Hills    3.7           4518   \n",
       "...                     ...    ...            ...   \n",
       "12685            Gachibowli    3.8          13228   \n",
       "12686  Bandra Kurla Complex    4.3           9686   \n",
       "12687                 Vashi    4.0          11133   \n",
       "12688           Maduravoyal    3.5           6134   \n",
       "12689       Vanasthalipuram    3.4           6430   \n",
       "\n",
       "                                                    TIME  \\\n",
       "1                                7am – 12:30AM (Mon-Sun)   \n",
       "2                               11am – 11:30pm (Mon-Sun)   \n",
       "3      9am – 10pm (Mon, Wed, Thu, Fri, Sat, Sun), 10:...   \n",
       "4                                  11am – 10pm (Mon-Sun)   \n",
       "5         2pm – 12midnight (Mon),1pm – 12:30AM (Tue-Sun)   \n",
       "...                                                  ...   \n",
       "12685   12noon – 12midnight (Mon, Tue, Wed, Thu, Sun)...   \n",
       "12686    12noon – 1am (Mon-Fri),11am – 5pm, 7pm – 1am...   \n",
       "12687                         12noon – 12:30AM (Mon-Sun)   \n",
       "12688                            6am – 10:45pm (Mon-Sun)   \n",
       "12689                           12:30pm – 11pm (Mon-Sun)   \n",
       "\n",
       "                           TITLE VOTES  \n",
       "1                    QUICK BITES    61  \n",
       "2                  CASUAL DINING   350  \n",
       "3                           None  1445  \n",
       "4                    QUICK BITES    23  \n",
       "5      FOOD TRUCK,DESSERT PARLOR    36  \n",
       "...                          ...   ...  \n",
       "12685                QUICK BITES   546  \n",
       "12686          CASUAL DINING,BAR  1214  \n",
       "12687                     LOUNGE   608  \n",
       "12688              CASUAL DINING    32  \n",
       "12689              CASUAL DINING   677  \n",
       "\n",
       "[15703 rows x 9 columns]"
      ]
     },
     "execution_count": 15,
     "metadata": {},
     "output_type": "execute_result"
    }
   ],
   "source": [
    "df\n"
   ]
  },
  {
   "cell_type": "code",
   "execution_count": 16,
   "metadata": {},
   "outputs": [],
   "source": [
    "df[\"RATING\"].fillna(df.RATING.mode()[0],inplace = True)\n",
    "df[\"VOTES\"].fillna(df.VOTES.mode()[0],inplace = True)\n",
    "df[\"RATING\"].fillna(df.RATING.mode()[0],inplace = True)\n"
   ]
  },
  {
   "cell_type": "code",
   "execution_count": 17,
   "metadata": {},
   "outputs": [],
   "source": [
    "df.RATING.replace({\"-\":\"0.1\",\"NEW\":\"0.1\"},inplace=True)\n"
   ]
  },
  {
   "cell_type": "code",
   "execution_count": 18,
   "metadata": {},
   "outputs": [
    {
     "name": "stdout",
     "output_type": "stream",
     "text": [
      "<class 'pandas.core.frame.DataFrame'>\n",
      "Int64Index: 15703 entries, 1 to 12689\n",
      "Data columns (total 9 columns):\n",
      "CITY             15703 non-null object\n",
      "COST             11857 non-null float64\n",
      "CUISINES         15703 non-null object\n",
      "LOCALITY         15702 non-null object\n",
      "RATING           15703 non-null object\n",
      "RESTAURANT_ID    15703 non-null int64\n",
      "TIME             15703 non-null object\n",
      "TITLE            15703 non-null object\n",
      "VOTES            15703 non-null object\n",
      "dtypes: float64(1), int64(1), object(7)\n",
      "memory usage: 1.2+ MB\n"
     ]
    }
   ],
   "source": [
    "df.info()"
   ]
  },
  {
   "cell_type": "code",
   "execution_count": 19,
   "metadata": {},
   "outputs": [
    {
     "data": {
      "text/html": [
       "<div>\n",
       "<style scoped>\n",
       "    .dataframe tbody tr th:only-of-type {\n",
       "        vertical-align: middle;\n",
       "    }\n",
       "\n",
       "    .dataframe tbody tr th {\n",
       "        vertical-align: top;\n",
       "    }\n",
       "\n",
       "    .dataframe thead th {\n",
       "        text-align: right;\n",
       "    }\n",
       "</style>\n",
       "<table border=\"1\" class=\"dataframe\">\n",
       "  <thead>\n",
       "    <tr style=\"text-align: right;\">\n",
       "      <th></th>\n",
       "      <th>CITY</th>\n",
       "      <th>COST</th>\n",
       "      <th>CUISINES</th>\n",
       "      <th>LOCALITY</th>\n",
       "      <th>RATING</th>\n",
       "      <th>RESTAURANT_ID</th>\n",
       "      <th>TIME</th>\n",
       "      <th>TITLE</th>\n",
       "      <th>VOTES</th>\n",
       "    </tr>\n",
       "  </thead>\n",
       "  <tbody>\n",
       "    <tr>\n",
       "      <td>1</td>\n",
       "      <td>Mumbai</td>\n",
       "      <td>NaN</td>\n",
       "      <td>South Indian, Fast Food, Pizza, North Indian</td>\n",
       "      <td>Grant Road</td>\n",
       "      <td>4.2</td>\n",
       "      <td>12680</td>\n",
       "      <td>7am – 12:30AM (Mon-Sun)</td>\n",
       "      <td>QUICK BITES</td>\n",
       "      <td>61</td>\n",
       "    </tr>\n",
       "    <tr>\n",
       "      <td>2</td>\n",
       "      <td>Mumbai</td>\n",
       "      <td>NaN</td>\n",
       "      <td>North Indian, Seafood, Biryani, Chinese</td>\n",
       "      <td>Marine Lines</td>\n",
       "      <td>3.8</td>\n",
       "      <td>1411</td>\n",
       "      <td>11am – 11:30pm (Mon-Sun)</td>\n",
       "      <td>CASUAL DINING</td>\n",
       "      <td>350</td>\n",
       "    </tr>\n",
       "    <tr>\n",
       "      <td>3</td>\n",
       "      <td>Faridabad</td>\n",
       "      <td>NaN</td>\n",
       "      <td>Biryani</td>\n",
       "      <td>NIT</td>\n",
       "      <td>3.8</td>\n",
       "      <td>204</td>\n",
       "      <td>9am – 10pm (Mon, Wed, Thu, Fri, Sat, Sun), 10:...</td>\n",
       "      <td>None</td>\n",
       "      <td>1445</td>\n",
       "    </tr>\n",
       "    <tr>\n",
       "      <td>4</td>\n",
       "      <td>Kochi</td>\n",
       "      <td>NaN</td>\n",
       "      <td>South Indian, Kerala</td>\n",
       "      <td>Kaloor</td>\n",
       "      <td>3.6</td>\n",
       "      <td>13453</td>\n",
       "      <td>11am – 10pm (Mon-Sun)</td>\n",
       "      <td>QUICK BITES</td>\n",
       "      <td>23</td>\n",
       "    </tr>\n",
       "    <tr>\n",
       "      <td>5</td>\n",
       "      <td>Hyderabad</td>\n",
       "      <td>NaN</td>\n",
       "      <td>Ice Cream, Desserts</td>\n",
       "      <td>Banjara Hills</td>\n",
       "      <td>3.7</td>\n",
       "      <td>4518</td>\n",
       "      <td>2pm – 12midnight (Mon),1pm – 12:30AM (Tue-Sun)</td>\n",
       "      <td>FOOD TRUCK,DESSERT PARLOR</td>\n",
       "      <td>36</td>\n",
       "    </tr>\n",
       "  </tbody>\n",
       "</table>\n",
       "</div>"
      ],
      "text/plain": [
       "        CITY  COST                                      CUISINES  \\\n",
       "1     Mumbai   NaN  South Indian, Fast Food, Pizza, North Indian   \n",
       "2     Mumbai   NaN       North Indian, Seafood, Biryani, Chinese   \n",
       "3  Faridabad   NaN                                       Biryani   \n",
       "4      Kochi   NaN                          South Indian, Kerala   \n",
       "5  Hyderabad   NaN                           Ice Cream, Desserts   \n",
       "\n",
       "        LOCALITY RATING  RESTAURANT_ID  \\\n",
       "1     Grant Road    4.2          12680   \n",
       "2   Marine Lines    3.8           1411   \n",
       "3            NIT    3.8            204   \n",
       "4         Kaloor    3.6          13453   \n",
       "5  Banjara Hills    3.7           4518   \n",
       "\n",
       "                                                TIME  \\\n",
       "1                            7am – 12:30AM (Mon-Sun)   \n",
       "2                           11am – 11:30pm (Mon-Sun)   \n",
       "3  9am – 10pm (Mon, Wed, Thu, Fri, Sat, Sun), 10:...   \n",
       "4                              11am – 10pm (Mon-Sun)   \n",
       "5     2pm – 12midnight (Mon),1pm – 12:30AM (Tue-Sun)   \n",
       "\n",
       "                       TITLE VOTES  \n",
       "1                QUICK BITES    61  \n",
       "2              CASUAL DINING   350  \n",
       "3                       None  1445  \n",
       "4                QUICK BITES    23  \n",
       "5  FOOD TRUCK,DESSERT PARLOR    36  "
      ]
     },
     "execution_count": 19,
     "metadata": {},
     "output_type": "execute_result"
    }
   ],
   "source": [
    "df.head()"
   ]
  },
  {
   "cell_type": "code",
   "execution_count": 20,
   "metadata": {},
   "outputs": [],
   "source": [
    "df=df.drop(columns = [\"CUISINES\",\"TITLE\",\"CITY\",\"TIME\",\"RESTAURANT_ID\",\"LOCALITY\"])"
   ]
  },
  {
   "cell_type": "code",
   "execution_count": 21,
   "metadata": {},
   "outputs": [
    {
     "name": "stdout",
     "output_type": "stream",
     "text": [
      "<class 'pandas.core.frame.DataFrame'>\n",
      "Int64Index: 15703 entries, 1 to 12689\n",
      "Data columns (total 3 columns):\n",
      "COST      11857 non-null float64\n",
      "RATING    15703 non-null object\n",
      "VOTES     15703 non-null object\n",
      "dtypes: float64(1), object(2)\n",
      "memory usage: 490.7+ KB\n"
     ]
    }
   ],
   "source": [
    "df.info()"
   ]
  },
  {
   "cell_type": "code",
   "execution_count": 22,
   "metadata": {},
   "outputs": [],
   "source": [
    "df['RATING']=df['RATING'].astype(object).astype(float)\n",
    "df['VOTES']=df['VOTES'].astype(object).astype(float)"
   ]
  },
  {
   "cell_type": "code",
   "execution_count": 23,
   "metadata": {},
   "outputs": [
    {
     "name": "stdout",
     "output_type": "stream",
     "text": [
      "<class 'pandas.core.frame.DataFrame'>\n",
      "Int64Index: 15703 entries, 1 to 12689\n",
      "Data columns (total 3 columns):\n",
      "COST      11857 non-null float64\n",
      "RATING    15703 non-null float64\n",
      "VOTES     15703 non-null float64\n",
      "dtypes: float64(3)\n",
      "memory usage: 490.7 KB\n"
     ]
    }
   ],
   "source": [
    "df.info()"
   ]
  },
  {
   "cell_type": "code",
   "execution_count": 24,
   "metadata": {},
   "outputs": [],
   "source": [
    "df = pd.concat([df,CUISINES,TITLE,CITY],axis=\"columns\")\n",
    "df_preprocced=df"
   ]
  },
  {
   "cell_type": "code",
   "execution_count": 25,
   "metadata": {},
   "outputs": [
    {
     "data": {
      "text/html": [
       "<div>\n",
       "<style scoped>\n",
       "    .dataframe tbody tr th:only-of-type {\n",
       "        vertical-align: middle;\n",
       "    }\n",
       "\n",
       "    .dataframe tbody tr th {\n",
       "        vertical-align: top;\n",
       "    }\n",
       "\n",
       "    .dataframe thead th {\n",
       "        text-align: right;\n",
       "    }\n",
       "</style>\n",
       "<table border=\"1\" class=\"dataframe\">\n",
       "  <thead>\n",
       "    <tr style=\"text-align: right;\">\n",
       "      <th></th>\n",
       "      <th>COST</th>\n",
       "      <th>RATING</th>\n",
       "      <th>VOTES</th>\n",
       "      <th></th>\n",
       "      <th>Afghan</th>\n",
       "      <th>African</th>\n",
       "      <th>American</th>\n",
       "      <th>Andhra</th>\n",
       "      <th>Arabian</th>\n",
       "      <th>Asian</th>\n",
       "      <th>...</th>\n",
       "      <th>Ernakulam</th>\n",
       "      <th>Faridabad</th>\n",
       "      <th>Ghaziabad</th>\n",
       "      <th>Gurgaon</th>\n",
       "      <th>Hyderabad</th>\n",
       "      <th>Kochi</th>\n",
       "      <th>Mumbai</th>\n",
       "      <th>Noida</th>\n",
       "      <th>Secunderabad</th>\n",
       "      <th>Telangana</th>\n",
       "    </tr>\n",
       "  </thead>\n",
       "  <tbody>\n",
       "    <tr>\n",
       "      <td>1</td>\n",
       "      <td>NaN</td>\n",
       "      <td>4.2</td>\n",
       "      <td>61.0</td>\n",
       "      <td>0</td>\n",
       "      <td>0</td>\n",
       "      <td>0</td>\n",
       "      <td>0</td>\n",
       "      <td>0</td>\n",
       "      <td>0</td>\n",
       "      <td>0</td>\n",
       "      <td>...</td>\n",
       "      <td>0</td>\n",
       "      <td>0</td>\n",
       "      <td>0</td>\n",
       "      <td>0</td>\n",
       "      <td>0</td>\n",
       "      <td>0</td>\n",
       "      <td>1</td>\n",
       "      <td>0</td>\n",
       "      <td>0</td>\n",
       "      <td>0</td>\n",
       "    </tr>\n",
       "    <tr>\n",
       "      <td>2</td>\n",
       "      <td>NaN</td>\n",
       "      <td>3.8</td>\n",
       "      <td>350.0</td>\n",
       "      <td>0</td>\n",
       "      <td>0</td>\n",
       "      <td>0</td>\n",
       "      <td>0</td>\n",
       "      <td>0</td>\n",
       "      <td>0</td>\n",
       "      <td>0</td>\n",
       "      <td>...</td>\n",
       "      <td>0</td>\n",
       "      <td>0</td>\n",
       "      <td>0</td>\n",
       "      <td>0</td>\n",
       "      <td>0</td>\n",
       "      <td>0</td>\n",
       "      <td>1</td>\n",
       "      <td>0</td>\n",
       "      <td>0</td>\n",
       "      <td>0</td>\n",
       "    </tr>\n",
       "    <tr>\n",
       "      <td>3</td>\n",
       "      <td>NaN</td>\n",
       "      <td>3.8</td>\n",
       "      <td>1445.0</td>\n",
       "      <td>0</td>\n",
       "      <td>0</td>\n",
       "      <td>0</td>\n",
       "      <td>0</td>\n",
       "      <td>0</td>\n",
       "      <td>0</td>\n",
       "      <td>0</td>\n",
       "      <td>...</td>\n",
       "      <td>0</td>\n",
       "      <td>1</td>\n",
       "      <td>0</td>\n",
       "      <td>0</td>\n",
       "      <td>0</td>\n",
       "      <td>0</td>\n",
       "      <td>0</td>\n",
       "      <td>0</td>\n",
       "      <td>0</td>\n",
       "      <td>0</td>\n",
       "    </tr>\n",
       "    <tr>\n",
       "      <td>4</td>\n",
       "      <td>NaN</td>\n",
       "      <td>3.6</td>\n",
       "      <td>23.0</td>\n",
       "      <td>0</td>\n",
       "      <td>0</td>\n",
       "      <td>0</td>\n",
       "      <td>0</td>\n",
       "      <td>0</td>\n",
       "      <td>0</td>\n",
       "      <td>0</td>\n",
       "      <td>...</td>\n",
       "      <td>0</td>\n",
       "      <td>0</td>\n",
       "      <td>0</td>\n",
       "      <td>0</td>\n",
       "      <td>0</td>\n",
       "      <td>1</td>\n",
       "      <td>0</td>\n",
       "      <td>0</td>\n",
       "      <td>0</td>\n",
       "      <td>0</td>\n",
       "    </tr>\n",
       "    <tr>\n",
       "      <td>5</td>\n",
       "      <td>NaN</td>\n",
       "      <td>3.7</td>\n",
       "      <td>36.0</td>\n",
       "      <td>0</td>\n",
       "      <td>0</td>\n",
       "      <td>0</td>\n",
       "      <td>0</td>\n",
       "      <td>0</td>\n",
       "      <td>0</td>\n",
       "      <td>0</td>\n",
       "      <td>...</td>\n",
       "      <td>0</td>\n",
       "      <td>0</td>\n",
       "      <td>0</td>\n",
       "      <td>0</td>\n",
       "      <td>1</td>\n",
       "      <td>0</td>\n",
       "      <td>0</td>\n",
       "      <td>0</td>\n",
       "      <td>0</td>\n",
       "      <td>0</td>\n",
       "    </tr>\n",
       "  </tbody>\n",
       "</table>\n",
       "<p>5 rows × 366 columns</p>\n",
       "</div>"
      ],
      "text/plain": [
       "   COST  RATING   VOTES      Afghan   African   American   Andhra   Arabian  \\\n",
       "1   NaN     4.2    61.0  0        0         0          0        0         0   \n",
       "2   NaN     3.8   350.0  0        0         0          0        0         0   \n",
       "3   NaN     3.8  1445.0  0        0         0          0        0         0   \n",
       "4   NaN     3.6    23.0  0        0         0          0        0         0   \n",
       "5   NaN     3.7    36.0  0        0         0          0        0         0   \n",
       "\n",
       "    Asian  ...  Ernakulam  Faridabad  Ghaziabad  Gurgaon  Hyderabad  Kochi  \\\n",
       "1       0  ...          0          0          0        0          0      0   \n",
       "2       0  ...          0          0          0        0          0      0   \n",
       "3       0  ...          0          1          0        0          0      0   \n",
       "4       0  ...          0          0          0        0          0      1   \n",
       "5       0  ...          0          0          0        0          1      0   \n",
       "\n",
       "   Mumbai  Noida  Secunderabad  Telangana  \n",
       "1       1      0             0          0  \n",
       "2       1      0             0          0  \n",
       "3       0      0             0          0  \n",
       "4       0      0             0          0  \n",
       "5       0      0             0          0  \n",
       "\n",
       "[5 rows x 366 columns]"
      ]
     },
     "execution_count": 25,
     "metadata": {},
     "output_type": "execute_result"
    }
   ],
   "source": [
    "df.head()"
   ]
  },
  {
   "cell_type": "code",
   "execution_count": 26,
   "metadata": {},
   "outputs": [
    {
     "name": "stdout",
     "output_type": "stream",
     "text": [
      "<class 'pandas.core.frame.DataFrame'>\n",
      "Int64Index: 15703 entries, 1 to 12689\n",
      "Columns: 366 entries, COST to Telangana\n",
      "dtypes: float64(3), int64(363)\n",
      "memory usage: 44.0 MB\n"
     ]
    }
   ],
   "source": [
    "df_preprocced.info()"
   ]
  },
  {
   "cell_type": "code",
   "execution_count": 27,
   "metadata": {},
   "outputs": [],
   "source": [
    "train_preprocessed = df_preprocced[df_preprocced[\"COST\"].notna()]\n",
    "test_preprocessed = df_preprocced[df_preprocced[\"COST\"].isna()]"
   ]
  },
  {
   "cell_type": "code",
   "execution_count": 28,
   "metadata": {},
   "outputs": [
    {
     "data": {
      "text/plain": [
       "(3846, 365)"
      ]
     },
     "execution_count": 28,
     "metadata": {},
     "output_type": "execute_result"
    }
   ],
   "source": [
    "del test_preprocessed[\"COST\"]\n",
    "test_preprocessed.shape"
   ]
  },
  {
   "cell_type": "code",
   "execution_count": 29,
   "metadata": {},
   "outputs": [
    {
     "data": {
      "text/plain": [
       "(11857, 366)"
      ]
     },
     "execution_count": 29,
     "metadata": {},
     "output_type": "execute_result"
    }
   ],
   "source": [
    "train_preprocessed.shape"
   ]
  },
  {
   "cell_type": "code",
   "execution_count": 30,
   "metadata": {},
   "outputs": [],
   "source": [
    "#--------------Train Test Split on Train_preprocessed-----------------"
   ]
  },
  {
   "cell_type": "code",
   "execution_count": 31,
   "metadata": {},
   "outputs": [],
   "source": [
    "X = train_preprocessed.drop(columns=[\"COST\"])"
   ]
  },
  {
   "cell_type": "code",
   "execution_count": 32,
   "metadata": {},
   "outputs": [],
   "source": [
    "y = train_preprocessed[\"COST\"]"
   ]
  },
  {
   "cell_type": "code",
   "execution_count": 33,
   "metadata": {},
   "outputs": [],
   "source": [
    "train_X, test_X, train_y, test_y = train_test_split(X, y, test_size = 0.3, random_state = 8)"
   ]
  },
  {
   "cell_type": "code",
   "execution_count": 34,
   "metadata": {},
   "outputs": [
    {
     "ename": "ModuleNotFoundError",
     "evalue": "No module named 'pandas_profiling'",
     "output_type": "error",
     "traceback": [
      "\u001b[1;31m---------------------------------------------------------------------------\u001b[0m",
      "\u001b[1;31mModuleNotFoundError\u001b[0m                       Traceback (most recent call last)",
      "\u001b[1;32m<ipython-input-34-7e7931b91fff>\u001b[0m in \u001b[0;36m<module>\u001b[1;34m\u001b[0m\n\u001b[1;32m----> 1\u001b[1;33m \u001b[1;32mimport\u001b[0m \u001b[0mpandas_profiling\u001b[0m\u001b[1;33m\u001b[0m\u001b[1;33m\u001b[0m\u001b[0m\n\u001b[0m\u001b[0;32m      2\u001b[0m \u001b[0mpandas_profiling\u001b[0m\u001b[1;33m.\u001b[0m\u001b[0mProfileReport\u001b[0m\u001b[1;33m(\u001b[0m\u001b[0mtrain_y\u001b[0m\u001b[1;33m)\u001b[0m\u001b[1;33m\u001b[0m\u001b[1;33m\u001b[0m\u001b[0m\n",
      "\u001b[1;31mModuleNotFoundError\u001b[0m: No module named 'pandas_profiling'"
     ]
    }
   ],
   "source": [
    "import pandas_profiling\n",
    "pandas_profiling.ProfileReport(train_y)"
   ]
  },
  {
   "cell_type": "code",
   "execution_count": 35,
   "metadata": {},
   "outputs": [
    {
     "data": {
      "text/plain": [
       "(8299,)"
      ]
     },
     "execution_count": 35,
     "metadata": {},
     "output_type": "execute_result"
    }
   ],
   "source": [
    "train_y.shape"
   ]
  },
  {
   "cell_type": "code",
   "execution_count": 36,
   "metadata": {
    "scrolled": true
   },
   "outputs": [
    {
     "data": {
      "text/plain": [
       "LinearRegression(copy_X=True, fit_intercept=True, n_jobs=None, normalize=False)"
      ]
     },
     "execution_count": 36,
     "metadata": {},
     "output_type": "execute_result"
    }
   ],
   "source": [
    "linear = LinearRegression()\n",
    "linear.fit(train_X,train_y)"
   ]
  },
  {
   "cell_type": "code",
   "execution_count": 37,
   "metadata": {},
   "outputs": [
    {
     "data": {
      "text/plain": [
       "array([ 2.17137804e+01,  2.91817044e-02,  1.01191740e+02,  1.28440663e+01,\n",
       "        8.58939162e+11, -6.68888628e+00,  5.69761808e+01, -1.13191618e+01,\n",
       "        2.36452002e+01,  1.58385938e+02,  1.17138331e+02,  6.29676800e+01,\n",
       "        3.12345691e+01,  2.99457600e+02,  5.71385442e+02, -3.73819463e+01,\n",
       "       -2.05244904e+01, -1.83025759e+02, -2.68118210e+01,  3.08253045e+02,\n",
       "        4.44746208e+00, -5.42291679e+01, -5.43298912e+01,  2.08187294e+01,\n",
       "       -3.51236296e+01, -1.05775921e+02, -4.57756742e+01,  1.05636930e+01,\n",
       "       -3.81314087e+01,  4.63271637e+01,  9.62328196e+01,  1.17261551e+02,\n",
       "        6.14639975e+01, -1.07626572e+01,  4.42102875e+02, -3.08367945e+10,\n",
       "       -2.83683177e+09,  1.95334515e+02, -9.64058193e+09, -3.12467194e+01,\n",
       "       -6.12470856e+01, -2.86950654e+09, -8.65650339e+01, -6.72544525e+01,\n",
       "        4.86818119e+02,  1.18679537e+02, -7.84178353e+09, -5.45216143e+00,\n",
       "       -7.20951366e+01,  2.67519617e+01,  2.15281210e+01, -8.36843872e+00,\n",
       "       -9.92991924e+00,  5.20768776e+01,  7.19175758e+01, -7.78345462e+01,\n",
       "        3.40362549e+01,  2.23864243e+02,  1.25206514e+08, -1.28578453e+01,\n",
       "        4.19428257e+02,  4.35231771e+01, -2.04752579e+01,  4.07575445e+01,\n",
       "       -1.61269884e+02,  5.53243380e+01,  7.15950704e+01, -5.75564957e+00,\n",
       "       -1.00008553e+02, -2.66554760e+02, -3.59358521e+01,  1.22877975e+02,\n",
       "       -1.31153908e+01,  8.55179191e+01, -1.06721836e+08,  2.90568638e+01,\n",
       "        7.46297467e+02,  9.36731415e+01, -1.07118378e+01,  7.26969404e+07,\n",
       "       -5.79563332e+02,  7.72278442e+01,  4.02988720e+01,  8.89187298e+01,\n",
       "        1.89252466e+02,  1.79176636e+01, -2.98823687e+02, -2.57407603e+01,\n",
       "       -1.19206786e+07,  1.37161686e+06,  3.61514040e+02, -6.04661777e+01,\n",
       "        6.96816406e+01,  6.37818182e+02,  1.53346844e+01, -5.41764605e+02,\n",
       "        9.59389725e+01,  2.02716423e+02, -8.43477945e+01, -3.03100204e+01,\n",
       "       -1.25314323e+02,  1.04733806e+02, -4.22337189e+01,  3.08367942e+10,\n",
       "        4.17298737e+01,  8.13195415e+05,  3.97847004e+01,  1.26800106e+05,\n",
       "       -2.34432831e+01,  5.24459820e+01,  1.27889359e+02, -8.61073685e+01,\n",
       "       -7.45963593e+01,  2.98640816e+02, -3.30292816e+01, -6.56979663e+01,\n",
       "        5.91363850e+01,  6.20575943e+01, -9.40597668e+01, -1.25267677e+01,\n",
       "       -1.25206385e+08,  2.77603292e+02, -3.59343929e+01, -2.87631703e+04,\n",
       "       -2.82633708e+10, -2.82633709e+10, -2.82633710e+10, -2.82633711e+10,\n",
       "       -2.33083736e+03, -2.82633708e+10, -3.64800659e+03, -2.82633709e+10,\n",
       "       -2.82633709e+10, -2.82633711e+10, -2.82633708e+10, -2.82633710e+10,\n",
       "       -2.82633711e+10, -2.82633711e+10, -2.82633711e+10, -2.82633711e+10,\n",
       "        1.62335038e+02, -2.82633711e+10,  4.56847385e+02, -2.82633710e+10,\n",
       "       -2.82633710e+10, -2.82633710e+10, -2.82633709e+10, -5.00028611e+01,\n",
       "       -4.79302563e+01, -2.82633711e+10, -2.82633711e+10, -2.82633711e+10,\n",
       "       -2.82633709e+10, -2.82633711e+10, -2.82633700e+10,  1.77758510e+00,\n",
       "       -2.82633710e+10, -2.82633706e+10, -2.82633711e+10, -2.82633707e+10,\n",
       "       -2.82633701e+10, -2.82633710e+10, -2.82633709e+10, -2.82633709e+10,\n",
       "       -2.82633710e+10, -2.82633708e+10, -2.82633709e+10, -2.82633711e+10,\n",
       "       -2.82633709e+10, -2.82633713e+10, -2.82633712e+10, -2.82633702e+10,\n",
       "       -2.82633708e+10, -2.82633703e+10, -2.82633711e+10, -2.82633708e+10,\n",
       "       -2.82633712e+10, -2.82633711e+10, -2.82633709e+10, -2.82633703e+10,\n",
       "       -2.82633711e+10,  3.05175781e-04, -2.82633712e+10, -2.82633707e+10,\n",
       "       -2.82633712e+10, -2.82633709e+10, -2.82633705e+10, -2.82633709e+10,\n",
       "       -2.82633710e+10, -2.82633710e+10, -2.82633708e+10, -2.82633711e+10,\n",
       "       -2.82633710e+10, -8.58306885e-06, -2.82633710e+10, -2.82633711e+10,\n",
       "       -2.82633710e+10, -2.82633710e+10, -2.82633713e+10, -2.50198647e+10,\n",
       "       -2.82633710e+10, -2.82633712e+10, -2.82633710e+10, -2.82633706e+10,\n",
       "       -2.82633709e+10, -2.28230079e+10, -2.82633710e+10, -2.82633711e+10,\n",
       "       -2.82633711e+10, -2.82633709e+10, -2.82633711e+10, -2.82633709e+10,\n",
       "       -2.82633711e+10, -2.82633705e+10, -2.82633712e+10, -2.82633711e+10,\n",
       "       -2.82633708e+10, -2.82633707e+10, -2.82633704e+10, -2.82633712e+10,\n",
       "       -2.82633711e+10, -2.82633710e+10, -2.82633712e+10, -2.82633705e+10,\n",
       "       -2.82633708e+10, -2.82633710e+10, -2.82633709e+10, -2.82633708e+10,\n",
       "       -2.82633712e+10, -1.73691214e+10, -3.41060513e-13, -1.73691212e+10,\n",
       "        1.13686838e-13, -1.73691213e+10, -1.73691214e+10, -2.27373675e-13,\n",
       "       -1.73691214e+10,  1.42108547e-13, -1.73691207e+10, -1.73691209e+10,\n",
       "       -1.73691207e+10, -1.73691212e+10, -1.73691201e+10, -1.73691199e+10,\n",
       "       -1.73691199e+10, -1.73691204e+10, -1.73691215e+10, -1.73691214e+10,\n",
       "       -1.73691213e+10, -1.73691214e+10, -1.73691214e+10, -1.73691214e+10,\n",
       "        0.00000000e+00, -1.73691213e+10, -1.73691214e+10, -1.73691207e+10,\n",
       "       -1.73691214e+10, -1.73691212e+10, -1.73691212e+10, -1.73691202e+10,\n",
       "        5.68434189e-13, -1.73691210e+10, -1.73691214e+10, -1.73691211e+10,\n",
       "       -1.73691213e+10, -1.73691207e+10, -1.73691211e+10,  2.84217094e-14,\n",
       "       -1.73691215e+10, -1.73691213e+10, -1.73691204e+10, -1.73691206e+10,\n",
       "       -1.73691205e+10, -1.73691207e+10, -1.73691212e+10, -1.73691195e+10,\n",
       "       -1.73691200e+10,  1.10134124e-12,  1.13686838e-13, -1.73691202e+10,\n",
       "       -1.73691200e+10, -1.73691197e+10, -1.08002496e-12, -1.73691217e+10,\n",
       "       -1.73691215e+10, -1.73691214e+10, -1.73691215e+10, -1.73691214e+10,\n",
       "       -1.73691214e+10, -1.73691215e+10,  1.35003120e-13, -1.73691214e+10,\n",
       "       -1.73691216e+10, -1.73691215e+10, -1.73691191e+10, -1.73691194e+10,\n",
       "       -1.73691208e+10, -1.73691195e+10,  3.41060513e-13, -1.73691214e+10,\n",
       "       -1.73691215e+10, -1.73691213e+10, -1.73691215e+10, -1.13686838e-13,\n",
       "       -9.94759830e-14, -1.73691215e+10, -1.73691214e+10, -1.73691216e+10,\n",
       "       -1.73691203e+10, -1.73691206e+10, -1.73691206e+10, -1.73691204e+10,\n",
       "       -1.73691203e+10, -1.42108547e-13, -1.73691202e+10, -1.73691206e+10,\n",
       "       -1.73691216e+10, -2.28094840e+10, -1.73691215e+10, -1.73691207e+10,\n",
       "       -1.73691205e+10, -1.73691208e+10, -1.73691204e+10, -1.73691209e+10,\n",
       "       -1.73691215e+10, -2.06126281e+10, -1.73691207e+10, -1.73691201e+10,\n",
       "       -1.73691207e+10, -1.73691207e+10,  0.00000000e+00, -1.73691202e+10,\n",
       "       -1.73691207e+10, -1.73691214e+10, -1.73691214e+10, -1.73691215e+10,\n",
       "       -1.73691213e+10, -1.73691213e+10, -1.73691213e+10, -1.73691213e+10,\n",
       "       -1.73691214e+10, -1.73691217e+10, -1.73691215e+10,  0.00000000e+00,\n",
       "       -1.73691214e+10, -1.73691216e+10, -1.73691217e+10,  0.00000000e+00,\n",
       "       -1.73691213e+10,  0.00000000e+00, -1.73691215e+10, -1.73691215e+10,\n",
       "        1.08936513e+11,  1.08936513e+11,  1.08936513e+11,  1.08936513e+11,\n",
       "        1.08936513e+11,  1.08936513e+11,  1.08936513e+11,  1.08936513e+11,\n",
       "        1.08936513e+11,  1.08936513e+11,  1.08936513e+11,  1.08936513e+11,\n",
       "        1.08936513e+11])"
      ]
     },
     "execution_count": 37,
     "metadata": {},
     "output_type": "execute_result"
    }
   ],
   "source": [
    "linear.coef_"
   ]
  },
  {
   "cell_type": "code",
   "execution_count": 38,
   "metadata": {},
   "outputs": [
    {
     "data": {
      "text/plain": [
       "<matplotlib.axes._subplots.AxesSubplot at 0x1b8656cc208>"
      ]
     },
     "execution_count": 38,
     "metadata": {},
     "output_type": "execute_result"
    },
    {
     "data": {
      "image/png": "[encoded data removed]",
      "text/plain": [
       "<Figure size 432x288 with 1 Axes>"
      ]
     },
     "metadata": {
      "needs_background": "light"
     },
     "output_type": "display_data"
    }
   ],
   "source": [
    "pd.DataFrame(linear.coef_,train_X.columns).plot(kind = \"bar\")"
   ]
  },
  {
   "cell_type": "code",
   "execution_count": 39,
   "metadata": {},
   "outputs": [],
   "source": [
    "train_predict = linear.predict(train_X)"
   ]
  },
  {
   "cell_type": "code",
   "execution_count": 40,
   "metadata": {
    "scrolled": true
   },
   "outputs": [],
   "source": [
    "test_predict = linear.predict(test_X)"
   ]
  },
  {
   "cell_type": "code",
   "execution_count": 41,
   "metadata": {},
   "outputs": [
    {
     "data": {
      "text/plain": [
       "312.75816684954214"
      ]
     },
     "execution_count": 41,
     "metadata": {},
     "output_type": "execute_result"
    }
   ],
   "source": [
    "np.sqrt(mean_squared_error(train_predict,train_y))"
   ]
  },
  {
   "cell_type": "code",
   "execution_count": 42,
   "metadata": {},
   "outputs": [
    {
     "data": {
      "text/plain": [
       "1719388439.2414954"
      ]
     },
     "execution_count": 42,
     "metadata": {},
     "output_type": "execute_result"
    }
   ],
   "source": [
    "np.sqrt(mean_squared_error(test_predict,test_y))"
   ]
  },
  {
   "cell_type": "code",
   "execution_count": 43,
   "metadata": {},
   "outputs": [
    {
     "data": {
      "text/plain": [
       "(array([422.19380188, 717.57343292, 676.91895294, ..., 291.64035034,\n",
       "        452.83122253, 555.48701477]),\n",
       " array([328.84780121, 168.17445374, 877.90412903, ..., 392.41576385,\n",
       "        558.64041901, 223.13363647]))"
      ]
     },
     "execution_count": 43,
     "metadata": {},
     "output_type": "execute_result"
    }
   ],
   "source": [
    "train_predict,test_predict"
   ]
  },
  {
   "cell_type": "code",
   "execution_count": 65,
   "metadata": {},
   "outputs": [],
   "source": [
    "def model_fit(model, train_train_X, train_test_X, train_train_y, train_test_y, \n",
    "              train_X, train_y, test_X, filename ):\n",
    "    model.fit(train_train_X,train_train_y)\n",
    "\n",
    "    pd.DataFrame(model.coef_,train_train_X.columns).plot(kind = \"bar\")\n",
    "\n",
    "    train_predict = model.predict(train_train_X)\n",
    "\n",
    "    test_predict = model.predict(train_test_X)\n",
    "\n",
    "    print(\"Train RMSE : \",np.sqrt(mean_squared_error(train_predict,train_train_y)))\n",
    "\n",
    "    print(\"Test RMSE : \",np.sqrt(mean_squared_error(test_predict,train_test_y)))\n",
    "    \n",
    "    model.fit(train_X, train_y)\n",
    "    \n",
    "    test_hack_predict = model.predict(test_X)#.drop(columns=[\"COST\"]))\n",
    "    test_pred_df = pd.DataFrame(test_hack_predict,columns= [\"COST\"])\n",
    "    #result = pd.concat([test_X,test_pred_df] ,axis = 1)\n",
    "    test_pred_df.to_excel(filename,index = False)\n",
    "    "
   ]
  },
  {
   "cell_type": "code",
   "execution_count": 60,
   "metadata": {},
   "outputs": [],
   "source": [
    "def model_fit_poly(model, train_train_X, train_test_X, train_train_y, train_test_y, \n",
    "              train_X, train_y, test_X, filename ):\n",
    "    model.fit(train_train_X,train_train_y)\n",
    "\n",
    "    #pd.DataFrame(model.coef_,train_train_X.columns).plot(kind = \"bar\")\n",
    "\n",
    "    train_predict = model.predict(train_train_X)\n",
    "\n",
    "    test_predict = model.predict(train_test_X)\n",
    "\n",
    "    #print(\"Train RMSE : \",np.sqrt(mean_squared_error(train_predict,train_train_y)))\n",
    "\n",
    "    #print(\"Test RMSE : \",np.sqrt(mean_squared_error(test_predict,train_test_y)))\n",
    "    \n",
    "    model.fit(train_X, train_y)\n",
    "    \n",
    "    test_hack_predict = model.predict(test_X)\n",
    "    test_pred_df = pd.DataFrame(test_hack_predict)#,columns= [\"COST\"])\n",
    "    result = pd.concat([test_preprocessed,test_pred_df] ,axis = 1)\n",
    "    result.to_excel(filename,index = False)"
   ]
  },
  {
   "cell_type": "code",
   "execution_count": 61,
   "metadata": {},
   "outputs": [
    {
     "name": "stdout",
     "output_type": "stream",
     "text": [
      "Train RMSE :  312.75816684954214\n",
      "Test RMSE :  1719388439.2414954\n"
     ]
    },
    {
     "data": {
      "image/png": "[encoded data removed]",
      "text/plain": [
       "<Figure size 432x288 with 1 Axes>"
      ]
     },
     "metadata": {
      "needs_background": "light"
     },
     "output_type": "display_data"
    }
   ],
   "source": [
    "model_fit(linear,train_X,test_X,train_y,test_y,X,y,test_preprocessed,\"linear_solution.xlsx\")"
   ]
  },
  {
   "cell_type": "code",
   "execution_count": 62,
   "metadata": {},
   "outputs": [],
   "source": [
    "lass = Lasso(alpha=1, normalize=True)"
   ]
  },
  {
   "cell_type": "code",
   "execution_count": 66,
   "metadata": {},
   "outputs": [
    {
     "name": "stdout",
     "output_type": "stream",
     "text": [
      "Train RMSE :  464.8817754706751\n",
      "Test RMSE :  496.1064964919267\n"
     ]
    },
    {
     "data": {
      "image/png": "[encoded data removed]",
      "text/plain": [
       "<Figure size 432x288 with 1 Axes>"
      ]
     },
     "metadata": {
      "needs_background": "light"
     },
     "output_type": "display_data"
    }
   ],
   "source": [
    "model_fit(lass,train_X,test_X,train_y,test_y,X,y,test_preprocessed,\"lasso_solution.xlsx\")"
   ]
  },
  {
   "cell_type": "code",
   "execution_count": 67,
   "metadata": {},
   "outputs": [
    {
     "data": {
      "text/html": [
       "<div>\n",
       "<style scoped>\n",
       "    .dataframe tbody tr th:only-of-type {\n",
       "        vertical-align: middle;\n",
       "    }\n",
       "\n",
       "    .dataframe tbody tr th {\n",
       "        vertical-align: top;\n",
       "    }\n",
       "\n",
       "    .dataframe thead th {\n",
       "        text-align: right;\n",
       "    }\n",
       "</style>\n",
       "<table border=\"1\" class=\"dataframe\">\n",
       "  <thead>\n",
       "    <tr style=\"text-align: right;\">\n",
       "      <th></th>\n",
       "      <th>COST</th>\n",
       "    </tr>\n",
       "  </thead>\n",
       "  <tbody>\n",
       "    <tr>\n",
       "      <td>0</td>\n",
       "      <td>2472</td>\n",
       "    </tr>\n",
       "    <tr>\n",
       "      <td>1</td>\n",
       "      <td>4021</td>\n",
       "    </tr>\n",
       "    <tr>\n",
       "      <td>2</td>\n",
       "      <td>5608</td>\n",
       "    </tr>\n",
       "    <tr>\n",
       "      <td>3</td>\n",
       "      <td>2000</td>\n",
       "    </tr>\n",
       "    <tr>\n",
       "      <td>4</td>\n",
       "      <td>4064</td>\n",
       "    </tr>\n",
       "    <tr>\n",
       "      <td>...</td>\n",
       "      <td>...</td>\n",
       "    </tr>\n",
       "    <tr>\n",
       "      <td>4226</td>\n",
       "      <td>2068</td>\n",
       "    </tr>\n",
       "    <tr>\n",
       "      <td>4227</td>\n",
       "      <td>3657</td>\n",
       "    </tr>\n",
       "    <tr>\n",
       "      <td>4228</td>\n",
       "      <td>5036</td>\n",
       "    </tr>\n",
       "    <tr>\n",
       "      <td>4229</td>\n",
       "      <td>1899</td>\n",
       "    </tr>\n",
       "    <tr>\n",
       "      <td>4230</td>\n",
       "      <td>3760</td>\n",
       "    </tr>\n",
       "  </tbody>\n",
       "</table>\n",
       "<p>4231 rows × 1 columns</p>\n",
       "</div>"
      ],
      "text/plain": [
       "      COST\n",
       "0     2472\n",
       "1     4021\n",
       "2     5608\n",
       "3     2000\n",
       "4     4064\n",
       "...    ...\n",
       "4226  2068\n",
       "4227  3657\n",
       "4228  5036\n",
       "4229  1899\n",
       "4230  3760\n",
       "\n",
       "[4231 rows x 1 columns]"
      ]
     },
     "execution_count": 67,
     "metadata": {},
     "output_type": "execute_result"
    }
   ],
   "source": [
    "pd.read_excel(\"Sample_submission.xlsx\")"
   ]
  },
  {
   "cell_type": "code",
   "execution_count": 68,
   "metadata": {},
   "outputs": [
    {
     "data": {
      "text/html": [
       "<div>\n",
       "<style scoped>\n",
       "    .dataframe tbody tr th:only-of-type {\n",
       "        vertical-align: middle;\n",
       "    }\n",
       "\n",
       "    .dataframe tbody tr th {\n",
       "        vertical-align: top;\n",
       "    }\n",
       "\n",
       "    .dataframe thead th {\n",
       "        text-align: right;\n",
       "    }\n",
       "</style>\n",
       "<table border=\"1\" class=\"dataframe\">\n",
       "  <thead>\n",
       "    <tr style=\"text-align: right;\">\n",
       "      <th></th>\n",
       "      <th>COST</th>\n",
       "    </tr>\n",
       "  </thead>\n",
       "  <tbody>\n",
       "    <tr>\n",
       "      <td>0</td>\n",
       "      <td>495.183416</td>\n",
       "    </tr>\n",
       "    <tr>\n",
       "      <td>1</td>\n",
       "      <td>670.278146</td>\n",
       "    </tr>\n",
       "    <tr>\n",
       "      <td>2</td>\n",
       "      <td>709.312312</td>\n",
       "    </tr>\n",
       "    <tr>\n",
       "      <td>3</td>\n",
       "      <td>493.828806</td>\n",
       "    </tr>\n",
       "    <tr>\n",
       "      <td>4</td>\n",
       "      <td>659.084787</td>\n",
       "    </tr>\n",
       "    <tr>\n",
       "      <td>...</td>\n",
       "      <td>...</td>\n",
       "    </tr>\n",
       "    <tr>\n",
       "      <td>3841</td>\n",
       "      <td>668.032345</td>\n",
       "    </tr>\n",
       "    <tr>\n",
       "      <td>3842</td>\n",
       "      <td>674.520215</td>\n",
       "    </tr>\n",
       "    <tr>\n",
       "      <td>3843</td>\n",
       "      <td>498.871623</td>\n",
       "    </tr>\n",
       "    <tr>\n",
       "      <td>3844</td>\n",
       "      <td>494.577406</td>\n",
       "    </tr>\n",
       "    <tr>\n",
       "      <td>3845</td>\n",
       "      <td>495.254711</td>\n",
       "    </tr>\n",
       "  </tbody>\n",
       "</table>\n",
       "<p>3846 rows × 1 columns</p>\n",
       "</div>"
      ],
      "text/plain": [
       "            COST\n",
       "0     495.183416\n",
       "1     670.278146\n",
       "2     709.312312\n",
       "3     493.828806\n",
       "4     659.084787\n",
       "...          ...\n",
       "3841  668.032345\n",
       "3842  674.520215\n",
       "3843  498.871623\n",
       "3844  494.577406\n",
       "3845  495.254711\n",
       "\n",
       "[3846 rows x 1 columns]"
      ]
     },
     "execution_count": 68,
     "metadata": {},
     "output_type": "execute_result"
    }
   ],
   "source": [
    "pd.read_excel(\"lasso_solution.xlsx\")"
   ]
  },
  {
   "cell_type": "code",
   "execution_count": null,
   "metadata": {},
   "outputs": [],
   "source": []
  },
  {
   "cell_type": "code",
   "execution_count": null,
   "metadata": {},
   "outputs": [],
   "source": []
  }
 ],
 "metadata": {
  "kernelspec": {
   "display_name": "Python 3",
   "language": "python",
   "name": "python3"
  },
  "language_info": {
   "codemirror_mode": {
    "name": "ipython",
    "version": 3
   },
   "file_extension": ".py",
   "mimetype": "text/x-python",
   "name": "python",
   "nbconvert_exporter": "python",
   "pygments_lexer": "ipython3",
   "version": "3.7.4"
  }
 },
 "nbformat": 4,
 "nbformat_minor": 2
}
