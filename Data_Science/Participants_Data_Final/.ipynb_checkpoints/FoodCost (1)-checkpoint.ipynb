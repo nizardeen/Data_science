{
 "cells": [
  {
   "cell_type": "code",
   "execution_count": 1,
   "metadata": {},
   "outputs": [],
   "source": [
    "import pandas as pd\n",
    "import numpy as np\n",
    "from sklearn import preprocessing\n",
    "import matplotlib.pyplot as plt \n",
    "plt.rc(\"font\", size=14)\n",
    "from sklearn.linear_model import LogisticRegression\n",
    "from sklearn.model_selection import train_test_split\n",
    "import seaborn as sns\n",
    "sns.set(style=\"white\")\n",
    "sns.set(style=\"whitegrid\", color_codes=True)\n",
    "import warnings"
   ]
  },
  {
   "cell_type": "code",
   "execution_count": 2,
   "metadata": {},
   "outputs": [],
   "source": [
    "train = pd.read_excel('Data_Train.xlsx', header=0)\n",
    "test = pd.read_excel('Data_Test.xlsx', header=0)\n"
   ]
  },
  {
   "cell_type": "code",
   "execution_count": 3,
   "metadata": {},
   "outputs": [
    {
     "data": {
      "text/plain": [
       "(12690, 9)"
      ]
     },
     "execution_count": 3,
     "metadata": {},
     "output_type": "execute_result"
    }
   ],
   "source": [
    "train.shape"
   ]
  },
  {
   "cell_type": "code",
   "execution_count": 4,
   "metadata": {},
   "outputs": [
    {
     "data": {
      "text/plain": [
       "(4231, 8)"
      ]
     },
     "execution_count": 4,
     "metadata": {},
     "output_type": "execute_result"
    }
   ],
   "source": [
    "test.shape"
   ]
  },
  {
   "cell_type": "code",
   "execution_count": 5,
   "metadata": {},
   "outputs": [
    {
     "name": "stderr",
     "output_type": "stream",
     "text": [
      "C:\\Users\\mfiyazudeen\\AppData\\Local\\Continuum\\anaconda3\\lib\\site-packages\\ipykernel_launcher.py:1: FutureWarning: Sorting because non-concatenation axis is not aligned. A future version\n",
      "of pandas will change to not sort by default.\n",
      "\n",
      "To accept the future behavior, pass 'sort=False'.\n",
      "\n",
      "To retain the current behavior and silence the warning, pass 'sort=True'.\n",
      "\n",
      "  \"\"\"Entry point for launching an IPython kernel.\n"
     ]
    }
   ],
   "source": [
    "restaurant = pd.concat([train,test])"
   ]
  },
  {
   "cell_type": "code",
   "execution_count": 6,
   "metadata": {},
   "outputs": [
    {
     "data": {
      "text/plain": [
       "(16921, 9)"
      ]
     },
     "execution_count": 6,
     "metadata": {},
     "output_type": "execute_result"
    }
   ],
   "source": [
    "restaurant.shape"
   ]
  },
  {
   "cell_type": "code",
   "execution_count": 7,
   "metadata": {},
   "outputs": [
    {
     "ename": "ModuleNotFoundError",
     "evalue": "No module named 'pandas_profiling'",
     "output_type": "error",
     "traceback": [
      "\u001b[1;31m---------------------------------------------------------------------------\u001b[0m",
      "\u001b[1;31mModuleNotFoundError\u001b[0m                       Traceback (most recent call last)",
      "\u001b[1;32m<ipython-input-7-1f3ae0157b88>\u001b[0m in \u001b[0;36m<module>\u001b[1;34m\u001b[0m\n\u001b[1;32m----> 1\u001b[1;33m \u001b[1;32mimport\u001b[0m \u001b[0mpandas_profiling\u001b[0m\u001b[1;33m\u001b[0m\u001b[1;33m\u001b[0m\u001b[0m\n\u001b[0m\u001b[0;32m      2\u001b[0m \u001b[0mpandas_profiling\u001b[0m\u001b[1;33m.\u001b[0m\u001b[0mProfileReport\u001b[0m\u001b[1;33m(\u001b[0m\u001b[0mrestaurant\u001b[0m\u001b[1;33m)\u001b[0m\u001b[1;33m\u001b[0m\u001b[1;33m\u001b[0m\u001b[0m\n",
      "\u001b[1;31mModuleNotFoundError\u001b[0m: No module named 'pandas_profiling'"
     ]
    }
   ],
   "source": [
    "import pandas_profiling\n",
    "pandas_profiling.ProfileReport(restaurant)"
   ]
  },
  {
   "cell_type": "code",
   "execution_count": 8,
   "metadata": {},
   "outputs": [
    {
     "data": {
      "text/plain": [
       "Index(['CITY', 'COST', 'CUISINES', 'LOCALITY', 'RATING', 'RESTAURANT_ID',\n",
       "       'TIME', 'TITLE', 'VOTES'],\n",
       "      dtype='object')"
      ]
     },
     "execution_count": 8,
     "metadata": {},
     "output_type": "execute_result"
    }
   ],
   "source": [
    "restaurant.columns"
   ]
  },
  {
   "cell_type": "code",
   "execution_count": 9,
   "metadata": {},
   "outputs": [
    {
     "data": {
      "text/plain": [
       "CITY              147\n",
       "COST             4231\n",
       "CUISINES            0\n",
       "LOCALITY          128\n",
       "RATING              4\n",
       "RESTAURANT_ID       0\n",
       "TIME                0\n",
       "TITLE               0\n",
       "VOTES            1606\n",
       "dtype: int64"
      ]
     },
     "execution_count": 9,
     "metadata": {},
     "output_type": "execute_result"
    }
   ],
   "source": [
    "restaurant.isna().sum()"
   ]
  },
  {
   "cell_type": "code",
   "execution_count": 10,
   "metadata": {},
   "outputs": [
    {
     "ename": "AttributeError",
     "evalue": "'DataFrame' object has no attribute 'votes_clean'",
     "output_type": "error",
     "traceback": [
      "\u001b[1;31m---------------------------------------------------------------------------\u001b[0m",
      "\u001b[1;31mAttributeError\u001b[0m                            Traceback (most recent call last)",
      "\u001b[1;32m<ipython-input-10-b9a323b8095f>\u001b[0m in \u001b[0;36m<module>\u001b[1;34m\u001b[0m\n\u001b[0;32m      1\u001b[0m \u001b[0mget_ipython\u001b[0m\u001b[1;33m(\u001b[0m\u001b[1;33m)\u001b[0m\u001b[1;33m.\u001b[0m\u001b[0mrun_line_magic\u001b[0m\u001b[1;33m(\u001b[0m\u001b[1;34m'matplotlib'\u001b[0m\u001b[1;33m,\u001b[0m \u001b[1;34m'inline'\u001b[0m\u001b[1;33m)\u001b[0m\u001b[1;33m\u001b[0m\u001b[1;33m\u001b[0m\u001b[0m\n\u001b[1;32m----> 2\u001b[1;33m \u001b[0mpd\u001b[0m\u001b[1;33m.\u001b[0m\u001b[0mcrosstab\u001b[0m\u001b[1;33m(\u001b[0m\u001b[0mrestaurant\u001b[0m\u001b[1;33m.\u001b[0m\u001b[0mvotes_clean\u001b[0m\u001b[1;33m,\u001b[0m\u001b[0mrestaurant\u001b[0m\u001b[1;33m.\u001b[0m\u001b[0mCOST\u001b[0m\u001b[1;33m)\u001b[0m\u001b[1;33m.\u001b[0m\u001b[0mplot\u001b[0m\u001b[1;33m(\u001b[0m\u001b[0mkind\u001b[0m\u001b[1;33m=\u001b[0m\u001b[1;34m'bar'\u001b[0m\u001b[1;33m)\u001b[0m\u001b[1;33m\u001b[0m\u001b[1;33m\u001b[0m\u001b[0m\n\u001b[0m\u001b[0;32m      3\u001b[0m \u001b[0mplt\u001b[0m\u001b[1;33m.\u001b[0m\u001b[0mtitle\u001b[0m\u001b[1;33m(\u001b[0m\u001b[1;34m'Votes vs Cost of the restaurant'\u001b[0m\u001b[1;33m)\u001b[0m\u001b[1;33m\u001b[0m\u001b[1;33m\u001b[0m\u001b[0m\n\u001b[0;32m      4\u001b[0m \u001b[0mplt\u001b[0m\u001b[1;33m.\u001b[0m\u001b[0mxlabel\u001b[0m\u001b[1;33m(\u001b[0m\u001b[1;34m'Votes'\u001b[0m\u001b[1;33m)\u001b[0m\u001b[1;33m\u001b[0m\u001b[1;33m\u001b[0m\u001b[0m\n\u001b[0;32m      5\u001b[0m \u001b[0mplt\u001b[0m\u001b[1;33m.\u001b[0m\u001b[0mylabel\u001b[0m\u001b[1;33m(\u001b[0m\u001b[1;34m'Cost of the Restaurant'\u001b[0m\u001b[1;33m)\u001b[0m\u001b[1;33m\u001b[0m\u001b[1;33m\u001b[0m\u001b[0m\n",
      "\u001b[1;32m~\\AppData\\Local\\Continuum\\anaconda3\\lib\\site-packages\\pandas\\core\\generic.py\u001b[0m in \u001b[0;36m__getattr__\u001b[1;34m(self, name)\u001b[0m\n\u001b[0;32m   5177\u001b[0m             \u001b[1;32mif\u001b[0m \u001b[0mself\u001b[0m\u001b[1;33m.\u001b[0m\u001b[0m_info_axis\u001b[0m\u001b[1;33m.\u001b[0m\u001b[0m_can_hold_identifiers_and_holds_name\u001b[0m\u001b[1;33m(\u001b[0m\u001b[0mname\u001b[0m\u001b[1;33m)\u001b[0m\u001b[1;33m:\u001b[0m\u001b[1;33m\u001b[0m\u001b[1;33m\u001b[0m\u001b[0m\n\u001b[0;32m   5178\u001b[0m                 \u001b[1;32mreturn\u001b[0m \u001b[0mself\u001b[0m\u001b[1;33m[\u001b[0m\u001b[0mname\u001b[0m\u001b[1;33m]\u001b[0m\u001b[1;33m\u001b[0m\u001b[1;33m\u001b[0m\u001b[0m\n\u001b[1;32m-> 5179\u001b[1;33m             \u001b[1;32mreturn\u001b[0m \u001b[0mobject\u001b[0m\u001b[1;33m.\u001b[0m\u001b[0m__getattribute__\u001b[0m\u001b[1;33m(\u001b[0m\u001b[0mself\u001b[0m\u001b[1;33m,\u001b[0m \u001b[0mname\u001b[0m\u001b[1;33m)\u001b[0m\u001b[1;33m\u001b[0m\u001b[1;33m\u001b[0m\u001b[0m\n\u001b[0m\u001b[0;32m   5180\u001b[0m \u001b[1;33m\u001b[0m\u001b[0m\n\u001b[0;32m   5181\u001b[0m     \u001b[1;32mdef\u001b[0m \u001b[0m__setattr__\u001b[0m\u001b[1;33m(\u001b[0m\u001b[0mself\u001b[0m\u001b[1;33m,\u001b[0m \u001b[0mname\u001b[0m\u001b[1;33m,\u001b[0m \u001b[0mvalue\u001b[0m\u001b[1;33m)\u001b[0m\u001b[1;33m:\u001b[0m\u001b[1;33m\u001b[0m\u001b[1;33m\u001b[0m\u001b[0m\n",
      "\u001b[1;31mAttributeError\u001b[0m: 'DataFrame' object has no attribute 'votes_clean'"
     ]
    }
   ],
   "source": [
    "%matplotlib inline\n",
    "pd.crosstab(restaurant.votes_clean,restaurant.COST).plot(kind='bar')\n",
    "plt.title('Votes vs Cost of the restaurant')\n",
    "plt.xlabel('Votes')\n",
    "plt.ylabel('Cost of the Restaurant')\n",
    "plt.savefig('purchase_fre_job')"
   ]
  },
  {
   "cell_type": "code",
   "execution_count": 11,
   "metadata": {},
   "outputs": [
    {
     "data": {
      "text/plain": [
       "<matplotlib.legend.Legend at 0x23a8a9fe448>"
      ]
     },
     "execution_count": 11,
     "metadata": {},
     "output_type": "execute_result"
    },
    {
     "data": {
      "image/png": "[encoded data removed]",
      "text/plain": [
       "<Figure size 432x288 with 1 Axes>"
      ]
     },
     "metadata": {
      "needs_background": "light"
     },
     "output_type": "display_data"
    }
   ],
   "source": [
    "import seaborn as sns\n",
    "import matplotlib.pyplot as plt\n",
    "ct = pd.crosstab(restaurant.RATING, restaurant.COST)\n",
    "ct.plot.bar(stacked=True)\n",
    "plt.legend(title='Rating')"
   ]
  },
  {
   "cell_type": "code",
   "execution_count": 13,
   "metadata": {},
   "outputs": [
    {
     "data": {
      "text/plain": [
       "Index(['CITY', 'COST', 'CUISINES', 'LOCALITY', 'RATING', 'RESTAURANT_ID',\n",
       "       'TIME', 'TITLE', 'VOTES'],\n",
       "      dtype='object')"
      ]
     },
     "execution_count": 13,
     "metadata": {},
     "output_type": "execute_result"
    }
   ],
   "source": [
    "restaurant.columns"
   ]
  },
  {
   "cell_type": "code",
   "execution_count": 12,
   "metadata": {},
   "outputs": [
    {
     "ename": "AttributeError",
     "evalue": "'DataFrame' object has no attribute 'city_split'",
     "output_type": "error",
     "traceback": [
      "\u001b[1;31m---------------------------------------------------------------------------\u001b[0m",
      "\u001b[1;31mAttributeError\u001b[0m                            Traceback (most recent call last)",
      "\u001b[1;32m<ipython-input-12-0136969d5194>\u001b[0m in \u001b[0;36m<module>\u001b[1;34m\u001b[0m\n\u001b[0;32m      1\u001b[0m \u001b[1;32mimport\u001b[0m \u001b[0mseaborn\u001b[0m \u001b[1;32mas\u001b[0m \u001b[0msns\u001b[0m\u001b[1;33m\u001b[0m\u001b[1;33m\u001b[0m\u001b[0m\n\u001b[0;32m      2\u001b[0m \u001b[1;32mimport\u001b[0m \u001b[0mmatplotlib\u001b[0m\u001b[1;33m.\u001b[0m\u001b[0mpyplot\u001b[0m \u001b[1;32mas\u001b[0m \u001b[0mplt\u001b[0m\u001b[1;33m\u001b[0m\u001b[1;33m\u001b[0m\u001b[0m\n\u001b[1;32m----> 3\u001b[1;33m \u001b[0mct\u001b[0m \u001b[1;33m=\u001b[0m \u001b[0mpd\u001b[0m\u001b[1;33m.\u001b[0m\u001b[0mcrosstab\u001b[0m\u001b[1;33m(\u001b[0m\u001b[0mrestaurant\u001b[0m\u001b[1;33m.\u001b[0m\u001b[0mcity_split\u001b[0m\u001b[1;33m,\u001b[0m \u001b[0mrestaurant\u001b[0m\u001b[1;33m.\u001b[0m\u001b[0mCOST\u001b[0m\u001b[1;33m)\u001b[0m\u001b[1;33m\u001b[0m\u001b[1;33m\u001b[0m\u001b[0m\n\u001b[0m\u001b[0;32m      4\u001b[0m \u001b[0mct\u001b[0m\u001b[1;33m.\u001b[0m\u001b[0mplot\u001b[0m\u001b[1;33m.\u001b[0m\u001b[0mbar\u001b[0m\u001b[1;33m(\u001b[0m\u001b[0mstacked\u001b[0m\u001b[1;33m=\u001b[0m\u001b[1;32mTrue\u001b[0m\u001b[1;33m)\u001b[0m\u001b[1;33m\u001b[0m\u001b[1;33m\u001b[0m\u001b[0m\n\u001b[0;32m      5\u001b[0m \u001b[0mplt\u001b[0m\u001b[1;33m.\u001b[0m\u001b[0mlegend\u001b[0m\u001b[1;33m(\u001b[0m\u001b[0mtitle\u001b[0m\u001b[1;33m=\u001b[0m\u001b[1;34m'Location'\u001b[0m\u001b[1;33m)\u001b[0m\u001b[1;33m\u001b[0m\u001b[1;33m\u001b[0m\u001b[0m\n",
      "\u001b[1;32m~\\AppData\\Local\\Continuum\\anaconda3\\lib\\site-packages\\pandas\\core\\generic.py\u001b[0m in \u001b[0;36m__getattr__\u001b[1;34m(self, name)\u001b[0m\n\u001b[0;32m   5177\u001b[0m             \u001b[1;32mif\u001b[0m \u001b[0mself\u001b[0m\u001b[1;33m.\u001b[0m\u001b[0m_info_axis\u001b[0m\u001b[1;33m.\u001b[0m\u001b[0m_can_hold_identifiers_and_holds_name\u001b[0m\u001b[1;33m(\u001b[0m\u001b[0mname\u001b[0m\u001b[1;33m)\u001b[0m\u001b[1;33m:\u001b[0m\u001b[1;33m\u001b[0m\u001b[1;33m\u001b[0m\u001b[0m\n\u001b[0;32m   5178\u001b[0m                 \u001b[1;32mreturn\u001b[0m \u001b[0mself\u001b[0m\u001b[1;33m[\u001b[0m\u001b[0mname\u001b[0m\u001b[1;33m]\u001b[0m\u001b[1;33m\u001b[0m\u001b[1;33m\u001b[0m\u001b[0m\n\u001b[1;32m-> 5179\u001b[1;33m             \u001b[1;32mreturn\u001b[0m \u001b[0mobject\u001b[0m\u001b[1;33m.\u001b[0m\u001b[0m__getattribute__\u001b[0m\u001b[1;33m(\u001b[0m\u001b[0mself\u001b[0m\u001b[1;33m,\u001b[0m \u001b[0mname\u001b[0m\u001b[1;33m)\u001b[0m\u001b[1;33m\u001b[0m\u001b[1;33m\u001b[0m\u001b[0m\n\u001b[0m\u001b[0;32m   5180\u001b[0m \u001b[1;33m\u001b[0m\u001b[0m\n\u001b[0;32m   5181\u001b[0m     \u001b[1;32mdef\u001b[0m \u001b[0m__setattr__\u001b[0m\u001b[1;33m(\u001b[0m\u001b[0mself\u001b[0m\u001b[1;33m,\u001b[0m \u001b[0mname\u001b[0m\u001b[1;33m,\u001b[0m \u001b[0mvalue\u001b[0m\u001b[1;33m)\u001b[0m\u001b[1;33m:\u001b[0m\u001b[1;33m\u001b[0m\u001b[1;33m\u001b[0m\u001b[0m\n",
      "\u001b[1;31mAttributeError\u001b[0m: 'DataFrame' object has no attribute 'city_split'"
     ]
    }
   ],
   "source": [
    "import seaborn as sns\n",
    "import matplotlib.pyplot as plt\n",
    "ct = pd.crosstab(restaurant.city_split, restaurant.COST)\n",
    "ct.plot.bar(stacked=True)\n",
    "plt.legend(title='Location')"
   ]
  },
  {
   "cell_type": "code",
   "execution_count": null,
   "metadata": {},
   "outputs": [],
   "source": [
    "#'CITY', 'COST', 'CUISINES', 'LOCALITY', 'RATING', 'RESTAURANT_ID',\n",
    "#      'TIME', 'TITLE', 'VOTES'\n",
    "cuisines_split=pd.Series(restaurant[\"CUISINES\"]).str.get_dummies(sep=',')"
   ]
  },
  {
   "cell_type": "code",
   "execution_count": null,
   "metadata": {},
   "outputs": [],
   "source": [
    "restaurant[\"city_split\"] = restaurant.CITY.apply(lambda x : str(x).upper().split(' ')[0])\n",
    "#restaurant[\"CITY\"].unique()"
   ]
  },
  {
   "cell_type": "code",
   "execution_count": null,
   "metadata": {},
   "outputs": [],
   "source": [
    "#restaurant.CITY.unique()\n",
    "#restaurant[\"City_split\"] = restaurant.CITY.transform(lambda x: x.split(',')[0])\n",
    "restaurant.city_split.value_counts().sum()\n"
   ]
  },
  {
   "cell_type": "code",
   "execution_count": null,
   "metadata": {},
   "outputs": [],
   "source": [
    "restaurant.city_split.value_counts()"
   ]
  },
  {
   "cell_type": "code",
   "execution_count": null,
   "metadata": {},
   "outputs": [],
   "source": [
    "#restaurant.groupby(\"city_split\").LOCALITY.apply(lambda x : x.mode()[0])\n",
    "restaurant[\"LOCALITY\"]= restaurant.LOCALITY.transform(lambda x : x.fillna('UNK'))\n",
    "#df[\"Outlet_Size\"] = df.groupby(\"Outlet_Location_Type\").Outlet_Size.transform(lambda x : x.fillna(x.mode()[0]))\n",
    "#restaurant.groupby(\"LOCALITY\").CITY.unique()\n",
    "#restaurant[pd.isnull(restaurant[\"city_split\"])] #.city_split.value_counts()"
   ]
  },
  {
   "cell_type": "code",
   "execution_count": null,
   "metadata": {},
   "outputs": [],
   "source": [
    "restaurant.isna().sum()"
   ]
  },
  {
   "cell_type": "code",
   "execution_count": null,
   "metadata": {},
   "outputs": [],
   "source": [
    "restaurant.RATING.unique()"
   ]
  },
  {
   "cell_type": "code",
   "execution_count": null,
   "metadata": {},
   "outputs": [],
   "source": [
    "#type(restaurant[\"RATING\"])\n",
    "#restaurant[restaurant[pd.Series(restaurant[\"RATING\"]).str.isnumeric()]]\n",
    "#np.number\n",
    "restaurant.RATING.replace({\"NEW\" : 0.0 ,\"-\": 0.0},inplace=True)\n",
    "#pd.Series(restaurant[\"RATING\"]).unique()\n"
   ]
  },
  {
   "cell_type": "code",
   "execution_count": null,
   "metadata": {},
   "outputs": [],
   "source": [
    "restaurant.RATING.dtype"
   ]
  },
  {
   "cell_type": "code",
   "execution_count": null,
   "metadata": {},
   "outputs": [],
   "source": [
    "restaurant[\"RATING\"]= pd.to_numeric(restaurant[\"RATING\"])\n",
    "#df[\"a\"] = pd.to_numeric(df[\"a\"])"
   ]
  },
  {
   "cell_type": "code",
   "execution_count": null,
   "metadata": {},
   "outputs": [],
   "source": [
    "restaurant[\"RATING\"] = restaurant.groupby(\"city_split\").RATING.transform(lambda x : x.fillna(x.mean()))"
   ]
  },
  {
   "cell_type": "code",
   "execution_count": 141,
   "metadata": {},
   "outputs": [
    {
     "data": {
      "text/plain": [
       "array([3.6       , 4.2       , 3.8       , 4.1       , 4.        ,\n",
       "       4.3       , 3.9       , 3.3       , 3.4       , 0.        ,\n",
       "       4.5       , 3.5       , 4.4       , 2.7       , 3.7       ,\n",
       "       4.7       , 3.1       , 2.5       , 4.6       , 2.8       ,\n",
       "       2.04875425, 3.        , 3.2       , 2.6       , 2.9       ,\n",
       "       3.61556278, 4.9       , 4.8       , 2.4       , 2.3       ,\n",
       "       2.        , 2.1       , 2.2       ])"
      ]
     },
     "execution_count": 141,
     "metadata": {},
     "output_type": "execute_result"
    }
   ],
   "source": [
    "restaurant.RATING.unique()"
   ]
  },
  {
   "cell_type": "code",
   "execution_count": 169,
   "metadata": {},
   "outputs": [
    {
     "data": {
      "text/html": [
       "<div>\n",
       "<style scoped>\n",
       "    .dataframe tbody tr th:only-of-type {\n",
       "        vertical-align: middle;\n",
       "    }\n",
       "\n",
       "    .dataframe tbody tr th {\n",
       "        vertical-align: top;\n",
       "    }\n",
       "\n",
       "    .dataframe thead th {\n",
       "        text-align: right;\n",
       "    }\n",
       "</style>\n",
       "<table border=\"1\" class=\"dataframe\">\n",
       "  <thead>\n",
       "    <tr style=\"text-align: right;\">\n",
       "      <th></th>\n",
       "      <th>CITY</th>\n",
       "      <th>COST</th>\n",
       "      <th>CUISINES</th>\n",
       "      <th>LOCALITY</th>\n",
       "      <th>RATING</th>\n",
       "      <th>RESTAURANT_ID</th>\n",
       "      <th>TIME</th>\n",
       "      <th>TITLE</th>\n",
       "      <th>VOTES</th>\n",
       "      <th>city_split</th>\n",
       "      <th>votes_clean</th>\n",
       "    </tr>\n",
       "  </thead>\n",
       "  <tbody>\n",
       "    <tr>\n",
       "      <td>13</td>\n",
       "      <td>Kochi</td>\n",
       "      <td>400.0</td>\n",
       "      <td>South Indian</td>\n",
       "      <td>Edappally</td>\n",
       "      <td>0.0</td>\n",
       "      <td>4319</td>\n",
       "      <td>11am – 11:30pm (Mon-Sun)</td>\n",
       "      <td>CASUAL DINING</td>\n",
       "      <td>NaN</td>\n",
       "      <td>KOCHI</td>\n",
       "      <td>nan</td>\n",
       "    </tr>\n",
       "    <tr>\n",
       "      <td>62</td>\n",
       "      <td>Kochi</td>\n",
       "      <td>200.0</td>\n",
       "      <td>North Indian, Beverages</td>\n",
       "      <td>Kalamassery</td>\n",
       "      <td>0.0</td>\n",
       "      <td>7841</td>\n",
       "      <td>11am – 11pm (Mon-Sun)</td>\n",
       "      <td>QUICK BITES</td>\n",
       "      <td>NaN</td>\n",
       "      <td>KOCHI</td>\n",
       "      <td>nan</td>\n",
       "    </tr>\n",
       "    <tr>\n",
       "      <td>69</td>\n",
       "      <td>New Delhi</td>\n",
       "      <td>200.0</td>\n",
       "      <td>Pizza, Fast Food</td>\n",
       "      <td>Kalkaji</td>\n",
       "      <td>0.0</td>\n",
       "      <td>11096</td>\n",
       "      <td>11am – 11pm (Mon-Sun)</td>\n",
       "      <td>None</td>\n",
       "      <td>NaN</td>\n",
       "      <td>NEW</td>\n",
       "      <td>nan</td>\n",
       "    </tr>\n",
       "    <tr>\n",
       "      <td>85</td>\n",
       "      <td>Bangalore</td>\n",
       "      <td>300.0</td>\n",
       "      <td>North Indian, South Indian</td>\n",
       "      <td>Vijay Nagar</td>\n",
       "      <td>0.0</td>\n",
       "      <td>12657</td>\n",
       "      <td>Closed (Mon),7:30am – 10:30pm (Tue-Sun)</td>\n",
       "      <td>QUICK BITES</td>\n",
       "      <td>NaN</td>\n",
       "      <td>BANGALORE</td>\n",
       "      <td>nan</td>\n",
       "    </tr>\n",
       "    <tr>\n",
       "      <td>111</td>\n",
       "      <td>Mumbai</td>\n",
       "      <td>800.0</td>\n",
       "      <td>Gujarati, Rajasthani, North Indian</td>\n",
       "      <td>Borivali West</td>\n",
       "      <td>0.0</td>\n",
       "      <td>7095</td>\n",
       "      <td>11:30am – 3:30pm, 7pm – 11pm (Mon-Sun)</td>\n",
       "      <td>CASUAL DINING</td>\n",
       "      <td>NaN</td>\n",
       "      <td>MUMBAI</td>\n",
       "      <td>nan</td>\n",
       "    </tr>\n",
       "    <tr>\n",
       "      <td>...</td>\n",
       "      <td>...</td>\n",
       "      <td>...</td>\n",
       "      <td>...</td>\n",
       "      <td>...</td>\n",
       "      <td>...</td>\n",
       "      <td>...</td>\n",
       "      <td>...</td>\n",
       "      <td>...</td>\n",
       "      <td>...</td>\n",
       "      <td>...</td>\n",
       "      <td>...</td>\n",
       "    </tr>\n",
       "    <tr>\n",
       "      <td>4183</td>\n",
       "      <td>Noida</td>\n",
       "      <td>NaN</td>\n",
       "      <td>Cafe, North Indian</td>\n",
       "      <td>Sector 63</td>\n",
       "      <td>0.0</td>\n",
       "      <td>7007</td>\n",
       "      <td>11am – 11pm (Mon-Sun)</td>\n",
       "      <td>CAFÉ</td>\n",
       "      <td>NaN</td>\n",
       "      <td>NOIDA</td>\n",
       "      <td>nan</td>\n",
       "    </tr>\n",
       "    <tr>\n",
       "      <td>4185</td>\n",
       "      <td>New Delhi</td>\n",
       "      <td>NaN</td>\n",
       "      <td>Fast Food</td>\n",
       "      <td>Shalimar Bagh</td>\n",
       "      <td>0.0</td>\n",
       "      <td>6387</td>\n",
       "      <td>12:30pm – 10:30pm (Mon-Sun)</td>\n",
       "      <td>QUICK BITES</td>\n",
       "      <td>NaN</td>\n",
       "      <td>NEW</td>\n",
       "      <td>nan</td>\n",
       "    </tr>\n",
       "    <tr>\n",
       "      <td>4198</td>\n",
       "      <td>Bangalore</td>\n",
       "      <td>NaN</td>\n",
       "      <td>Continental</td>\n",
       "      <td>Indiranagar</td>\n",
       "      <td>0.0</td>\n",
       "      <td>13381</td>\n",
       "      <td>11am – 12midnight (Mon-Sun)</td>\n",
       "      <td>QUICK BITES</td>\n",
       "      <td>NaN</td>\n",
       "      <td>BANGALORE</td>\n",
       "      <td>nan</td>\n",
       "    </tr>\n",
       "    <tr>\n",
       "      <td>4223</td>\n",
       "      <td>Mumbai</td>\n",
       "      <td>NaN</td>\n",
       "      <td>Sindhi, Street Food</td>\n",
       "      <td>Lower Parel</td>\n",
       "      <td>0.0</td>\n",
       "      <td>6887</td>\n",
       "      <td>11:30am – 4pm, 7pm – 11:30pm (Mon-Sun)</td>\n",
       "      <td>CASUAL DINING</td>\n",
       "      <td>NaN</td>\n",
       "      <td>MUMBAI</td>\n",
       "      <td>nan</td>\n",
       "    </tr>\n",
       "    <tr>\n",
       "      <td>4229</td>\n",
       "      <td>Kochi</td>\n",
       "      <td>NaN</td>\n",
       "      <td>Rolls, Beverages</td>\n",
       "      <td>Kochi</td>\n",
       "      <td>0.0</td>\n",
       "      <td>6485</td>\n",
       "      <td>11am – 11:30pm (Mon, Tue, Wed, Thu, Sat, Sun),...</td>\n",
       "      <td>QUICK BITES</td>\n",
       "      <td>NaN</td>\n",
       "      <td>KOCHI</td>\n",
       "      <td>nan</td>\n",
       "    </tr>\n",
       "  </tbody>\n",
       "</table>\n",
       "<p>1606 rows × 11 columns</p>\n",
       "</div>"
      ],
      "text/plain": [
       "           CITY   COST                            CUISINES       LOCALITY  \\\n",
       "13        Kochi  400.0                        South Indian      Edappally   \n",
       "62        Kochi  200.0             North Indian, Beverages    Kalamassery   \n",
       "69    New Delhi  200.0                    Pizza, Fast Food        Kalkaji   \n",
       "85    Bangalore  300.0          North Indian, South Indian    Vijay Nagar   \n",
       "111      Mumbai  800.0  Gujarati, Rajasthani, North Indian  Borivali West   \n",
       "...         ...    ...                                 ...            ...   \n",
       "4183      Noida    NaN                  Cafe, North Indian      Sector 63   \n",
       "4185  New Delhi    NaN                           Fast Food  Shalimar Bagh   \n",
       "4198  Bangalore    NaN                         Continental    Indiranagar   \n",
       "4223     Mumbai    NaN                 Sindhi, Street Food    Lower Parel   \n",
       "4229      Kochi    NaN                    Rolls, Beverages          Kochi   \n",
       "\n",
       "      RATING  RESTAURANT_ID  \\\n",
       "13       0.0           4319   \n",
       "62       0.0           7841   \n",
       "69       0.0          11096   \n",
       "85       0.0          12657   \n",
       "111      0.0           7095   \n",
       "...      ...            ...   \n",
       "4183     0.0           7007   \n",
       "4185     0.0           6387   \n",
       "4198     0.0          13381   \n",
       "4223     0.0           6887   \n",
       "4229     0.0           6485   \n",
       "\n",
       "                                                   TIME          TITLE VOTES  \\\n",
       "13                             11am – 11:30pm (Mon-Sun)  CASUAL DINING   NaN   \n",
       "62                                11am – 11pm (Mon-Sun)    QUICK BITES   NaN   \n",
       "69                                11am – 11pm (Mon-Sun)           None   NaN   \n",
       "85              Closed (Mon),7:30am – 10:30pm (Tue-Sun)    QUICK BITES   NaN   \n",
       "111              11:30am – 3:30pm, 7pm – 11pm (Mon-Sun)  CASUAL DINING   NaN   \n",
       "...                                                 ...            ...   ...   \n",
       "4183                              11am – 11pm (Mon-Sun)           CAFÉ   NaN   \n",
       "4185                        12:30pm – 10:30pm (Mon-Sun)    QUICK BITES   NaN   \n",
       "4198                        11am – 12midnight (Mon-Sun)    QUICK BITES   NaN   \n",
       "4223             11:30am – 4pm, 7pm – 11:30pm (Mon-Sun)  CASUAL DINING   NaN   \n",
       "4229  11am – 11:30pm (Mon, Tue, Wed, Thu, Sat, Sun),...    QUICK BITES   NaN   \n",
       "\n",
       "     city_split votes_clean  \n",
       "13        KOCHI         nan  \n",
       "62        KOCHI         nan  \n",
       "69          NEW         nan  \n",
       "85    BANGALORE         nan  \n",
       "111      MUMBAI         nan  \n",
       "...         ...         ...  \n",
       "4183      NOIDA         nan  \n",
       "4185        NEW         nan  \n",
       "4198  BANGALORE         nan  \n",
       "4223     MUMBAI         nan  \n",
       "4229      KOCHI         nan  \n",
       "\n",
       "[1606 rows x 11 columns]"
      ]
     },
     "execution_count": 169,
     "metadata": {},
     "output_type": "execute_result"
    }
   ],
   "source": [
    "          "
   ]
  },
  {
   "cell_type": "code",
   "execution_count": 185,
   "metadata": {},
   "outputs": [],
   "source": [
    "restaurant[\"votes_clean\"] = restaurant.VOTES.apply(lambda x : str(x).split(' ')[0])"
   ]
  },
  {
   "cell_type": "code",
   "execution_count": 186,
   "metadata": {},
   "outputs": [],
   "source": [
    "restaurant.votes_clean.replace({'nan':np.nan},inplace=True)"
   ]
  },
  {
   "cell_type": "code",
   "execution_count": 187,
   "metadata": {},
   "outputs": [],
   "source": [
    "restaurant[\"votes_clean\"] = pd.to_numeric(restaurant[\"votes_clean\"] )"
   ]
  },
  {
   "cell_type": "code",
   "execution_count": 200,
   "metadata": {},
   "outputs": [
    {
     "data": {
      "text/plain": [
       "1606"
      ]
     },
     "execution_count": 200,
     "metadata": {},
     "output_type": "execute_result"
    }
   ],
   "source": [
    "restaurant.votes_clean.isna().sum()"
   ]
  },
  {
   "cell_type": "code",
   "execution_count": 201,
   "metadata": {},
   "outputs": [],
   "source": [
    "#restaurant.groupby(\"city_split\").votes_clean.mean()\n",
    "restaurant[\"votes_clean\"] = restaurant.groupby(\"city_split\").votes_clean.transform( lambda x : x.fillna(x.mean()))"
   ]
  },
  {
   "cell_type": "code",
   "execution_count": 203,
   "metadata": {},
   "outputs": [],
   "source": [
    "restaurant[\"votes_clean\"] = restaurant.votes_clean.transform( lambda x : x.fillna(x.mean()))"
   ]
  },
  {
   "cell_type": "code",
   "execution_count": 210,
   "metadata": {},
   "outputs": [
    {
     "data": {
      "text/plain": [
       "CITY              147\n",
       "COST             4231\n",
       "CUISINES            0\n",
       "LOCALITY          128\n",
       "RATING              0\n",
       "RESTAURANT_ID       0\n",
       "TIME                0\n",
       "TITLE               0\n",
       "VOTES            1606\n",
       "city_split          0\n",
       "votes_clean         0\n",
       "dtype: int64"
      ]
     },
     "execution_count": 210,
     "metadata": {},
     "output_type": "execute_result"
    }
   ],
   "source": [
    "restaurant.isna().sum()"
   ]
  },
  {
   "cell_type": "code",
   "execution_count": 35,
   "metadata": {},
   "outputs": [
    {
     "data": {
      "text/html": [
       "<div>\n",
       "<style scoped>\n",
       "    .dataframe tbody tr th:only-of-type {\n",
       "        vertical-align: middle;\n",
       "    }\n",
       "\n",
       "    .dataframe tbody tr th {\n",
       "        vertical-align: top;\n",
       "    }\n",
       "\n",
       "    .dataframe thead th {\n",
       "        text-align: right;\n",
       "    }\n",
       "</style>\n",
       "<table border=\"1\" class=\"dataframe\">\n",
       "  <thead>\n",
       "    <tr style=\"text-align: right;\">\n",
       "      <th></th>\n",
       "      <th>CITY</th>\n",
       "      <th>COST</th>\n",
       "      <th>CUISINES</th>\n",
       "      <th>LOCALITY</th>\n",
       "      <th>RATING</th>\n",
       "      <th>RESTAURANT_ID</th>\n",
       "      <th>TIME</th>\n",
       "      <th>TITLE</th>\n",
       "      <th>VOTES</th>\n",
       "      <th>city_split</th>\n",
       "    </tr>\n",
       "  </thead>\n",
       "  <tbody>\n",
       "  </tbody>\n",
       "</table>\n",
       "</div>"
      ],
      "text/plain": [
       "Empty DataFrame\n",
       "Columns: [CITY, COST, CUISINES, LOCALITY, RATING, RESTAURANT_ID, TIME, TITLE, VOTES, city_split]\n",
       "Index: []"
      ]
     },
     "execution_count": 35,
     "metadata": {},
     "output_type": "execute_result"
    }
   ],
   "source": [
    "#restaurant[restaurant[\"LOCALITY\"]==np.nan]\n",
    "restaurant[pd.isnull(restaurant[\"city_split\"])]\n",
    "#.LOCALITY.value_counts()"
   ]
  },
  {
   "cell_type": "code",
   "execution_count": 212,
   "metadata": {},
   "outputs": [
    {
     "data": {
      "text/plain": [
       "array(['THANE', 'CHENNAI', 'MUMBAI', 'BANGALORE', 'GURGAON', 'HYDERABAD',\n",
       "       'KOCHI', 'ANDHERI', 'NEW', 'MALAD', '682036', 'BANGALOR', 'NAVI',\n",
       "       'BANDRA', 'DELHI', 'NOIDA', 'BANGALORE-560066', 'SECUNDERABAD',\n",
       "       'NAN', 'INDIA', 'MADHURANAGAR', 'FARIDABAD', 'CHEMBUR.',\n",
       "       'MAHARASHTRA', 'OPP', 'TELAGANA', 'GHAZIABAD', 'KARNATAKA',\n",
       "       'KERALA', 'EDAPPALLY', 'KADAVANTHRA', 'ERNAKULAM', 'BENGALORE',\n",
       "       'NEAR', 'KILPAUK', 'BENGALURU', 'KOTHAGUDA', 'GOREGAON',\n",
       "       'BANGLORE', 'TAMIL', 'KAKKANAD', 'OUTER', 'MULUND', 'TELANGANA',\n",
       "       'PONNURUNI', 'GACHIBOWLI', 'SEMMANCHERI', '5TH', 'POWAI',\n",
       "       'DOMBIVALI', 'KANDIVALI', 'DEWAN', 'GURUGRAM', 'SECTOR', 'KALOOR',\n",
       "       'BESANT', 'ARUMBAKKAM', 'ADJACENT', 'DWARKA', '682035.', 'KALYAN',\n",
       "       'AVADI', 'KONDAPUR', 'MEHDIPATNAM', 'GANDIPET', 'VELACHERY',\n",
       "       'PALLAVARAM', 'VIJAYA', 'BTM', 'METRO', 'JP', 'MADHAPUR',\n",
       "       'SARJAPUR', 'WHITEFIELD', 'KOCHI-683101', 'ROHINI', 'KAROL',\n",
       "       'PERUNGUDI', 'THYKOODAM', 'GREATER', 'BANGALORE.', 'KHAIRATABAD',\n",
       "       'CHULLICKAL', 'GRANT', 'HITECH', 'WEST', 'CHANDER', 'NEDUMBASSERY',\n",
       "       'MG', 'NAYA', 'PITAMPURA', 'LOWER', 'HBR', 'RAJIV', 'MEDAVAKKAM',\n",
       "       'SATHYA', 'P.O', 'BEHIND', 'PALARIVATTOM', 'BRIGADE', 'MUMBAI.',\n",
       "       'VIRAR', 'B-1', 'HYDERABAD.', 'ALUVA', 'IOB', 'HSR', 'MARINE',\n",
       "       'DLF', 'NALLATHAMBI', 'CITYPARK', 'BHAYANDAR', 'THAMMENAHALLI',\n",
       "       'SG', 'ATTAPUR.', 'KHAR', 'ROAD', 'KUKATPALLY', 'FARIDABD',\n",
       "       'DILSUKHNAGAR', 'MOGAPPAIR.', 'OFF', 'POTHERI', 'OMR',\n",
       "       'HYDERABAD-500032', 'MAHIM', 'LINGAMPALLY', 'CHENNAI-', 'VASAI',\n",
       "       'BANASWADI', 'CPR', 'ECR', 'WARD', 'PERUMBAVOOR', 'MIRA',\n",
       "       'CHENNAI.', 'POKHRAN', 'UTTAR', 'NAHARPAR', 'HOSUR', 'SRIRAM',\n",
       "       'VYTTILA', 'BANJARA', 'MALAPALLIPURAM', 'PANAMPILLY', 'BORIVALI',\n",
       "       'ECIL', 'JUBILEE', 'AMRIT', 'TELENGANA', 'RAJANPADA',\n",
       "       'MAHABALIPURAM', 'SECUNDERABAD.', 'GURGOAN', 'ELAMAKKARA',\n",
       "       'KOLATHUR', '3RD', 'RODEO', 'PALLIMUKKU', 'CHAMPAPET', 'ANDAVAR',\n",
       "       'NUNGAMBAKKAM', 'BK', 'JOGESHWARI', 'KUKATAPALLY', 'NAVALLUR',\n",
       "       'BESIDE', 'BEGUMPET', 'MAHARAJA', 'ASHOK', 'TRIVANDRUM',\n",
       "       'KOCHI-18', 'NARAYANGUDA', 'THEVERA', 'CHENNAI-40', 'PALM', 'EAST',\n",
       "       'RAMAPURAM', 'NANDANAM', 'SAKET', 'INDIRANAGAR', 'THIRUVANMIYUR',\n",
       "       'AMBATTUR', 'BANGLAORE', 'ANNA', 'OLD', 'KANAKAPURA',\n",
       "       'SERILINGAMPALLY', 'HIMAYATH', 'NALLALA', 'WAGLE', '1ST',\n",
       "       'KOCHI-16', 'FIRST', 'CHENN', '6', 'PERAMBUR', 'VAISHALI',\n",
       "       'THANISANDRA', 'BLOCK', 'OPPOSITE', 'VADAPALANI', 'KONDAPUR.',\n",
       "       'BADLAPUR', 'KALAMASSERY', 'PALAVAKKAM', 'TCS', 'MAHADEVPURA',\n",
       "       'VELIAVEETIL', 'SHOLINGANALLUR', 'TRIPUNITHURA', 'MOGAPPAIR',\n",
       "       'NAVI-MUMBAI', 'MARATHAHALLI', 'HARIDWAR', 'INDIRAPURAM',\n",
       "       'MANIKONDA', 'RAJARAJESHWARI', 'GST', 'FORT', 'LAHARI',\n",
       "       'RAMANTHAPUR', 'PHASE', '10TH', 'UPPAL', 'NIZAMPET', 'ULSOO',\n",
       "       'PVR', 'CHROMEPET', 'JANAKPURI', 'B.B.M.P', 'TAMBARAM',\n",
       "       'MALLESHWARAM', 'VADAPALANI.', 'DIST.', 'KOCHI.',\n",
       "       'KADUBESANAHALLI', 'MIG', 'HARYANA', 'GOLF', 'MASAB', 'PANATHUR',\n",
       "       'KALKAJI', 'APR', 'MAHARASHTRA.', 'GANDHINAGAR', 'SHOLINGANALLUR.',\n",
       "       '682024', 'GIRGAUM', 'KURLA', 'MARAD', 'NALLAGANDLA', 'VANDALUR',\n",
       "       'SECUNDERBAD', 'MM', 'CHITTETHUKKARA', 'DOMBIVLI', 'SAHAKARA',\n",
       "       'MOHAMMAD', 'TAVAREKERE', 'COMMUNITY', 'DELH.', 'SECTOR-6',\n",
       "       'KAARAIKUDI', 'TOLICHOWKI', 'HYDERABA', 'ALWARPET', 'SURARAM',\n",
       "       'FORUM', 'YOUSUFGUDA', 'CHENNAI-600008', 'CHEPAUK', 'CHOWPATTY',\n",
       "       'CHURCH', 'BALAVINAYAGAR', 'T-NAGAR', 'RA', 'HYDERABAD.STAR',\n",
       "       'HABSIGUDA', 'CHENNA', 'CHENNAI-119', 'SHIHAB', 'MIUMBAI',\n",
       "       'VANASTHALIPURAM', 'KK'], dtype=object)"
      ]
     },
     "execution_count": 212,
     "metadata": {},
     "output_type": "execute_result"
    }
   ],
   "source": [
    "restaurant.city_split.unique()"
   ]
  },
  {
   "cell_type": "code",
   "execution_count": 225,
   "metadata": {},
   "outputs": [],
   "source": [
    "restaurant['city_split'] = restaurant.city_split.str.replace(r'\\d+','')"
   ]
  },
  {
   "cell_type": "code",
   "execution_count": null,
   "metadata": {},
   "outputs": [],
   "source": [
    "restaurant['city_split'] = restaurant.city_split.str.replace('-','')"
   ]
  },
  {
   "cell_type": "code",
   "execution_count": 227,
   "metadata": {},
   "outputs": [],
   "source": [
    "restaurant['city_split'] = restaurant.city_split.str.replace('.','')"
   ]
  },
  {
   "cell_type": "code",
   "execution_count": 228,
   "metadata": {},
   "outputs": [
    {
     "data": {
      "text/plain": [
       "array(['THANE', 'CHENNAI', 'MUMBAI', 'BANGALORE', 'GURGAON', 'HYDERABAD',\n",
       "       'KOCHI', 'ANDHERI', 'NEW', 'MALAD', '', 'BANGALOR', 'NAVI',\n",
       "       'BANDRA', 'DELHI', 'NOIDA', 'SECUNDERABAD', 'NAN', 'INDIA',\n",
       "       'MADHURANAGAR', 'FARIDABAD', 'CHEMBUR', 'MAHARASHTRA', 'OPP',\n",
       "       'TELAGANA', 'GHAZIABAD', 'KARNATAKA', 'KERALA', 'EDAPPALLY',\n",
       "       'KADAVANTHRA', 'ERNAKULAM', 'BENGALORE', 'NEAR', 'KILPAUK',\n",
       "       'BENGALURU', 'KOTHAGUDA', 'GOREGAON', 'BANGLORE', 'TAMIL',\n",
       "       'KAKKANAD', 'OUTER', 'MULUND', 'TELANGANA', 'PONNURUNI',\n",
       "       'GACHIBOWLI', 'SEMMANCHERI', 'TH', 'POWAI', 'DOMBIVALI',\n",
       "       'KANDIVALI', 'DEWAN', 'GURUGRAM', 'SECTOR', 'KALOOR', 'BESANT',\n",
       "       'ARUMBAKKAM', 'ADJACENT', 'DWARKA', 'KALYAN', 'AVADI', 'KONDAPUR',\n",
       "       'MEHDIPATNAM', 'GANDIPET', 'VELACHERY', 'PALLAVARAM', 'VIJAYA',\n",
       "       'BTM', 'METRO', 'JP', 'MADHAPUR', 'SARJAPUR', 'WHITEFIELD',\n",
       "       'ROHINI', 'KAROL', 'PERUNGUDI', 'THYKOODAM', 'GREATER',\n",
       "       'KHAIRATABAD', 'CHULLICKAL', 'GRANT', 'HITECH', 'WEST', 'CHANDER',\n",
       "       'NEDUMBASSERY', 'MG', 'NAYA', 'PITAMPURA', 'LOWER', 'HBR', 'RAJIV',\n",
       "       'MEDAVAKKAM', 'SATHYA', 'PO', 'BEHIND', 'PALARIVATTOM', 'BRIGADE',\n",
       "       'VIRAR', 'B', 'ALUVA', 'IOB', 'HSR', 'MARINE', 'DLF',\n",
       "       'NALLATHAMBI', 'CITYPARK', 'BHAYANDAR', 'THAMMENAHALLI', 'SG',\n",
       "       'ATTAPUR', 'KHAR', 'ROAD', 'KUKATPALLY', 'FARIDABD',\n",
       "       'DILSUKHNAGAR', 'MOGAPPAIR', 'OFF', 'POTHERI', 'OMR', 'MAHIM',\n",
       "       'LINGAMPALLY', 'VASAI', 'BANASWADI', 'CPR', 'ECR', 'WARD',\n",
       "       'PERUMBAVOOR', 'MIRA', 'POKHRAN', 'UTTAR', 'NAHARPAR', 'HOSUR',\n",
       "       'SRIRAM', 'VYTTILA', 'BANJARA', 'MALAPALLIPURAM', 'PANAMPILLY',\n",
       "       'BORIVALI', 'ECIL', 'JUBILEE', 'AMRIT', 'TELENGANA', 'RAJANPADA',\n",
       "       'MAHABALIPURAM', 'GURGOAN', 'ELAMAKKARA', 'KOLATHUR', 'RD',\n",
       "       'RODEO', 'PALLIMUKKU', 'CHAMPAPET', 'ANDAVAR', 'NUNGAMBAKKAM',\n",
       "       'BK', 'JOGESHWARI', 'KUKATAPALLY', 'NAVALLUR', 'BESIDE',\n",
       "       'BEGUMPET', 'MAHARAJA', 'ASHOK', 'TRIVANDRUM', 'NARAYANGUDA',\n",
       "       'THEVERA', 'PALM', 'EAST', 'RAMAPURAM', 'NANDANAM', 'SAKET',\n",
       "       'INDIRANAGAR', 'THIRUVANMIYUR', 'AMBATTUR', 'BANGLAORE', 'ANNA',\n",
       "       'OLD', 'KANAKAPURA', 'SERILINGAMPALLY', 'HIMAYATH', 'NALLALA',\n",
       "       'WAGLE', 'ST', 'FIRST', 'CHENN', 'PERAMBUR', 'VAISHALI',\n",
       "       'THANISANDRA', 'BLOCK', 'OPPOSITE', 'VADAPALANI', 'BADLAPUR',\n",
       "       'KALAMASSERY', 'PALAVAKKAM', 'TCS', 'MAHADEVPURA', 'VELIAVEETIL',\n",
       "       'SHOLINGANALLUR', 'TRIPUNITHURA', 'NAVIMUMBAI', 'MARATHAHALLI',\n",
       "       'HARIDWAR', 'INDIRAPURAM', 'MANIKONDA', 'RAJARAJESHWARI', 'GST',\n",
       "       'FORT', 'LAHARI', 'RAMANTHAPUR', 'PHASE', 'UPPAL', 'NIZAMPET',\n",
       "       'ULSOO', 'PVR', 'CHROMEPET', 'JANAKPURI', 'BBMP', 'TAMBARAM',\n",
       "       'MALLESHWARAM', 'DIST', 'KADUBESANAHALLI', 'MIG', 'HARYANA',\n",
       "       'GOLF', 'MASAB', 'PANATHUR', 'KALKAJI', 'APR', 'GANDHINAGAR',\n",
       "       'GIRGAUM', 'KURLA', 'MARAD', 'NALLAGANDLA', 'VANDALUR',\n",
       "       'SECUNDERBAD', 'MM', 'CHITTETHUKKARA', 'DOMBIVLI', 'SAHAKARA',\n",
       "       'MOHAMMAD', 'TAVAREKERE', 'COMMUNITY', 'DELH', 'KAARAIKUDI',\n",
       "       'TOLICHOWKI', 'HYDERABA', 'ALWARPET', 'SURARAM', 'FORUM',\n",
       "       'YOUSUFGUDA', 'CHEPAUK', 'CHOWPATTY', 'CHURCH', 'BALAVINAYAGAR',\n",
       "       'TNAGAR', 'RA', 'HYDERABADSTAR', 'HABSIGUDA', 'CHENNA', 'SHIHAB',\n",
       "       'MIUMBAI', 'VANASTHALIPURAM', 'KK'], dtype=object)"
      ]
     },
     "execution_count": 228,
     "metadata": {},
     "output_type": "execute_result"
    }
   ],
   "source": [
    "restaurant.city_split.unique()"
   ]
  },
  {
   "cell_type": "code",
   "execution_count": 229,
   "metadata": {},
   "outputs": [
    {
     "data": {
      "text/plain": [
       "CHENNAI          2891\n",
       "BANGALORE        2847\n",
       "HYDERABAD        2473\n",
       "MUMBAI           2327\n",
       "KOCHI            1773\n",
       "                 ... \n",
       "PALM                1\n",
       "NAVALLUR            1\n",
       "BEHIND              1\n",
       "BALAVINAYAGAR       1\n",
       "SAHAKARA            1\n",
       "Name: city_split, Length: 260, dtype: int64"
      ]
     },
     "execution_count": 229,
     "metadata": {},
     "output_type": "execute_result"
    }
   ],
   "source": [
    "restaurant.city_split.value_counts()"
   ]
  },
  {
   "cell_type": "code",
   "execution_count": 230,
   "metadata": {},
   "outputs": [],
   "source": [
    "city_num=pd.Series(restaurant[\"city_split\"]).str.get_dummies()"
   ]
  },
  {
   "cell_type": "code",
   "execution_count": 232,
   "metadata": {},
   "outputs": [
    {
     "data": {
      "text/html": [
       "<div>\n",
       "<style scoped>\n",
       "    .dataframe tbody tr th:only-of-type {\n",
       "        vertical-align: middle;\n",
       "    }\n",
       "\n",
       "    .dataframe tbody tr th {\n",
       "        vertical-align: top;\n",
       "    }\n",
       "\n",
       "    .dataframe thead th {\n",
       "        text-align: right;\n",
       "    }\n",
       "</style>\n",
       "<table border=\"1\" class=\"dataframe\">\n",
       "  <thead>\n",
       "    <tr style=\"text-align: right;\">\n",
       "      <th></th>\n",
       "      <th>ADJACENT</th>\n",
       "      <th>ALUVA</th>\n",
       "      <th>ALWARPET</th>\n",
       "      <th>AMBATTUR</th>\n",
       "      <th>AMRIT</th>\n",
       "      <th>ANDAVAR</th>\n",
       "      <th>ANDHERI</th>\n",
       "      <th>ANNA</th>\n",
       "      <th>APR</th>\n",
       "      <th>ARUMBAKKAM</th>\n",
       "      <th>...</th>\n",
       "      <th>VELACHERY</th>\n",
       "      <th>VELIAVEETIL</th>\n",
       "      <th>VIJAYA</th>\n",
       "      <th>VIRAR</th>\n",
       "      <th>VYTTILA</th>\n",
       "      <th>WAGLE</th>\n",
       "      <th>WARD</th>\n",
       "      <th>WEST</th>\n",
       "      <th>WHITEFIELD</th>\n",
       "      <th>YOUSUFGUDA</th>\n",
       "    </tr>\n",
       "  </thead>\n",
       "  <tbody>\n",
       "    <tr>\n",
       "      <td>0</td>\n",
       "      <td>0</td>\n",
       "      <td>0</td>\n",
       "      <td>0</td>\n",
       "      <td>0</td>\n",
       "      <td>0</td>\n",
       "      <td>0</td>\n",
       "      <td>0</td>\n",
       "      <td>0</td>\n",
       "      <td>0</td>\n",
       "      <td>0</td>\n",
       "      <td>...</td>\n",
       "      <td>0</td>\n",
       "      <td>0</td>\n",
       "      <td>0</td>\n",
       "      <td>0</td>\n",
       "      <td>0</td>\n",
       "      <td>0</td>\n",
       "      <td>0</td>\n",
       "      <td>0</td>\n",
       "      <td>0</td>\n",
       "      <td>0</td>\n",
       "    </tr>\n",
       "    <tr>\n",
       "      <td>1</td>\n",
       "      <td>0</td>\n",
       "      <td>0</td>\n",
       "      <td>0</td>\n",
       "      <td>0</td>\n",
       "      <td>0</td>\n",
       "      <td>0</td>\n",
       "      <td>0</td>\n",
       "      <td>0</td>\n",
       "      <td>0</td>\n",
       "      <td>0</td>\n",
       "      <td>...</td>\n",
       "      <td>0</td>\n",
       "      <td>0</td>\n",
       "      <td>0</td>\n",
       "      <td>0</td>\n",
       "      <td>0</td>\n",
       "      <td>0</td>\n",
       "      <td>0</td>\n",
       "      <td>0</td>\n",
       "      <td>0</td>\n",
       "      <td>0</td>\n",
       "    </tr>\n",
       "    <tr>\n",
       "      <td>2</td>\n",
       "      <td>0</td>\n",
       "      <td>0</td>\n",
       "      <td>0</td>\n",
       "      <td>0</td>\n",
       "      <td>0</td>\n",
       "      <td>0</td>\n",
       "      <td>0</td>\n",
       "      <td>0</td>\n",
       "      <td>0</td>\n",
       "      <td>0</td>\n",
       "      <td>...</td>\n",
       "      <td>0</td>\n",
       "      <td>0</td>\n",
       "      <td>0</td>\n",
       "      <td>0</td>\n",
       "      <td>0</td>\n",
       "      <td>0</td>\n",
       "      <td>0</td>\n",
       "      <td>0</td>\n",
       "      <td>0</td>\n",
       "      <td>0</td>\n",
       "    </tr>\n",
       "    <tr>\n",
       "      <td>3</td>\n",
       "      <td>0</td>\n",
       "      <td>0</td>\n",
       "      <td>0</td>\n",
       "      <td>0</td>\n",
       "      <td>0</td>\n",
       "      <td>0</td>\n",
       "      <td>0</td>\n",
       "      <td>0</td>\n",
       "      <td>0</td>\n",
       "      <td>0</td>\n",
       "      <td>...</td>\n",
       "      <td>0</td>\n",
       "      <td>0</td>\n",
       "      <td>0</td>\n",
       "      <td>0</td>\n",
       "      <td>0</td>\n",
       "      <td>0</td>\n",
       "      <td>0</td>\n",
       "      <td>0</td>\n",
       "      <td>0</td>\n",
       "      <td>0</td>\n",
       "    </tr>\n",
       "    <tr>\n",
       "      <td>4</td>\n",
       "      <td>0</td>\n",
       "      <td>0</td>\n",
       "      <td>0</td>\n",
       "      <td>0</td>\n",
       "      <td>0</td>\n",
       "      <td>0</td>\n",
       "      <td>0</td>\n",
       "      <td>0</td>\n",
       "      <td>0</td>\n",
       "      <td>0</td>\n",
       "      <td>...</td>\n",
       "      <td>0</td>\n",
       "      <td>0</td>\n",
       "      <td>0</td>\n",
       "      <td>0</td>\n",
       "      <td>0</td>\n",
       "      <td>0</td>\n",
       "      <td>0</td>\n",
       "      <td>0</td>\n",
       "      <td>0</td>\n",
       "      <td>0</td>\n",
       "    </tr>\n",
       "  </tbody>\n",
       "</table>\n",
       "<p>5 rows × 259 columns</p>\n",
       "</div>"
      ],
      "text/plain": [
       "   ADJACENT  ALUVA  ALWARPET  AMBATTUR  AMRIT  ANDAVAR  ANDHERI  ANNA  APR  \\\n",
       "0         0      0         0         0      0        0        0     0    0   \n",
       "1         0      0         0         0      0        0        0     0    0   \n",
       "2         0      0         0         0      0        0        0     0    0   \n",
       "3         0      0         0         0      0        0        0     0    0   \n",
       "4         0      0         0         0      0        0        0     0    0   \n",
       "\n",
       "   ARUMBAKKAM  ...  VELACHERY  VELIAVEETIL  VIJAYA  VIRAR  VYTTILA  WAGLE  \\\n",
       "0           0  ...          0            0       0      0        0      0   \n",
       "1           0  ...          0            0       0      0        0      0   \n",
       "2           0  ...          0            0       0      0        0      0   \n",
       "3           0  ...          0            0       0      0        0      0   \n",
       "4           0  ...          0            0       0      0        0      0   \n",
       "\n",
       "   WARD  WEST  WHITEFIELD  YOUSUFGUDA  \n",
       "0     0     0           0           0  \n",
       "1     0     0           0           0  \n",
       "2     0     0           0           0  \n",
       "3     0     0           0           0  \n",
       "4     0     0           0           0  \n",
       "\n",
       "[5 rows x 259 columns]"
      ]
     },
     "execution_count": 232,
     "metadata": {},
     "output_type": "execute_result"
    }
   ],
   "source": [
    "city_num.head()"
   ]
  },
  {
   "cell_type": "code",
   "execution_count": 233,
   "metadata": {},
   "outputs": [
    {
     "data": {
      "text/html": [
       "<div>\n",
       "<style scoped>\n",
       "    .dataframe tbody tr th:only-of-type {\n",
       "        vertical-align: middle;\n",
       "    }\n",
       "\n",
       "    .dataframe tbody tr th {\n",
       "        vertical-align: top;\n",
       "    }\n",
       "\n",
       "    .dataframe thead th {\n",
       "        text-align: right;\n",
       "    }\n",
       "</style>\n",
       "<table border=\"1\" class=\"dataframe\">\n",
       "  <thead>\n",
       "    <tr style=\"text-align: right;\">\n",
       "      <th></th>\n",
       "      <th></th>\n",
       "      <th>Afghan</th>\n",
       "      <th>African</th>\n",
       "      <th>American</th>\n",
       "      <th>Andhra</th>\n",
       "      <th>Arabian</th>\n",
       "      <th>Asian</th>\n",
       "      <th>Assamese</th>\n",
       "      <th>Awadhi</th>\n",
       "      <th>BBQ</th>\n",
       "      <th>...</th>\n",
       "      <th>Street Food</th>\n",
       "      <th>Sushi</th>\n",
       "      <th>Tamil</th>\n",
       "      <th>Tea</th>\n",
       "      <th>Tex-Mex</th>\n",
       "      <th>Thai</th>\n",
       "      <th>Tibetan</th>\n",
       "      <th>Turkish</th>\n",
       "      <th>Vietnamese</th>\n",
       "      <th>Wraps</th>\n",
       "    </tr>\n",
       "  </thead>\n",
       "  <tbody>\n",
       "    <tr>\n",
       "      <td>0</td>\n",
       "      <td>0</td>\n",
       "      <td>0</td>\n",
       "      <td>0</td>\n",
       "      <td>0</td>\n",
       "      <td>0</td>\n",
       "      <td>0</td>\n",
       "      <td>0</td>\n",
       "      <td>0</td>\n",
       "      <td>0</td>\n",
       "      <td>0</td>\n",
       "      <td>...</td>\n",
       "      <td>0</td>\n",
       "      <td>0</td>\n",
       "      <td>0</td>\n",
       "      <td>0</td>\n",
       "      <td>0</td>\n",
       "      <td>0</td>\n",
       "      <td>0</td>\n",
       "      <td>0</td>\n",
       "      <td>0</td>\n",
       "      <td>0</td>\n",
       "    </tr>\n",
       "    <tr>\n",
       "      <td>1</td>\n",
       "      <td>0</td>\n",
       "      <td>0</td>\n",
       "      <td>0</td>\n",
       "      <td>0</td>\n",
       "      <td>0</td>\n",
       "      <td>0</td>\n",
       "      <td>0</td>\n",
       "      <td>0</td>\n",
       "      <td>0</td>\n",
       "      <td>0</td>\n",
       "      <td>...</td>\n",
       "      <td>0</td>\n",
       "      <td>0</td>\n",
       "      <td>0</td>\n",
       "      <td>0</td>\n",
       "      <td>0</td>\n",
       "      <td>0</td>\n",
       "      <td>0</td>\n",
       "      <td>0</td>\n",
       "      <td>0</td>\n",
       "      <td>0</td>\n",
       "    </tr>\n",
       "    <tr>\n",
       "      <td>2</td>\n",
       "      <td>0</td>\n",
       "      <td>0</td>\n",
       "      <td>0</td>\n",
       "      <td>0</td>\n",
       "      <td>0</td>\n",
       "      <td>0</td>\n",
       "      <td>0</td>\n",
       "      <td>0</td>\n",
       "      <td>0</td>\n",
       "      <td>0</td>\n",
       "      <td>...</td>\n",
       "      <td>0</td>\n",
       "      <td>0</td>\n",
       "      <td>0</td>\n",
       "      <td>0</td>\n",
       "      <td>0</td>\n",
       "      <td>0</td>\n",
       "      <td>0</td>\n",
       "      <td>0</td>\n",
       "      <td>0</td>\n",
       "      <td>0</td>\n",
       "    </tr>\n",
       "    <tr>\n",
       "      <td>3</td>\n",
       "      <td>0</td>\n",
       "      <td>0</td>\n",
       "      <td>0</td>\n",
       "      <td>0</td>\n",
       "      <td>0</td>\n",
       "      <td>0</td>\n",
       "      <td>0</td>\n",
       "      <td>0</td>\n",
       "      <td>0</td>\n",
       "      <td>0</td>\n",
       "      <td>...</td>\n",
       "      <td>0</td>\n",
       "      <td>0</td>\n",
       "      <td>0</td>\n",
       "      <td>0</td>\n",
       "      <td>0</td>\n",
       "      <td>0</td>\n",
       "      <td>1</td>\n",
       "      <td>0</td>\n",
       "      <td>0</td>\n",
       "      <td>0</td>\n",
       "    </tr>\n",
       "    <tr>\n",
       "      <td>4</td>\n",
       "      <td>0</td>\n",
       "      <td>0</td>\n",
       "      <td>0</td>\n",
       "      <td>0</td>\n",
       "      <td>0</td>\n",
       "      <td>0</td>\n",
       "      <td>0</td>\n",
       "      <td>0</td>\n",
       "      <td>0</td>\n",
       "      <td>0</td>\n",
       "      <td>...</td>\n",
       "      <td>0</td>\n",
       "      <td>0</td>\n",
       "      <td>0</td>\n",
       "      <td>0</td>\n",
       "      <td>0</td>\n",
       "      <td>0</td>\n",
       "      <td>0</td>\n",
       "      <td>0</td>\n",
       "      <td>0</td>\n",
       "      <td>0</td>\n",
       "    </tr>\n",
       "  </tbody>\n",
       "</table>\n",
       "<p>5 rows × 228 columns</p>\n",
       "</div>"
      ],
      "text/plain": [
       "       Afghan   African   American   Andhra   Arabian   Asian   Assamese  \\\n",
       "0  0        0         0          0        0         0       0          0   \n",
       "1  0        0         0          0        0         0       0          0   \n",
       "2  0        0         0          0        0         0       0          0   \n",
       "3  0        0         0          0        0         0       0          0   \n",
       "4  0        0         0          0        0         0       0          0   \n",
       "\n",
       "    Awadhi   BBQ  ...  Street Food  Sushi  Tamil  Tea  Tex-Mex  Thai  Tibetan  \\\n",
       "0        0     0  ...            0      0      0    0        0     0        0   \n",
       "1        0     0  ...            0      0      0    0        0     0        0   \n",
       "2        0     0  ...            0      0      0    0        0     0        0   \n",
       "3        0     0  ...            0      0      0    0        0     0        1   \n",
       "4        0     0  ...            0      0      0    0        0     0        0   \n",
       "\n",
       "   Turkish  Vietnamese  Wraps  \n",
       "0        0           0      0  \n",
       "1        0           0      0  \n",
       "2        0           0      0  \n",
       "3        0           0      0  \n",
       "4        0           0      0  \n",
       "\n",
       "[5 rows x 228 columns]"
      ]
     },
     "execution_count": 233,
     "metadata": {},
     "output_type": "execute_result"
    }
   ],
   "source": [
    "cuisines_split.head()"
   ]
  },
  {
   "cell_type": "code",
   "execution_count": 237,
   "metadata": {},
   "outputs": [
    {
     "data": {
      "text/plain": [
       "0"
      ]
     },
     "execution_count": 237,
     "metadata": {},
     "output_type": "execute_result"
    }
   ],
   "source": [
    "restaurant.TITLE.isna().sum()"
   ]
  },
  {
   "cell_type": "code",
   "execution_count": null,
   "metadata": {},
   "outputs": [],
   "source": [
    "#restaurant[\"TITLE\"] = restaurant[]"
   ]
  },
  {
   "cell_type": "code",
   "execution_count": 234,
   "metadata": {},
   "outputs": [
    {
     "data": {
      "text/plain": [
       "Index(['CITY', 'COST', 'CUISINES', 'LOCALITY', 'RATING', 'RESTAURANT_ID',\n",
       "       'TIME', 'TITLE', 'VOTES', 'city_split', 'votes_clean'],\n",
       "      dtype='object')"
      ]
     },
     "execution_count": 234,
     "metadata": {},
     "output_type": "execute_result"
    }
   ],
   "source": [
    "restaurant.columns"
   ]
  },
  {
   "cell_type": "code",
   "execution_count": 336,
   "metadata": {},
   "outputs": [],
   "source": [
    "#res_clean = pd.concat([restaurant['RESTAURANT_ID'],restaurant[\"RATING\"],restaurant['votes_clean'],restaurant['COST'],cuisines_split,city_num],axis = 1)\n",
    "res_clean1 = pd.concat([restaurant['RESTAURANT_ID'],restaurant[\"RATING\"],restaurant['votes_clean'],restaurant['COST'],city_num],axis = 1)"
   ]
  },
  {
   "cell_type": "code",
   "execution_count": 253,
   "metadata": {},
   "outputs": [],
   "source": [
    "# didn't work , Need to understand why ?????\n",
    "\"\"\"res_train = res_clean[res_clean.COST != np.nan ]\n",
    "res_test = res_clean[res_clean.COST == np.nan ]\"\"\""
   ]
  },
  {
   "cell_type": "code",
   "execution_count": 337,
   "metadata": {},
   "outputs": [],
   "source": [
    "res_train1 = res_clean1.iloc[0:12690]\n",
    "res_test1 =  res_clean1.iloc[12690::]"
   ]
  },
  {
   "cell_type": "code",
   "execution_count": 339,
   "metadata": {},
   "outputs": [
    {
     "data": {
      "text/plain": [
       "RESTAURANT_ID    0\n",
       "RATING           0\n",
       "votes_clean      0\n",
       "COST             0\n",
       "ADJACENT         0\n",
       "                ..\n",
       "WAGLE            0\n",
       "WARD             0\n",
       "WEST             0\n",
       "WHITEFIELD       0\n",
       "YOUSUFGUDA       0\n",
       "Length: 263, dtype: int64"
      ]
     },
     "execution_count": 339,
     "metadata": {},
     "output_type": "execute_result"
    }
   ],
   "source": [
    "res_train1.isna().sum()"
   ]
  },
  {
   "cell_type": "code",
   "execution_count": 341,
   "metadata": {},
   "outputs": [
    {
     "data": {
      "text/plain": [
       "(12690, 263)"
      ]
     },
     "execution_count": 341,
     "metadata": {},
     "output_type": "execute_result"
    }
   ],
   "source": [
    "res_train1.shape"
   ]
  },
  {
   "cell_type": "code",
   "execution_count": 342,
   "metadata": {},
   "outputs": [
    {
     "data": {
      "text/plain": [
       "(4231, 263)"
      ]
     },
     "execution_count": 342,
     "metadata": {},
     "output_type": "execute_result"
    }
   ],
   "source": [
    "res_test1.shape"
   ]
  },
  {
   "cell_type": "code",
   "execution_count": null,
   "metadata": {},
   "outputs": [],
   "source": []
  },
  {
   "cell_type": "code",
   "execution_count": 352,
   "metadata": {},
   "outputs": [],
   "source": [
    "#train_X = res_train.drop(columns=['RESTAURANT_ID','COST'])\n",
    "train_X1 = res_train1.drop(columns=['RESTAURANT_ID','COST'])"
   ]
  },
  {
   "cell_type": "code",
   "execution_count": 358,
   "metadata": {},
   "outputs": [],
   "source": [
    "#train_Y = res_train['COST']\n",
    "train_Y1 = res_train1['COST']"
   ]
  },
  {
   "cell_type": "code",
   "execution_count": 359,
   "metadata": {},
   "outputs": [
    {
     "data": {
      "text/plain": [
       "0    1200.0\n",
       "1    1500.0\n",
       "2     800.0\n",
       "3     800.0\n",
       "4     300.0\n",
       "Name: COST, dtype: float64"
      ]
     },
     "execution_count": 359,
     "metadata": {},
     "output_type": "execute_result"
    }
   ],
   "source": [
    "train_Y1.head()"
   ]
  },
  {
   "cell_type": "code",
   "execution_count": null,
   "metadata": {},
   "outputs": [],
   "source": []
  },
  {
   "cell_type": "code",
   "execution_count": 347,
   "metadata": {},
   "outputs": [],
   "source": [
    "#train_train_X, test_train_X, train_train_y, test_train_y = train_test_split(train_X, train_Y, test_size = 0.3, random_state = 8)\n",
    "train_train_X1, test_train_X1, train_train_y1, test_train_y1 = train_test_split(train_X1, train_Y1, test_size = 0.3, random_state = 8)"
   ]
  },
  {
   "cell_type": "code",
   "execution_count": 313,
   "metadata": {},
   "outputs": [],
   "source": [
    "%matplotlib inline\n",
    "from sklearn.model_selection import train_test_split\n",
    "from sklearn.linear_model import LinearRegression\n",
    "from sklearn.metrics import mean_squared_error\n",
    "from sklearn.linear_model import Ridge\n",
    "from sklearn.linear_model import Lasso\n",
    "from sklearn.linear_model import ElasticNet\n",
    "import warnings\n",
    "warnings.filterwarnings(\"ignore\")"
   ]
  },
  {
   "cell_type": "code",
   "execution_count": 381,
   "metadata": {},
   "outputs": [],
   "source": [
    "def model_fit(model, train_X, test_X, train_y, test_y ):\n",
    "    import numpy as np\n",
    "    model.fit(train_X,train_y)\n",
    "    \n",
    "    pd.DataFrame(model.coef_,train_X.columns).plot(kind = \"bar\")\n",
    "\n",
    "    train_predict = model.predict(train_X)\n",
    "\n",
    "    test_predict = model.predict(test_X)\n",
    "    \n",
    "    print(\"Train RMSE : \",np.sqrt(mean_squared_error(train_predict,train_y)))\n",
    "    print(\"Test RMSE : \",np.sqrt(mean_squared_error(test_predict,test_y)))\n",
    "    print ( 'number of features used: ' ,  np.sum(model.coef_!=0) ) \n"
   ]
  },
  {
   "cell_type": "code",
   "execution_count": 349,
   "metadata": {},
   "outputs": [
    {
     "data": {
      "text/plain": [
       "(8883, 489)"
      ]
     },
     "execution_count": 349,
     "metadata": {},
     "output_type": "execute_result"
    }
   ],
   "source": [
    "train_train_X.shape"
   ]
  },
  {
   "cell_type": "code",
   "execution_count": 350,
   "metadata": {},
   "outputs": [
    {
     "data": {
      "text/plain": [
       "(3807, 489)"
      ]
     },
     "execution_count": 350,
     "metadata": {},
     "output_type": "execute_result"
    }
   ],
   "source": [
    "test_train_X.shape"
   ]
  },
  {
   "cell_type": "code",
   "execution_count": 383,
   "metadata": {},
   "outputs": [
    {
     "name": "stdout",
     "output_type": "stream",
     "text": [
      "Train RMSE :  443.51448086010686\n",
      "Test RMSE :  7311609286.4443865\n",
      "number of features used:  466\n"
     ]
    },
    {
     "data": {
      "image/png": "[encoded data removed]",
      "text/plain": [
       "<Figure size 432x288 with 1 Axes>"
      ]
     },
     "metadata": {
      "needs_background": "light"
     },
     "output_type": "display_data"
    }
   ],
   "source": [
    "## Considered RATING , cities , VOTES , CUISINE variable for this model \n",
    "\n",
    "model = LinearRegression() \n",
    "model_fit(model,train_train_X, test_train_X, train_train_y, test_train_y)"
   ]
  },
  {
   "cell_type": "code",
   "execution_count": null,
   "metadata": {},
   "outputs": [],
   "source": []
  },
  {
   "cell_type": "code",
   "execution_count": 382,
   "metadata": {},
   "outputs": [
    {
     "name": "stdout",
     "output_type": "stream",
     "text": [
      "Train RMSE :  464.7776976584845\n",
      "Test RMSE :  536.0731615198318\n",
      "number of features used:  65\n"
     ]
    },
    {
     "data": {
      "image/png": "[encoded data removed]",
      "text/plain": [
       "<Figure size 432x288 with 1 Axes>"
      ]
     },
     "metadata": {
      "needs_background": "light"
     },
     "output_type": "display_data"
    }
   ],
   "source": [
    "## Considered RATING , cities , VOTES , CUISINE variable for this model \n",
    "model = Lasso()\n",
    "model_fit(model,train_train_X, test_train_X, train_train_y, test_train_y)"
   ]
  },
  {
   "cell_type": "code",
   "execution_count": 361,
   "metadata": {},
   "outputs": [
    {
     "data": {
      "text/plain": [
       "(8883, 261)"
      ]
     },
     "execution_count": 361,
     "metadata": {},
     "output_type": "execute_result"
    }
   ],
   "source": [
    "train_train_X1.shape"
   ]
  },
  {
   "cell_type": "code",
   "execution_count": 362,
   "metadata": {},
   "outputs": [
    {
     "data": {
      "text/plain": [
       "(3807, 261)"
      ]
     },
     "execution_count": 362,
     "metadata": {},
     "output_type": "execute_result"
    }
   ],
   "source": [
    "test_train_X1.shape"
   ]
  },
  {
   "cell_type": "code",
   "execution_count": 363,
   "metadata": {},
   "outputs": [
    {
     "data": {
      "text/plain": [
       "(8883,)"
      ]
     },
     "execution_count": 363,
     "metadata": {},
     "output_type": "execute_result"
    }
   ],
   "source": [
    "train_train_y1.shape"
   ]
  },
  {
   "cell_type": "code",
   "execution_count": 364,
   "metadata": {},
   "outputs": [
    {
     "data": {
      "text/plain": [
       "(3807,)"
      ]
     },
     "execution_count": 364,
     "metadata": {},
     "output_type": "execute_result"
    }
   ],
   "source": [
    "test_train_y1.shape"
   ]
  },
  {
   "cell_type": "code",
   "execution_count": 374,
   "metadata": {},
   "outputs": [
    {
     "name": "stdout",
     "output_type": "stream",
     "text": [
      "Train RMSE :  565.0036536409639\n",
      "Test RMSE :  633.1377880564909\n"
     ]
    },
    {
     "data": {
      "image/png": "[encoded data removed]",
      "text/plain": [
       "<Figure size 432x288 with 1 Axes>"
      ]
     },
     "metadata": {
      "needs_background": "light"
     },
     "output_type": "display_data"
    }
   ],
   "source": [
    "## Considered RATING , cities , VOTES variable for this model  ( Removed Cuisine variable )\n",
    "model = LinearRegression() \n",
    "model_fit(model,train_train_X1, test_train_X1, train_train_y1, test_train_y1)"
   ]
  }
 ],
 "metadata": {
  "kernelspec": {
   "display_name": "Python 3",
   "language": "python",
   "name": "python3"
  },
  "language_info": {
   "codemirror_mode": {
    "name": "ipython",
    "version": 3
   },
   "file_extension": ".py",
   "mimetype": "text/x-python",
   "name": "python",
   "nbconvert_exporter": "python",
   "pygments_lexer": "ipython3",
   "version": "3.7.4"
  }
 },
 "nbformat": 4,
 "nbformat_minor": 2
}
