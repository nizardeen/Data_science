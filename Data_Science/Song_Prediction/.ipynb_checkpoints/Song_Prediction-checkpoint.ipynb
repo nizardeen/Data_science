{
 "cells": [
  {
   "cell_type": "code",
   "execution_count": null,
   "metadata": {},
   "outputs": [],
   "source": [
    "%matplotlib inline\n",
    "import pandas as pd\n",
    "import numpy as np\n",
    "from sklearn.model_selection import train_test_split\n",
    "from sklearn.linear_model import LinearRegression\n",
    "from sklearn.linear_model import Ridge\n",
    "from sklearn.linear_model import Lasso\n",
    "from sklearn.linear_model import ElasticNet\n",
    "from sklearn.metrics import mean_squared_error\n",
    "from sklearn.preprocessing import LabelEncoder\n",
    "import warnings\n",
    "warnings.filterwarnings('ignore')\n",
    "\n",
    "from collections import Counter\n",
    "import re\n",
    "\n",
    "from googletrans import Translator"
   ]
  },
  {
   "cell_type": "code",
   "execution_count": null,
   "metadata": {},
   "outputs": [],
   "source": []
  },
  {
   "cell_type": "code",
   "execution_count": null,
   "metadata": {},
   "outputs": [],
   "source": []
  },
  {
   "cell_type": "code",
   "execution_count": null,
   "metadata": {},
   "outputs": [],
   "source": [
    "df_train = pd.read_csv('Data_Train.csv')\n",
    "df_test = pd.read_csv('Data_Test.csv')"
   ]
  },
  {
   "cell_type": "code",
   "execution_count": null,
   "metadata": {},
   "outputs": [],
   "source": [
    "df_train.shape"
   ]
  },
  {
   "cell_type": "code",
   "execution_count": null,
   "metadata": {},
   "outputs": [],
   "source": [
    "df_train.head()"
   ]
  },
  {
   "cell_type": "code",
   "execution_count": null,
   "metadata": {},
   "outputs": [],
   "source": [
    "df = pd.concat([df_train,df_test])"
   ]
  },
  {
   "cell_type": "code",
   "execution_count": null,
   "metadata": {},
   "outputs": [],
   "source": [
    "df_test.head()"
   ]
  },
  {
   "cell_type": "code",
   "execution_count": null,
   "metadata": {},
   "outputs": [],
   "source": [
    "df_test.shape"
   ]
  },
  {
   "cell_type": "code",
   "execution_count": null,
   "metadata": {},
   "outputs": [],
   "source": [
    "df.head()"
   ]
  },
  {
   "cell_type": "code",
   "execution_count": null,
   "metadata": {},
   "outputs": [],
   "source": [
    "df.shape"
   ]
  },
  {
   "cell_type": "code",
   "execution_count": null,
   "metadata": {},
   "outputs": [],
   "source": [
    "df.columns = df.columns.map(str.lower)"
   ]
  },
  {
   "cell_type": "code",
   "execution_count": null,
   "metadata": {},
   "outputs": [],
   "source": []
  },
  {
   "cell_type": "code",
   "execution_count": null,
   "metadata": {},
   "outputs": [],
   "source": [
    "df.head()"
   ]
  },
  {
   "cell_type": "code",
   "execution_count": null,
   "metadata": {},
   "outputs": [],
   "source": [
    "df[df.song_name.isna()]"
   ]
  },
  {
   "cell_type": "code",
   "execution_count": null,
   "metadata": {},
   "outputs": [],
   "source": [
    "song_name_conter = Counter(df.loc[df.name == 'San Holo'].song_name)"
   ]
  },
  {
   "cell_type": "code",
   "execution_count": null,
   "metadata": {},
   "outputs": [],
   "source": [
    "# song_name_conter"
   ]
  },
  {
   "cell_type": "code",
   "execution_count": null,
   "metadata": {},
   "outputs": [],
   "source": [
    "song_name = df.loc[df.name == 'San Holo'].song_name.mode()[0]"
   ]
  },
  {
   "cell_type": "code",
   "execution_count": null,
   "metadata": {},
   "outputs": [],
   "source": [
    "df[df.song_name.isna()]"
   ]
  },
  {
   "cell_type": "code",
   "execution_count": null,
   "metadata": {},
   "outputs": [],
   "source": [
    "df.song_name.fillna(song_name,inplace=True)"
   ]
  },
  {
   "cell_type": "code",
   "execution_count": null,
   "metadata": {},
   "outputs": [],
   "source": [
    "df.song_name.isna().sum()"
   ]
  },
  {
   "cell_type": "code",
   "execution_count": null,
   "metadata": {},
   "outputs": [],
   "source": [
    "df.isna().sum()"
   ]
  },
  {
   "cell_type": "code",
   "execution_count": null,
   "metadata": {},
   "outputs": [],
   "source": [
    "df.info()"
   ]
  },
  {
   "cell_type": "code",
   "execution_count": null,
   "metadata": {},
   "outputs": [],
   "source": [
    "df.country.unique()"
   ]
  },
  {
   "cell_type": "code",
   "execution_count": null,
   "metadata": {},
   "outputs": [],
   "source": [
    "df.genre.unique()"
   ]
  },
  {
   "cell_type": "code",
   "execution_count": null,
   "metadata": {},
   "outputs": [],
   "source": [
    "df.head()"
   ]
  },
  {
   "cell_type": "code",
   "execution_count": null,
   "metadata": {},
   "outputs": [],
   "source": [
    "name_counter = Counter(df.name)"
   ]
  },
  {
   "cell_type": "code",
   "execution_count": null,
   "metadata": {},
   "outputs": [],
   "source": [
    "name_counter"
   ]
  },
  {
   "cell_type": "code",
   "execution_count": null,
   "metadata": {},
   "outputs": [],
   "source": [
    "df.loc[df.name == 'شعبي ساوند','name'] = 'Popular Sound'"
   ]
  },
  {
   "cell_type": "code",
   "execution_count": null,
   "metadata": {},
   "outputs": [],
   "source": [
    "# df.loc[df.song_name.str.contains('مهرجان مستر تعبان مهرجانات تيم حريف شعبى'),'name'] = 'Mister Taaban Festival festivals Tim Charif popular'\n"
   ]
  },
  {
   "cell_type": "code",
   "execution_count": null,
   "metadata": {},
   "outputs": [],
   "source": [
    "df.loc[df.name == 'Popular Sound'].song_name.unique()"
   ]
  },
  {
   "cell_type": "code",
   "execution_count": null,
   "metadata": {},
   "outputs": [],
   "source": []
  },
  {
   "cell_type": "code",
   "execution_count": null,
   "metadata": {},
   "outputs": [],
   "source": [
    "# df.loc[df.song_name.str.contains('مزمارالقناصه بطلعات شديدة اوى 2019 للعالمي محمد اوشه حظ شعبي'),'name'] = 'Sniper rifle with strong ambitions, 2019, for the world footballer Mohammed Oshh, popular luck'\n",
    "# df.loc[df.song_name == 'مهرجان مستر تعبان مهرجانات تيم حريف شعبى','name'] = 'Mister Taaban Festival festivals Tim Charif popular'\n",
    "# df.loc[df.song_name == 'مهرجان بت ومشيت بمزاجها بندق - حوده ناصر - تيتو - توني مهرجانات','name'] = 'Bit Festival and I walked with her mood Hazel - Hoda Nasser - Tito - Tony Festivals'\n",
    "# df.loc[df.song_name == 'مهرجان الطيبة جريمة حمو بيكا الجديد 2019 مودي امين توزيع باسل السوهاجي','name'] = 'The Good Festivals Festival, Hamo Beca New 2019 Modi Moderator, Basil Al-Suhagy'\n",
    "# df.loc[df.song_name == 'مهرجان هنشلف عليكم غناء حمو بيكا وميسره توزيع يوسف الجن ريمكس','name'] = 'We will celebrate the singing of Hamu Beca and his facilitator. The distribution of Youssef El Jin Remix'\n",
    "# df.loc[df.song_name == 'مهرجان تيك توك غناء و توزيع الهامي روميو','name'] = 'The Tic Tac Festival is a rhyming vocals and vocals'\n",
    "# df.loc[df.song_name.str.contains('مهرجان على بيه مظهر -مانو الدبابه - توزيع الخضرى - مهرجانات'),'name'] = 'Ali Bey Mazhar Festival - Manu Al-Dabbabah - Al-Khudari Distribution - Festivals'\n",
    "# df.loc[df.song_name == 'محمد مزيكا 2019 موال نسيت العذاب','name'] = 'Mohamed Mazzika 2019 Mawal forgot the agony'\n",
    "# df.loc[df.song_name == 'مهرجان جوزنى بنتك ياعم الحج - حمو بيكا - على قدوره توزيع فيجو الدخلاوى','name'] = 'The Jawzni Bentek Festival in Hajj - Hamou Beca - is due to its ability to distribute Figo Dakhlawi'\n",
    "# df.loc[df.song_name == 'مهرجان بابا المجال و بجداره مهرجانات 2019 غناء علاء فيفتى - عنبة - دوبى توزيع مولوتوف','name'] = 'Baba Al-Majal Festival and with its wall festivals'\n",
    "# df.loc[df.song_name.str.contains('مهرجانات 2019 مهرجان الـ 10 نصايح 2019 شواحه - حلقولو توزيع زيزو المايسترو'),'name'] = 'Festivals 2019 The 10 Tips Festival 2019 Shwah - Chalkulu, the distribution of the Zizo Maestro'\n",
    "\n",
    "# df.loc[df.name == '','name'] = 'My people sound'\n",
    "# df.loc[df.name == '','name'] = 'My people sound'\n",
    "\n",
    "\n",
    "\n",
    "\n",
    "\n"
   ]
  },
  {
   "cell_type": "code",
   "execution_count": null,
   "metadata": {},
   "outputs": [],
   "source": [
    "# df.loc[df.song_name.str.contains('مهرجان بت ومشيت بمزاجها بندق - حوده ناصر - تيتو - توني مهرجانات'),'name'] = 'Bit Festival and I walked with her mood Hazel - Hoda Nasser - Tito - Tony Festivals'"
   ]
  },
  {
   "cell_type": "code",
   "execution_count": null,
   "metadata": {},
   "outputs": [],
   "source": []
  },
  {
   "cell_type": "code",
   "execution_count": null,
   "metadata": {},
   "outputs": [],
   "source": [
    "df.loc[df.name.str.contains('ميوزك مهرجانات'),'name'] = 'Music festivals'\n",
    "df.loc[df.name == '仙水風楽','name'] = 'Sensui Kazeraku'"
   ]
  },
  {
   "cell_type": "code",
   "execution_count": null,
   "metadata": {},
   "outputs": [],
   "source": []
  },
  {
   "cell_type": "code",
   "execution_count": null,
   "metadata": {},
   "outputs": [],
   "source": [
    "df.loc[df.name.str.contains('Music Mhragnat')]"
   ]
  },
  {
   "cell_type": "code",
   "execution_count": null,
   "metadata": {},
   "outputs": [],
   "source": []
  },
  {
   "cell_type": "code",
   "execution_count": null,
   "metadata": {},
   "outputs": [],
   "source": [
    "df.loc[df.name == 'Sensui Kazeraku'].song_name.unique()"
   ]
  },
  {
   "cell_type": "code",
   "execution_count": null,
   "metadata": {},
   "outputs": [],
   "source": []
  },
  {
   "cell_type": "code",
   "execution_count": null,
   "metadata": {},
   "outputs": [],
   "source": []
  },
  {
   "cell_type": "code",
   "execution_count": null,
   "metadata": {},
   "outputs": [],
   "source": [
    "translator = Translator()"
   ]
  },
  {
   "cell_type": "code",
   "execution_count": null,
   "metadata": {},
   "outputs": [],
   "source": []
  },
  {
   "cell_type": "code",
   "execution_count": null,
   "metadata": {},
   "outputs": [],
   "source": [
    "def googleTranslate(text_value):\n",
    "    text_value = text_value.strip()\n",
    "    words = translator.translate(text_value ,dest='en')\n",
    "    return words.text\n",
    "    "
   ]
  },
  {
   "cell_type": "code",
   "execution_count": null,
   "metadata": {},
   "outputs": [],
   "source": [
    "df.loc[df.name == 'Sensui Kazeraku']"
   ]
  },
  {
   "cell_type": "code",
   "execution_count": null,
   "metadata": {},
   "outputs": [],
   "source": [
    "df.loc[df.name == 'Sensui Kazeraku','song_name'] = df.loc[df.name == 'Sensui Kazeraku'].song_name.apply(googleTranslate)"
   ]
  },
  {
   "cell_type": "code",
   "execution_count": null,
   "metadata": {},
   "outputs": [],
   "source": []
  },
  {
   "cell_type": "code",
   "execution_count": null,
   "metadata": {
    "scrolled": true
   },
   "outputs": [],
   "source": [
    "df.loc[df.name == 'Popular Sound','song_name'] = df.loc[df.name == 'Popular Sound'].song_name.apply(googleTranslate)"
   ]
  },
  {
   "cell_type": "code",
   "execution_count": null,
   "metadata": {},
   "outputs": [],
   "source": []
  },
  {
   "cell_type": "code",
   "execution_count": null,
   "metadata": {},
   "outputs": [],
   "source": [
    "df.loc[df.name == 'Music festivals']"
   ]
  },
  {
   "cell_type": "code",
   "execution_count": null,
   "metadata": {},
   "outputs": [],
   "source": []
  },
  {
   "cell_type": "code",
   "execution_count": null,
   "metadata": {},
   "outputs": [],
   "source": [
    "# df.loc[df.name == 'Music festivals','song_name'] = df.loc[df.name == 'Music festivals'].song_name.apply(googleTranslate)"
   ]
  },
  {
   "cell_type": "code",
   "execution_count": null,
   "metadata": {},
   "outputs": [],
   "source": [
    "# df.drop(df.loc[df.name == 'Music festivals'])"
   ]
  },
  {
   "cell_type": "code",
   "execution_count": null,
   "metadata": {},
   "outputs": [],
   "source": [
    "df = df[~df.name.str.contains('Music festivals')] # Here i am dropping the the music festivals"
   ]
  },
  {
   "cell_type": "code",
   "execution_count": null,
   "metadata": {},
   "outputs": [],
   "source": [
    "df.name."
   ]
  },
  {
   "cell_type": "code",
   "execution_count": null,
   "metadata": {},
   "outputs": [],
   "source": []
  },
  {
   "cell_type": "code",
   "execution_count": null,
   "metadata": {},
   "outputs": [],
   "source": [
    "df.head()"
   ]
  },
  {
   "cell_type": "code",
   "execution_count": null,
   "metadata": {},
   "outputs": [],
   "source": [
    "def clean_text(text):\n",
    "    text = text.lower()\n",
    "    text = re.sub(r'@[a-zA-Z0-9_]+', '', text)   \n",
    "    text = re.sub(r'https?://[A-Za-z0-9./]+', '', text)   \n",
    "    text = re.sub(r'www.[^ ]+', '', text)  \n",
    "    text = re.sub(r'[a-zA-Z0-9]*www[a-zA-Z0-9]*com[a-zA-Z0-9]*', '', text)  \n",
    "    text = re.sub(r'[^a-zA-Z]', ' ', text)\n",
    "    text = re.sub(r'[^\\w]', ' ', text)\n",
    "    text = [token for token in text.split() if len(token) > 2]\n",
    "    text = ' '.join(text)\n",
    "    return text"
   ]
  },
  {
   "cell_type": "code",
   "execution_count": null,
   "metadata": {},
   "outputs": [],
   "source": [
    "df['song_name'] = df.song_name.apply(clean_text)"
   ]
  },
  {
   "cell_type": "code",
   "execution_count": null,
   "metadata": {
    "scrolled": true
   },
   "outputs": [],
   "source": [
    "df.song_name"
   ]
  },
  {
   "cell_type": "code",
   "execution_count": null,
   "metadata": {},
   "outputs": [],
   "source": [
    "song_counter = Counter(df.song_name)"
   ]
  },
  {
   "cell_type": "code",
   "execution_count": null,
   "metadata": {},
   "outputs": [],
   "source": [
    "song_counter"
   ]
  },
  {
   "cell_type": "code",
   "execution_count": null,
   "metadata": {},
   "outputs": [],
   "source": [
    "df.loc[df.song_name == '']"
   ]
  },
  {
   "cell_type": "code",
   "execution_count": null,
   "metadata": {},
   "outputs": [],
   "source": [
    "df.song_name = df.song_name.replace('',np.nan)"
   ]
  },
  {
   "cell_type": "code",
   "execution_count": null,
   "metadata": {},
   "outputs": [],
   "source": [
    "df[df.song_name.isna()]"
   ]
  },
  {
   "cell_type": "code",
   "execution_count": null,
   "metadata": {},
   "outputs": [],
   "source": [
    "df['song_name_num_words'] = df.song_name.apply(lambda a: len(str(a).split()))"
   ]
  },
  {
   "cell_type": "code",
   "execution_count": null,
   "metadata": {},
   "outputs": [],
   "source": [
    "df['song_name_unique_words'] = df.song_name.apply(lambda b : len(set(str(b).split())))"
   ]
  },
  {
   "cell_type": "code",
   "execution_count": null,
   "metadata": {},
   "outputs": [],
   "source": [
    "df['song_name_charac_words'] = df.song_name.apply(lambda c: len(str(c)))"
   ]
  },
  {
   "cell_type": "code",
   "execution_count": null,
   "metadata": {},
   "outputs": [],
   "source": [
    "df['song_name_mean_word_len'] = df.song_name.apply(lambda h : np.mean([len(a) for a in str(h).split()]))"
   ]
  },
  {
   "cell_type": "code",
   "execution_count": null,
   "metadata": {},
   "outputs": [],
   "source": [
    "df.dropna(subset=['song_name'],axis=0,inplace=True)"
   ]
  },
  {
   "cell_type": "code",
   "execution_count": null,
   "metadata": {},
   "outputs": [],
   "source": [
    "df[df.song_name.isna()]"
   ]
  },
  {
   "cell_type": "code",
   "execution_count": null,
   "metadata": {},
   "outputs": [],
   "source": [
    "df.info()"
   ]
  },
  {
   "cell_type": "code",
   "execution_count": null,
   "metadata": {},
   "outputs": [],
   "source": [
    "df['popularity'] = df.popularity.str.replace(',','')"
   ]
  },
  {
   "cell_type": "code",
   "execution_count": null,
   "metadata": {},
   "outputs": [],
   "source": []
  },
  {
   "cell_type": "code",
   "execution_count": null,
   "metadata": {},
   "outputs": [],
   "source": []
  },
  {
   "cell_type": "code",
   "execution_count": null,
   "metadata": {},
   "outputs": [],
   "source": [
    "df.head(10)"
   ]
  },
  {
   "cell_type": "code",
   "execution_count": null,
   "metadata": {},
   "outputs": [],
   "source": [
    "def clean_popularity(text):\n",
    "    text = text.lower()\n",
    "#     text = re.sub(r'[^\\w]', '',text)\n",
    "    if text.contains('.') and text.contains('k'):\n",
    "        text = text.replace('k','00')\n",
    "    elif text.contains('k'):\n",
    "        text = text.replace('k','000')\n",
    "    return text"
   ]
  },
  {
   "cell_type": "code",
   "execution_count": null,
   "metadata": {},
   "outputs": [],
   "source": []
  },
  {
   "cell_type": "code",
   "execution_count": 90,
   "metadata": {},
   "outputs": [],
   "source": [
    "df.popularity = df.popularity.apply(clean_popularity)"
   ]
  },
  {
   "cell_type": "code",
   "execution_count": null,
   "metadata": {},
   "outputs": [],
   "source": []
  },
  {
   "cell_type": "code",
   "execution_count": null,
   "metadata": {},
   "outputs": [],
   "source": []
  },
  {
   "cell_type": "code",
   "execution_count": 91,
   "metadata": {},
   "outputs": [
    {
     "data": {
      "text/plain": [
       "0         97\n",
       "1         17\n",
       "2         91\n",
       "3         76\n",
       "4        699\n",
       "        ... \n",
       "19610    341\n",
       "19611    305\n",
       "19612     12\n",
       "19613    666\n",
       "19614    141\n",
       "Name: popularity, Length: 97279, dtype: int64"
      ]
     },
     "execution_count": 91,
     "metadata": {},
     "output_type": "execute_result"
    }
   ],
   "source": [
    "df.popularity.astype('int')"
   ]
  },
  {
   "cell_type": "code",
   "execution_count": 92,
   "metadata": {},
   "outputs": [],
   "source": [
    "popular_count = Counter([a for a in df.popularity])"
   ]
  },
  {
   "cell_type": "code",
   "execution_count": 93,
   "metadata": {},
   "outputs": [
    {
     "data": {
      "text/plain": [
       "Counter({'97': 188,\n",
       "         '17': 543,\n",
       "         '91': 196,\n",
       "         '76': 241,\n",
       "         '699': 23,\n",
       "         '325': 40,\n",
       "         '226': 64,\n",
       "         '12': 724,\n",
       "         '47': 332,\n",
       "         '124': 125,\n",
       "         '753': 17,\n",
       "         '0': 7982,\n",
       "         '64': 279,\n",
       "         '179': 74,\n",
       "         '78': 222,\n",
       "         '453': 33,\n",
       "         '3463': 5,\n",
       "         '35': 363,\n",
       "         '600': 23,\n",
       "         '352': 45,\n",
       "         '14': 633,\n",
       "         '1': 3142,\n",
       "         '6687': 1,\n",
       "         '205': 91,\n",
       "         '457': 35,\n",
       "         '61': 273,\n",
       "         '1453': 6,\n",
       "         '148': 119,\n",
       "         '417': 31,\n",
       "         '3': 1684,\n",
       "         '1118': 9,\n",
       "         '42': 309,\n",
       "         '37': 366,\n",
       "         '9': 858,\n",
       "         '4183': 2,\n",
       "         '7': 1119,\n",
       "         '28': 395,\n",
       "         '8': 948,\n",
       "         '131000': 11,\n",
       "         '2': 2116,\n",
       "         '4262': 2,\n",
       "         '228': 65,\n",
       "         '2464': 2,\n",
       "         '11': 767,\n",
       "         '539': 23,\n",
       "         '1878': 5,\n",
       "         '29': 418,\n",
       "         '59': 301,\n",
       "         '447': 26,\n",
       "         '935': 9,\n",
       "         '74': 247,\n",
       "         '38': 315,\n",
       "         '134': 128,\n",
       "         '211': 113,\n",
       "         '6': 1122,\n",
       "         '123': 134,\n",
       "         '1521': 6,\n",
       "         '44': 321,\n",
       "         '1001': 3,\n",
       "         '22': 464,\n",
       "         '993': 9,\n",
       "         '15': 608,\n",
       "         '66': 246,\n",
       "         '56': 296,\n",
       "         '51': 302,\n",
       "         '159': 116,\n",
       "         '304': 51,\n",
       "         '566': 19,\n",
       "         '2747': 6,\n",
       "         '70': 236,\n",
       "         '1097': 9,\n",
       "         '1406': 11,\n",
       "         '1053': 9,\n",
       "         '190': 78,\n",
       "         '54': 290,\n",
       "         '167': 107,\n",
       "         '3686': 1,\n",
       "         '158': 96,\n",
       "         '58': 280,\n",
       "         '16': 596,\n",
       "         '152': 99,\n",
       "         '1146': 8,\n",
       "         '25': 415,\n",
       "         '279': 57,\n",
       "         '90': 209,\n",
       "         '180': 91,\n",
       "         '182': 83,\n",
       "         '1567': 7,\n",
       "         '181': 79,\n",
       "         '34': 357,\n",
       "         '256': 59,\n",
       "         '899': 10,\n",
       "         '102': 180,\n",
       "         '368': 18,\n",
       "         '33': 397,\n",
       "         '23': 413,\n",
       "         '183': 94,\n",
       "         '2628': 4,\n",
       "         '83': 214,\n",
       "         '151': 93,\n",
       "         '334': 38,\n",
       "         '101': 163,\n",
       "         '193': 94,\n",
       "         '73': 233,\n",
       "         '30': 387,\n",
       "         '65': 284,\n",
       "         '131': 140,\n",
       "         '36': 385,\n",
       "         '541': 18,\n",
       "         '88': 213,\n",
       "         '10': 793,\n",
       "         '132': 117,\n",
       "         '4': 1391,\n",
       "         '136': 131,\n",
       "         '1746': 7,\n",
       "         '4024': 1,\n",
       "         '149000': 7,\n",
       "         '82': 235,\n",
       "         '69': 238,\n",
       "         '213': 78,\n",
       "         '13': 655,\n",
       "         '258': 63,\n",
       "         '5': 1242,\n",
       "         '689': 24,\n",
       "         '2853': 1,\n",
       "         '113': 147,\n",
       "         '81': 210,\n",
       "         '379': 31,\n",
       "         '40': 347,\n",
       "         '18': 528,\n",
       "         '67': 231,\n",
       "         '3785': 2,\n",
       "         '79': 216,\n",
       "         '26': 442,\n",
       "         '825': 14,\n",
       "         '265': 55,\n",
       "         '63': 272,\n",
       "         '57': 256,\n",
       "         '1077': 11,\n",
       "         '291': 57,\n",
       "         '627': 21,\n",
       "         '412': 27,\n",
       "         '1556': 9,\n",
       "         '232': 68,\n",
       "         '95': 167,\n",
       "         '276': 57,\n",
       "         '77': 243,\n",
       "         '302': 44,\n",
       "         '20': 470,\n",
       "         '281': 62,\n",
       "         '1880': 1,\n",
       "         '1286': 9,\n",
       "         '244': 65,\n",
       "         '2683': 2,\n",
       "         '4813': 2,\n",
       "         '105': 154,\n",
       "         '728': 17,\n",
       "         '21': 473,\n",
       "         '2323': 3,\n",
       "         '413': 31,\n",
       "         '198': 79,\n",
       "         '560': 20,\n",
       "         '32': 381,\n",
       "         '168': 89,\n",
       "         '52': 293,\n",
       "         '27': 427,\n",
       "         '1494': 3,\n",
       "         '133': 121,\n",
       "         '9999': 1,\n",
       "         '165': 100,\n",
       "         '2697': 4,\n",
       "         '254': 56,\n",
       "         '980': 11,\n",
       "         '112': 162,\n",
       "         '284': 50,\n",
       "         '75': 218,\n",
       "         '1383': 5,\n",
       "         '218000': 4,\n",
       "         '2798': 3,\n",
       "         '349': 36,\n",
       "         '50': 281,\n",
       "         '107': 167,\n",
       "         '243000': 4,\n",
       "         '5739': 2,\n",
       "         '513': 39,\n",
       "         '273': 53,\n",
       "         '7103': 1,\n",
       "         '1697': 7,\n",
       "         '1673': 4,\n",
       "         '146': 131,\n",
       "         '224': 82,\n",
       "         '959': 13,\n",
       "         '1076': 13,\n",
       "         '137': 131,\n",
       "         '94': 213,\n",
       "         '476': 33,\n",
       "         '4369': 3,\n",
       "         '3367': 2,\n",
       "         '229': 68,\n",
       "         '427': 26,\n",
       "         '172': 114,\n",
       "         '630': 20,\n",
       "         '297': 43,\n",
       "         '145': 127,\n",
       "         '1321': 7,\n",
       "         '5263': 1,\n",
       "         '189': 83,\n",
       "         '7153': 1,\n",
       "         '1339': 5,\n",
       "         '219': 56,\n",
       "         '3702': 2,\n",
       "         '39': 340,\n",
       "         '218': 64,\n",
       "         '277': 68,\n",
       "         '1027': 16,\n",
       "         '347': 46,\n",
       "         '85': 198,\n",
       "         '138': 114,\n",
       "         '43': 315,\n",
       "         '115': 158,\n",
       "         '192': 94,\n",
       "         '312': 39,\n",
       "         '292': 61,\n",
       "         '4436': 3,\n",
       "         '591': 26,\n",
       "         '550': 18,\n",
       "         '189000': 10,\n",
       "         '1177': 4,\n",
       "         '521': 27,\n",
       "         '96': 169,\n",
       "         '98': 178,\n",
       "         '104': 161,\n",
       "         '5073': 2,\n",
       "         '120': 124,\n",
       "         '655': 22,\n",
       "         '222': 80,\n",
       "         '454': 31,\n",
       "         '510': 26,\n",
       "         '84': 205,\n",
       "         '48': 325,\n",
       "         '9270': 1,\n",
       "         '126': 134,\n",
       "         '608': 16,\n",
       "         '2903': 5,\n",
       "         '1882': 7,\n",
       "         '335': 42,\n",
       "         '5594': 1,\n",
       "         '1054': 10,\n",
       "         '296': 61,\n",
       "         '80': 202,\n",
       "         '1210': 10,\n",
       "         '308': 51,\n",
       "         '637': 19,\n",
       "         '109': 161,\n",
       "         '1399': 12,\n",
       "         '280': 64,\n",
       "         '1629': 8,\n",
       "         '152000': 12,\n",
       "         '754': 17,\n",
       "         '529': 32,\n",
       "         '3590': 4,\n",
       "         '86': 184,\n",
       "         '824': 12,\n",
       "         '122': 170,\n",
       "         '62': 273,\n",
       "         '101000': 22,\n",
       "         '249': 51,\n",
       "         '227': 81,\n",
       "         '2370': 3,\n",
       "         '3325': 2,\n",
       "         '748': 14,\n",
       "         '1376': 6,\n",
       "         '2241': 5,\n",
       "         '185': 95,\n",
       "         '153': 100,\n",
       "         '184': 68,\n",
       "         '129': 144,\n",
       "         '2055': 5,\n",
       "         '593': 29,\n",
       "         '201': 91,\n",
       "         '902': 9,\n",
       "         '15000': 11,\n",
       "         '141': 124,\n",
       "         '1112': 10,\n",
       "         '194': 87,\n",
       "         '967': 14,\n",
       "         '3021': 3,\n",
       "         '53': 311,\n",
       "         '531': 22,\n",
       "         '4387': 2,\n",
       "         '7876': 1,\n",
       "         '373': 32,\n",
       "         '128': 148,\n",
       "         '2786': 4,\n",
       "         '143': 93,\n",
       "         '323': 39,\n",
       "         '552': 16,\n",
       "         '309000': 2,\n",
       "         '1904': 3,\n",
       "         '3906': 3,\n",
       "         '1695': 3,\n",
       "         '378': 35,\n",
       "         '1018': 10,\n",
       "         '1313': 7,\n",
       "         '161': 86,\n",
       "         '1798': 11,\n",
       "         '87': 193,\n",
       "         '8318': 2,\n",
       "         '793': 13,\n",
       "         '270': 66,\n",
       "         '144': 100,\n",
       "         '777': 16,\n",
       "         '1764': 6,\n",
       "         '3278': 2,\n",
       "         '127': 140,\n",
       "         '581': 22,\n",
       "         '340': 40,\n",
       "         '60': 273,\n",
       "         '196': 83,\n",
       "         '217': 73,\n",
       "         '2091': 2,\n",
       "         '1636': 6,\n",
       "         '5750': 1,\n",
       "         '19': 528,\n",
       "         '160': 90,\n",
       "         '130': 140,\n",
       "         '4188': 4,\n",
       "         '1238': 9,\n",
       "         '595': 19,\n",
       "         '239': 66,\n",
       "         '269': 71,\n",
       "         '828': 16,\n",
       "         '388': 30,\n",
       "         '465': 33,\n",
       "         '176': 99,\n",
       "         '926': 17,\n",
       "         '231': 69,\n",
       "         '469': 24,\n",
       "         '245': 62,\n",
       "         '399': 35,\n",
       "         '586': 27,\n",
       "         '1156': 7,\n",
       "         '957': 14,\n",
       "         '71': 241,\n",
       "         '5942': 1,\n",
       "         '362': 31,\n",
       "         '1752': 4,\n",
       "         '45': 332,\n",
       "         '100': 159,\n",
       "         '1050': 10,\n",
       "         '118': 143,\n",
       "         '1432': 4,\n",
       "         '370': 42,\n",
       "         '204': 75,\n",
       "         '2410': 5,\n",
       "         '169': 93,\n",
       "         '705': 14,\n",
       "         '253': 64,\n",
       "         '562': 22,\n",
       "         '41': 328,\n",
       "         '5748': 1,\n",
       "         '2028': 3,\n",
       "         '286': 58,\n",
       "         '149': 114,\n",
       "         '867': 9,\n",
       "         '289': 43,\n",
       "         '398': 40,\n",
       "         '319': 53,\n",
       "         '316': 42,\n",
       "         '49': 288,\n",
       "         '383': 37,\n",
       "         '436': 29,\n",
       "         '2483': 2,\n",
       "         '140': 110,\n",
       "         '2050': 8,\n",
       "         '821': 21,\n",
       "         '2476': 3,\n",
       "         '3586': 3,\n",
       "         '1333': 6,\n",
       "         '866': 9,\n",
       "         '4129': 1,\n",
       "         '1918': 6,\n",
       "         '320': 49,\n",
       "         '299': 64,\n",
       "         '4992': 1,\n",
       "         '72': 233,\n",
       "         '536': 25,\n",
       "         '446': 32,\n",
       "         '1368': 9,\n",
       "         '2250': 7,\n",
       "         '121': 148,\n",
       "         '963': 7,\n",
       "         '313': 52,\n",
       "         '406': 28,\n",
       "         '1335': 9,\n",
       "         '268': 61,\n",
       "         '1926': 2,\n",
       "         '1162': 11,\n",
       "         '497': 30,\n",
       "         '5117': 2,\n",
       "         '1293': 8,\n",
       "         '537': 19,\n",
       "         '135': 120,\n",
       "         '4971': 2,\n",
       "         '951': 12,\n",
       "         '186': 77,\n",
       "         '9914': 2,\n",
       "         '1365': 4,\n",
       "         '55': 260,\n",
       "         '928': 12,\n",
       "         '198000': 6,\n",
       "         '633': 15,\n",
       "         '684': 16,\n",
       "         '936': 11,\n",
       "         '1012': 10,\n",
       "         '118000': 10,\n",
       "         '458': 40,\n",
       "         '395': 40,\n",
       "         '234': 61,\n",
       "         '884': 14,\n",
       "         '3846': 1,\n",
       "         '125': 131,\n",
       "         '1366': 7,\n",
       "         '338': 42,\n",
       "         '8877': 1,\n",
       "         '3440': 2,\n",
       "         '697': 21,\n",
       "         '1291': 3,\n",
       "         '225000': 4,\n",
       "         '251': 61,\n",
       "         '346': 49,\n",
       "         '384': 40,\n",
       "         '1431': 3,\n",
       "         '1686': 8,\n",
       "         '2781': 3,\n",
       "         '1761': 9,\n",
       "         '693': 13,\n",
       "         '1370': 9,\n",
       "         '117': 161,\n",
       "         '3523': 2,\n",
       "         '631': 20,\n",
       "         '2501': 2,\n",
       "         '374': 47,\n",
       "         '2985': 2,\n",
       "         '333': 38,\n",
       "         '2881': 2,\n",
       "         '2218': 5,\n",
       "         '978': 13,\n",
       "         '4900': 1,\n",
       "         '563': 24,\n",
       "         '339': 33,\n",
       "         '92': 199,\n",
       "         '1729': 9,\n",
       "         '1394': 5,\n",
       "         '444': 37,\n",
       "         '356000': 6,\n",
       "         '1522': 4,\n",
       "         '696': 17,\n",
       "         '1071': 10,\n",
       "         '1969': 3,\n",
       "         '2180': 2,\n",
       "         '4664': 2,\n",
       "         '317': 40,\n",
       "         '3385': 1,\n",
       "         '4961': 4,\n",
       "         '743': 15,\n",
       "         '377000': 2,\n",
       "         '275': 50,\n",
       "         '425': 43,\n",
       "         '111': 153,\n",
       "         '6670': 1,\n",
       "         '5926': 1,\n",
       "         '110': 163,\n",
       "         '485': 31,\n",
       "         '598': 17,\n",
       "         '1844': 5,\n",
       "         '6244': 2,\n",
       "         '571': 21,\n",
       "         '648': 14,\n",
       "         '1192': 9,\n",
       "         '163': 94,\n",
       "         '324': 44,\n",
       "         '1609': 6,\n",
       "         '962': 6,\n",
       "         '260': 58,\n",
       "         '162': 115,\n",
       "         '5968': 3,\n",
       "         '628': 16,\n",
       "         '1512': 5,\n",
       "         '24': 447,\n",
       "         '8728': 1,\n",
       "         '139': 112,\n",
       "         '133000': 10,\n",
       "         '8619': 1,\n",
       "         '354': 43,\n",
       "         '1458': 5,\n",
       "         '2139': 7,\n",
       "         '418': 37,\n",
       "         '1456': 3,\n",
       "         '584': 31,\n",
       "         '960': 8,\n",
       "         '771': 15,\n",
       "         '428': 30,\n",
       "         '46': 315,\n",
       "         '214': 64,\n",
       "         '727': 10,\n",
       "         '1079': 5,\n",
       "         '966': 6,\n",
       "         '68': 219,\n",
       "         '881': 16,\n",
       "         '89': 204,\n",
       "         '585': 25,\n",
       "         '1436': 3,\n",
       "         '503': 30,\n",
       "         '1186': 4,\n",
       "         '734': 21,\n",
       "         '7709': 2,\n",
       "         '1108': 13,\n",
       "         '2305': 5,\n",
       "         '246': 60,\n",
       "         '343': 32,\n",
       "         '106': 142,\n",
       "         '3737': 2,\n",
       "         '876': 15,\n",
       "         '1019': 12,\n",
       "         '1433': 4,\n",
       "         '481': 25,\n",
       "         '153000': 9,\n",
       "         '207': 83,\n",
       "         '2113': 5,\n",
       "         '731': 16,\n",
       "         '170': 80,\n",
       "         '372': 47,\n",
       "         '315': 52,\n",
       "         '3823': 2,\n",
       "         '238': 68,\n",
       "         '2515': 3,\n",
       "         '1622': 2,\n",
       "         '934': 12,\n",
       "         '164': 98,\n",
       "         '294': 53,\n",
       "         '582': 16,\n",
       "         '590': 21,\n",
       "         '737': 13,\n",
       "         '1081': 8,\n",
       "         '612': 19,\n",
       "         '187': 68,\n",
       "         '820': 18,\n",
       "         '114': 153,\n",
       "         '1599': 5,\n",
       "         '526': 32,\n",
       "         '671': 16,\n",
       "         '215': 80,\n",
       "         '1871': 6,\n",
       "         '1923': 7,\n",
       "         '1236': 8,\n",
       "         '300': 63,\n",
       "         '750': 19,\n",
       "         '8889': 1,\n",
       "         '2966': 2,\n",
       "         '220': 65,\n",
       "         '31': 362,\n",
       "         '479': 26,\n",
       "         '278': 49,\n",
       "         '1051': 9,\n",
       "         '472': 27,\n",
       "         '1838': 4,\n",
       "         '430': 24,\n",
       "         '380': 32,\n",
       "         '3066': 3,\n",
       "         '4219': 2,\n",
       "         '257': 61,\n",
       "         '434': 30,\n",
       "         '466': 35,\n",
       "         '298': 60,\n",
       "         '733': 16,\n",
       "         '856': 10,\n",
       "         '813': 9,\n",
       "         '10000': 17,\n",
       "         '2457': 4,\n",
       "         '3039': 4,\n",
       "         '435': 28,\n",
       "         '6874': 2,\n",
       "         '259': 55,\n",
       "         '171': 97,\n",
       "         '4396': 1,\n",
       "         '1244': 10,\n",
       "         '473': 33,\n",
       "         '3532': 5,\n",
       "         '789': 20,\n",
       "         '1990': 4,\n",
       "         '2852': 2,\n",
       "         '1783': 6,\n",
       "         '178': 76,\n",
       "         '103': 157,\n",
       "         '461': 30,\n",
       "         '548': 15,\n",
       "         '973': 8,\n",
       "         '1149': 8,\n",
       "         '197': 77,\n",
       "         '336': 47,\n",
       "         '740': 11,\n",
       "         '1095': 9,\n",
       "         '505': 35,\n",
       "         '415': 33,\n",
       "         '570': 25,\n",
       "         '199': 75,\n",
       "         '756': 10,\n",
       "         '155': 87,\n",
       "         '898': 16,\n",
       "         '470': 30,\n",
       "         '6259': 1,\n",
       "         '5183': 1,\n",
       "         '1780': 6,\n",
       "         '1671': 7,\n",
       "         '540': 17,\n",
       "         '2350': 3,\n",
       "         '394': 46,\n",
       "         '7670': 2,\n",
       "         '971': 11,\n",
       "         '826': 17,\n",
       "         '7143': 1,\n",
       "         '794': 10,\n",
       "         '1142': 11,\n",
       "         '173': 83,\n",
       "         '2719': 3,\n",
       "         '1105': 11,\n",
       "         '212': 66,\n",
       "         '361': 52,\n",
       "         '690': 13,\n",
       "         '518': 30,\n",
       "         '998': 10,\n",
       "         '2248': 4,\n",
       "         '1218': 5,\n",
       "         '1023': 11,\n",
       "         '1275': 7,\n",
       "         '5687': 1,\n",
       "         '507': 23,\n",
       "         '331': 38,\n",
       "         '464': 16,\n",
       "         '468': 27,\n",
       "         '166': 100,\n",
       "         '4241': 2,\n",
       "         '1469': 5,\n",
       "         '2090': 7,\n",
       "         '431': 26,\n",
       "         '195': 66,\n",
       "         '327': 41,\n",
       "         '208': 85,\n",
       "         '675': 15,\n",
       "         '93': 192,\n",
       "         '1057': 11,\n",
       "         '216': 63,\n",
       "         '930': 10,\n",
       "         '1091': 9,\n",
       "         '792': 9,\n",
       "         '1461': 7,\n",
       "         '1115': 11,\n",
       "         '784': 19,\n",
       "         '844': 9,\n",
       "         '295': 45,\n",
       "         '426': 31,\n",
       "         '535': 25,\n",
       "         '206': 64,\n",
       "         '188': 95,\n",
       "         '565': 22,\n",
       "         '927': 11,\n",
       "         '755': 21,\n",
       "         '800': 22,\n",
       "         '142': 98,\n",
       "         '700': 13,\n",
       "         '609': 14,\n",
       "         '582000': 2,\n",
       "         '2267': 3,\n",
       "         '846': 19,\n",
       "         '2722': 3,\n",
       "         '445': 31,\n",
       "         '7690': 1,\n",
       "         '2364': 6,\n",
       "         '396': 37,\n",
       "         '3676': 3,\n",
       "         '3129': 4,\n",
       "         '391': 28,\n",
       "         '2340': 5,\n",
       "         '579': 26,\n",
       "         '7298': 1,\n",
       "         '3001': 2,\n",
       "         '108': 156,\n",
       "         '4017': 3,\n",
       "         '455': 25,\n",
       "         '1906': 5,\n",
       "         '290': 38,\n",
       "         '1775': 6,\n",
       "         '467': 21,\n",
       "         '721': 19,\n",
       "         '365000': 5,\n",
       "         '1274': 5,\n",
       "         '1701': 6,\n",
       "         '1072': 8,\n",
       "         '487': 27,\n",
       "         '649000': 1,\n",
       "         '150': 114,\n",
       "         '117000': 14,\n",
       "         '924': 10,\n",
       "         '714': 17,\n",
       "         '321': 37,\n",
       "         '478': 27,\n",
       "         '908': 15,\n",
       "         '210': 80,\n",
       "         '756000': 1,\n",
       "         '2394': 2,\n",
       "         '174': 100,\n",
       "         '992': 13,\n",
       "         '658': 19,\n",
       "         '252': 61,\n",
       "         '99': 186,\n",
       "         '770': 9,\n",
       "         '242': 63,\n",
       "         '401': 35,\n",
       "         '1198': 9,\n",
       "         '405': 40,\n",
       "         '261': 48,\n",
       "         '1727': 9,\n",
       "         '147': 102,\n",
       "         '3682': 2,\n",
       "         '403000': 2,\n",
       "         '371': 45,\n",
       "         '3567': 2,\n",
       "         '1922': 3,\n",
       "         '577': 24,\n",
       "         '1477': 10,\n",
       "         '2078': 2,\n",
       "         '4526': 3,\n",
       "         '484': 22,\n",
       "         '240': 72,\n",
       "         '2057': 3,\n",
       "         '925': 13,\n",
       "         '674': 20,\n",
       "         '2614': 4,\n",
       "         '421': 44,\n",
       "         '1168': 6,\n",
       "         '1234': 2,\n",
       "         '367': 37,\n",
       "         '376': 40,\n",
       "         '1800': 8,\n",
       "         '735': 12,\n",
       "         '342': 53,\n",
       "         '798': 11,\n",
       "         '404': 33,\n",
       "         '157': 103,\n",
       "         '5906': 2,\n",
       "         '635': 18,\n",
       "         '592': 22,\n",
       "         '262': 57,\n",
       "         '424': 40,\n",
       "         '932': 14,\n",
       "         '6392': 1,\n",
       "         '1462': 6,\n",
       "         '3642': 1,\n",
       "         '3074': 1,\n",
       "         '502': 24,\n",
       "         '491': 23,\n",
       "         '438': 27,\n",
       "         '4548': 2,\n",
       "         '722': 15,\n",
       "         '533': 23,\n",
       "         '620': 18,\n",
       "         '1160': 8,\n",
       "         '496': 24,\n",
       "         '572': 19,\n",
       "         '2702': 3,\n",
       "         '752': 9,\n",
       "         '330': 36,\n",
       "         '1246': 8,\n",
       "         '3498': 2,\n",
       "         '702': 15,\n",
       "         '221': 77,\n",
       "         '1004': 20,\n",
       "         '241': 70,\n",
       "         '1104': 14,\n",
       "         '322': 58,\n",
       "         '7272': 1,\n",
       "         '360': 38,\n",
       "         '3732': 2,\n",
       "         '916': 15,\n",
       "         '429': 29,\n",
       "         '1720': 3,\n",
       "         '154': 113,\n",
       "         '488': 32,\n",
       "         '694': 16,\n",
       "         '664': 13,\n",
       "         '2516': 2,\n",
       "         '285': 54,\n",
       "         '872': 10,\n",
       "         '5102': 1,\n",
       "         '1849': 7,\n",
       "         '490': 22,\n",
       "         '2788': 4,\n",
       "         '119': 114,\n",
       "         '369': 50,\n",
       "         '1388': 6,\n",
       "         '1693': 5,\n",
       "         '460': 27,\n",
       "         '1128': 7,\n",
       "         '2369': 5,\n",
       "         '2567': 2,\n",
       "         '868': 11,\n",
       "         '1758': 8,\n",
       "         '402': 28,\n",
       "         '108000': 11,\n",
       "         '306': 46,\n",
       "         '3684': 1,\n",
       "         '783': 13,\n",
       "         '156': 86,\n",
       "         '1230': 7,\n",
       "         '1446': 6,\n",
       "         '768': 16,\n",
       "         '134000': 9,\n",
       "         '6063': 1,\n",
       "         '6721': 1,\n",
       "         '9217': 2,\n",
       "         '685': 12,\n",
       "         '607': 16,\n",
       "         '440': 31,\n",
       "         '806': 17,\n",
       "         '588': 20,\n",
       "         '341': 37,\n",
       "         '854': 6,\n",
       "         '937': 15,\n",
       "         '555': 19,\n",
       "         '788': 9,\n",
       "         '237': 61,\n",
       "         '223000': 5,\n",
       "         '1712': 3,\n",
       "         '4836': 1,\n",
       "         '248': 76,\n",
       "         '626': 15,\n",
       "         '2361': 2,\n",
       "         '1094': 8,\n",
       "         '3945': 6,\n",
       "         '3406': 4,\n",
       "         '177': 81,\n",
       "         '1334': 2,\n",
       "         '3793': 1,\n",
       "         '657': 13,\n",
       "         '8375': 1,\n",
       "         '494': 27,\n",
       "         '409': 34,\n",
       "         '2409': 6,\n",
       "         '661': 27,\n",
       "         '517': 35,\n",
       "         '4181': 4,\n",
       "         '2203': 3,\n",
       "         '725': 8,\n",
       "         '377': 32,\n",
       "         '890': 8,\n",
       "         '3176': 2,\n",
       "         '871': 11,\n",
       "         '910': 6,\n",
       "         '780': 17,\n",
       "         '3558': 1,\n",
       "         '358': 32,\n",
       "         '309': 43,\n",
       "         '116': 153,\n",
       "         '1136': 11,\n",
       "         '500': 31,\n",
       "         '1122': 14,\n",
       "         '515': 21,\n",
       "         '1392': 7,\n",
       "         '1353': 6,\n",
       "         '8994': 1,\n",
       "         '941': 13,\n",
       "         '615': 13,\n",
       "         '587': 16,\n",
       "         '1897': 1,\n",
       "         '1594': 6,\n",
       "         '233': 76,\n",
       "         '282': 51,\n",
       "         '407': 32,\n",
       "         '451': 29,\n",
       "         '2172': 4,\n",
       "         '779': 15,\n",
       "         '732': 18,\n",
       "         '680': 14,\n",
       "         '4011': 1,\n",
       "         '171000': 5,\n",
       "         '1060': 11,\n",
       "         '2690': 3,\n",
       "         '6510': 1,\n",
       "         '1920': 7,\n",
       "         '726': 15,\n",
       "         '2435': 2,\n",
       "         '255': 71,\n",
       "         '6740': 1,\n",
       "         '2513': 2,\n",
       "         '3151': 1,\n",
       "         '1426': 7,\n",
       "         '2102': 6,\n",
       "         '257000': 3,\n",
       "         '2244': 3,\n",
       "         '2326': 5,\n",
       "         '575': 20,\n",
       "         '557': 27,\n",
       "         '7324': 3,\n",
       "         '1155': 12,\n",
       "         '1528': 8,\n",
       "         '2293': 4,\n",
       "         '191000': 7,\n",
       "         '267': 43,\n",
       "         '12000': 14,\n",
       "         '506': 25,\n",
       "         '855': 10,\n",
       "         '4800': 2,\n",
       "         '390': 45,\n",
       "         '2664': 2,\n",
       "         '1247': 9,\n",
       "         '124000': 18,\n",
       "         '1315': 4,\n",
       "         '5267': 1,\n",
       "         '1188': 9,\n",
       "         '739': 18,\n",
       "         '1098': 4,\n",
       "         '175': 84,\n",
       "         '511': 17,\n",
       "         '3238': 4,\n",
       "         '3444': 2,\n",
       "         '2990': 4,\n",
       "         '364': 36,\n",
       "         '553': 18,\n",
       "         '5636': 3,\n",
       "         '1460': 7,\n",
       "         '483': 26,\n",
       "         '391000': 2,\n",
       "         '8717': 2,\n",
       "         '2402': 1,\n",
       "         '520': 25,\n",
       "         '202': 73,\n",
       "         '111000': 14,\n",
       "         '1593': 3,\n",
       "         '337': 43,\n",
       "         '1690': 4,\n",
       "         '7956': 2,\n",
       "         '2600': 2,\n",
       "         '49000': 1,\n",
       "         '400': 40,\n",
       "         '1049': 9,\n",
       "         '3261': 1,\n",
       "         '3422': 2,\n",
       "         '891': 13,\n",
       "         '2973': 1,\n",
       "         '4912': 1,\n",
       "         '2001': 7,\n",
       "         '7117': 2,\n",
       "         '1179': 10,\n",
       "         '5061': 1,\n",
       "         '462': 27,\n",
       "         '1052': 9,\n",
       "         '5999': 2,\n",
       "         '1566': 4,\n",
       "         '1473': 5,\n",
       "         '192000': 6,\n",
       "         '1731': 2,\n",
       "         '4684': 3,\n",
       "         '707': 19,\n",
       "         '845': 16,\n",
       "         '447000': 1,\n",
       "         '874': 14,\n",
       "         '4399': 3,\n",
       "         '558': 38,\n",
       "         '263': 63,\n",
       "         '614': 15,\n",
       "         '1296': 8,\n",
       "         '492': 17,\n",
       "         '919': 16,\n",
       "         '350': 41,\n",
       "         '883': 15,\n",
       "         '1709': 3,\n",
       "         '4534': 1,\n",
       "         '305': 55,\n",
       "         '2031': 5,\n",
       "         '3262': 3,\n",
       "         '301': 46,\n",
       "         '357000': 2,\n",
       "         '2700': 2,\n",
       "         '831': 12,\n",
       "         '4209': 1,\n",
       "         '1745': 5,\n",
       "         '3552': 2,\n",
       "         '894': 13,\n",
       "         '6758': 1,\n",
       "         '2351': 3,\n",
       "         '1029': 8,\n",
       "         '1140': 6,\n",
       "         '2207': 3,\n",
       "         '1899': 4,\n",
       "         '147000': 7,\n",
       "         '1429': 2,\n",
       "         '5974': 2,\n",
       "         '729': 13,\n",
       "         '474': 27,\n",
       "         ...})"
      ]
     },
     "execution_count": 93,
     "metadata": {},
     "output_type": "execute_result"
    }
   ],
   "source": [
    "popular_count"
   ]
  },
  {
   "cell_type": "code",
   "execution_count": null,
   "metadata": {},
   "outputs": [],
   "source": []
  },
  {
   "cell_type": "code",
   "execution_count": null,
   "metadata": {},
   "outputs": [],
   "source": []
  },
  {
   "cell_type": "code",
   "execution_count": null,
   "metadata": {},
   "outputs": [],
   "source": []
  },
  {
   "cell_type": "code",
   "execution_count": 83,
   "metadata": {},
   "outputs": [
    {
     "data": {
      "text/plain": [
       "Counter({<pandas.core.strings.StringMethods at 0x7fc9a487f9b0>: 1})"
      ]
     },
     "execution_count": 83,
     "metadata": {},
     "output_type": "execute_result"
    }
   ],
   "source": [
    "popular_count"
   ]
  },
  {
   "cell_type": "code",
   "execution_count": 84,
   "metadata": {},
   "outputs": [
    {
     "name": "stdout",
     "output_type": "stream",
     "text": [
      "<class 'pandas.core.frame.DataFrame'>\n",
      "Int64Index: 97279 entries, 0 to 19614\n",
      "Data columns (total 15 columns):\n",
      "comments                   97279 non-null int64\n",
      "country                    97279 non-null object\n",
      "followers                  97279 non-null int64\n",
      "genre                      97279 non-null object\n",
      "likes                      97279 non-null object\n",
      "name                       97279 non-null object\n",
      "popularity                 97279 non-null object\n",
      "song_name                  97279 non-null object\n",
      "timestamp                  97279 non-null object\n",
      "unique_id                  97279 non-null int64\n",
      "views                      77832 non-null float64\n",
      "song_name_num_words        97279 non-null int64\n",
      "song_name_unique_words     97279 non-null int64\n",
      "song_name_charac_words     97279 non-null int64\n",
      "song_name_mean_word_len    97279 non-null float64\n",
      "dtypes: float64(2), int64(6), object(7)\n",
      "memory usage: 11.9+ MB\n"
     ]
    }
   ],
   "source": [
    "df.info()"
   ]
  },
  {
   "cell_type": "code",
   "execution_count": null,
   "metadata": {},
   "outputs": [],
   "source": []
  },
  {
   "cell_type": "code",
   "execution_count": null,
   "metadata": {},
   "outputs": [],
   "source": []
  },
  {
   "cell_type": "code",
   "execution_count": null,
   "metadata": {},
   "outputs": [],
   "source": []
  },
  {
   "cell_type": "code",
   "execution_count": null,
   "metadata": {},
   "outputs": [],
   "source": []
  },
  {
   "cell_type": "code",
   "execution_count": null,
   "metadata": {},
   "outputs": [],
   "source": []
  },
  {
   "cell_type": "code",
   "execution_count": null,
   "metadata": {},
   "outputs": [],
   "source": []
  },
  {
   "cell_type": "code",
   "execution_count": null,
   "metadata": {},
   "outputs": [],
   "source": []
  },
  {
   "cell_type": "code",
   "execution_count": null,
   "metadata": {},
   "outputs": [],
   "source": []
  },
  {
   "cell_type": "code",
   "execution_count": 348,
   "metadata": {},
   "outputs": [
    {
     "data": {
      "text/plain": [
       "(98073, 0)"
      ]
     },
     "execution_count": 348,
     "metadata": {},
     "output_type": "execute_result"
    }
   ],
   "source": [
    "df.shape"
   ]
  },
  {
   "cell_type": "code",
   "execution_count": null,
   "metadata": {},
   "outputs": [],
   "source": []
  },
  {
   "cell_type": "code",
   "execution_count": null,
   "metadata": {},
   "outputs": [],
   "source": []
  },
  {
   "cell_type": "code",
   "execution_count": null,
   "metadata": {},
   "outputs": [],
   "source": []
  },
  {
   "cell_type": "code",
   "execution_count": null,
   "metadata": {},
   "outputs": [],
   "source": []
  },
  {
   "cell_type": "code",
   "execution_count": null,
   "metadata": {},
   "outputs": [],
   "source": []
  },
  {
   "cell_type": "code",
   "execution_count": null,
   "metadata": {},
   "outputs": [],
   "source": []
  },
  {
   "cell_type": "code",
   "execution_count": 340,
   "metadata": {},
   "outputs": [
    {
     "data": {
      "text/plain": [
       "'El Joker Ft. Sam - Enfsam 7ad Part 2 L Ahmed Al'"
      ]
     },
     "execution_count": 340,
     "metadata": {},
     "output_type": "execute_result"
    }
   ],
   "source": [
    "word = translator.translate('El Joker Ft. Sam - Enfsam 7ad Part 2 L احمد ال',dest='en')\n",
    "word.text"
   ]
  },
  {
   "cell_type": "code",
   "execution_count": 270,
   "metadata": {},
   "outputs": [
    {
     "data": {
      "text/plain": [
       "Mixmag               2598\n",
       "Monstercat           1773\n",
       "GR6 EXPLODE          1747\n",
       "Hardstyle            1422\n",
       "Sweet Musique        1229\n",
       "                     ... \n",
       "Jhay Cortez             1\n",
       "Slow Hours              1\n",
       "Adriatique-Cercle       1\n",
       "@marcusbasquiat         1\n",
       "vromance                1\n",
       "Name: name, Length: 1219, dtype: int64"
      ]
     },
     "execution_count": 270,
     "metadata": {},
     "output_type": "execute_result"
    }
   ],
   "source": [
    "df.name."
   ]
  },
  {
   "cell_type": "code",
   "execution_count": null,
   "metadata": {},
   "outputs": [],
   "source": []
  },
  {
   "cell_type": "code",
   "execution_count": null,
   "metadata": {},
   "outputs": [],
   "source": []
  },
  {
   "cell_type": "code",
   "execution_count": null,
   "metadata": {},
   "outputs": [],
   "source": []
  },
  {
   "cell_type": "code",
   "execution_count": null,
   "metadata": {},
   "outputs": [],
   "source": []
  },
  {
   "cell_type": "code",
   "execution_count": null,
   "metadata": {},
   "outputs": [],
   "source": []
  },
  {
   "cell_type": "code",
   "execution_count": null,
   "metadata": {},
   "outputs": [],
   "source": []
  },
  {
   "cell_type": "code",
   "execution_count": null,
   "metadata": {},
   "outputs": [],
   "source": []
  },
  {
   "cell_type": "code",
   "execution_count": null,
   "metadata": {},
   "outputs": [],
   "source": []
  },
  {
   "cell_type": "code",
   "execution_count": null,
   "metadata": {},
   "outputs": [],
   "source": []
  },
  {
   "cell_type": "code",
   "execution_count": null,
   "metadata": {},
   "outputs": [],
   "source": []
  },
  {
   "cell_type": "code",
   "execution_count": null,
   "metadata": {},
   "outputs": [],
   "source": []
  },
  {
   "cell_type": "code",
   "execution_count": null,
   "metadata": {},
   "outputs": [],
   "source": []
  },
  {
   "cell_type": "code",
   "execution_count": null,
   "metadata": {},
   "outputs": [],
   "source": []
  },
  {
   "cell_type": "code",
   "execution_count": null,
   "metadata": {},
   "outputs": [],
   "source": []
  },
  {
   "cell_type": "code",
   "execution_count": null,
   "metadata": {},
   "outputs": [],
   "source": []
  },
  {
   "cell_type": "code",
   "execution_count": null,
   "metadata": {},
   "outputs": [],
   "source": []
  },
  {
   "cell_type": "code",
   "execution_count": null,
   "metadata": {},
   "outputs": [],
   "source": []
  },
  {
   "cell_type": "code",
   "execution_count": null,
   "metadata": {},
   "outputs": [],
   "source": []
  },
  {
   "cell_type": "code",
   "execution_count": null,
   "metadata": {},
   "outputs": [],
   "source": []
  },
  {
   "cell_type": "code",
   "execution_count": null,
   "metadata": {},
   "outputs": [],
   "source": []
  },
  {
   "cell_type": "code",
   "execution_count": null,
   "metadata": {},
   "outputs": [],
   "source": []
  },
  {
   "cell_type": "code",
   "execution_count": null,
   "metadata": {},
   "outputs": [],
   "source": []
  },
  {
   "cell_type": "code",
   "execution_count": null,
   "metadata": {},
   "outputs": [],
   "source": []
  },
  {
   "cell_type": "code",
   "execution_count": null,
   "metadata": {},
   "outputs": [],
   "source": []
  },
  {
   "cell_type": "code",
   "execution_count": null,
   "metadata": {},
   "outputs": [],
   "source": []
  },
  {
   "cell_type": "code",
   "execution_count": null,
   "metadata": {},
   "outputs": [],
   "source": []
  },
  {
   "cell_type": "code",
   "execution_count": null,
   "metadata": {},
   "outputs": [],
   "source": []
  },
  {
   "cell_type": "code",
   "execution_count": null,
   "metadata": {},
   "outputs": [],
   "source": []
  },
  {
   "cell_type": "code",
   "execution_count": null,
   "metadata": {},
   "outputs": [],
   "source": []
  },
  {
   "cell_type": "code",
   "execution_count": null,
   "metadata": {},
   "outputs": [],
   "source": []
  },
  {
   "cell_type": "code",
   "execution_count": null,
   "metadata": {},
   "outputs": [],
   "source": []
  },
  {
   "cell_type": "code",
   "execution_count": null,
   "metadata": {},
   "outputs": [],
   "source": []
  },
  {
   "cell_type": "code",
   "execution_count": null,
   "metadata": {},
   "outputs": [],
   "source": []
  },
  {
   "cell_type": "code",
   "execution_count": null,
   "metadata": {},
   "outputs": [],
   "source": []
  },
  {
   "cell_type": "code",
   "execution_count": null,
   "metadata": {},
   "outputs": [],
   "source": []
  },
  {
   "cell_type": "code",
   "execution_count": null,
   "metadata": {},
   "outputs": [],
   "source": []
  },
  {
   "cell_type": "code",
   "execution_count": null,
   "metadata": {},
   "outputs": [],
   "source": []
  },
  {
   "cell_type": "code",
   "execution_count": null,
   "metadata": {},
   "outputs": [],
   "source": []
  },
  {
   "cell_type": "code",
   "execution_count": null,
   "metadata": {},
   "outputs": [],
   "source": []
  },
  {
   "cell_type": "code",
   "execution_count": null,
   "metadata": {},
   "outputs": [],
   "source": []
  },
  {
   "cell_type": "code",
   "execution_count": null,
   "metadata": {},
   "outputs": [],
   "source": []
  },
  {
   "cell_type": "code",
   "execution_count": null,
   "metadata": {},
   "outputs": [],
   "source": []
  },
  {
   "cell_type": "code",
   "execution_count": null,
   "metadata": {},
   "outputs": [],
   "source": []
  },
  {
   "cell_type": "code",
   "execution_count": null,
   "metadata": {},
   "outputs": [],
   "source": []
  },
  {
   "cell_type": "code",
   "execution_count": null,
   "metadata": {},
   "outputs": [],
   "source": []
  }
 ],
 "metadata": {
  "kernelspec": {
   "display_name": "mlenv",
   "language": "python",
   "name": "mlenv"
  }
 },
 "nbformat": 4,
 "nbformat_minor": 2
}
