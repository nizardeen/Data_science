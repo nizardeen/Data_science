{
 "cells": [
  {
   "cell_type": "code",
   "execution_count": 2,
   "metadata": {},
   "outputs": [],
   "source": [
    "import pandas as pd\n",
    "import numpy as np\n",
    "from sklearn.linear_model import LogisticRegression\n",
    "from sklearn.metrics import mean_squared_error\n",
    "from sklearn.metrics import f1_score\n",
    "from sklearn.naive_bayes import GaussianNB\n",
    "from sklearn.metrics import roc_auc_score\n",
    "from sklearn.metrics import roc_curve\n",
    "from sklearn.preprocessing import LabelEncoder\n",
    "\n",
    "from sklearn.ensemble import AdaBoostClassifier\n",
    "from xgboost import XGBClassifier,XGBRFClassifier\n",
    "\n",
    "\n",
    "import matplotlib.pyplot as plt \n",
    "from sklearn.ensemble import RandomForestClassifier\n",
    "from sklearn.tree import DecisionTreeClassifier\n",
    "from sklearn.neighbors import KNeighborsClassifier\n",
    "from sklearn.model_selection import cross_val_score,train_test_split, KFold\n",
    "from sklearn.model_selection import GridSearchCV, RandomizedSearchCV\n",
    "from sklearn import metrics\n",
    "import warnings\n",
    "warnings.filterwarnings('ignore')\n"
   ]
  },
  {
   "cell_type": "code",
   "execution_count": null,
   "metadata": {},
   "outputs": [],
   "source": []
  },
  {
   "cell_type": "code",
   "execution_count": 3,
   "metadata": {},
   "outputs": [],
   "source": [
    "df = pd.read_csv('credit_train.csv')"
   ]
  },
  {
   "cell_type": "code",
   "execution_count": 4,
   "metadata": {},
   "outputs": [],
   "source": [
    "df_test = pd.read_csv('credit_test.csv')"
   ]
  },
  {
   "cell_type": "code",
   "execution_count": 5,
   "metadata": {},
   "outputs": [],
   "source": [
    "df = pd.concat([df,df_test])"
   ]
  },
  {
   "cell_type": "code",
   "execution_count": 6,
   "metadata": {
    "scrolled": false
   },
   "outputs": [
    {
     "data": {
      "text/html": [
       "<div>\n",
       "<style scoped>\n",
       "    .dataframe tbody tr th:only-of-type {\n",
       "        vertical-align: middle;\n",
       "    }\n",
       "\n",
       "    .dataframe tbody tr th {\n",
       "        vertical-align: top;\n",
       "    }\n",
       "\n",
       "    .dataframe thead th {\n",
       "        text-align: right;\n",
       "    }\n",
       "</style>\n",
       "<table border=\"1\" class=\"dataframe\">\n",
       "  <thead>\n",
       "    <tr style=\"text-align: right;\">\n",
       "      <th></th>\n",
       "      <th>V1</th>\n",
       "      <th>V2</th>\n",
       "      <th>V3</th>\n",
       "      <th>V4</th>\n",
       "      <th>V5</th>\n",
       "      <th>V6</th>\n",
       "      <th>V7</th>\n",
       "      <th>V8</th>\n",
       "      <th>V9</th>\n",
       "      <th>V10</th>\n",
       "      <th>...</th>\n",
       "      <th>V21</th>\n",
       "      <th>V22</th>\n",
       "      <th>V23</th>\n",
       "      <th>V24</th>\n",
       "      <th>V25</th>\n",
       "      <th>V26</th>\n",
       "      <th>V27</th>\n",
       "      <th>V28</th>\n",
       "      <th>Amount</th>\n",
       "      <th>Class</th>\n",
       "    </tr>\n",
       "  </thead>\n",
       "  <tbody>\n",
       "    <tr>\n",
       "      <th>0</th>\n",
       "      <td>-1.456417</td>\n",
       "      <td>1.327516</td>\n",
       "      <td>-0.635254</td>\n",
       "      <td>-2.765440</td>\n",
       "      <td>0.282230</td>\n",
       "      <td>-0.758234</td>\n",
       "      <td>0.365270</td>\n",
       "      <td>0.927673</td>\n",
       "      <td>0.033947</td>\n",
       "      <td>-1.138995</td>\n",
       "      <td>...</td>\n",
       "      <td>-0.268150</td>\n",
       "      <td>-1.027990</td>\n",
       "      <td>-0.123132</td>\n",
       "      <td>-1.147477</td>\n",
       "      <td>0.058896</td>\n",
       "      <td>0.434728</td>\n",
       "      <td>0.067085</td>\n",
       "      <td>0.072365</td>\n",
       "      <td>4.0</td>\n",
       "      <td>'0'</td>\n",
       "    </tr>\n",
       "    <tr>\n",
       "      <th>1</th>\n",
       "      <td>-0.879383</td>\n",
       "      <td>1.138867</td>\n",
       "      <td>0.834804</td>\n",
       "      <td>0.904867</td>\n",
       "      <td>0.164135</td>\n",
       "      <td>-0.486903</td>\n",
       "      <td>0.286551</td>\n",
       "      <td>0.437374</td>\n",
       "      <td>-0.751725</td>\n",
       "      <td>-0.293550</td>\n",
       "      <td>...</td>\n",
       "      <td>0.208368</td>\n",
       "      <td>0.597398</td>\n",
       "      <td>-0.073658</td>\n",
       "      <td>0.098907</td>\n",
       "      <td>-0.232732</td>\n",
       "      <td>-0.289270</td>\n",
       "      <td>0.314182</td>\n",
       "      <td>0.120301</td>\n",
       "      <td>11.8</td>\n",
       "      <td>'0'</td>\n",
       "    </tr>\n",
       "    <tr>\n",
       "      <th>2</th>\n",
       "      <td>1.270210</td>\n",
       "      <td>-0.755504</td>\n",
       "      <td>1.070372</td>\n",
       "      <td>-0.745716</td>\n",
       "      <td>-1.365979</td>\n",
       "      <td>-0.049645</td>\n",
       "      <td>-1.197854</td>\n",
       "      <td>0.207163</td>\n",
       "      <td>-0.677824</td>\n",
       "      <td>0.731290</td>\n",
       "      <td>...</td>\n",
       "      <td>0.475541</td>\n",
       "      <td>1.321484</td>\n",
       "      <td>-0.061854</td>\n",
       "      <td>0.280606</td>\n",
       "      <td>0.297015</td>\n",
       "      <td>-0.050341</td>\n",
       "      <td>0.050163</td>\n",
       "      <td>0.014809</td>\n",
       "      <td>14.0</td>\n",
       "      <td>'0'</td>\n",
       "    </tr>\n",
       "    <tr>\n",
       "      <th>3</th>\n",
       "      <td>1.967062</td>\n",
       "      <td>0.445029</td>\n",
       "      <td>-2.472415</td>\n",
       "      <td>1.290097</td>\n",
       "      <td>1.284233</td>\n",
       "      <td>-0.398478</td>\n",
       "      <td>0.641294</td>\n",
       "      <td>-0.209637</td>\n",
       "      <td>-0.219990</td>\n",
       "      <td>-0.224304</td>\n",
       "      <td>...</td>\n",
       "      <td>0.011025</td>\n",
       "      <td>0.184953</td>\n",
       "      <td>-0.079679</td>\n",
       "      <td>0.188458</td>\n",
       "      <td>0.516061</td>\n",
       "      <td>-0.521453</td>\n",
       "      <td>-0.005402</td>\n",
       "      <td>-0.030380</td>\n",
       "      <td>32.0</td>\n",
       "      <td>'0'</td>\n",
       "    </tr>\n",
       "    <tr>\n",
       "      <th>4</th>\n",
       "      <td>-0.626555</td>\n",
       "      <td>1.218109</td>\n",
       "      <td>0.871426</td>\n",
       "      <td>0.950972</td>\n",
       "      <td>-0.311923</td>\n",
       "      <td>-0.711223</td>\n",
       "      <td>0.686529</td>\n",
       "      <td>0.214618</td>\n",
       "      <td>-0.916320</td>\n",
       "      <td>-0.506793</td>\n",
       "      <td>...</td>\n",
       "      <td>0.237543</td>\n",
       "      <td>0.529095</td>\n",
       "      <td>0.015473</td>\n",
       "      <td>0.401008</td>\n",
       "      <td>-0.195985</td>\n",
       "      <td>-0.335558</td>\n",
       "      <td>0.031509</td>\n",
       "      <td>0.106962</td>\n",
       "      <td>64.9</td>\n",
       "      <td>'0'</td>\n",
       "    </tr>\n",
       "  </tbody>\n",
       "</table>\n",
       "<p>5 rows × 30 columns</p>\n",
       "</div>"
      ],
      "text/plain": [
       "         V1        V2        V3        V4        V5        V6        V7  \\\n",
       "0 -1.456417  1.327516 -0.635254 -2.765440  0.282230 -0.758234  0.365270   \n",
       "1 -0.879383  1.138867  0.834804  0.904867  0.164135 -0.486903  0.286551   \n",
       "2  1.270210 -0.755504  1.070372 -0.745716 -1.365979 -0.049645 -1.197854   \n",
       "3  1.967062  0.445029 -2.472415  1.290097  1.284233 -0.398478  0.641294   \n",
       "4 -0.626555  1.218109  0.871426  0.950972 -0.311923 -0.711223  0.686529   \n",
       "\n",
       "         V8        V9       V10  ...       V21       V22       V23       V24  \\\n",
       "0  0.927673  0.033947 -1.138995  ... -0.268150 -1.027990 -0.123132 -1.147477   \n",
       "1  0.437374 -0.751725 -0.293550  ...  0.208368  0.597398 -0.073658  0.098907   \n",
       "2  0.207163 -0.677824  0.731290  ...  0.475541  1.321484 -0.061854  0.280606   \n",
       "3 -0.209637 -0.219990 -0.224304  ...  0.011025  0.184953 -0.079679  0.188458   \n",
       "4  0.214618 -0.916320 -0.506793  ...  0.237543  0.529095  0.015473  0.401008   \n",
       "\n",
       "        V25       V26       V27       V28  Amount  Class  \n",
       "0  0.058896  0.434728  0.067085  0.072365     4.0    '0'  \n",
       "1 -0.232732 -0.289270  0.314182  0.120301    11.8    '0'  \n",
       "2  0.297015 -0.050341  0.050163  0.014809    14.0    '0'  \n",
       "3  0.516061 -0.521453 -0.005402 -0.030380    32.0    '0'  \n",
       "4 -0.195985 -0.335558  0.031509  0.106962    64.9    '0'  \n",
       "\n",
       "[5 rows x 30 columns]"
      ]
     },
     "execution_count": 6,
     "metadata": {},
     "output_type": "execute_result"
    }
   ],
   "source": [
    "df.head()"
   ]
  },
  {
   "cell_type": "code",
   "execution_count": 7,
   "metadata": {},
   "outputs": [
    {
     "name": "stdout",
     "output_type": "stream",
     "text": [
      "<class 'pandas.core.frame.DataFrame'>\n",
      "Int64Index: 284807 entries, 0 to 56961\n",
      "Data columns (total 30 columns):\n",
      "V1        284807 non-null float64\n",
      "V2        284807 non-null float64\n",
      "V3        284807 non-null float64\n",
      "V4        284807 non-null float64\n",
      "V5        284807 non-null float64\n",
      "V6        284807 non-null float64\n",
      "V7        284807 non-null float64\n",
      "V8        284807 non-null float64\n",
      "V9        284807 non-null float64\n",
      "V10       284807 non-null float64\n",
      "V11       284807 non-null float64\n",
      "V12       284807 non-null float64\n",
      "V13       284807 non-null float64\n",
      "V14       284807 non-null float64\n",
      "V15       284807 non-null float64\n",
      "V16       284807 non-null float64\n",
      "V17       284807 non-null float64\n",
      "V18       284807 non-null float64\n",
      "V19       284807 non-null float64\n",
      "V20       284807 non-null float64\n",
      "V21       284807 non-null float64\n",
      "V22       284807 non-null float64\n",
      "V23       284807 non-null float64\n",
      "V24       284807 non-null float64\n",
      "V25       284807 non-null float64\n",
      "V26       284807 non-null float64\n",
      "V27       284807 non-null float64\n",
      "V28       284807 non-null float64\n",
      "Amount    284807 non-null float64\n",
      "Class     284807 non-null object\n",
      "dtypes: float64(29), object(1)\n",
      "memory usage: 67.4+ MB\n"
     ]
    }
   ],
   "source": [
    "df.info()"
   ]
  },
  {
   "cell_type": "code",
   "execution_count": 8,
   "metadata": {},
   "outputs": [
    {
     "data": {
      "text/plain": [
       "array([\"'0'\", \"'1'\"], dtype=object)"
      ]
     },
     "execution_count": 8,
     "metadata": {},
     "output_type": "execute_result"
    }
   ],
   "source": [
    "df.Class.unique()"
   ]
  },
  {
   "cell_type": "code",
   "execution_count": 9,
   "metadata": {},
   "outputs": [],
   "source": [
    "df.Class = LabelEncoder().fit_transform(df['Class'])"
   ]
  },
  {
   "cell_type": "code",
   "execution_count": 10,
   "metadata": {},
   "outputs": [],
   "source": [
    "X = df.iloc[:,:-1].values"
   ]
  },
  {
   "cell_type": "code",
   "execution_count": 11,
   "metadata": {},
   "outputs": [],
   "source": [
    "Y = df.iloc[:,-1:].values"
   ]
  },
  {
   "cell_type": "code",
   "execution_count": 12,
   "metadata": {},
   "outputs": [
    {
     "data": {
      "text/plain": [
       "(284807, 29)"
      ]
     },
     "execution_count": 12,
     "metadata": {},
     "output_type": "execute_result"
    }
   ],
   "source": [
    "X.shape"
   ]
  },
  {
   "cell_type": "code",
   "execution_count": 13,
   "metadata": {},
   "outputs": [
    {
     "data": {
      "text/plain": [
       "(284807, 1)"
      ]
     },
     "execution_count": 13,
     "metadata": {},
     "output_type": "execute_result"
    }
   ],
   "source": [
    "Y.shape"
   ]
  },
  {
   "cell_type": "code",
   "execution_count": 14,
   "metadata": {},
   "outputs": [],
   "source": [
    "train_x,test_x,train_y,test_y = train_test_split(X,Y,test_size=0.20,random_state=30)"
   ]
  },
  {
   "cell_type": "code",
   "execution_count": 15,
   "metadata": {},
   "outputs": [],
   "source": [
    "log_reg = LogisticRegression().fit(train_x,train_y)"
   ]
  },
  {
   "cell_type": "code",
   "execution_count": 16,
   "metadata": {},
   "outputs": [],
   "source": [
    "log_predict = log_reg.predict(test_x)"
   ]
  },
  {
   "cell_type": "code",
   "execution_count": 17,
   "metadata": {},
   "outputs": [
    {
     "data": {
      "text/plain": [
       "array([[56851,    10],\n",
       "       [   33,    68]])"
      ]
     },
     "execution_count": 17,
     "metadata": {},
     "output_type": "execute_result"
    }
   ],
   "source": [
    "metrics.confusion_matrix(test_y,log_predict)"
   ]
  },
  {
   "cell_type": "code",
   "execution_count": 18,
   "metadata": {},
   "outputs": [
    {
     "data": {
      "text/plain": [
       "0.9992451107756047"
      ]
     },
     "execution_count": 18,
     "metadata": {},
     "output_type": "execute_result"
    }
   ],
   "source": [
    "metrics.accuracy_score(test_y,log_predict)"
   ]
  },
  {
   "cell_type": "code",
   "execution_count": null,
   "metadata": {},
   "outputs": [],
   "source": []
  },
  {
   "cell_type": "code",
   "execution_count": 19,
   "metadata": {},
   "outputs": [],
   "source": [
    "# KNN\n",
    "knn = KNeighborsClassifier()\n",
    "knn.fit(train_x,train_y)\n",
    "knn.score(test_x,test_y)\n",
    "knn_pred = knn.predict(test_x)"
   ]
  },
  {
   "cell_type": "code",
   "execution_count": null,
   "metadata": {},
   "outputs": [],
   "source": []
  },
  {
   "cell_type": "code",
   "execution_count": 20,
   "metadata": {},
   "outputs": [],
   "source": [
    "# RF\n",
    "rf = RandomForestClassifier()\n",
    "rf.fit(train_x, train_y)\n",
    "rf.score(test_x,test_y)\n",
    "rf_pred = rf.predict(test_x)"
   ]
  },
  {
   "cell_type": "code",
   "execution_count": null,
   "metadata": {},
   "outputs": [],
   "source": []
  },
  {
   "cell_type": "code",
   "execution_count": 21,
   "metadata": {},
   "outputs": [],
   "source": [
    "gnb = GaussianNB()\n",
    "gnb.fit(train_x,train_y)\n",
    "gnb_train_pred = gnb.predict(train_x)\n",
    "gnb_test_pred = gnb.predict(test_x)"
   ]
  },
  {
   "cell_type": "code",
   "execution_count": null,
   "metadata": {},
   "outputs": [],
   "source": []
  },
  {
   "cell_type": "code",
   "execution_count": 22,
   "metadata": {},
   "outputs": [],
   "source": [
    "ada_bst = AdaBoostClassifier()\n",
    "ada_bst.fit(train_x,train_y)\n",
    "ada_bst_train_pred = ada_bst.predict(train_x)\n",
    "ada_bst_test_pred = ada_bst.predict(test_x)"
   ]
  },
  {
   "cell_type": "code",
   "execution_count": null,
   "metadata": {},
   "outputs": [],
   "source": []
  },
  {
   "cell_type": "code",
   "execution_count": 23,
   "metadata": {},
   "outputs": [],
   "source": [
    "xg_bst = XGBClassifier()\n",
    "xg_bst.fit(train_x,train_y)\n",
    "xg_bst_train_pred = xg_bst.predict(train_x)\n",
    "xg_bst_test_pred = xg_bst.predict(test_x)"
   ]
  },
  {
   "cell_type": "code",
   "execution_count": null,
   "metadata": {},
   "outputs": [],
   "source": []
  },
  {
   "cell_type": "code",
   "execution_count": 24,
   "metadata": {},
   "outputs": [],
   "source": [
    "xg_bst_rf = XGBRFClassifier()\n",
    "xg_bst_rf.fit(train_x,train_y)\n",
    "xg_bst_rf_train_pred = xg_bst_rf.predict(train_x)\n",
    "xg_bst_rf_test_pred = xg_bst_rf.predict(test_x)"
   ]
  },
  {
   "cell_type": "code",
   "execution_count": null,
   "metadata": {},
   "outputs": [],
   "source": []
  },
  {
   "cell_type": "code",
   "execution_count": 25,
   "metadata": {},
   "outputs": [],
   "source": []
  },
  {
   "cell_type": "code",
   "execution_count": null,
   "metadata": {},
   "outputs": [],
   "source": []
  },
  {
   "cell_type": "code",
   "execution_count": 27,
   "metadata": {},
   "outputs": [
    {
     "name": "stdout",
     "output_type": "stream",
     "text": [
      "Log 0.7597765363128492\n",
      "KNN 0.7727272727272727\n",
      "RF 0.8723404255319149\n",
      "GNB 0.12019566736547871\n",
      "ADAB 0.8121827411167514\n",
      "XG 0.888888888888889\n",
      "XGBRF 0.8775510204081632\n"
     ]
    }
   ],
   "source": [
    "# from sklearn.metrics import classification_report\n",
    "print(\"Log\",f1_score(test_y, log_predict))\n",
    "print(\"KNN\",f1_score(test_y, knn_pred))\n",
    "print(\"RF\",f1_score(test_y, rf_pred))\n",
    "print(\"GNB\",f1_score(test_y, gnb_test_pred))\n",
    "print(\"ADAB\",f1_score(test_y, ada_bst_test_pred))\n",
    "print(\"XG\",f1_score(test_y, xg_bst_test_pred))\n",
    "print(\"XGBRF\",f1_score(test_y, xg_bst_rf_test_pred))\n"
   ]
  },
  {
   "cell_type": "code",
   "execution_count": null,
   "metadata": {},
   "outputs": [],
   "source": []
  },
  {
   "cell_type": "code",
   "execution_count": 28,
   "metadata": {},
   "outputs": [
    {
     "name": "stdout",
     "output_type": "stream",
     "text": [
      "LR: 0.727775 (0.043556)\n",
      "KNN: 0.733601 (0.083218)\n",
      "DTC: 0.719479 (0.073054)\n",
      "NB: 0.111379 (0.010485)\n",
      "ADB: 0.731216 (0.064143)\n",
      "XGB: 0.858887 (0.046042)\n",
      "XGBRF: 0.840911 (0.039539)\n",
      "RF: 0.835049 (0.044202)\n"
     ]
    }
   ],
   "source": [
    "models = []\n",
    "models.append(('LR', LogisticRegression()))\n",
    "models.append(('KNN', KNeighborsClassifier()))\n",
    "models.append(('DTC', DecisionTreeClassifier()))\n",
    "models.append(('NB', GaussianNB()))\n",
    "models.append(('ADB', AdaBoostClassifier()))\n",
    "models.append(('XGB', XGBClassifier()))\n",
    "models.append(('XGBRF', XGBRFClassifier()))\n",
    "models.append(('RF', RandomForestClassifier()))\n",
    "# evalutate each model in turn\n",
    "results = []\n",
    "names = []\n",
    "for name, model in models:\n",
    "    kfold = KFold(n_splits=10, random_state=25)\n",
    "    cv_results = cross_val_score(model, train_x, train_y, cv=kfold, scoring='f1')\n",
    "    results.append(cv_results)\n",
    "    names.append(name)\n",
    "    msg = \"%s: %f (%f)\" % (name, cv_results.mean(), cv_results.std())\n",
    "    print(msg)"
   ]
  },
  {
   "cell_type": "code",
   "execution_count": null,
   "metadata": {},
   "outputs": [],
   "source": []
  },
  {
   "cell_type": "code",
   "execution_count": 29,
   "metadata": {},
   "outputs": [
    {
     "data": {
      "image/png": "[encoded data removed]",
      "text/plain": [
       "<Figure size 432x288 with 1 Axes>"
      ]
     },
     "metadata": {
      "needs_background": "light"
     },
     "output_type": "display_data"
    }
   ],
   "source": [
    "fig = plt.figure()\n",
    "fig.suptitle('Model Comparison')\n",
    "ax = fig.add_subplot(111)\n",
    "plt.boxplot(results)\n",
    "ax.set_xticklabels(names)\n",
    "plt.show()"
   ]
  },
  {
   "cell_type": "code",
   "execution_count": null,
   "metadata": {},
   "outputs": [],
   "source": []
  }
 ],
 "metadata": {
  "kernelspec": {
   "display_name": "mlenv",
   "language": "python",
   "name": "mlenv"
  },
  "language_info": {
   "codemirror_mode": {
    "name": "ipython",
    "version": 3
   },
   "file_extension": ".py",
   "mimetype": "text/x-python",
   "name": "python",
   "nbconvert_exporter": "python",
   "pygments_lexer": "ipython3",
   "version": "3.6.8"
  }
 },
 "nbformat": 4,
 "nbformat_minor": 2
}
